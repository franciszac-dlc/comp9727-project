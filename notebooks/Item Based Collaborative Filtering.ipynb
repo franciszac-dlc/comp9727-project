{
 "cells": [
  {
   "cell_type": "markdown",
   "metadata": {},
   "source": [
    "# Item Based Collaborative Filtering\n",
    "\n",
    "Suggests items by identifying relationships between different items based on user ratings.\n",
    "\n",
    "This approach calculates the similarity between items using user ratings. Here, we assume that if users liked a particular item, they are more likely to enjoy items that are similar to it."
   ]
  },
  {
   "cell_type": "code",
   "execution_count": 13,
   "metadata": {},
   "outputs": [],
   "source": [
    "import pandas as pd\n",
    "import numpy as np\n",
    "import matplotlib.pyplot as plt\n",
    "import seaborn as sns\n",
    "from tqdm import tqdm\n",
    "from coursemate.dataset import Dataset\n",
    "from coursemate.model import ItemBasedCF\n",
    "\n",
    "pd.set_option('display.width', 1000)\n",
    "pd.set_option('display.max_colwidth', 1000)\n"
   ]
  },
  {
   "cell_type": "code",
   "execution_count": 7,
   "metadata": {},
   "outputs": [
    {
     "name": "stdout",
     "output_type": "stream",
     "text": [
      "Loading Coursera courses...\n",
      "Loading Coursera reviews...\n",
      "Segmenting out students with less than 3 or more than 50 reviews...\n",
      "30719 students, 468 courses, 174219 reviews\n",
      "Sparsity: 1.21%\n",
      "Duplicates: 4.54%\n"
     ]
    }
   ],
   "source": [
    "dataset = Dataset('data/Coursera_courses.csv', 'data/Coursera.csv', 'data/Coursera_reviews.csv')\n",
    "dataset.set_interaction_counts(3, 50)\n",
    "dataset.show_dataset_details()"
   ]
  },
  {
   "cell_type": "code",
   "execution_count": 9,
   "metadata": {},
   "outputs": [
    {
     "name": "stdout",
     "output_type": "stream",
     "text": [
      "Setting the train-test split by user...\n"
     ]
    }
   ],
   "source": [
    "dataset.set_train_test_split_by_user()\n",
    "\n",
    "# Instantiate the ItemBasedCF model\n",
    "item_cf_model = ItemBasedCF(dataset.course_set)\n",
    "\n",
    "# Fit the model with the training data\n",
    "item_cf_model.fit(dataset.train_ratings)"
   ]
  },
  {
   "cell_type": "code",
   "execution_count": 14,
   "metadata": {},
   "outputs": [
    {
     "data": {
      "text/plain": [
       "['learning-how-to-learn',\n",
       " 'python',\n",
       " 'neural-networks-deep-learning',\n",
       " 'technical-support-fundamentals',\n",
       " 'python-data']"
      ]
     },
     "execution_count": 14,
     "metadata": {},
     "output_type": "execute_result"
    }
   ],
   "source": [
    "# Use the model to get recommendations for a given user\n",
    "user_previous_courses = tuple(dataset.train_ratings[dataset.train_ratings['reviewers'] == 'By Robert S']['course_id'])\n",
    "recommendations = item_cf_model.recommend(user_previous_courses, k=5)\n",
    "\n",
    "recommendations"
   ]
  },
  {
   "cell_type": "code",
   "execution_count": null,
   "metadata": {},
   "outputs": [],
   "source": []
  },
  {
   "cell_type": "markdown",
   "metadata": {},
   "source": [
    "### Evaluation"
   ]
  },
  {
   "cell_type": "code",
   "execution_count": null,
   "metadata": {},
   "outputs": [],
   "source": [
    "def hit_rate(model, test_set, k=5):\n",
    "    hits = 0\n",
    "    total = 0\n",
    "\n",
    "    for user_id in test_set['reviewers'].unique():\n",
    "        prev_courses = set(test_set[test_set['reviewers'] == user_id]['course_id'])\n",
    "\n",
    "        if not prev_courses:\n",
    "            continue\n",
    "        \n",
    "        user_predicted_top_k = set(model.recommend(list(prev_courses), k))\n",
    "        user_actual_top_k = set(test_set[test_set['reviewers'] == user_id].nlargest(k, 'rating')['course_id'])\n",
    "\n",
    "        hits += 1 if len(user_predicted_top_k & user_actual_top_k) > 0 else 0\n",
    "        total += 1\n",
    "        \n",
    "        # print(user_predicted_top_k)\n",
    "        # print(user_actual_top_k)\n",
    "        \n",
    "        print(f\"Hits: {hits}\")\n",
    "\n",
    "    hit_rate = hits / total if total > 0 else 0\n",
    "    print(f\"Final Hit Rate: {hit_rate}\")\n",
    "    return hit_rate"
   ]
  },
  {
   "cell_type": "code",
   "execution_count": null,
   "metadata": {},
   "outputs": [],
   "source": [
    "cf_model = ItemBasedCF(dataset.course_set)\n",
    "\n",
    "cf_model.fit(dataset.train_ratings)\n",
    "\n",
    "\n",
    "hit_rate(cf_model, dataset.test_ratings, k=10)"
   ]
  }
 ],
 "metadata": {
  "kernelspec": {
   "display_name": "Python 3 (ipykernel)",
   "language": "python",
   "name": "python3"
  },
  "language_info": {
   "codemirror_mode": {
    "name": "ipython",
    "version": 3
   },
   "file_extension": ".py",
   "mimetype": "text/x-python",
   "name": "python",
   "nbconvert_exporter": "python",
   "pygments_lexer": "ipython3",
   "version": "3.8.10"
  }
 },
 "nbformat": 4,
 "nbformat_minor": 2
}
