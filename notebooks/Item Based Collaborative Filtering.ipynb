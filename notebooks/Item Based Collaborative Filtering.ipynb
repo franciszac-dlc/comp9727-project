{
 "cells": [
  {
   "cell_type": "markdown",
   "metadata": {},
   "source": [
    "# Item Based Collaborative Filtering\n",
    "\n",
    "Suggests items by identifying relationships between different items based on user ratings.\n",
    "\n",
    "This approach calculates the similarity between items using user ratings. Here, we assume that if users liked a particular item, they are more likely to enjoy items that are similar to it."
   ]
  },
  {
   "cell_type": "code",
   "execution_count": 10,
   "metadata": {},
   "outputs": [],
   "source": [
    "import pandas as pd\n",
    "import numpy as np\n",
    "import matplotlib.pyplot as plt\n",
    "import seaborn as sns\n",
    "from tqdm import tqdm\n",
    "from coursemate.dataset import Dataset\n",
    "from coursemate.model import ItemBasedCF\n",
    "\n",
    "pd.set_option('display.width', 1000)\n",
    "pd.set_option('display.max_colwidth', 1000)"
   ]
  },
  {
   "cell_type": "code",
   "execution_count": 11,
   "metadata": {},
   "outputs": [
    {
     "name": "stdout",
     "output_type": "stream",
     "text": [
      "Loading Coursera courses...\n",
      "Loading Coursera reviews...\n",
      "Segmenting out students with less than 3 or more than 50 reviews...\n",
      "30719 students, 468 courses, 174219 reviews\n",
      "Sparsity: 1.21%\n",
      "Duplicates: 4.54%\n"
     ]
    }
   ],
   "source": [
    "dataset = Dataset('data/Coursera_courses.csv', 'data/Coursera.csv', 'data/Coursera_reviews.csv')\n",
    "dataset.set_interaction_counts(3, 50)\n",
    "dataset.show_dataset_details()"
   ]
  },
  {
   "cell_type": "code",
   "execution_count": 12,
   "metadata": {},
   "outputs": [
    {
     "name": "stdout",
     "output_type": "stream",
     "text": [
      "Setting the train-test split by user...\n"
     ]
    }
   ],
   "source": [
    "dataset.set_train_test_split_by_user()"
   ]
  },
  {
   "cell_type": "code",
   "execution_count": 5,
   "metadata": {},
   "outputs": [],
   "source": [
    "train_Xmatrix, train_ymatrix, df_train_X, df_train_y = dataset.get_train_matrix_split(ratio=0.8)\n",
    "test_Xmatrix, test_ymatrix, df_test_X, df_test_y = dataset.get_test_matrix_split(ratio=0.5)"
   ]
  },
  {
   "cell_type": "code",
   "execution_count": null,
   "metadata": {},
   "outputs": [],
   "source": [
    "item_based_cf_model = ItemBasedCF(dataset.course_set)"
   ]
  },
  {
   "cell_type": "code",
   "execution_count": null,
   "metadata": {},
   "outputs": [],
   "source": [
    "all_train = pd.concat([df_train_X, df_train_y])\n",
    "\n",
    "# fit with both training X and training y\n",
    "item_based_cf_model.fit(all_train)"
   ]
  },
  {
   "cell_type": "code",
   "execution_count": 6,
   "metadata": {},
   "outputs": [
    {
     "data": {
      "text/plain": [
       "['cybersecurity-roles-processes-operating-system-security',\n",
       " 'python',\n",
       " 'python-functions-files-dictionaries',\n",
       " 'python-data',\n",
       " 'technical-support-fundamentals']"
      ]
     },
     "execution_count": 6,
     "metadata": {},
     "output_type": "execute_result"
    }
   ],
   "source": [
    "# Use the model to get recommendations for a test user\n",
    "user_previous_courses = tuple(dataset.train_ratings[dataset.train_ratings['reviewers'] == 'By Kelvin k']['course_id'])\n",
    "recommendations = item_based_cf_model.recommend(user_previous_courses, k=5)\n",
    "\n",
    "recommendations"
   ]
  },
  {
   "cell_type": "markdown",
   "metadata": {},
   "source": [
    "### Evaluation"
   ]
  },
  {
   "cell_type": "code",
   "execution_count": 14,
   "metadata": {},
   "outputs": [],
   "source": [
    "def calculate_hit_rate(model, test_X, test_y, k=5):\n",
    "    hit_count = 0\n",
    "    total = 0\n",
    "\n",
    "    for user_id in tqdm(dataset.test_students):\n",
    "        user_history = test_X[test_X['reviewers'] == user_id]['course_id'].values\n",
    "        actual_next_courses = test_y[test_y['reviewers'] == user_id]['course_id'].values\n",
    "        \n",
    "        if len(actual_next_courses) == 0:\n",
    "            continue\n",
    "\n",
    "        recommended_courses = model.recommend(user_history, k=k)\n",
    "\n",
    "        hits = any(course in recommended_courses for course in actual_next_courses)\n",
    "        hit_count += 1 if hits else 0\n",
    "        total += 1\n",
    "\n",
    "    # Calculate overall hit rate\n",
    "    return hit_count / total\n",
    "\n",
    "\n",
    "def calculate_precision(model, test_X, test_y, k=5):\n",
    "    true_positives = 0\n",
    "    total_recommendations = 0\n",
    "\n",
    "    for user_id in tqdm(dataset.test_students):\n",
    "        user_history = test_X[test_X['reviewers'] == user_id]['course_id'].values\n",
    "        actual_next_courses = test_y[test_y['reviewers'] == user_id]['course_id'].values\n",
    "        \n",
    "        if len(actual_next_courses) == 0:\n",
    "            continue\n",
    "\n",
    "        recommended_courses = model.recommend(user_history, k=k)\n",
    "        total_recommendations += len(recommended_courses)\n",
    "        \n",
    "        # Count the number of true positives\n",
    "        true_positives += sum(course in actual_next_courses for course in recommended_courses)\n",
    "\n",
    "    # Calculate precision\n",
    "    if total_recommendations == 0:\n",
    "        return 0\n",
    "    return true_positives / total_recommendations\n",
    "\n",
    "def calculate_recall_precision(model, test_X, test_y, k=5):\n",
    "    true_positives = 0\n",
    "    total_recommendations = 0\n",
    "    total_relevant = 0\n",
    "\n",
    "    for user_id in tqdm(dataset.test_students):\n",
    "        user_history = test_X[test_X['reviewers'] == user_id]['course_id'].values\n",
    "        actual_next_courses = test_y[test_y['reviewers'] == user_id]['course_id'].values\n",
    "\n",
    "        total_relevant += len(actual_next_courses)\n",
    "        if len(actual_next_courses) == 0:\n",
    "            continue\n",
    "\n",
    "        recommended_courses = model.recommend(user_history, k=k)\n",
    "        total_recommendations += len(recommended_courses)\n",
    "\n",
    "        true_positives += sum(course in actual_next_courses for course in recommended_courses)\n",
    "\n",
    "    precision = true_positives / total_recommendations if total_recommendations else 0\n",
    "    recall = true_positives / total_relevant if total_relevant else 0\n",
    "    return recall, precision\n",
    "\n",
    "def calculate_f1_score(recall, precision):\n",
    "    if recall + precision == 0:\n",
    "        return 0\n",
    "    return 2 * (recall * precision) / (recall + precision)"
   ]
  },
  {
   "cell_type": "code",
   "execution_count": 15,
   "metadata": {},
   "outputs": [
    {
     "name": "stderr",
     "output_type": "stream",
     "text": [
      "100%|██████████| 7680/7680 [03:32<00:00, 36.17it/s]\n"
     ]
    },
    {
     "data": {
      "text/plain": [
       "0.49296875"
      ]
     },
     "execution_count": 15,
     "metadata": {},
     "output_type": "execute_result"
    }
   ],
   "source": [
    "calculate_hit_rate(item_based_cf_model, df_test_X, df_test_y, k=10)"
   ]
  },
  {
   "cell_type": "code",
   "execution_count": 11,
   "metadata": {},
   "outputs": [
    {
     "name": "stderr",
     "output_type": "stream",
     "text": [
      "100%|██████████| 7680/7680 [04:18<00:00, 29.72it/s]\n"
     ]
    },
    {
     "data": {
      "text/plain": [
       "0.6087239583333334"
      ]
     },
     "execution_count": 11,
     "metadata": {},
     "output_type": "execute_result"
    }
   ],
   "source": [
    "calculate_hit_rate(item_based_cf_model, df_test_X, df_test_y, k=20)"
   ]
  },
  {
   "cell_type": "code",
   "execution_count": 17,
   "metadata": {},
   "outputs": [
    {
     "name": "stderr",
     "output_type": "stream",
     "text": [
      "100%|██████████| 7680/7680 [04:02<00:00, 31.72it/s]\n"
     ]
    },
    {
     "data": {
      "text/plain": [
       "0.378515625"
      ]
     },
     "execution_count": 17,
     "metadata": {},
     "output_type": "execute_result"
    }
   ],
   "source": [
    "calculate_hit_rate(item_based_cf_model, df_test_X, df_test_y, k=5)"
   ]
  },
  {
   "cell_type": "code",
   "execution_count": 19,
   "metadata": {},
   "outputs": [
    {
     "name": "stderr",
     "output_type": "stream",
     "text": [
      "100%|██████████| 7680/7680 [03:43<00:00, 34.41it/s]\n"
     ]
    },
    {
     "data": {
      "text/plain": [
       "0.090859375"
      ]
     },
     "execution_count": 19,
     "metadata": {},
     "output_type": "execute_result"
    }
   ],
   "source": [
    "calculate_precision(item_based_cf_model, df_test_X, df_test_y, k=5)"
   ]
  },
  {
   "cell_type": "code",
   "execution_count": 23,
   "metadata": {},
   "outputs": [
    {
     "name": "stderr",
     "output_type": "stream",
     "text": [
      "  0%|          | 2/7680 [00:00<06:26, 19.86it/s]"
     ]
    },
    {
     "name": "stderr",
     "output_type": "stream",
     "text": [
      "100%|██████████| 7680/7680 [04:23<00:00, 29.15it/s]\n"
     ]
    },
    {
     "data": {
      "text/plain": [
       "0.06274739583333333"
      ]
     },
     "execution_count": 23,
     "metadata": {},
     "output_type": "execute_result"
    }
   ],
   "source": [
    "calculate_precision(item_based_cf_model, df_test_X, df_test_y, k=10)"
   ]
  },
  {
   "cell_type": "code",
   "execution_count": 22,
   "metadata": {},
   "outputs": [
    {
     "name": "stderr",
     "output_type": "stream",
     "text": [
      "100%|██████████| 7680/7680 [04:14<00:00, 30.13it/s]\n"
     ]
    },
    {
     "data": {
      "text/plain": [
       "0.12757555258972156"
      ]
     },
     "execution_count": 22,
     "metadata": {},
     "output_type": "execute_result"
    }
   ],
   "source": [
    "recall, precision = calculate_recall_precision(item_based_cf_model, df_test_X, df_test_y, k=5)\n",
    "calculate_f1_score(recall, precision)"
   ]
  },
  {
   "cell_type": "code",
   "execution_count": 24,
   "metadata": {},
   "outputs": [
    {
     "name": "stderr",
     "output_type": "stream",
     "text": [
      "100%|██████████| 7680/7680 [04:01<00:00, 31.84it/s]\n"
     ]
    },
    {
     "data": {
      "text/plain": [
       "0.10352642942307484"
      ]
     },
     "execution_count": 24,
     "metadata": {},
     "output_type": "execute_result"
    }
   ],
   "source": [
    "recall, precision = calculate_recall_precision(item_based_cf_model, df_test_X, df_test_y, k=10)\n",
    "calculate_f1_score(recall, precision)"
   ]
  }
 ],
 "metadata": {
  "kernelspec": {
   "display_name": "Python 3 (ipykernel)",
   "language": "python",
   "name": "python3"
  },
  "language_info": {
   "codemirror_mode": {
    "name": "ipython",
    "version": 3
   },
   "file_extension": ".py",
   "mimetype": "text/x-python",
   "name": "python",
   "nbconvert_exporter": "python",
   "pygments_lexer": "ipython3",
   "version": "3.8.10"
  }
 },
 "nbformat": 4,
 "nbformat_minor": 2
}
