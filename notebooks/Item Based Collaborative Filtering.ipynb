{
 "cells": [
  {
   "cell_type": "markdown",
   "metadata": {},
   "source": [
    "# Item Based Collaborative Filtering\n",
    "\n",
    "Suggests items by identifying relationships between different items based on user ratings.\n",
    "\n",
    "This approach calculates the similarity between items using user ratings. Here, we assume that if users liked a particular item, they are more likely to enjoy items that are similar to it."
   ]
  },
  {
   "cell_type": "code",
   "execution_count": 10,
   "metadata": {},
   "outputs": [],
   "source": [
    "import pandas as pd\n",
    "import numpy as np\n",
    "import matplotlib.pyplot as plt\n",
    "import seaborn as sns\n",
    "from tqdm import tqdm\n",
    "from coursemate.dataset import Dataset\n",
    "from coursemate.model import ItemBasedCF\n",
    "\n",
    "pd.set_option('display.width', 1000)\n",
    "pd.set_option('display.max_colwidth', 1000)\n"
   ]
  },
  {
   "cell_type": "code",
   "execution_count": 11,
   "metadata": {},
   "outputs": [
    {
     "name": "stdout",
     "output_type": "stream",
     "text": [
      "Loading Coursera courses...\n",
      "Loading Coursera reviews...\n",
      "Segmenting out students with less than 3 or more than 50 reviews...\n",
      "30719 students, 468 courses, 174219 reviews\n",
      "Sparsity: 1.21%\n",
      "Duplicates: 4.54%\n"
     ]
    }
   ],
   "source": [
    "dataset = Dataset('data/Coursera_courses.csv', 'data/Coursera.csv', 'data/Coursera_reviews.csv')\n",
    "dataset.set_interaction_counts(3, 50)\n",
    "dataset.show_dataset_details()"
   ]
  },
  {
   "cell_type": "code",
   "execution_count": 12,
   "metadata": {},
   "outputs": [
    {
     "name": "stdout",
     "output_type": "stream",
     "text": [
      "Setting the train-test split by user...\n"
     ]
    }
   ],
   "source": [
    "dataset.set_train_test_split_by_user()\n"
   ]
  },
  {
   "cell_type": "code",
   "execution_count": 5,
   "metadata": {},
   "outputs": [],
   "source": [
    "\n",
    "# Instantiate the ItemBasedCF model\n",
    "item_cf_model = ItemBasedCF(dataset.course_set)\n",
    "\n",
    "# Fit the model with the training data\n",
    "item_cf_model.fit(dataset.train_ratings)"
   ]
  },
  {
   "cell_type": "code",
   "execution_count": 29,
   "metadata": {},
   "outputs": [
    {
     "data": {
      "text/plain": [
       "(468, 468)"
      ]
     },
     "execution_count": 29,
     "metadata": {},
     "output_type": "execute_result"
    }
   ],
   "source": [
    "item_cf_model.course_similarity_matrix.shape"
   ]
  },
  {
   "cell_type": "code",
   "execution_count": null,
   "metadata": {},
   "outputs": [],
   "source": []
  },
  {
   "cell_type": "code",
   "execution_count": 6,
   "metadata": {},
   "outputs": [
    {
     "data": {
      "text/plain": [
       "['cybersecurity-roles-processes-operating-system-security',\n",
       " 'python',\n",
       " 'python-functions-files-dictionaries',\n",
       " 'python-data',\n",
       " 'technical-support-fundamentals']"
      ]
     },
     "execution_count": 6,
     "metadata": {},
     "output_type": "execute_result"
    }
   ],
   "source": [
    "# Use the model to get recommendations for a given user\n",
    "user_previous_courses = tuple(dataset.train_ratings[dataset.train_ratings['reviewers'] == 'By Kelvin k']['course_id'])\n",
    "recommendations = item_cf_model.recommend(user_previous_courses, k=5)\n",
    "\n",
    "recommendations"
   ]
  },
  {
   "cell_type": "code",
   "execution_count": 7,
   "metadata": {},
   "outputs": [
    {
     "name": "stderr",
     "output_type": "stream",
     "text": [
      "100%|██████████| 7680/7680 [06:42<00:00, 19.09it/s]\n"
     ]
    }
   ],
   "source": [
    "df = item_cf_model.predict_all_ratings(dataset.test_ratings)"
   ]
  },
  {
   "cell_type": "code",
   "execution_count": 27,
   "metadata": {},
   "outputs": [],
   "source": [
    "df.to_csv('item_based_collab_results.csv', sep=',')"
   ]
  },
  {
   "cell_type": "code",
   "execution_count": 25,
   "metadata": {},
   "outputs": [
    {
     "data": {
      "text/html": [
       "<div>\n",
       "<style scoped>\n",
       "    .dataframe tbody tr th:only-of-type {\n",
       "        vertical-align: middle;\n",
       "    }\n",
       "\n",
       "    .dataframe tbody tr th {\n",
       "        vertical-align: top;\n",
       "    }\n",
       "\n",
       "    .dataframe thead th {\n",
       "        text-align: right;\n",
       "    }\n",
       "</style>\n",
       "<table border=\"1\" class=\"dataframe\">\n",
       "  <thead>\n",
       "    <tr style=\"text-align: right;\">\n",
       "      <th></th>\n",
       "      <th>user_id</th>\n",
       "      <th>course_id</th>\n",
       "      <th>predicted_rating</th>\n",
       "    </tr>\n",
       "  </thead>\n",
       "  <tbody>\n",
       "    <tr>\n",
       "      <th>0</th>\n",
       "      <td>By  A O</td>\n",
       "      <td>python-data</td>\n",
       "      <td>0.323222</td>\n",
       "    </tr>\n",
       "    <tr>\n",
       "      <th>1</th>\n",
       "      <td>By  A O</td>\n",
       "      <td>python-data-visualization</td>\n",
       "      <td>0.249256</td>\n",
       "    </tr>\n",
       "    <tr>\n",
       "      <th>2</th>\n",
       "      <td>By  A O</td>\n",
       "      <td>python</td>\n",
       "      <td>0.227561</td>\n",
       "    </tr>\n",
       "    <tr>\n",
       "      <th>3</th>\n",
       "      <td>By  A O</td>\n",
       "      <td>neural-networks-deep-learning</td>\n",
       "      <td>0.137716</td>\n",
       "    </tr>\n",
       "    <tr>\n",
       "      <th>4</th>\n",
       "      <td>By  A O</td>\n",
       "      <td>python-data-analysis</td>\n",
       "      <td>0.117494</td>\n",
       "    </tr>\n",
       "    <tr>\n",
       "      <th>...</th>\n",
       "      <td>...</td>\n",
       "      <td>...</td>\n",
       "      <td>...</td>\n",
       "    </tr>\n",
       "    <tr>\n",
       "      <th>3552984</th>\n",
       "      <td>By 배병선</td>\n",
       "      <td>child-development</td>\n",
       "      <td>0.000000</td>\n",
       "    </tr>\n",
       "    <tr>\n",
       "      <th>3552985</th>\n",
       "      <td>By 배병선</td>\n",
       "      <td>remote-team-management</td>\n",
       "      <td>0.000000</td>\n",
       "    </tr>\n",
       "    <tr>\n",
       "      <th>3552986</th>\n",
       "      <td>By 배병선</td>\n",
       "      <td>write-a-feature-length-screenplay-for-film-or-television</td>\n",
       "      <td>0.000000</td>\n",
       "    </tr>\n",
       "    <tr>\n",
       "      <th>3552987</th>\n",
       "      <td>By 배병선</td>\n",
       "      <td>covid-19-contact-tracing-for-nursing-professionals</td>\n",
       "      <td>0.000000</td>\n",
       "    </tr>\n",
       "    <tr>\n",
       "      <th>3552988</th>\n",
       "      <td>By 배병선</td>\n",
       "      <td>introduction-to-data-analytics</td>\n",
       "      <td>0.000000</td>\n",
       "    </tr>\n",
       "  </tbody>\n",
       "</table>\n",
       "<p>3552989 rows × 3 columns</p>\n",
       "</div>"
      ],
      "text/plain": [
       "         user_id                                                 course_id  predicted_rating\n",
       "0        By  A O                                               python-data          0.323222\n",
       "1        By  A O                                 python-data-visualization          0.249256\n",
       "2        By  A O                                                    python          0.227561\n",
       "3        By  A O                             neural-networks-deep-learning          0.137716\n",
       "4        By  A O                                      python-data-analysis          0.117494\n",
       "...          ...                                                       ...               ...\n",
       "3552984   By 배병선                                         child-development          0.000000\n",
       "3552985   By 배병선                                    remote-team-management          0.000000\n",
       "3552986   By 배병선  write-a-feature-length-screenplay-for-film-or-television          0.000000\n",
       "3552987   By 배병선        covid-19-contact-tracing-for-nursing-professionals          0.000000\n",
       "3552988   By 배병선                            introduction-to-data-analytics          0.000000\n",
       "\n",
       "[3552989 rows x 3 columns]"
      ]
     },
     "execution_count": 25,
     "metadata": {},
     "output_type": "execute_result"
    }
   ],
   "source": [
    "df"
   ]
  },
  {
   "cell_type": "code",
   "execution_count": 26,
   "metadata": {},
   "outputs": [
    {
     "data": {
      "text/plain": [
       "7680"
      ]
     },
     "execution_count": 26,
     "metadata": {},
     "output_type": "execute_result"
    }
   ],
   "source": [
    "df['user_id'].nunique()"
   ]
  },
  {
   "cell_type": "code",
   "execution_count": null,
   "metadata": {},
   "outputs": [],
   "source": []
  },
  {
   "cell_type": "code",
   "execution_count": 13,
   "metadata": {},
   "outputs": [
    {
     "name": "stdout",
     "output_type": "stream",
     "text": [
      "Computing the training and test rating matrix...\n"
     ]
    },
    {
     "name": "stderr",
     "output_type": "stream",
     "text": [
      "131100it [00:08, 14771.81it/s]\n"
     ]
    },
    {
     "name": "stdout",
     "output_type": "stream",
     "text": [
      "Computing the test rating matrix split...\n",
      "Computing the training and test rating matrix...\n"
     ]
    },
    {
     "name": "stderr",
     "output_type": "stream",
     "text": [
      "131100it [00:11, 11574.90it/s]\n",
      "43119it [00:02, 16748.36it/s]\n"
     ]
    }
   ],
   "source": [
    "train_Xmatrix, train_ymatrix, df_train_X, df_train_y = dataset.get_train_matrix_split(ratio=0.8)\n",
    "test_Xmatrix, test_ymatrix, df_test_X, df_test_y = dataset.get_test_matrix_split(ratio=0.5)"
   ]
  },
  {
   "cell_type": "code",
   "execution_count": 14,
   "metadata": {},
   "outputs": [],
   "source": [
    "def calculate_hit_rate(model, test_X, test_y, k=5):\n",
    "    hit_count = 0\n",
    "    total = 0\n",
    "\n",
    "    for user_id in tqdm(dataset.test_students):\n",
    "        user_history = test_X[test_X['reviewers'] == user_id]['course_id'].values\n",
    "        actual_next_courses = test_y[test_y['reviewers'] == user_id]['course_id'].values\n",
    "        \n",
    "        if len(actual_next_courses) == 0:\n",
    "            continue\n",
    "\n",
    "        recommended_courses = model.recommend(user_history, k=k)\n",
    "\n",
    "        hits = any(course in recommended_courses for course in actual_next_courses)\n",
    "        hit_count += 1 if hits else 0\n",
    "        total += 1\n",
    "\n",
    "    # Calculate overall hit rate\n",
    "    return hit_count / total\n",
    "\n",
    "\n",
    "item_based_cf_model = ItemBasedCF(dataset.course_set)\n",
    "\n",
    "all_train = pd.concat([df_train_X, df_train_y])\n",
    "\n",
    "# fit with both training X and training y\n",
    "item_based_cf_model.fit(all_train)\n"
   ]
  },
  {
   "cell_type": "code",
   "execution_count": 15,
   "metadata": {},
   "outputs": [
    {
     "name": "stderr",
     "output_type": "stream",
     "text": [
      "100%|██████████| 7680/7680 [03:32<00:00, 36.17it/s]\n"
     ]
    },
    {
     "data": {
      "text/plain": [
       "0.49296875"
      ]
     },
     "execution_count": 15,
     "metadata": {},
     "output_type": "execute_result"
    }
   ],
   "source": [
    "calculate_hit_rate(item_based_cf_model, df_test_X, df_test_y, k=10)"
   ]
  },
  {
   "cell_type": "code",
   "execution_count": 11,
   "metadata": {},
   "outputs": [
    {
     "name": "stderr",
     "output_type": "stream",
     "text": [
      "100%|██████████| 7680/7680 [04:18<00:00, 29.72it/s]\n"
     ]
    },
    {
     "data": {
      "text/plain": [
       "0.6087239583333334"
      ]
     },
     "execution_count": 11,
     "metadata": {},
     "output_type": "execute_result"
    }
   ],
   "source": [
    "calculate_hit_rate(item_based_cf_model, df_test_X, df_test_y, k=20)"
   ]
  },
  {
   "cell_type": "code",
   "execution_count": 17,
   "metadata": {},
   "outputs": [
    {
     "name": "stderr",
     "output_type": "stream",
     "text": [
      "100%|██████████| 7680/7680 [04:02<00:00, 31.72it/s]\n"
     ]
    },
    {
     "data": {
      "text/plain": [
       "0.378515625"
      ]
     },
     "execution_count": 17,
     "metadata": {},
     "output_type": "execute_result"
    }
   ],
   "source": [
    "calculate_hit_rate(item_based_cf_model, df_test_X, df_test_y, k=5)"
   ]
  },
  {
   "cell_type": "code",
   "execution_count": 18,
   "metadata": {},
   "outputs": [],
   "source": [
    "def calculate_precision(model, test_X, test_y, k=5):\n",
    "    true_positives = 0\n",
    "    total_recommendations = 0\n",
    "\n",
    "    for user_id in tqdm(dataset.test_students):\n",
    "        user_history = test_X[test_X['reviewers'] == user_id]['course_id'].values\n",
    "        actual_next_courses = test_y[test_y['reviewers'] == user_id]['course_id'].values\n",
    "        \n",
    "        if len(actual_next_courses) == 0:\n",
    "            continue\n",
    "\n",
    "        recommended_courses = model.recommend(user_history, k=k)\n",
    "        total_recommendations += len(recommended_courses)\n",
    "        \n",
    "        # Count the number of true positives\n",
    "        true_positives += sum(course in actual_next_courses for course in recommended_courses)\n",
    "\n",
    "    # Calculate precision\n",
    "    if total_recommendations == 0:\n",
    "        return 0\n",
    "    return true_positives / total_recommendations\n"
   ]
  },
  {
   "cell_type": "code",
   "execution_count": 19,
   "metadata": {},
   "outputs": [
    {
     "name": "stderr",
     "output_type": "stream",
     "text": [
      "100%|██████████| 7680/7680 [03:43<00:00, 34.41it/s]\n"
     ]
    },
    {
     "data": {
      "text/plain": [
       "0.090859375"
      ]
     },
     "execution_count": 19,
     "metadata": {},
     "output_type": "execute_result"
    }
   ],
   "source": [
    "calculate_precision(item_based_cf_model, df_test_X, df_test_y, k=5)"
   ]
  },
  {
   "cell_type": "code",
   "execution_count": 23,
   "metadata": {},
   "outputs": [
    {
     "name": "stderr",
     "output_type": "stream",
     "text": [
      "  0%|          | 2/7680 [00:00<06:26, 19.86it/s]"
     ]
    },
    {
     "name": "stderr",
     "output_type": "stream",
     "text": [
      "100%|██████████| 7680/7680 [04:23<00:00, 29.15it/s]\n"
     ]
    },
    {
     "data": {
      "text/plain": [
       "0.06274739583333333"
      ]
     },
     "execution_count": 23,
     "metadata": {},
     "output_type": "execute_result"
    }
   ],
   "source": [
    "calculate_precision(item_based_cf_model, df_test_X, df_test_y, k=10)"
   ]
  },
  {
   "cell_type": "code",
   "execution_count": 21,
   "metadata": {},
   "outputs": [],
   "source": [
    "def calculate_recall_precision(model, test_X, test_y, k=5):\n",
    "    true_positives = 0\n",
    "    total_recommendations = 0\n",
    "    total_relevant = 0\n",
    "\n",
    "    for user_id in tqdm(dataset.test_students):\n",
    "        user_history = test_X[test_X['reviewers'] == user_id]['course_id'].values\n",
    "        actual_next_courses = test_y[test_y['reviewers'] == user_id]['course_id'].values\n",
    "\n",
    "        total_relevant += len(actual_next_courses)\n",
    "        if len(actual_next_courses) == 0:\n",
    "            continue\n",
    "\n",
    "        recommended_courses = model.recommend(user_history, k=k)\n",
    "        total_recommendations += len(recommended_courses)\n",
    "\n",
    "        true_positives += sum(course in actual_next_courses for course in recommended_courses)\n",
    "\n",
    "    precision = true_positives / total_recommendations if total_recommendations else 0\n",
    "    recall = true_positives / total_relevant if total_relevant else 0\n",
    "    return recall, precision\n",
    "\n",
    "def calculate_f1_score(recall, precision):\n",
    "    if recall + precision == 0:\n",
    "        return 0\n",
    "    return 2 * (recall * precision) / (recall + precision)"
   ]
  },
  {
   "cell_type": "code",
   "execution_count": 22,
   "metadata": {},
   "outputs": [
    {
     "name": "stderr",
     "output_type": "stream",
     "text": [
      "100%|██████████| 7680/7680 [04:14<00:00, 30.13it/s]\n"
     ]
    },
    {
     "data": {
      "text/plain": [
       "0.12757555258972156"
      ]
     },
     "execution_count": 22,
     "metadata": {},
     "output_type": "execute_result"
    }
   ],
   "source": [
    "recall, precision = calculate_recall_precision(item_based_cf_model, df_test_X, df_test_y, k=5)\n",
    "calculate_f1_score(recall, precision)"
   ]
  },
  {
   "cell_type": "code",
   "execution_count": 24,
   "metadata": {},
   "outputs": [
    {
     "name": "stderr",
     "output_type": "stream",
     "text": [
      "100%|██████████| 7680/7680 [04:01<00:00, 31.84it/s]\n"
     ]
    },
    {
     "data": {
      "text/plain": [
       "0.10352642942307484"
      ]
     },
     "execution_count": 24,
     "metadata": {},
     "output_type": "execute_result"
    }
   ],
   "source": [
    "recall, precision = calculate_recall_precision(item_based_cf_model, df_test_X, df_test_y, k=10)\n",
    "calculate_f1_score(recall, precision)"
   ]
  },
  {
   "cell_type": "markdown",
   "metadata": {},
   "source": [
    "### Evaluation"
   ]
  },
  {
   "cell_type": "code",
   "execution_count": 3,
   "metadata": {},
   "outputs": [],
   "source": [
    "\n",
    "\n",
    "def hit_rate(model, test_set, k=5):\n",
    "    hits = 0\n",
    "    total = 0\n",
    "    #test_set['reviewers'].unique():\n",
    "    for user_id in tqdm(test_set['reviewers'].unique()):\n",
    "        # Get previously rated courses for the user in training data\n",
    "        prev_courses = tuple(dataset.train_ratings[dataset.train_ratings['reviewers'] == user_id]['course_id'])\n",
    "\n",
    "        # get the top-k recommended courses from the model\n",
    "        recommended_courses = model.recommend(prev_courses, k)\n",
    "\n",
    "        # Get the actual top-k rated courses for the user in the test data\n",
    "        actual_top_k = test_set[test_set['reviewers'] == user_id].nlargest(k, 'rating')['course_id']\n",
    "\n",
    "        # Calculate hits\n",
    "        if any(course in recommended_courses for course in actual_top_k):\n",
    "            hits += 1\n",
    "        total += 1\n",
    "        \n",
    "        # print(f\"Hit Rate: {hits / total if total > 0 else 0}\")\n",
    "        # if total == 500: # Stop after 500 users\n",
    "        #     break\n",
    "\n",
    "    return hits / total if total > 0 else 0\n"
   ]
  },
  {
   "cell_type": "code",
   "execution_count": 7,
   "metadata": {},
   "outputs": [
    {
     "name": "stdout",
     "output_type": "stream",
     "text": [
      "Setting the train-test split randomly...\n"
     ]
    }
   ],
   "source": [
    "dataset.set_train_test_split_random(0.999)"
   ]
  },
  {
   "cell_type": "code",
   "execution_count": 8,
   "metadata": {},
   "outputs": [],
   "source": [
    "cf_model = ItemBasedCF(dataset.course_set)\n",
    "\n",
    "cf_model.fit(dataset.train_ratings)"
   ]
  },
  {
   "cell_type": "code",
   "execution_count": 9,
   "metadata": {},
   "outputs": [
    {
     "name": "stderr",
     "output_type": "stream",
     "text": [
      "100%|██████████| 174/174 [00:06<00:00, 28.34it/s]\n"
     ]
    },
    {
     "data": {
      "text/plain": [
       "0.3390804597701149"
      ]
     },
     "execution_count": 9,
     "metadata": {},
     "output_type": "execute_result"
    }
   ],
   "source": [
    "hit_rate(cf_model, dataset.test_ratings, k=10)"
   ]
  }
 ],
 "metadata": {
  "kernelspec": {
   "display_name": "Python 3 (ipykernel)",
   "language": "python",
   "name": "python3"
  },
  "language_info": {
   "codemirror_mode": {
    "name": "ipython",
    "version": 3
   },
   "file_extension": ".py",
   "mimetype": "text/x-python",
   "name": "python",
   "nbconvert_exporter": "python",
   "pygments_lexer": "ipython3",
   "version": "3.8.10"
  }
 },
 "nbformat": 4,
 "nbformat_minor": 2
}
