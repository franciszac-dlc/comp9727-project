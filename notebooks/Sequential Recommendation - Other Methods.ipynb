{
 "cells": [
  {
   "cell_type": "markdown",
   "id": "55f1742a-421c-4f90-aa5a-dd8324fc29c7",
   "metadata": {},
   "source": [
    "# Sequential Recommendation - Other Methods\n",
    "\n",
    "* [Course Reviews on Coursera](https://www.kaggle.com/datasets/imuhammad/course-reviews-on-coursera)\n",
    "* [Coursera Courses 2021](https://www.kaggle.com/datasets/khusheekapoor/coursera-courses-dataset-2021)"
   ]
  },
  {
   "cell_type": "code",
   "execution_count": 1,
   "id": "10f51598-5be8-4cab-9b5a-defbb5b5918e",
   "metadata": {},
   "outputs": [],
   "source": [
    "import pandas as pd\n",
    "import numpy as np\n",
    "import matplotlib.pyplot as plt\n",
    "import seaborn as sns\n",
    "from tqdm import tqdm\n",
    "from coursemate.dataset import Dataset"
   ]
  },
  {
   "cell_type": "code",
   "execution_count": 2,
   "id": "aaa1e46b-cdda-4a66-adb8-de8049804cdc",
   "metadata": {},
   "outputs": [],
   "source": [
    "from collections import defaultdict\n",
    "from itertools import combinations\n",
    "import math"
   ]
  },
  {
   "cell_type": "code",
   "execution_count": 3,
   "id": "0de92f75-c831-42a6-9b0f-b1c5d00101a6",
   "metadata": {},
   "outputs": [],
   "source": [
    "from sklearn.model_selection import train_test_split"
   ]
  },
  {
   "cell_type": "code",
   "execution_count": 4,
   "id": "6a4d4071-2572-4034-8fe6-2e5d208cba98",
   "metadata": {},
   "outputs": [],
   "source": [
    "pd.set_option('display.width', 1000)\n",
    "pd.set_option('display.max_colwidth', 1000)"
   ]
  },
  {
   "cell_type": "code",
   "execution_count": 5,
   "id": "0bf5ba36-182f-4c4a-a5b4-f6e45a5858a4",
   "metadata": {},
   "outputs": [],
   "source": [
    "%load_ext autoreload\n",
    "%autoreload 2"
   ]
  },
  {
   "cell_type": "markdown",
   "id": "c6f3bc0c-fe78-4ecc-b64a-6dfe5d1e4754",
   "metadata": {},
   "source": [
    "## Dataset class"
   ]
  },
  {
   "cell_type": "code",
   "execution_count": 6,
   "id": "87d13ffd-6e76-495c-ba57-436f334c0c5b",
   "metadata": {},
   "outputs": [
    {
     "name": "stdout",
     "output_type": "stream",
     "text": [
      "Loading Coursera courses...\n",
      "Loading Coursera reviews...\n",
      "Segmenting out students with less than 3 or more than 50 reviews...\n",
      "30719 students, 468 courses, 174219 reviews\n",
      "Sparsity: 1.21%\n",
      "Duplicates: 4.54%\n"
     ]
    }
   ],
   "source": [
    "dataset = Dataset('../data/Coursera_courses.csv', '../data/Coursera.csv', '../data/Coursera_reviews.csv')\n",
    "dataset.set_interaction_counts(3, 50)\n",
    "dataset.show_dataset_details()"
   ]
  },
  {
   "cell_type": "markdown",
   "id": "01f510f2-387f-4265-b4f6-9922ae80fcc2",
   "metadata": {},
   "source": [
    "## Getting the train-test split as a list of data points"
   ]
  },
  {
   "cell_type": "code",
   "execution_count": 7,
   "id": "f250ac20-64d3-41e3-b801-ec9b822d203c",
   "metadata": {},
   "outputs": [
    {
     "name": "stdout",
     "output_type": "stream",
     "text": [
      "Setting the train-test split by user...\n",
      "Computing the training and test list of sequences...\n"
     ]
    },
    {
     "name": "stderr",
     "output_type": "stream",
     "text": [
      "131100it [00:13, 9728.62it/s] \n",
      "43119it [00:04, 9824.83it/s] \n"
     ]
    }
   ],
   "source": [
    "dataset.set_train_test_split_by_user()\n",
    "train_X, test_X, train_y, test_y = dataset.get_train_test_sequence_predictions()"
   ]
  },
  {
   "cell_type": "markdown",
   "id": "cb3b3d41-3219-4190-b5f8-162523245b2d",
   "metadata": {},
   "source": [
    "## Constructing the association rules"
   ]
  },
  {
   "cell_type": "markdown",
   "id": "2f15634c-db38-4abe-b46a-6bcee369a77c",
   "metadata": {},
   "source": [
    "### Version 1: Taking course I implies course J"
   ]
  },
  {
   "cell_type": "code",
   "execution_count": 11,
   "id": "c2e995d8-8f94-4210-ad5f-492effc28dfe",
   "metadata": {},
   "outputs": [
    {
     "data": {
      "text/plain": [
       "('By  B R s ',\n",
       " ('information-security-data', 'aws-fundamentals-going-cloud-native'))"
      ]
     },
     "execution_count": 11,
     "metadata": {},
     "output_type": "execute_result"
    }
   ],
   "source": [
    "train_X[1]"
   ]
  },
  {
   "cell_type": "code",
   "execution_count": 12,
   "id": "5796401f-bbb2-40fc-b50c-44abe5725a1a",
   "metadata": {},
   "outputs": [
    {
     "data": {
      "text/plain": [
       "'python-basics'"
      ]
     },
     "execution_count": 12,
     "metadata": {},
     "output_type": "execute_result"
    }
   ],
   "source": [
    "train_y[1]"
   ]
  },
  {
   "cell_type": "code",
   "execution_count": 13,
   "id": "6fc866a9-f40b-469d-b333-03dd79addb45",
   "metadata": {},
   "outputs": [],
   "source": [
    "assoc_rules = defaultdict(int)\n",
    "\n",
    "for (_, prev_courses), next_course in zip(train_X, train_y):\n",
    "    for p in prev_courses:\n",
    "        assoc_rules[(p, next_course)] += 1"
   ]
  },
  {
   "cell_type": "code",
   "execution_count": 14,
   "id": "19ba1b0b-e852-40a6-bb2a-9d8e153a6ada",
   "metadata": {},
   "outputs": [
    {
     "data": {
      "text/plain": [
       "90472"
      ]
     },
     "execution_count": 14,
     "metadata": {},
     "output_type": "execute_result"
    }
   ],
   "source": [
    "len(assoc_rules)"
   ]
  },
  {
   "cell_type": "markdown",
   "id": "a205ca94-ee99-4644-832f-4e644905e533",
   "metadata": {},
   "source": [
    "### Version 2: Simple association rule mining"
   ]
  },
  {
   "cell_type": "code",
   "execution_count": 21,
   "id": "64d7aa56-5573-424a-abdc-450d84a1f48d",
   "metadata": {},
   "outputs": [
    {
     "name": "stdout",
     "output_type": "stream",
     "text": [
      "Computing the training and test rating matrix...\n"
     ]
    },
    {
     "name": "stderr",
     "output_type": "stream",
     "text": [
      "131100it [00:07, 17849.89it/s]"
     ]
    },
    {
     "name": "stdout",
     "output_type": "stream",
     "text": [
      "(23039, 468)\n"
     ]
    },
    {
     "name": "stderr",
     "output_type": "stream",
     "text": [
      "\n"
     ]
    },
    {
     "data": {
      "text/plain": [
       "array([[1, 0, 1, ..., 0, 0, 0],\n",
       "       [1, 1, 0, ..., 0, 0, 0],\n",
       "       [1, 1, 1, ..., 0, 0, 0],\n",
       "       ...,\n",
       "       [0, 0, 0, ..., 0, 0, 0],\n",
       "       [0, 0, 0, ..., 0, 0, 0],\n",
       "       [0, 0, 0, ..., 0, 0, 0]], dtype=int8)"
      ]
     },
     "execution_count": 21,
     "metadata": {},
     "output_type": "execute_result"
    }
   ],
   "source": [
    "_, assoc_matrix = dataset.get_train_matrix_split()\n",
    "assoc_matrix = np.clip(assoc_matrix, 0, 1)\n",
    "assoc_matrix = assoc_matrix[assoc_matrix.sum(axis=1) > 0, :]\n",
    "print(assoc_matrix.shape)\n",
    "\n",
    "assoc_matrix"
   ]
  },
  {
   "cell_type": "code",
   "execution_count": 46,
   "id": "96973d5d-a53d-46d7-bbbf-59d0f813bb2e",
   "metadata": {},
   "outputs": [
    {
     "data": {
      "text/plain": [
       "<Axes: ylabel='Count'>"
      ]
     },
     "execution_count": 46,
     "metadata": {},
     "output_type": "execute_result"
    },
    {
     "data": {
      "image/png": "[encoded data removed]",
      "text/plain": [
       "<Figure size 640x480 with 1 Axes>"
      ]
     },
     "metadata": {},
     "output_type": "display_data"
    }
   ],
   "source": [
    "single_itemset_support = (assoc_matrix.sum(axis=0)) / (assoc_matrix.shape[0])\n",
    "sns.histplot(single_itemset_support, log_scale=True)"
   ]
  },
  {
   "cell_type": "code",
   "execution_count": 48,
   "id": "5e82aff1-85f4-4e49-a860-f4d0dfec049b",
   "metadata": {},
   "outputs": [
    {
     "data": {
      "text/plain": [
       "227"
      ]
     },
     "execution_count": 48,
     "metadata": {},
     "output_type": "execute_result"
    }
   ],
   "source": [
    "(single_itemset_support > 0.005).sum()"
   ]
  },
  {
   "cell_type": "code",
   "execution_count": 56,
   "id": "3b290718-8bc6-4e96-ad07-105d0ebd2cbe",
   "metadata": {},
   "outputs": [
    {
     "data": {
      "text/plain": [
       "227"
      ]
     },
     "execution_count": 56,
     "metadata": {},
     "output_type": "execute_result"
    }
   ],
   "source": [
    "len(np.where(single_itemset_support > 0.005)[0])"
   ]
  },
  {
   "cell_type": "code",
   "execution_count": 73,
   "id": "dc02c8bc-b4c8-4fcf-9e5c-51d9f1ab7c68",
   "metadata": {},
   "outputs": [],
   "source": [
    "# Implement the Apriori algorithm to find frequent itemsets\n",
    "def apriori_frequent_itemsets(data, min_support=0.005):\n",
    "    num_transactions, num_items = data.shape\n",
    "    frequent_itemsets = []\n",
    "\n",
    "    # 1-itemsets\n",
    "    single_itemset_support = (data.sum(axis=0)) / (data.shape[0])\n",
    "    freq_1_itemsets = np.where(single_itemset_support > min_support)[0]\n",
    "    frequent_itemsets = []\n",
    "\n",
    "    k = 2\n",
    "    found_new_itemset = True\n",
    "    while found_new_itemset and k < num_items:\n",
    "        found_new_itemset = False\n",
    "        candidates = list(combinations(freq_1_itemsets, k))     # simplification: generates all combinations of size k\n",
    "        print(f\"{len(candidates)} candidates\")\n",
    "        for candidate in candidates:\n",
    "            candidate_df = data[:, list(candidate)]\n",
    "            support = (candidate_df.sum(axis=1) == k).mean()    # sum of row values: 1 if transaction contains item, 0 otherwise\n",
    "            if support >= min_support:\n",
    "                # print('Itemset', list(candidate), 'Support =', support)\n",
    "                frequent_itemsets.append(list(candidate))\n",
    "                found_new_itemset = True\n",
    "        k += 1\n",
    "\n",
    "    print(f\"k: {k}\")\n",
    "\n",
    "    return frequent_itemsets"
   ]
  },
  {
   "cell_type": "code",
   "execution_count": 75,
   "id": "c3271024-d2d9-4527-be20-c2d641a352d7",
   "metadata": {
    "scrolled": true
   },
   "outputs": [
    {
     "name": "stdout",
     "output_type": "stream",
     "text": [
      "8911 candidates\n",
      "392084 candidates\n",
      "12840751 candidates\n"
     ]
    },
    {
     "ename": "KeyboardInterrupt",
     "evalue": "",
     "output_type": "error",
     "traceback": [
      "\u001b[0;31m---------------------------------------------------------------------------\u001b[0m",
      "\u001b[0;31mKeyboardInterrupt\u001b[0m                         Traceback (most recent call last)",
      "Cell \u001b[0;32mIn[75], line 1\u001b[0m\n\u001b[0;32m----> 1\u001b[0m frequent_sets \u001b[38;5;241m=\u001b[39m \u001b[43mapriori_frequent_itemsets\u001b[49m\u001b[43m(\u001b[49m\u001b[43massoc_matrix\u001b[49m\u001b[43m,\u001b[49m\u001b[43m \u001b[49m\u001b[38;5;241;43m0.01\u001b[39;49m\u001b[43m)\u001b[49m\n\u001b[1;32m      2\u001b[0m \u001b[38;5;28mprint\u001b[39m(\u001b[38;5;124mf\u001b[39m\u001b[38;5;124m\"\u001b[39m\u001b[38;5;124mNumber of frequent itemsets:\u001b[39m\u001b[38;5;130;01m\\n\u001b[39;00m\u001b[38;5;132;01m{\u001b[39;00m\u001b[38;5;28mlen\u001b[39m(frequent_sets)\u001b[38;5;132;01m}\u001b[39;00m\u001b[38;5;124m\"\u001b[39m)\n",
      "Cell \u001b[0;32mIn[73], line 19\u001b[0m, in \u001b[0;36mapriori_frequent_itemsets\u001b[0;34m(data, min_support)\u001b[0m\n\u001b[1;32m     17\u001b[0m \u001b[38;5;28;01mfor\u001b[39;00m candidate \u001b[38;5;129;01min\u001b[39;00m candidates:\n\u001b[1;32m     18\u001b[0m     candidate_df \u001b[38;5;241m=\u001b[39m data[:, \u001b[38;5;28mlist\u001b[39m(candidate)]\n\u001b[0;32m---> 19\u001b[0m     support \u001b[38;5;241m=\u001b[39m (\u001b[43mcandidate_df\u001b[49m\u001b[38;5;241;43m.\u001b[39;49m\u001b[43msum\u001b[49m\u001b[43m(\u001b[49m\u001b[43maxis\u001b[49m\u001b[38;5;241;43m=\u001b[39;49m\u001b[38;5;241;43m1\u001b[39;49m\u001b[43m)\u001b[49m \u001b[38;5;241m==\u001b[39m k)\u001b[38;5;241m.\u001b[39mmean()    \u001b[38;5;66;03m# sum of row values: 1 if transaction contains item, 0 otherwise\u001b[39;00m\n\u001b[1;32m     20\u001b[0m     \u001b[38;5;28;01mif\u001b[39;00m support \u001b[38;5;241m>\u001b[39m\u001b[38;5;241m=\u001b[39m min_support:\n\u001b[1;32m     21\u001b[0m         \u001b[38;5;66;03m# print('Itemset', list(candidate), 'Support =', support)\u001b[39;00m\n\u001b[1;32m     22\u001b[0m         frequent_itemsets\u001b[38;5;241m.\u001b[39mappend(\u001b[38;5;28mlist\u001b[39m(candidate))\n",
      "File \u001b[0;32m~/miniconda3/envs/comp9727/lib/python3.10/site-packages/numpy/core/_methods.py:47\u001b[0m, in \u001b[0;36m_sum\u001b[0;34m(a, axis, dtype, out, keepdims, initial, where)\u001b[0m\n\u001b[1;32m     43\u001b[0m \u001b[38;5;28;01mdef\u001b[39;00m \u001b[38;5;21m_amin\u001b[39m(a, axis\u001b[38;5;241m=\u001b[39m\u001b[38;5;28;01mNone\u001b[39;00m, out\u001b[38;5;241m=\u001b[39m\u001b[38;5;28;01mNone\u001b[39;00m, keepdims\u001b[38;5;241m=\u001b[39m\u001b[38;5;28;01mFalse\u001b[39;00m,\n\u001b[1;32m     44\u001b[0m           initial\u001b[38;5;241m=\u001b[39m_NoValue, where\u001b[38;5;241m=\u001b[39m\u001b[38;5;28;01mTrue\u001b[39;00m):\n\u001b[1;32m     45\u001b[0m     \u001b[38;5;28;01mreturn\u001b[39;00m umr_minimum(a, axis, \u001b[38;5;28;01mNone\u001b[39;00m, out, keepdims, initial, where)\n\u001b[0;32m---> 47\u001b[0m \u001b[38;5;28;01mdef\u001b[39;00m \u001b[38;5;21m_sum\u001b[39m(a, axis\u001b[38;5;241m=\u001b[39m\u001b[38;5;28;01mNone\u001b[39;00m, dtype\u001b[38;5;241m=\u001b[39m\u001b[38;5;28;01mNone\u001b[39;00m, out\u001b[38;5;241m=\u001b[39m\u001b[38;5;28;01mNone\u001b[39;00m, keepdims\u001b[38;5;241m=\u001b[39m\u001b[38;5;28;01mFalse\u001b[39;00m,\n\u001b[1;32m     48\u001b[0m          initial\u001b[38;5;241m=\u001b[39m_NoValue, where\u001b[38;5;241m=\u001b[39m\u001b[38;5;28;01mTrue\u001b[39;00m):\n\u001b[1;32m     49\u001b[0m     \u001b[38;5;28;01mreturn\u001b[39;00m umr_sum(a, axis, dtype, out, keepdims, initial, where)\n\u001b[1;32m     51\u001b[0m \u001b[38;5;28;01mdef\u001b[39;00m \u001b[38;5;21m_prod\u001b[39m(a, axis\u001b[38;5;241m=\u001b[39m\u001b[38;5;28;01mNone\u001b[39;00m, dtype\u001b[38;5;241m=\u001b[39m\u001b[38;5;28;01mNone\u001b[39;00m, out\u001b[38;5;241m=\u001b[39m\u001b[38;5;28;01mNone\u001b[39;00m, keepdims\u001b[38;5;241m=\u001b[39m\u001b[38;5;28;01mFalse\u001b[39;00m,\n\u001b[1;32m     52\u001b[0m           initial\u001b[38;5;241m=\u001b[39m_NoValue, where\u001b[38;5;241m=\u001b[39m\u001b[38;5;28;01mTrue\u001b[39;00m):\n",
      "\u001b[0;31mKeyboardInterrupt\u001b[0m: "
     ]
    }
   ],
   "source": [
    "frequent_sets = apriori_frequent_itemsets(assoc_matrix, 0.01)\n",
    "print(f\"Number of frequent itemsets:\\n{len(frequent_sets)}\")"
   ]
  },
  {
   "cell_type": "markdown",
   "id": "0108479b-68b9-4147-84da-2b94bb3feb17",
   "metadata": {},
   "source": [
    "This is taking a long-ass time"
   ]
  },
  {
   "cell_type": "markdown",
   "id": "4cb7d716-72ba-4852-8708-b0bcad71920c",
   "metadata": {},
   "source": [
    "### Version 3: Using only the predetermined sequences"
   ]
  },
  {
   "cell_type": "code",
   "execution_count": 8,
   "id": "70e87fd1-74ef-4d92-aec4-2c628846fea6",
   "metadata": {},
   "outputs": [],
   "source": [
    "# get course sequences\n",
    "full_seqs = {}\n",
    "\n",
    "for (name, prevs_c), next_c in zip(train_X, train_y):\n",
    "    full_seqs[name] = (*prevs_c, next_c)"
   ]
  },
  {
   "cell_type": "code",
   "execution_count": 9,
   "id": "2b604a54-3c68-4b46-b5d5-8bb43a8947e7",
   "metadata": {},
   "outputs": [],
   "source": [
    "full_seqs_ndx = {}\n",
    "\n",
    "for n, cs in full_seqs.items():\n",
    "    full_seqs_ndx[n] = tuple(dataset.course_set.index.get_loc(c) for c in cs)"
   ]
  },
  {
   "cell_type": "code",
   "execution_count": 10,
   "id": "d8e5315b-f41b-476f-b22a-4a0ec7d6030c",
   "metadata": {},
   "outputs": [
    {
     "data": {
      "text/plain": [
       "('neural-networks-deep-learning',\n",
       " 'machine-learning-projects',\n",
       " 'ai-for-everyone',\n",
       " 'introduction-tensorflow')"
      ]
     },
     "execution_count": 10,
     "metadata": {},
     "output_type": "execute_result"
    }
   ],
   "source": [
    "full_seqs['By  C S V ']"
   ]
  },
  {
   "cell_type": "code",
   "execution_count": 11,
   "id": "13b5aa2a-c2bc-4bcb-b868-466f31eb428c",
   "metadata": {},
   "outputs": [
    {
     "data": {
      "text/plain": [
       "(9, 54, 6, 23)"
      ]
     },
     "execution_count": 11,
     "metadata": {},
     "output_type": "execute_result"
    }
   ],
   "source": [
    "full_seqs_ndx['By  C S V ']"
   ]
  },
  {
   "cell_type": "code",
   "execution_count": 12,
   "id": "46a4e582-6827-474f-a5e2-601afc16e7cb",
   "metadata": {},
   "outputs": [],
   "source": [
    "def generate_subsequences(sequence_dict, k):\n",
    "    subseq_counts = defaultdict(int)\n",
    "    for _, seq in tqdm(sequence_dict.items()):\n",
    "        for comb in combinations(seq, k):\n",
    "            subseq_counts[comb] += 1\n",
    "\n",
    "    return subseq_counts"
   ]
  },
  {
   "cell_type": "code",
   "execution_count": 13,
   "id": "403617b4-cd2b-433d-be16-6796ac1acc27",
   "metadata": {},
   "outputs": [
    {
     "name": "stderr",
     "output_type": "stream",
     "text": [
      "100%|█████████████████████████████████████████████████████████████████████████| 23039/23039 [00:00<00:00, 374263.42it/s]\n",
      "100%|██████████████████████████████████████████████████████████████████████████| 23039/23039 [00:00<00:00, 72874.53it/s]\n",
      "100%|███████████████████████████████████████████████████████████████████████████| 23039/23039 [00:02<00:00, 9108.84it/s]"
     ]
    },
    {
     "name": "stdout",
     "output_type": "stream",
     "text": [
      "1-subsequences: 468\n",
      "2-subsequences: 90472\n",
      "3-subsequences: 1835231\n"
     ]
    },
    {
     "name": "stderr",
     "output_type": "stream",
     "text": [
      "\n"
     ]
    }
   ],
   "source": [
    "seq1 = generate_subsequences(full_seqs_ndx, 1)\n",
    "seq2 = generate_subsequences(full_seqs_ndx, 2)\n",
    "seq3 = generate_subsequences(full_seqs_ndx, 3)\n",
    "\n",
    "print(f\"1-subsequences: {len(seq1)}\")\n",
    "print(f\"2-subsequences: {len(seq2)}\")\n",
    "print(f\"3-subsequences: {len(seq3)}\")"
   ]
  },
  {
   "cell_type": "code",
   "execution_count": 14,
   "id": "5c3c6808-1639-4ba1-8f20-a871d7dd7d42",
   "metadata": {},
   "outputs": [
    {
     "name": "stdout",
     "output_type": "stream",
     "text": [
      "(1926171, 2)\n"
     ]
    },
    {
     "data": {
      "text/html": [
       "<div>\n",
       "<style scoped>\n",
       "    .dataframe tbody tr th:only-of-type {\n",
       "        vertical-align: middle;\n",
       "    }\n",
       "\n",
       "    .dataframe tbody tr th {\n",
       "        vertical-align: top;\n",
       "    }\n",
       "\n",
       "    .dataframe thead th {\n",
       "        text-align: right;\n",
       "    }\n",
       "</style>\n",
       "<table border=\"1\" class=\"dataframe\">\n",
       "  <thead>\n",
       "    <tr style=\"text-align: right;\">\n",
       "      <th></th>\n",
       "      <th>subsequence</th>\n",
       "      <th>count</th>\n",
       "    </tr>\n",
       "  </thead>\n",
       "  <tbody>\n",
       "    <tr>\n",
       "      <th>0</th>\n",
       "      <td>(346,)</td>\n",
       "      <td>94</td>\n",
       "    </tr>\n",
       "    <tr>\n",
       "      <th>1</th>\n",
       "      <td>(100,)</td>\n",
       "      <td>576</td>\n",
       "    </tr>\n",
       "    <tr>\n",
       "      <th>2</th>\n",
       "      <td>(77,)</td>\n",
       "      <td>655</td>\n",
       "    </tr>\n",
       "    <tr>\n",
       "      <th>3</th>\n",
       "      <td>(56,)</td>\n",
       "      <td>353</td>\n",
       "    </tr>\n",
       "    <tr>\n",
       "      <th>4</th>\n",
       "      <td>(20,)</td>\n",
       "      <td>4055</td>\n",
       "    </tr>\n",
       "  </tbody>\n",
       "</table>\n",
       "</div>"
      ],
      "text/plain": [
       "  subsequence  count\n",
       "0      (346,)     94\n",
       "1      (100,)    576\n",
       "2       (77,)    655\n",
       "3       (56,)    353\n",
       "4       (20,)   4055"
      ]
     },
     "execution_count": 14,
     "metadata": {},
     "output_type": "execute_result"
    }
   ],
   "source": [
    "df_seq1 = pd.DataFrame(seq1.items(), columns=['subsequence', 'count'])\n",
    "df_seq2 = pd.DataFrame(seq2.items(), columns=['subsequence', 'count'])\n",
    "df_seq3 = pd.DataFrame(seq3.items(), columns=['subsequence', 'count'])\n",
    "\n",
    "df_seq = pd.concat([df_seq1, df_seq2, df_seq3])\n",
    "df_seq_dict = {**seq1, **seq2, **seq3}\n",
    "\n",
    "print(df_seq.shape)\n",
    "df_seq.head()"
   ]
  },
  {
   "cell_type": "code",
   "execution_count": 15,
   "id": "a16e4c5a-cc1e-4a77-93da-f7fa04863f77",
   "metadata": {},
   "outputs": [
    {
     "data": {
      "text/plain": [
       "<Axes: xlabel='support', ylabel='Count'>"
      ]
     },
     "execution_count": 15,
     "metadata": {},
     "output_type": "execute_result"
    },
    {
     "data": {
      "image/png": "[encoded data removed]",
      "text/plain": [
       "<Figure size 640x480 with 1 Axes>"
      ]
     },
     "metadata": {},
     "output_type": "display_data"
    }
   ],
   "source": [
    "user_count = len(full_seqs_ndx)\n",
    "\n",
    "df_seq['support'] = df_seq['count'] / user_count\n",
    "sns.histplot(df_seq['support'], log_scale=True)"
   ]
  },
  {
   "cell_type": "code",
   "execution_count": 16,
   "id": "9664b317-04cb-40b6-bf26-5d9ae09ce15c",
   "metadata": {},
   "outputs": [
    {
     "data": {
      "text/plain": [
       "0.50     1.0\n",
       "0.75     2.0\n",
       "0.90     3.0\n",
       "0.99    16.0\n",
       "Name: count, dtype: float64"
      ]
     },
     "execution_count": 16,
     "metadata": {},
     "output_type": "execute_result"
    }
   ],
   "source": [
    "df_seq['count'].quantile([0.5, 0.75, 0.9, 0.99])"
   ]
  },
  {
   "cell_type": "markdown",
   "id": "fab833ed-6bdc-4739-a0ea-95dc84ff983b",
   "metadata": {},
   "source": [
    "**Getting a frequent subsequence subset**"
   ]
  },
  {
   "cell_type": "code",
   "execution_count": 17,
   "id": "bb7574f5-223f-426a-9018-6dbd2743f09a",
   "metadata": {},
   "outputs": [
    {
     "data": {
      "text/plain": [
       "(18770, 3)"
      ]
     },
     "execution_count": 17,
     "metadata": {},
     "output_type": "execute_result"
    }
   ],
   "source": [
    "df_frequent_subseq = df_seq[(df_seq['count'] > 16) & (df_seq['subsequence'].apply(len) > 1)].copy()\n",
    "df_frequent_subseq.shape"
   ]
  },
  {
   "cell_type": "code",
   "execution_count": 18,
   "id": "131417f1-124b-4920-bf6b-f7417ef0a4a3",
   "metadata": {},
   "outputs": [
    {
     "data": {
      "text/html": [
       "<div>\n",
       "<style scoped>\n",
       "    .dataframe tbody tr th:only-of-type {\n",
       "        vertical-align: middle;\n",
       "    }\n",
       "\n",
       "    .dataframe tbody tr th {\n",
       "        vertical-align: top;\n",
       "    }\n",
       "\n",
       "    .dataframe thead th {\n",
       "        text-align: right;\n",
       "    }\n",
       "</style>\n",
       "<table border=\"1\" class=\"dataframe\">\n",
       "  <thead>\n",
       "    <tr style=\"text-align: right;\">\n",
       "      <th></th>\n",
       "      <th>subsequence</th>\n",
       "      <th>count</th>\n",
       "      <th>support</th>\n",
       "      <th>antecedent</th>\n",
       "      <th>consequent</th>\n",
       "      <th>antecedent_count</th>\n",
       "      <th>consequent_count</th>\n",
       "      <th>confidence</th>\n",
       "      <th>lift</th>\n",
       "    </tr>\n",
       "  </thead>\n",
       "  <tbody>\n",
       "    <tr>\n",
       "      <th>4</th>\n",
       "      <td>(100, 56)</td>\n",
       "      <td>19</td>\n",
       "      <td>0.000825</td>\n",
       "      <td>(100,)</td>\n",
       "      <td>(56,)</td>\n",
       "      <td>576</td>\n",
       "      <td>353</td>\n",
       "      <td>0.032986</td>\n",
       "      <td>1.319387</td>\n",
       "    </tr>\n",
       "    <tr>\n",
       "      <th>6</th>\n",
       "      <td>(20, 9)</td>\n",
       "      <td>659</td>\n",
       "      <td>0.028604</td>\n",
       "      <td>(20,)</td>\n",
       "      <td>(9,)</td>\n",
       "      <td>4055</td>\n",
       "      <td>4433</td>\n",
       "      <td>0.162515</td>\n",
       "      <td>0.923352</td>\n",
       "    </tr>\n",
       "    <tr>\n",
       "      <th>7</th>\n",
       "      <td>(20, 26)</td>\n",
       "      <td>307</td>\n",
       "      <td>0.013325</td>\n",
       "      <td>(20,)</td>\n",
       "      <td>(26,)</td>\n",
       "      <td>4055</td>\n",
       "      <td>2708</td>\n",
       "      <td>0.075709</td>\n",
       "      <td>0.430150</td>\n",
       "    </tr>\n",
       "    <tr>\n",
       "      <th>8</th>\n",
       "      <td>(20, 54)</td>\n",
       "      <td>260</td>\n",
       "      <td>0.011285</td>\n",
       "      <td>(20,)</td>\n",
       "      <td>(54,)</td>\n",
       "      <td>4055</td>\n",
       "      <td>2290</td>\n",
       "      <td>0.064118</td>\n",
       "      <td>0.364297</td>\n",
       "    </tr>\n",
       "    <tr>\n",
       "      <th>9</th>\n",
       "      <td>(20, 23)</td>\n",
       "      <td>190</td>\n",
       "      <td>0.008247</td>\n",
       "      <td>(20,)</td>\n",
       "      <td>(23,)</td>\n",
       "      <td>4055</td>\n",
       "      <td>1008</td>\n",
       "      <td>0.046856</td>\n",
       "      <td>0.266217</td>\n",
       "    </tr>\n",
       "    <tr>\n",
       "      <th>10</th>\n",
       "      <td>(20, 58)</td>\n",
       "      <td>66</td>\n",
       "      <td>0.002865</td>\n",
       "      <td>(20,)</td>\n",
       "      <td>(58,)</td>\n",
       "      <td>4055</td>\n",
       "      <td>410</td>\n",
       "      <td>0.016276</td>\n",
       "      <td>0.092475</td>\n",
       "    </tr>\n",
       "    <tr>\n",
       "      <th>11</th>\n",
       "      <td>(20, 132)</td>\n",
       "      <td>53</td>\n",
       "      <td>0.002300</td>\n",
       "      <td>(20,)</td>\n",
       "      <td>(132,)</td>\n",
       "      <td>4055</td>\n",
       "      <td>257</td>\n",
       "      <td>0.013070</td>\n",
       "      <td>0.074260</td>\n",
       "    </tr>\n",
       "    <tr>\n",
       "      <th>12</th>\n",
       "      <td>(9, 26)</td>\n",
       "      <td>1728</td>\n",
       "      <td>0.075003</td>\n",
       "      <td>(9,)</td>\n",
       "      <td>(26,)</td>\n",
       "      <td>4433</td>\n",
       "      <td>2708</td>\n",
       "      <td>0.389804</td>\n",
       "      <td>2.025872</td>\n",
       "    </tr>\n",
       "    <tr>\n",
       "      <th>13</th>\n",
       "      <td>(9, 54)</td>\n",
       "      <td>1388</td>\n",
       "      <td>0.060246</td>\n",
       "      <td>(9,)</td>\n",
       "      <td>(54,)</td>\n",
       "      <td>4433</td>\n",
       "      <td>2290</td>\n",
       "      <td>0.313106</td>\n",
       "      <td>1.627263</td>\n",
       "    </tr>\n",
       "    <tr>\n",
       "      <th>14</th>\n",
       "      <td>(9, 23)</td>\n",
       "      <td>394</td>\n",
       "      <td>0.017101</td>\n",
       "      <td>(9,)</td>\n",
       "      <td>(23,)</td>\n",
       "      <td>4433</td>\n",
       "      <td>1008</td>\n",
       "      <td>0.088879</td>\n",
       "      <td>0.461917</td>\n",
       "    </tr>\n",
       "  </tbody>\n",
       "</table>\n",
       "</div>"
      ],
      "text/plain": [
       "   subsequence  count   support antecedent consequent  antecedent_count  consequent_count  confidence      lift\n",
       "4    (100, 56)     19  0.000825     (100,)      (56,)               576               353    0.032986  1.319387\n",
       "6      (20, 9)    659  0.028604      (20,)       (9,)              4055              4433    0.162515  0.923352\n",
       "7     (20, 26)    307  0.013325      (20,)      (26,)              4055              2708    0.075709  0.430150\n",
       "8     (20, 54)    260  0.011285      (20,)      (54,)              4055              2290    0.064118  0.364297\n",
       "9     (20, 23)    190  0.008247      (20,)      (23,)              4055              1008    0.046856  0.266217\n",
       "10    (20, 58)     66  0.002865      (20,)      (58,)              4055               410    0.016276  0.092475\n",
       "11   (20, 132)     53  0.002300      (20,)     (132,)              4055               257    0.013070  0.074260\n",
       "12     (9, 26)   1728  0.075003       (9,)      (26,)              4433              2708    0.389804  2.025872\n",
       "13     (9, 54)   1388  0.060246       (9,)      (54,)              4433              2290    0.313106  1.627263\n",
       "14     (9, 23)    394  0.017101       (9,)      (23,)              4433              1008    0.088879  0.461917"
      ]
     },
     "execution_count": 18,
     "metadata": {},
     "output_type": "execute_result"
    }
   ],
   "source": [
    "# constructing antecedents and consequents\n",
    "\n",
    "df_frequent_subseq['antecedent'] = df_frequent_subseq['subsequence'].apply(lambda x: x[:-1])\n",
    "df_frequent_subseq['consequent'] = df_frequent_subseq['subsequence'].apply(lambda x: (x[-1],))\n",
    "df_frequent_subseq['antecedent_count'] = df_frequent_subseq['antecedent'].apply(lambda x: df_seq_dict[x] if x in df_seq_dict else 0)\n",
    "df_frequent_subseq['consequent_count'] = df_frequent_subseq['consequent'].apply(lambda x: df_seq_dict[x] if x in df_seq_dict else 0)\n",
    "\n",
    "df_frequent_subseq['confidence'] = df_frequent_subseq['count'] / df_frequent_subseq['antecedent_count']\n",
    "df_frequent_subseq['lift'] = df_frequent_subseq['confidence'] / (df_frequent_subseq['antecedent_count'] / len(full_seqs_ndx))\n",
    "\n",
    "df_frequent_subseq.head(10)"
   ]
  },
  {
   "cell_type": "markdown",
   "id": "59e2f400-3479-4edb-a878-f9b7d26558f5",
   "metadata": {},
   "source": [
    "## Predicting the next course"
   ]
  },
  {
   "cell_type": "code",
   "execution_count": 19,
   "id": "4e8fb847-307b-4301-b42e-2c0ab711e1a1",
   "metadata": {},
   "outputs": [],
   "source": [
    "def generate_antecedents(prev_courses: tuple):\n",
    "    return set(combinations(prev_courses, 1)) | set(combinations(prev_courses, 2))"
   ]
  },
  {
   "cell_type": "code",
   "execution_count": 20,
   "id": "70508cd1-584c-4702-bdf9-4b2a455ee6b4",
   "metadata": {},
   "outputs": [],
   "source": [
    "def sequential_recommendation_by_confidence(prev_courses: tuple):\n",
    "    \"\"\"\n",
    "    Given a set of prev courses, find 1-antecedents and 2-antecedents, and find the options with highest confidence\n",
    "    \"\"\"\n",
    "    prev_courses_ndx = tuple(dataset.course_set.index.get_loc(c) for c in prev_courses)\n",
    "    antecedents = generate_antecedents(prev_courses_ndx)\n",
    "    _candidate_set = df_frequent_subseq[df_frequent_subseq['antecedent'].isin(antecedents)][['consequent', 'confidence']] \\\n",
    "                        .sort_values(by='confidence', ascending=False) \\\n",
    "                        .drop_duplicates(subset=['consequent'])\n",
    "    _results = _candidate_set.head(5)['consequent'].apply(lambda x: x[0]).values\n",
    "    return tuple(dataset.course_set.index.values[i] for i in _results)\n",
    "\n",
    "\n",
    "def sequential_recommendation_by_lift(prev_courses: tuple):\n",
    "    \"\"\"\n",
    "    Given a set of prev courses, find 1-antecedents and 2-antecedents, and find the options with highest lift\n",
    "    \"\"\"\n",
    "    prev_courses_ndx = tuple(dataset.course_set.index.get_loc(c) for c in prev_courses)\n",
    "    antecedents = generate_antecedents(prev_courses_ndx)\n",
    "    _candidate_set = df_frequent_subseq[df_frequent_subseq['antecedent'].isin(antecedents)][['consequent', 'lift']] \\\n",
    "                        .sort_values(by='lift', ascending=False) \\\n",
    "                        .drop_duplicates(subset=['consequent'])\n",
    "    _results = _candidate_set.head(5)['consequent'].apply(lambda x: x[0]).values\n",
    "    return tuple(dataset.course_set.index.values[i] for i in _results)"
   ]
  },
  {
   "cell_type": "code",
   "execution_count": 21,
   "id": "fe43f4ea-c0eb-445c-af26-2f747c02a0cf",
   "metadata": {},
   "outputs": [],
   "source": [
    "def calculate_hit_rate(X, y, recommender_func):\n",
    "    hits = 0\n",
    "    reqs = 0\n",
    "    for (user, prev_courses), next_course in tqdm(zip(X, y), total=len(X)):\n",
    "        reqs += 1\n",
    "        if next_course in recommender_func(prev_courses):\n",
    "            hits += 1\n",
    "    return hits / reqs"
   ]
  },
  {
   "cell_type": "markdown",
   "id": "53989a94-7711-4ace-87c3-dcfe96aaa93f",
   "metadata": {},
   "source": [
    "**By confidence**"
   ]
  },
  {
   "cell_type": "code",
   "execution_count": 22,
   "id": "308693da-7c9a-4a66-a966-32f3f7f3d6ee",
   "metadata": {},
   "outputs": [
    {
     "name": "stderr",
     "output_type": "stream",
     "text": [
      "100%|██████████████████████████████████████████████████████████████████████████| 108061/108061 [09:27<00:00, 190.57it/s]\n"
     ]
    },
    {
     "data": {
      "text/plain": [
       "0.2731975458305957"
      ]
     },
     "execution_count": 22,
     "metadata": {},
     "output_type": "execute_result"
    }
   ],
   "source": [
    "calculate_hit_rate(train_X, train_y, sequential_recommendation_by_confidence)"
   ]
  },
  {
   "cell_type": "markdown",
   "id": "28ff1f2a-cea2-41bc-abfb-32c74b253fb8",
   "metadata": {},
   "source": [
    "**By lift**"
   ]
  },
  {
   "cell_type": "code",
   "execution_count": 23,
   "id": "f930c270-60bc-4387-bd16-68261db340b0",
   "metadata": {},
   "outputs": [
    {
     "name": "stderr",
     "output_type": "stream",
     "text": [
      "100%|██████████████████████████████████████████████████████████████████████████| 108061/108061 [08:46<00:00, 205.22it/s]\n"
     ]
    },
    {
     "data": {
      "text/plain": [
       "0.2630273641739388"
      ]
     },
     "execution_count": 23,
     "metadata": {},
     "output_type": "execute_result"
    }
   ],
   "source": [
    "calculate_hit_rate(train_X, train_y, sequential_recommendation_by_lift)"
   ]
  },
  {
   "cell_type": "markdown",
   "id": "11b1eb7c-7048-45eb-ac92-8c6472c08482",
   "metadata": {},
   "source": [
    "## Changing the frequent subsequences cutoff"
   ]
  },
  {
   "cell_type": "code",
   "execution_count": 30,
   "id": "b94639bf-3878-4382-885a-8e893b5c28e7",
   "metadata": {},
   "outputs": [],
   "source": [
    "COURSE_TO_INDEX = {\n",
    "    c: ndx\n",
    "    for ndx, c in enumerate(dataset.course_set.index)\n",
    "}\n",
    "\n",
    "INDEX_TO_COURSE = {\n",
    "    ndx: c\n",
    "    for ndx, c in enumerate(dataset.course_set.index)\n",
    "}\n",
    "\n",
    "class AssociationMiningModel:\n",
    "    def __init__(self, cutoff, sequence_data):\n",
    "        self.cutoff = cutoff\n",
    "        self.mine_associations(sequence_data)\n",
    "\n",
    "    def mine_associations(self, sequence_data):\n",
    "        _df = sequence_data[(sequence_data['count'] > self.cutoff) & (sequence_data['subsequence'].apply(len) > 1)].copy()\n",
    "\n",
    "        _df['antecedent'] = _df['subsequence'].apply(lambda x: x[:-1])\n",
    "        _df['consequent'] = _df['subsequence'].apply(lambda x: (x[-1],))\n",
    "        _df['antecedent_count'] = _df['antecedent'].apply(lambda x: df_seq_dict[x] if x in df_seq_dict else 0)\n",
    "        _df['consequent_count'] = _df['consequent'].apply(lambda x: df_seq_dict[x] if x in df_seq_dict else 0)\n",
    "        \n",
    "        _df['confidence'] = _df['count'] / _df['antecedent_count']\n",
    "        _df['lift'] = _df['confidence'] / (_df['antecedent_count'] / user_count)\n",
    "\n",
    "        self.frequent_subseqs = _df\n",
    "\n",
    "    def recommend_by_confidence(self, prev_courses: tuple, k=5):\n",
    "        prev_courses_ndx = tuple(COURSE_TO_INDEX[c] for c in prev_courses)\n",
    "        antecedents = generate_antecedents(prev_courses_ndx)\n",
    "        _candidate_set = self.frequent_subseqs[self.frequent_subseqs['antecedent'].isin(antecedents)][['consequent', 'confidence']] \\\n",
    "                            .sort_values(by='confidence', ascending=False) \\\n",
    "                            .drop_duplicates(subset=['consequent'])\n",
    "        _results = _candidate_set.head(k)['consequent'].apply(lambda x: x[0]).values\n",
    "        return tuple(INDEX_TO_COURSE[i] for i in _results)\n",
    "\n",
    "    def recommend_by_lift(self, prev_courses: tuple, k=5):\n",
    "        prev_courses_ndx = tuple(COURSE_TO_INDEX[c] for c in prev_courses)\n",
    "        antecedents = generate_antecedents(prev_courses_ndx)\n",
    "        _candidate_set = self.frequent_subseqs[self.frequent_subseqs['antecedent'].isin(antecedents)][['consequent', 'lift']] \\\n",
    "                            .sort_values(by='lift', ascending=False) \\\n",
    "                            .drop_duplicates(subset=['consequent'])\n",
    "        _results = _candidate_set.head(k)['consequent'].apply(lambda x: x[0]).values\n",
    "        return tuple(INDEX_TO_COURSE[i] for i in _results)"
   ]
  },
  {
   "cell_type": "code",
   "execution_count": 31,
   "id": "58208586-ced0-46da-9c2e-49277c53c66e",
   "metadata": {},
   "outputs": [],
   "source": [
    "def hit_rate_given_cutoff(cutoff, train_X, train_y):\n",
    "    model = AssociationMiningModel(cutoff, df_seq)\n",
    "    return calculate_hit_rate(train_X, train_y, model.recommend_by_confidence)"
   ]
  },
  {
   "cell_type": "code",
   "execution_count": 32,
   "id": "a9f8ef2c-f4d4-40d6-af90-2c236c855ad1",
   "metadata": {},
   "outputs": [
    {
     "name": "stderr",
     "output_type": "stream",
     "text": [
      "100%|██████████████████████████████████████████████████████████████████████████| 108061/108061 [15:37<00:00, 115.23it/s]\n"
     ]
    },
    {
     "data": {
      "text/plain": [
       "0.29137246555186425"
      ]
     },
     "execution_count": 32,
     "metadata": {},
     "output_type": "execute_result"
    }
   ],
   "source": [
    "hit_rate_given_cutoff(3, train_X, train_y)"
   ]
  },
  {
   "cell_type": "code",
   "execution_count": 33,
   "id": "bd5e9b21-00b9-41d3-b218-1aff67393b80",
   "metadata": {},
   "outputs": [
    {
     "name": "stderr",
     "output_type": "stream",
     "text": [
      "100%|██████████████████████████████████████████████████████████████████████████| 108061/108061 [05:46<00:00, 311.69it/s]\n"
     ]
    },
    {
     "data": {
      "text/plain": [
       "0.2769176668733401"
      ]
     },
     "execution_count": 33,
     "metadata": {},
     "output_type": "execute_result"
    }
   ],
   "source": [
    "hit_rate_given_cutoff(10, train_X, train_y)"
   ]
  },
  {
   "cell_type": "markdown",
   "id": "6d1c97a6-cae3-4795-aca2-2455eb480e84",
   "metadata": {},
   "source": [
    "## Using a different dataset, predict any of the next courses"
   ]
  },
  {
   "cell_type": "code",
   "execution_count": 34,
   "id": "3261d3c7-73b5-48c6-bcde-7da20af86ad9",
   "metadata": {},
   "outputs": [
    {
     "name": "stdout",
     "output_type": "stream",
     "text": [
      "Computing the training and test list of sequences...\n"
     ]
    },
    {
     "name": "stderr",
     "output_type": "stream",
     "text": [
      "131100it [00:08, 16028.93it/s]\n",
      "43119it [00:02, 17405.54it/s]\n"
     ]
    }
   ],
   "source": [
    "train_X, test_X, train_y, test_y = dataset.get_train_test_next_course_predictions()"
   ]
  },
  {
   "cell_type": "code",
   "execution_count": 43,
   "id": "b6a4a764-1cd6-4394-8b15-e574dc511d7a",
   "metadata": {},
   "outputs": [],
   "source": [
    "def calculate_precision(X, y, recommender_func):\n",
    "    precs = 0\n",
    "    reqs = 0\n",
    "    for (user, prev_courses_dict), next_courses_dict in tqdm(zip(X, y), total=len(X)):\n",
    "        reqs += 1\n",
    "        prev_courses = set(prev_courses_dict.keys())\n",
    "        next_courses = set(next_courses_dict.keys())\n",
    "        pred_courses = set(recommender_func(prev_courses))\n",
    "        precs += (len(pred_courses & next_courses) / max(len(pred_courses), 1))\n",
    "    return precs / reqs"
   ]
  },
  {
   "cell_type": "code",
   "execution_count": 36,
   "id": "619d39cd-1d84-465d-9814-d03b25e3297d",
   "metadata": {},
   "outputs": [],
   "source": [
    "model = AssociationMiningModel(3, df_seq)"
   ]
  },
  {
   "cell_type": "code",
   "execution_count": 44,
   "id": "07af9c76-a3b4-42c8-90ff-f33f641ac840",
   "metadata": {},
   "outputs": [
    {
     "name": "stderr",
     "output_type": "stream",
     "text": [
      "100%|██████████████████████████████████████████████████████████████████████████| 108061/108061 [17:39<00:00, 101.95it/s]\n"
     ]
    },
    {
     "data": {
      "text/plain": [
       "0.17503878981944412"
      ]
     },
     "execution_count": 44,
     "metadata": {},
     "output_type": "execute_result"
    }
   ],
   "source": [
    "calculate_precision(train_X, train_y, model.recommend_by_confidence)"
   ]
  },
  {
   "cell_type": "code",
   "execution_count": 45,
   "id": "1ac36cca-bfe0-4634-8337-3e38acb1d5bb",
   "metadata": {},
   "outputs": [
    {
     "name": "stderr",
     "output_type": "stream",
     "text": [
      "100%|████████████████████████████████████████████████████████████████████████████| 35439/35439 [05:37<00:00, 104.97it/s]\n"
     ]
    },
    {
     "data": {
      "text/plain": [
       "0.15190044865822314"
      ]
     },
     "execution_count": 45,
     "metadata": {},
     "output_type": "execute_result"
    }
   ],
   "source": [
    "calculate_precision(test_X, test_y, model.recommend_by_confidence)"
   ]
  },
  {
   "cell_type": "markdown",
   "id": "43abdd5e-e965-402a-bda5-3e7adc827607",
   "metadata": {},
   "source": [
    "## Generating scores for each test user and course"
   ]
  },
  {
   "cell_type": "code",
   "execution_count": 7,
   "id": "68cf21c4-3a98-421e-9e73-c8762bafb50b",
   "metadata": {},
   "outputs": [
    {
     "name": "stdout",
     "output_type": "stream",
     "text": [
      "Setting the train-test split by user...\n",
      "Computing the training and test list of sequences...\n"
     ]
    },
    {
     "name": "stderr",
     "output_type": "stream",
     "text": [
      "131100it [00:06, 19559.01it/s]\n",
      "43119it [00:02, 18646.22it/s]\n",
      "100%|█████████████████████████████████████████████████████████████████████████| 23039/23039 [00:00<00:00, 913230.48it/s]\n",
      "100%|█████████████████████████████████████████████████████████████████████████| 23039/23039 [00:00<00:00, 186833.22it/s]\n",
      "100%|██████████████████████████████████████████████████████████████████████████| 23039/23039 [00:01<00:00, 17969.13it/s]\n"
     ]
    },
    {
     "name": "stdout",
     "output_type": "stream",
     "text": [
      "1-subsequences: 468\n",
      "2-subsequences: 90472\n",
      "3-subsequences: 1835231\n",
      "(1926171, 2)\n"
     ]
    }
   ],
   "source": [
    "dataset.set_train_test_split_by_user()\n",
    "\n",
    "# For the sequential/KB recommender\n",
    "train_Xseq, test_Xseq, train_yseq, test_yseq = dataset.get_train_test_next_course_predictions()\n",
    "\n",
    "from coursemate.model import AssociationMiningModel\n",
    "\n",
    "# support cutoff determined empirically, testing the 90th and 99th percentile\n",
    "model = AssociationMiningModel(cutoff=3, course_set=dataset.course_set)\n",
    "df_seq = model.get_sequences_data(train_Xseq, train_yseq)\n",
    "model.fit(df_seq)"
   ]
  },
  {
   "cell_type": "code",
   "execution_count": 10,
   "id": "4f129bff-282f-41d4-b618-2eaef5df9cae",
   "metadata": {},
   "outputs": [
    {
     "data": {
      "text/plain": [
       "('By  A O', ('python-network-data', 'python-databases'))"
      ]
     },
     "execution_count": 10,
     "metadata": {},
     "output_type": "execute_result"
    }
   ],
   "source": [
    "test_Xseq[0]"
   ]
  },
  {
   "cell_type": "code",
   "execution_count": 11,
   "id": "e4245c58-396d-4577-b11d-291763daeef8",
   "metadata": {},
   "outputs": [
    {
     "name": "stderr",
     "output_type": "stream",
     "text": [
      "100%|██████████████████████████████████████████████████████████████████████████████| 7680/7680 [01:12<00:00, 105.36it/s]\n"
     ]
    }
   ],
   "source": [
    "_dfs = []\n",
    "\n",
    "for user, prev_courses in tqdm(test_Xseq):\n",
    "    _dfs.append(model.generate_scores(user, prev_courses))"
   ]
  },
  {
   "cell_type": "code",
   "execution_count": 12,
   "id": "8b9b9bd5-df06-4ec2-b152-e7b42f0dedf9",
   "metadata": {},
   "outputs": [
    {
     "data": {
      "text/html": [
       "<div>\n",
       "<style scoped>\n",
       "    .dataframe tbody tr th:only-of-type {\n",
       "        vertical-align: middle;\n",
       "    }\n",
       "\n",
       "    .dataframe tbody tr th {\n",
       "        vertical-align: top;\n",
       "    }\n",
       "\n",
       "    .dataframe thead th {\n",
       "        text-align: right;\n",
       "    }\n",
       "</style>\n",
       "<table border=\"1\" class=\"dataframe\">\n",
       "  <thead>\n",
       "    <tr style=\"text-align: right;\">\n",
       "      <th></th>\n",
       "      <th>user</th>\n",
       "      <th>course</th>\n",
       "      <th>confidence</th>\n",
       "    </tr>\n",
       "  </thead>\n",
       "  <tbody>\n",
       "    <tr>\n",
       "      <th>137</th>\n",
       "      <td>By  A O</td>\n",
       "      <td>python-databases</td>\n",
       "      <td>0.319735</td>\n",
       "    </tr>\n",
       "    <tr>\n",
       "      <th>138</th>\n",
       "      <td>By  A O</td>\n",
       "      <td>matlab</td>\n",
       "      <td>0.026093</td>\n",
       "    </tr>\n",
       "    <tr>\n",
       "      <th>156</th>\n",
       "      <td>By  A O</td>\n",
       "      <td>python-data-visualization</td>\n",
       "      <td>0.225951</td>\n",
       "    </tr>\n",
       "    <tr>\n",
       "      <th>157</th>\n",
       "      <td>By  A O</td>\n",
       "      <td>r-programming</td>\n",
       "      <td>0.051452</td>\n",
       "    </tr>\n",
       "    <tr>\n",
       "      <th>158</th>\n",
       "      <td>By  A O</td>\n",
       "      <td>data-scientists-tools</td>\n",
       "      <td>0.067622</td>\n",
       "    </tr>\n",
       "  </tbody>\n",
       "</table>\n",
       "</div>"
      ],
      "text/plain": [
       "        user                     course  confidence\n",
       "137  By  A O           python-databases    0.319735\n",
       "138  By  A O                     matlab    0.026093\n",
       "156  By  A O  python-data-visualization    0.225951\n",
       "157  By  A O              r-programming    0.051452\n",
       "158  By  A O      data-scientists-tools    0.067622"
      ]
     },
     "execution_count": 12,
     "metadata": {},
     "output_type": "execute_result"
    }
   ],
   "source": [
    "df_seq_scores = pd.concat(_dfs)\n",
    "\n",
    "df_seq_scores.head()"
   ]
  },
  {
   "cell_type": "code",
   "execution_count": 13,
   "id": "0c94f4f3-82ee-4d84-b8b9-f1aff2d17ef8",
   "metadata": {},
   "outputs": [
    {
     "data": {
      "text/plain": [
       "(2455862, 3)"
      ]
     },
     "execution_count": 13,
     "metadata": {},
     "output_type": "execute_result"
    }
   ],
   "source": [
    "df_seq_scores.shape"
   ]
  },
  {
   "cell_type": "code",
   "execution_count": 14,
   "id": "85d046a7-f79a-4fca-ad7a-7d19dd10807b",
   "metadata": {},
   "outputs": [
    {
     "data": {
      "text/plain": [
       "<Axes: xlabel='confidence', ylabel='Count'>"
      ]
     },
     "execution_count": 14,
     "metadata": {},
     "output_type": "execute_result"
    },
    {
     "data": {
      "image/png": "[encoded data removed]",
      "text/plain": [
       "<Figure size 640x480 with 1 Axes>"
      ]
     },
     "metadata": {},
     "output_type": "display_data"
    }
   ],
   "source": [
    "sns.histplot(df_seq_scores.confidence)"
   ]
  },
  {
   "cell_type": "code",
   "execution_count": 19,
   "id": "c4671990-e6db-4d64-bfb7-6cbd6bb8336b",
   "metadata": {},
   "outputs": [],
   "source": [
    "df_seq_scores.reset_index(drop=True).to_pickle('./sequential_rm_scores.pkl')"
   ]
  },
  {
   "cell_type": "code",
   "execution_count": null,
   "id": "e21d0a08-e588-444b-8666-2c66807f4569",
   "metadata": {},
   "outputs": [],
   "source": []
  }
 ],
 "metadata": {
  "kernelspec": {
   "display_name": "Python 3 (ipykernel)",
   "language": "python",
   "name": "python3"
  },
  "language_info": {
   "codemirror_mode": {
    "name": "ipython",
    "version": 3
   },
   "file_extension": ".py",
   "mimetype": "text/x-python",
   "name": "python",
   "nbconvert_exporter": "python",
   "pygments_lexer": "ipython3",
   "version": "3.10.12"
  }
 },
 "nbformat": 4,
 "nbformat_minor": 5
}
