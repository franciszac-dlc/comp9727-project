{
 "cells": [
  {
   "cell_type": "markdown",
   "id": "a5dbdbdb-f5d2-47ba-a874-cba76c14a290",
   "metadata": {},
   "source": [
    "# Course Recommender System"
   ]
  },
  {
   "cell_type": "code",
   "execution_count": 1,
   "id": "c5e81c17-059a-47a6-9368-fd1ceb692e58",
   "metadata": {},
   "outputs": [],
   "source": [
    "from collections import defaultdict\n",
    "from itertools import combinations\n",
    "import math\n",
    "\n",
    "import pandas as pd\n",
    "import numpy as np\n",
    "import matplotlib.pyplot as plt\n",
    "import seaborn as sns\n",
    "from tqdm import tqdm\n",
    "from sklearn.model_selection import train_test_split\n",
    "\n",
    "from coursemate.dataset import Dataset\n",
    "from coursemate.metrics import (\n",
    "    calculate_hit_rate_from_next_course_sequences,\n",
    "    calculate_precision_from_next_course_sequences,\n",
    "    calculate_f1score_from_next_course_sequences\n",
    ")"
   ]
  },
  {
   "cell_type": "code",
   "execution_count": 2,
   "id": "f0bdd707-ba85-4d83-90b6-baca79d793d1",
   "metadata": {},
   "outputs": [],
   "source": [
    "pd.set_option('display.width', 1000)\n",
    "pd.set_option('display.max_colwidth', 1000)"
   ]
  },
  {
   "cell_type": "code",
   "execution_count": 3,
   "id": "2bebdca6-6784-4c03-87ad-6290b06b5306",
   "metadata": {},
   "outputs": [],
   "source": [
    "%load_ext autoreload\n",
    "%autoreload 2"
   ]
  },
  {
   "cell_type": "markdown",
   "id": "932cb982-ca27-45cd-933a-691283542ca5",
   "metadata": {},
   "source": [
    "## 0. Dataset preparation"
   ]
  },
  {
   "cell_type": "code",
   "execution_count": 4,
   "id": "8a2c8a41-5f48-45c6-90b1-886366ffd252",
   "metadata": {},
   "outputs": [
    {
     "name": "stdout",
     "output_type": "stream",
     "text": [
      "Loading Coursera courses...\n",
      "Loading Coursera reviews...\n",
      "Segmenting out students with less than 3 or more than 50 reviews...\n",
      "30719 students, 468 courses, 174219 reviews\n",
      "Sparsity: 1.21%\n",
      "Duplicates: 4.54%\n"
     ]
    }
   ],
   "source": [
    "dataset = Dataset('../data/Coursera_courses.csv', '../data/Coursera.csv', '../data/Coursera_reviews.csv')\n",
    "dataset.set_interaction_counts(3, 50)\n",
    "dataset.show_dataset_details()"
   ]
  },
  {
   "cell_type": "code",
   "execution_count": 5,
   "id": "646937cb-ed42-4bd6-ab45-eb05486e1afe",
   "metadata": {},
   "outputs": [
    {
     "name": "stdout",
     "output_type": "stream",
     "text": [
      "Setting the train-test split by user...\n",
      "Computing the training and test rating matrix...\n"
     ]
    },
    {
     "name": "stderr",
     "output_type": "stream",
     "text": [
      "131100it [00:07, 17505.94it/s]\n"
     ]
    },
    {
     "name": "stdout",
     "output_type": "stream",
     "text": [
      "Computing the test rating matrix split...\n",
      "Computing the training and test rating matrix...\n"
     ]
    },
    {
     "name": "stderr",
     "output_type": "stream",
     "text": [
      "131100it [00:08, 15320.76it/s]\n",
      "43119it [00:02, 18422.39it/s]\n"
     ]
    },
    {
     "name": "stdout",
     "output_type": "stream",
     "text": [
      "Computing the training and test list of sequences...\n"
     ]
    },
    {
     "name": "stderr",
     "output_type": "stream",
     "text": [
      "131100it [00:06, 19624.35it/s]\n",
      "43119it [00:02, 18347.66it/s]\n"
     ]
    }
   ],
   "source": [
    "dataset.set_train_test_split_by_user()\n",
    "\n",
    "# For the content-based and CF recommender\n",
    "train_Xmatrix, train_ymatrix, df_train_X, df_train_y = dataset.get_train_matrix_split(ratio=0.8)\n",
    "test_Xmatrix, test_ymatrix, df_test_X, df_test_y = dataset.get_test_matrix_split(ratio=0.5)\n",
    "\n",
    "# For the sequential/KB recommender\n",
    "train_Xseq, test_Xseq, train_yseq, test_yseq = dataset.get_train_test_next_course_predictions()"
   ]
  },
  {
   "cell_type": "code",
   "execution_count": 6,
   "id": "06db714b-a742-43c8-8003-8c9915990a0f",
   "metadata": {},
   "outputs": [
    {
     "name": "stdout",
     "output_type": "stream",
     "text": [
      "Training: From 119949 ratings, predict the next 11151 for 6631 users\n",
      "Testing: From 157922 ratings, predict the next 16297 for 7680 users\n"
     ]
    }
   ],
   "source": [
    "print(f\"Training: From {len(df_train_X)} ratings, predict the next {len(df_train_y)} for {df_train_y['reviewers'].nunique()} users\")\n",
    "print(f\"Testing: From {len(df_test_X)} ratings, predict the next {len(df_test_y)} for {df_test_y['reviewers'].nunique()} users\")"
   ]
  },
  {
   "cell_type": "code",
   "execution_count": 7,
   "id": "afcf1fad-a341-43b4-827d-88516801bfc9",
   "metadata": {},
   "outputs": [
    {
     "name": "stdout",
     "output_type": "stream",
     "text": [
      "Training (Sequential): From 108061 sequences, predict the next course taken for 6631 users\n",
      "Testing (Sequential): From 7680 sequences, predict the next course taken for 7680 users\n"
     ]
    }
   ],
   "source": [
    "print(f\"Training (Sequential): From {len(train_Xseq)} sequences, predict the next course taken for {df_train_y['reviewers'].nunique()} users\")\n",
    "print(f\"Testing (Sequential): From {len(test_Xseq)} sequences, predict the next course taken for {df_test_y['reviewers'].nunique()} users\")"
   ]
  },
  {
   "cell_type": "markdown",
   "id": "b682575c-eeec-4b23-910f-ec51ebccedc2",
   "metadata": {},
   "source": [
    "## 1. Random and Most-popular Baseline"
   ]
  },
  {
   "cell_type": "markdown",
   "id": "9842ec2d-06d4-4efa-96e5-f97571e618df",
   "metadata": {},
   "source": [
    "For a sanity check, we include 2 baseline trivial methods: recommending random courses, and recommending only the most popular courses."
   ]
  },
  {
   "cell_type": "code",
   "execution_count": 8,
   "id": "dec7102d-ae08-41ef-be5e-ff391604eb27",
   "metadata": {},
   "outputs": [],
   "source": [
    "mostpopularcourses = dataset.rating_set.groupby('course_id').agg({'reviews': 'count', 'rating': 'mean'}).sort_values(by='reviews', ascending=False)\n",
    "\n",
    "def random_courses(prev_courses, k):\n",
    "    return dataset.course_set[~dataset.course_set.index.isin(prev_courses)].sample(k).index.values\n",
    "\n",
    "def most_popular_courses(prev_courses, k):\n",
    "    return mostpopularcourses[~mostpopularcourses.index.isin(prev_courses)].head(k).index.values"
   ]
  },
  {
   "cell_type": "code",
   "execution_count": 9,
   "id": "c9dfec1c-b25d-4ad8-88b7-e30864b24c1e",
   "metadata": {},
   "outputs": [
    {
     "name": "stderr",
     "output_type": "stream",
     "text": [
      "100%|█████████████████████████████████████████████████████████████████████████████| 7680/7680 [00:03<00:00, 2093.43it/s]\n",
      "100%|█████████████████████████████████████████████████████████████████████████████| 7680/7680 [00:03<00:00, 2018.98it/s]\n",
      "100%|█████████████████████████████████████████████████████████████████████████████| 7680/7680 [00:03<00:00, 2210.10it/s]\n",
      "100%|█████████████████████████████████████████████████████████████████████████████| 7680/7680 [00:03<00:00, 2013.50it/s]\n",
      "100%|█████████████████████████████████████████████████████████████████████████████| 7680/7680 [00:04<00:00, 1905.95it/s]\n",
      "100%|█████████████████████████████████████████████████████████████████████████████| 7680/7680 [00:03<00:00, 1978.12it/s]"
     ]
    },
    {
     "name": "stdout",
     "output_type": "stream",
     "text": [
      "* Random *\n",
      "    | Hit rate | Precision | F1 Score\n",
      "@5  | 0.022    | 0.004     | 0.004   \n",
      "@10 | 0.043    | 0.004     | 0.007   \n"
     ]
    },
    {
     "name": "stderr",
     "output_type": "stream",
     "text": [
      "\n"
     ]
    }
   ],
   "source": [
    "hr5 = calculate_hit_rate_from_next_course_sequences(test_Xseq, test_yseq, random_courses, 5)\n",
    "hr10 = calculate_hit_rate_from_next_course_sequences(test_Xseq, test_yseq, random_courses, 10)\n",
    "prec5 = calculate_precision_from_next_course_sequences(test_Xseq, test_yseq, random_courses, 5)\n",
    "prec10 = calculate_precision_from_next_course_sequences(test_Xseq, test_yseq, random_courses, 10)\n",
    "f1score5 = calculate_f1score_from_next_course_sequences(test_Xseq, test_yseq, random_courses, 5)\n",
    "f1score10 = calculate_f1score_from_next_course_sequences(test_Xseq, test_yseq, random_courses, 10)\n",
    "\n",
    "print(\"* Random *\")\n",
    "print(f\"    | Hit rate | Precision | F1 Score\")\n",
    "print(f\"@5  | {hr5:.3f}    | {prec5:.3f}     | {f1score5:.3f}   \")\n",
    "print(f\"@10 | {hr10:.3f}    | {prec10:.3f}     | {f1score10:.3f}   \")"
   ]
  },
  {
   "cell_type": "code",
   "execution_count": 11,
   "id": "87f066ac-086c-42fe-b355-2d6a5b6df86d",
   "metadata": {},
   "outputs": [
    {
     "name": "stderr",
     "output_type": "stream",
     "text": [
      "100%|█████████████████████████████████████████████████████████████████████████████| 7680/7680 [00:01<00:00, 4747.05it/s]\n",
      "100%|█████████████████████████████████████████████████████████████████████████████| 7680/7680 [00:01<00:00, 4597.69it/s]\n",
      "100%|█████████████████████████████████████████████████████████████████████████████| 7680/7680 [00:01<00:00, 4814.22it/s]\n",
      "100%|█████████████████████████████████████████████████████████████████████████████| 7680/7680 [00:01<00:00, 4619.65it/s]\n",
      "100%|█████████████████████████████████████████████████████████████████████████████| 7680/7680 [00:01<00:00, 4525.84it/s]\n",
      "100%|█████████████████████████████████████████████████████████████████████████████| 7680/7680 [00:01<00:00, 4535.82it/s]"
     ]
    },
    {
     "name": "stdout",
     "output_type": "stream",
     "text": [
      "* Most Popular *\n",
      "    | Hit rate | Precision | F1 Score\n",
      "@5  | 0.198    | 0.045     | 0.056   \n",
      "@10 | 0.307    | 0.039     | 0.058   \n"
     ]
    },
    {
     "name": "stderr",
     "output_type": "stream",
     "text": [
      "\n"
     ]
    }
   ],
   "source": [
    "hr5 = calculate_hit_rate_from_next_course_sequences(test_Xseq, test_yseq, most_popular_courses, 5)\n",
    "hr10 = calculate_hit_rate_from_next_course_sequences(test_Xseq, test_yseq, most_popular_courses, 10)\n",
    "prec5 = calculate_precision_from_next_course_sequences(test_Xseq, test_yseq, most_popular_courses, 5)\n",
    "prec10 = calculate_precision_from_next_course_sequences(test_Xseq, test_yseq, most_popular_courses, 10)\n",
    "f1score5 = calculate_f1score_from_next_course_sequences(test_Xseq, test_yseq, most_popular_courses, 5)\n",
    "f1score10 = calculate_f1score_from_next_course_sequences(test_Xseq, test_yseq, most_popular_courses, 10)\n",
    "\n",
    "print(\"* Most Popular *\")\n",
    "print(f\"    | Hit rate | Precision | F1 Score\")\n",
    "print(f\"@5  | {hr5:.3f}    | {prec5:.3f}     | {f1score5:.3f}   \")\n",
    "print(f\"@10 | {hr10:.3f}    | {prec10:.3f}     | {f1score10:.3f}   \")"
   ]
  },
  {
   "cell_type": "markdown",
   "id": "7102e1f4-8166-414d-867f-9254566f2041",
   "metadata": {},
   "source": [
    "## 2. Content-Based Recommendation"
   ]
  },
  {
   "cell_type": "code",
   "execution_count": 224,
   "id": "5b07d3f5",
   "metadata": {},
   "outputs": [
    {
     "name": "stderr",
     "output_type": "stream",
     "text": [
      "Recommending: 100%|██████████| 30719/30719 [1:28:48<00:00,  5.77it/s]   \n"
     ]
    },
    {
     "name": "stdout",
     "output_type": "stream",
     "text": [
      "Hitrate 0.17408854166666668\n"
     ]
    }
   ],
   "source": [
    "from coursemate.model import ContentBasedModel\n",
    "from sklearn.feature_extraction.text import TfidfVectorizer,  CountVectorizer\n",
    "from coursemate.metrics import calculate_hit_rate_from_next_course_sequences\n",
    "\n",
    "model = ContentBasedModel(course_set=dataset.course_set, Vectorizer=TfidfVectorizer, n_features=1000)\n",
    "\n",
    "unique_reviewers_X = df_test_X['reviewers'].unique()\n",
    "unique_reviewers_y = df_test_y['reviewers'].unique()\n",
    "\n",
    "\n",
    "hits = 0\n",
    "count = 0\n",
    "\n",
    "for user in tqdm(unique_reviewers_X, desc=\"Recommending\"):\n",
    "    if user in unique_reviewers_y:\n",
    "        \n",
    "        count += 1\n",
    "        user_profile = tuple(df_test_X[df_test_X['reviewers'] == user]['course_id'])\n",
    "        target = df_test_y[df_test_y['reviewers'] == user]['course_id']\n",
    "\n",
    "        recommendations = model.recommend(user_profile,5)\n",
    "        recommendation_ids = [recommendation[0] for recommendation in recommendations]\n",
    "\n",
    "        res = len(set(target) & set(recommendation_ids))\n",
    "        \n",
    "        if res > 0:\n",
    "            hits += 1\n",
    "\n",
    "print(\"Hitrate\", hits / count)"
   ]
  },
  {
   "cell_type": "markdown",
   "id": "fd979e5a-dfb3-4a2b-89b0-9af9ae3ef1f0",
   "metadata": {},
   "source": [
    "## 3. Collaborative Filtering Recommendation"
   ]
  },
  {
   "cell_type": "code",
   "execution_count": null,
   "id": "f178199c-cd61-4713-8ea3-dabd6446aa67",
   "metadata": {},
   "outputs": [],
   "source": [
    "from coursemate.model import ItemBasedCF\n",
    "\n",
    "# Instantiate the ItemBasedCF model\n",
    "item_cf_model = ItemBasedCF(dataset.course_set)\n",
    "\n",
    "all_train = pd.concat([df_train_X, df_train_y])\n",
    "\n",
    "# fit with both training X and training y\n",
    "item_based_cf_model.fit(all_train)"
   ]
  },
  {
   "cell_type": "code",
   "execution_count": null,
   "id": "8ba3aa38-6caf-4b3e-accf-a5400e5e6f2c",
   "metadata": {},
   "outputs": [],
   "source": [
    "def calculate_hit_rate(model, test_X, test_y, k=5):\n",
    "    hit_count = 0\n",
    "    total = 0\n",
    "\n",
    "    for user_id in tqdm(dataset.test_students):\n",
    "        user_history = test_X[test_X['reviewers'] == user_id]['course_id'].values\n",
    "        actual_next_courses = test_y[test_y['reviewers'] == user_id]['course_id'].values\n",
    "        \n",
    "        if len(actual_next_courses) == 0:\n",
    "            continue\n",
    "\n",
    "        recommended_courses = model.recommend(user_history, k=k)\n",
    "\n",
    "        hits = any(course in recommended_courses for course in actual_next_courses)\n",
    "        hit_count += 1 if hits else 0\n",
    "        total += 1\n",
    "\n",
    "    # Calculate overall hit rate\n",
    "    return hit_count / total"
   ]
  },
  {
   "cell_type": "code",
   "execution_count": null,
   "id": "b02db974-1925-4191-8286-b5030806479b",
   "metadata": {},
   "outputs": [],
   "source": [
    "calculate_hit_rate(item_based_cf_model, df_test_X, df_test_y, k=10)"
   ]
  },
  {
   "cell_type": "code",
   "execution_count": null,
   "id": "7018c2e3-1448-491d-94dd-5233bdeedb89",
   "metadata": {},
   "outputs": [],
   "source": [
    "calculate_hit_rate(item_based_cf_model, df_test_X, df_test_y, k=5)"
   ]
  },
  {
   "cell_type": "markdown",
   "id": "7276f04a-9633-45d7-b8a4-9918317f8e00",
   "metadata": {},
   "source": [
    "## 4. Sequential/Knowledge-Based Recommendation"
   ]
  },
  {
   "cell_type": "markdown",
   "id": "4ec09cc0-d179-4338-95bb-ae7db34bf208",
   "metadata": {},
   "source": [
    "**Core idea**\n",
    "\n",
    "The core idea of the method is that people would take courses in a sequential manner, such as going from introductory to intermediate to advanced. Some courses in Coursera are even part of a curriculum. Thus, we can recommend courses based on a user’s previously taken courses.\n",
    "\n",
    "**Training**\n",
    "\n",
    "For each user who has taken n courses, we can generate n-1 data (e.g. given the first k courses, predict the next course). To match with the other methods during evaluation, we predict any of the next courses.\n",
    "\n",
    "**Problems**\n",
    "\n",
    "As previously discovered in EDA, most users only take a few courses (1-3), yielding a skewed distribution of primarily short sequences. Moreover, this method cannot solve the cold-start problem as a previous course is required. Finally, as with most recommendation tasks, the data itself is sparse in interactions.\n",
    "\n",
    "**Methods**\n",
    "\n",
    "* A baseline was first made by simply recommending the most popular \"next courses\" given a user's taken courses. When considering raw count, this biases towards more popular courses. Doing so yielded a 26% hit rate on all subsequences (of which the evaluation set is a subset of).\n",
    "* When considering probability, as with a Markov chain, this biases towards niche courses where all users take the same next course, as the low count makes it easier to reach high probabilities. This unfortunately performed worse, with a 19% hit rate.\n",
    "* The last method tested was a sequential rule mining method to determine ordered associations from frequent item subsequences. Recommendations are then chosen from rules with a high confidence. This yielded a 27% hit rate. This method, while simple and explainable, is also computationally expensive.\n",
    "\n",
    "**Process**\n",
    "\n",
    "* For the sake of speeding up computation, we go over all subsequences and note down all combinations, instead of generating combinations and counting their occurrences in the subsequences.\n",
    "* We limit ourselves to 1, 2, and 3-course subsequences. Then we generate 1 and 2-course antecedents from the 2 and 3-course subsequences, like so:\n",
    "    * (a → b → c) becomes (a, b) → (c)\n",
    "* For each rule, we calculate confidence and lift, and use either as a score for ranking recommendations. We found confidence to perform the best.\n",
    "* To recommend items, we generate all subsequences from a user’s sequence of courses, find association rules with antecedents that match that of the subsequence, then finally get consequent courses with highest confidence"
   ]
  },
  {
   "cell_type": "code",
   "execution_count": 12,
   "id": "b9a2443e-3034-4103-8e1d-909ec9961029",
   "metadata": {},
   "outputs": [
    {
     "name": "stderr",
     "output_type": "stream",
     "text": [
      "100%|█████████████████████████████████████████████████████████████████████████| 23039/23039 [00:00<00:00, 321102.45it/s]\n",
      "100%|██████████████████████████████████████████████████████████████████████████| 23039/23039 [00:00<00:00, 91784.95it/s]\n",
      "100%|██████████████████████████████████████████████████████████████████████████| 23039/23039 [00:02<00:00, 10044.86it/s]\n"
     ]
    },
    {
     "name": "stdout",
     "output_type": "stream",
     "text": [
      "1-subsequences: 468\n",
      "2-subsequences: 90472\n",
      "3-subsequences: 1835231\n",
      "(1926171, 2)\n"
     ]
    }
   ],
   "source": [
    "from coursemate.model import AssociationMiningModel\n",
    "\n",
    "# support cutoff determined empirically, testing the 90th and 99th percentile\n",
    "model = AssociationMiningModel(cutoff=3, course_set=dataset.course_set)\n",
    "df_seq = model.get_sequences_data(train_Xseq, train_yseq)\n",
    "model.fit(df_seq)"
   ]
  },
  {
   "cell_type": "code",
   "execution_count": 13,
   "id": "534b5762-6579-48a0-aa8f-bc2b196f6fc9",
   "metadata": {},
   "outputs": [
    {
     "name": "stderr",
     "output_type": "stream",
     "text": [
      "100%|███████████████████████████████████████████████████████████████████████████████| 7680/7680 [02:17<00:00, 55.98it/s]\n",
      "100%|███████████████████████████████████████████████████████████████████████████████| 7680/7680 [01:57<00:00, 65.50it/s]\n",
      "100%|███████████████████████████████████████████████████████████████████████████████| 7680/7680 [02:20<00:00, 54.52it/s]\n",
      "100%|███████████████████████████████████████████████████████████████████████████████| 7680/7680 [02:12<00:00, 58.14it/s]\n",
      "100%|███████████████████████████████████████████████████████████████████████████████| 7680/7680 [02:17<00:00, 55.86it/s]\n",
      "100%|███████████████████████████████████████████████████████████████████████████████| 7680/7680 [02:17<00:00, 56.03it/s]\n"
     ]
    }
   ],
   "source": [
    "hr5 = calculate_hit_rate_from_next_course_sequences(test_Xseq, test_yseq, model.recommend, 5)\n",
    "hr10 = calculate_hit_rate_from_next_course_sequences(test_Xseq, test_yseq, model.recommend, 10)\n",
    "prec5 = calculate_precision_from_next_course_sequences(test_Xseq, test_yseq, model.recommend, 5)\n",
    "prec10 = calculate_precision_from_next_course_sequences(test_Xseq, test_yseq, model.recommend, 10)\n",
    "f1score5 = calculate_f1score_from_next_course_sequences(test_Xseq, test_yseq, model.recommend, 5)\n",
    "f1score10 = calculate_f1score_from_next_course_sequences(test_Xseq, test_yseq, model.recommend, 10)"
   ]
  },
  {
   "cell_type": "code",
   "execution_count": 14,
   "id": "95cf9d6f-e7df-4d94-bb31-bc7987e77877",
   "metadata": {},
   "outputs": [
    {
     "name": "stdout",
     "output_type": "stream",
     "text": [
      "* Sequential *\n",
      "    | Hit rate | Precision | F1 Score\n",
      "@5  | 0.374    | 0.086     | 0.118   \n",
      "@10 | 0.490    | 0.062     | 0.097   \n"
     ]
    }
   ],
   "source": [
    "print(\"* Sequential *\")\n",
    "print(f\"    | Hit rate | Precision | F1 Score\")\n",
    "print(f\"@5  | {hr5:.3f}    | {prec5:.3f}     | {f1score5:.3f}   \")\n",
    "print(f\"@10 | {hr10:.3f}    | {prec10:.3f}     | {f1score10:.3f}   \")"
   ]
  },
  {
   "cell_type": "markdown",
   "id": "57b256bc-48e2-4247-b8de-bf51e59af1cf",
   "metadata": {},
   "source": [
    "## 5. Hybrid"
   ]
  },
  {
   "cell_type": "markdown",
   "id": "babcee84-bf7a-4654-96ba-2426e3ee5460",
   "metadata": {},
   "source": [
    "**Core idea**\n",
    "\n",
    "By combining all 3 methods, we can hopefully balance the personal relevance of content-based recommendations with the social proof in collaborative filtering, while also considering the temporal user interactions through sequential-based recommendations. We can suggest courses that not only match a user's past behavior and preferences but also introduce new and relevant topics that similar users have liked. Finally, we can help address the cold start problem by first using content based using a user profile.\n",
    "\n",
    "**Process**\n",
    "\n",
    "* Scores from each of the 3 methods (Content similarity, Item cosine similarity, and Rule confidence) are scaled between 0 to 1, then they are aggregated (max-value aggregation)\n",
    "* The choice of scaling and aggregation can greatly affect the results"
   ]
  },
  {
   "cell_type": "code",
   "execution_count": 15,
   "id": "2d726453-9a60-46ba-a764-2b9eca1f8827",
   "metadata": {},
   "outputs": [],
   "source": [
    "# loading the scores\n",
    "\n",
    "scores_content = pd.read_csv('/mnt/d/School/COMP9727/content-based-recommender-full.csv') \\\n",
    "                   .melt(id_vars='Unnamed: 0') \\\n",
    "                   .rename(columns={'Unnamed: 0': 'user', 'variable': 'course', 'value': 'content_similarity'})\n",
    "# scores_user_cf = pd.read_pickle('user_based_cf_scores.pkl')\n",
    "# scores_user_cf.columns = ['user', 'course', 'user_based_rating']\n",
    "scores_item_cf = pd.read_csv('/mnt/d/School/COMP9727/item_based_collab_results_commas.csv') \\\n",
    "                   .iloc[:, 1:] \\\n",
    "                   .rename(columns={'user_id': 'user', 'course_id': 'course', 'predicted_rating': 'item_based_similarity'})\n",
    "scores_sequential = pd.read_pickle('sequential_rm_scores.pkl')"
   ]
  },
  {
   "cell_type": "code",
   "execution_count": 17,
   "id": "da190565-d611-4e55-bea8-997813cb87a1",
   "metadata": {},
   "outputs": [
    {
     "name": "stdout",
     "output_type": "stream",
     "text": [
      "Content-based predictions: 7680 users, 468 courses\n",
      "Item-based CF predictions: 7680 users, 468 courses\n",
      "Sequential predictions: 7680 users, 446 courses\n"
     ]
    }
   ],
   "source": [
    "print(f\"Content-based predictions: {scores_content.user.nunique()} users, {scores_content.course.nunique()} courses\")\n",
    "print(f\"Item-based CF predictions: {scores_item_cf.user.nunique()} users, {scores_item_cf.course.nunique()} courses\")\n",
    "print(f\"Sequential predictions: {scores_sequential.user.nunique()} users, {scores_sequential.course.nunique()} courses\")"
   ]
  },
  {
   "cell_type": "code",
   "execution_count": 18,
   "id": "a4ea8a6a-29f2-4cfb-8586-8604158d018f",
   "metadata": {},
   "outputs": [
    {
     "name": "stderr",
     "output_type": "stream",
     "text": [
      "/tmp/ipykernel_2152/1415534881.py:8: SettingWithCopyWarning: \n",
      "A value is trying to be set on a copy of a slice from a DataFrame.\n",
      "Try using .loc[row_indexer,col_indexer] = value instead\n",
      "\n",
      "See the caveats in the documentation: https://pandas.pydata.org/pandas-docs/stable/user_guide/indexing.html#returning-a-view-versus-a-copy\n",
      "  scores_content_filtered['content_similarity_scaled'] = scaler.fit_transform(scores_content_filtered['content_similarity'].values.reshape(-1, 1))[:, 0]\n"
     ]
    }
   ],
   "source": [
    "# remove suspiciously high content similarities\n",
    "scores_content_filtered = scores_content[scores_content['content_similarity'] < 1]\n",
    "\n",
    "# standardize\n",
    "from sklearn.preprocessing import MinMaxScaler, StandardScaler\n",
    "\n",
    "scaler = MinMaxScaler()\n",
    "scores_content_filtered['content_similarity_scaled'] = scaler.fit_transform(scores_content_filtered['content_similarity'].values.reshape(-1, 1))[:, 0]\n",
    "scores_item_cf['item_based_rating_scaled'] = scaler.fit_transform(scores_item_cf['item_based_similarity'].values.reshape(-1, 1))[:, 0]\n",
    "# scores_sequential['confidence_scaled'] = scaler.fit_transform(np.log(scores_sequential['confidence']).values.reshape(-1, 1))[:, 0]\n",
    "scores_sequential['confidence_scaled'] = scaler.fit_transform(scores_sequential['confidence'].values.reshape(-1, 1))[:, 0]"
   ]
  },
  {
   "cell_type": "code",
   "execution_count": 19,
   "id": "3788f510-8b6e-4c93-a142-87740f02aab8",
   "metadata": {},
   "outputs": [
    {
     "data": {
      "text/plain": [
       "Text(0.5, 1.0, 'Confidence of Sequential Rule (scaled)')"
      ]
     },
     "execution_count": 19,
     "metadata": {},
     "output_type": "execute_result"
    },
    {
     "data": {
      "image/png": "[encoded data removed]",
      "text/plain": [
       "<Figure size 2000x600 with 3 Axes>"
      ]
     },
     "metadata": {},
     "output_type": "display_data"
    }
   ],
   "source": [
    "fig, axs = plt.subplots(1, 3, figsize=(20, 6))\n",
    "\n",
    "sns.histplot(scores_content_filtered['content_similarity_scaled'], ax=axs[0])\n",
    "axs[0].set_title('Content-based similarity (scaled)')\n",
    "sns.histplot(scores_item_cf['item_based_rating_scaled'], ax=axs[1])\n",
    "axs[1].set_title('Item-based CF rating prediction (scaled)')\n",
    "sns.histplot(scores_sequential['confidence_scaled'], ax=axs[2])\n",
    "axs[2].set_title('Confidence of Sequential Rule (scaled)')"
   ]
  },
  {
   "cell_type": "code",
   "execution_count": 20,
   "id": "a99741f2-ad36-4f60-9b4b-f1975e1b4fd1",
   "metadata": {},
   "outputs": [],
   "source": [
    "df_hybrid = scores_content_filtered[['user', 'course', 'content_similarity_scaled']].merge(\n",
    "    scores_item_cf[['user', 'course', 'item_based_rating_scaled']], how='left', on=['user', 'course']\n",
    ").merge(\n",
    "    scores_sequential[['user', 'course', 'confidence_scaled']], how='left', on=['user', 'course']\n",
    ").fillna(0)"
   ]
  },
  {
   "cell_type": "code",
   "execution_count": 21,
   "id": "dfa9e2e7-646b-43a9-963f-289a5af6a079",
   "metadata": {},
   "outputs": [],
   "source": [
    "df_hybrid['hybrid_avg_score'] = (df_hybrid['content_similarity_scaled'] + df_hybrid['item_based_rating_scaled'] + df_hybrid['confidence_scaled']) / 3\n",
    "df_hybrid['hybrid_max_score'] = df_hybrid[['content_similarity_scaled', 'item_based_rating_scaled', 'confidence_scaled']].max(axis=1)\n",
    "df_hybrid = df_hybrid.sort_values(by='hybrid_max_score', ascending=False)"
   ]
  },
  {
   "cell_type": "code",
   "execution_count": 22,
   "id": "4c566133-6bb1-468b-ab26-f859466b88ce",
   "metadata": {},
   "outputs": [
    {
     "data": {
      "text/html": [
       "<div>\n",
       "<style scoped>\n",
       "    .dataframe tbody tr th:only-of-type {\n",
       "        vertical-align: middle;\n",
       "    }\n",
       "\n",
       "    .dataframe tbody tr th {\n",
       "        vertical-align: top;\n",
       "    }\n",
       "\n",
       "    .dataframe thead th {\n",
       "        text-align: right;\n",
       "    }\n",
       "</style>\n",
       "<table border=\"1\" class=\"dataframe\">\n",
       "  <thead>\n",
       "    <tr style=\"text-align: right;\">\n",
       "      <th></th>\n",
       "      <th>user</th>\n",
       "      <th>course</th>\n",
       "      <th>content_similarity_scaled</th>\n",
       "      <th>item_based_rating_scaled</th>\n",
       "      <th>confidence_scaled</th>\n",
       "      <th>hybrid_avg_score</th>\n",
       "      <th>hybrid_max_score</th>\n",
       "    </tr>\n",
       "  </thead>\n",
       "  <tbody>\n",
       "    <tr>\n",
       "      <th>409482</th>\n",
       "      <td>By Xiaolong L</td>\n",
       "      <td>machine-learning-projects</td>\n",
       "      <td>0.537694</td>\n",
       "      <td>1.000000</td>\n",
       "      <td>0.593085</td>\n",
       "      <td>0.710260</td>\n",
       "      <td>1.0</td>\n",
       "    </tr>\n",
       "    <tr>\n",
       "      <th>407558</th>\n",
       "      <td>By Samuel N</td>\n",
       "      <td>machine-learning-projects</td>\n",
       "      <td>0.279494</td>\n",
       "      <td>0.363522</td>\n",
       "      <td>1.000000</td>\n",
       "      <td>0.547672</td>\n",
       "      <td>1.0</td>\n",
       "    </tr>\n",
       "    <tr>\n",
       "      <th>407658</th>\n",
       "      <td>By Jorge B P</td>\n",
       "      <td>machine-learning-projects</td>\n",
       "      <td>0.376709</td>\n",
       "      <td>0.418285</td>\n",
       "      <td>1.000000</td>\n",
       "      <td>0.598331</td>\n",
       "      <td>1.0</td>\n",
       "    </tr>\n",
       "    <tr>\n",
       "      <th>409885</th>\n",
       "      <td>By Rajeev R</td>\n",
       "      <td>machine-learning-projects</td>\n",
       "      <td>0.271280</td>\n",
       "      <td>0.231034</td>\n",
       "      <td>1.000000</td>\n",
       "      <td>0.500771</td>\n",
       "      <td>1.0</td>\n",
       "    </tr>\n",
       "    <tr>\n",
       "      <th>404114</th>\n",
       "      <td>By Shikhar R</td>\n",
       "      <td>machine-learning-projects</td>\n",
       "      <td>0.286167</td>\n",
       "      <td>0.456499</td>\n",
       "      <td>1.000000</td>\n",
       "      <td>0.580889</td>\n",
       "      <td>1.0</td>\n",
       "    </tr>\n",
       "  </tbody>\n",
       "</table>\n",
       "</div>"
      ],
      "text/plain": [
       "                 user                     course  content_similarity_scaled  item_based_rating_scaled  confidence_scaled  hybrid_avg_score  hybrid_max_score\n",
       "409482  By Xiaolong L  machine-learning-projects                   0.537694                  1.000000           0.593085          0.710260               1.0\n",
       "407558    By Samuel N  machine-learning-projects                   0.279494                  0.363522           1.000000          0.547672               1.0\n",
       "407658   By Jorge B P  machine-learning-projects                   0.376709                  0.418285           1.000000          0.598331               1.0\n",
       "409885    By Rajeev R  machine-learning-projects                   0.271280                  0.231034           1.000000          0.500771               1.0\n",
       "404114   By Shikhar R  machine-learning-projects                   0.286167                  0.456499           1.000000          0.580889               1.0"
      ]
     },
     "execution_count": 22,
     "metadata": {},
     "output_type": "execute_result"
    }
   ],
   "source": [
    "df_hybrid.head()"
   ]
  },
  {
   "cell_type": "code",
   "execution_count": 23,
   "id": "69ba2aae-c288-4bdf-ba31-e46edcb64e58",
   "metadata": {},
   "outputs": [
    {
     "name": "stderr",
     "output_type": "stream",
     "text": [
      "100%|███████████████████████████████████████████████████████████████████████████████| 7680/7680 [39:07<00:00,  3.27it/s]\n"
     ]
    }
   ],
   "source": [
    "users = 0\n",
    "hits5 = 0\n",
    "precs5 = 0\n",
    "f1scores5 = 0\n",
    "hits10 = 0\n",
    "precs10 = 0\n",
    "f1scores10 = 0\n",
    "\n",
    "for (user, prev_courses), next_course in tqdm(zip(test_Xseq, test_yseq), total=len(test_Xseq)):\n",
    "    users += 1\n",
    "    _df = df_hybrid[df_hybrid.user == user].head(10)\n",
    "    pred_courses5 = set(_df.head(5)['course'].values)\n",
    "    pred_courses10 = set(_df['course'].values)\n",
    "    next_courses_set = set(next_course)\n",
    "    precision5 = (len(pred_courses5 & next_courses_set) / max(len(pred_courses5), 1))\n",
    "    recall5 = (len(pred_courses5 & next_courses_set) / max(len(next_course), 1))\n",
    "    precision10 = (len(pred_courses10 & next_courses_set) / max(len(pred_courses10), 1))\n",
    "    recall10 = (len(pred_courses10 & next_courses_set) / max(len(next_course), 1))\n",
    "\n",
    "    precs5 += precision5\n",
    "    if precision5 + recall5 > 0:\n",
    "        f1scores5 += (2 * (precision5 * recall5) / (precision5 + recall5))\n",
    "    if precision5 > 0:\n",
    "        hits5 += 1\n",
    "        \n",
    "    precs10 += precision10\n",
    "    if precision10 + recall10 > 0:\n",
    "        f1scores10 += (2 * (precision10 * recall10) / (precision10 + recall10))\n",
    "    if precision10 > 0:\n",
    "        hits10 += 1"
   ]
  },
  {
   "cell_type": "code",
   "execution_count": 24,
   "id": "1e8b4338-ed95-4b0c-95b9-7c7d47a031c9",
   "metadata": {},
   "outputs": [
    {
     "name": "stdout",
     "output_type": "stream",
     "text": [
      "    | Hit rate | Precision | F1 Score\n",
      "@5  | 0.272    | 0.061     | 0.085   \n",
      "@10 | 0.358    | 0.042     | 0.068   \n"
     ]
    }
   ],
   "source": [
    "print(f\"    | Hit rate | Precision | F1 Score\")\n",
    "print(f\"@5  | {hits5 / users:.3f}    | {precs5 / users:.3f}     | {f1scores5 / users:.3f}   \")\n",
    "print(f\"@10 | {hits10 / users:.3f}    | {precs10 / users:.3f}     | {f1scores10 / users:.3f}   \")"
   ]
  },
  {
   "cell_type": "markdown",
   "id": "e2d1c806-6f8b-4708-9345-69aaa25f9f65",
   "metadata": {},
   "source": [
    "**Results**\n",
    "\n",
    "The hybrid method seems to perform better than content-based but worse than the other 2 methods. It is likely that the content-based score affects the aggregate score. "
   ]
  },
  {
   "cell_type": "code",
   "execution_count": null,
   "id": "d6ab4797-73e8-4bd6-a65e-ad46caa918c0",
   "metadata": {},
   "outputs": [],
   "source": []
  }
 ],
 "metadata": {
  "kernelspec": {
   "display_name": "Python 3 (ipykernel)",
   "language": "python",
   "name": "python3"
  },
  "language_info": {
   "codemirror_mode": {
    "name": "ipython",
    "version": 3
   },
   "file_extension": ".py",
   "mimetype": "text/x-python",
   "name": "python",
   "nbconvert_exporter": "python",
   "pygments_lexer": "ipython3",
   "version": "3.10.12"
  }
 },
 "nbformat": 4,
 "nbformat_minor": 5
}
