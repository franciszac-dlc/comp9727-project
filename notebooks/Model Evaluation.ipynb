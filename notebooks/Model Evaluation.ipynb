{
 "cells": [
  {
   "cell_type": "markdown",
   "id": "a5dbdbdb-f5d2-47ba-a874-cba76c14a290",
   "metadata": {},
   "source": [
    "# Course Recommender System"
   ]
  },
  {
   "cell_type": "code",
   "execution_count": 8,
   "id": "c5e81c17-059a-47a6-9368-fd1ceb692e58",
   "metadata": {},
   "outputs": [],
   "source": [
    "from collections import defaultdict\n",
    "from itertools import combinations\n",
    "import math\n",
    "\n",
    "import pandas as pd\n",
    "import numpy as np\n",
    "import matplotlib.pyplot as plt\n",
    "import seaborn as sns\n",
    "from tqdm import tqdm\n",
    "from sklearn.model_selection import train_test_split\n",
    "\n",
    "from coursemate.dataset import Dataset"
   ]
  },
  {
   "cell_type": "code",
   "execution_count": 9,
   "id": "f0bdd707-ba85-4d83-90b6-baca79d793d1",
   "metadata": {},
   "outputs": [],
   "source": [
    "pd.set_option('display.width', 1000)\n",
    "pd.set_option('display.max_colwidth', 1000)"
   ]
  },
  {
   "cell_type": "code",
   "execution_count": 10,
   "id": "2bebdca6-6784-4c03-87ad-6290b06b5306",
   "metadata": {},
   "outputs": [
    {
     "name": "stdout",
     "output_type": "stream",
     "text": [
      "The autoreload extension is already loaded. To reload it, use:\n",
      "  %reload_ext autoreload\n"
     ]
    }
   ],
   "source": [
    "%load_ext autoreload\n",
    "%autoreload 2"
   ]
  },
  {
   "cell_type": "markdown",
   "id": "932cb982-ca27-45cd-933a-691283542ca5",
   "metadata": {},
   "source": [
    "## 0. Dataset preparation"
   ]
  },
  {
   "cell_type": "code",
   "execution_count": 11,
   "id": "8a2c8a41-5f48-45c6-90b1-886366ffd252",
   "metadata": {},
   "outputs": [
    {
     "name": "stdout",
     "output_type": "stream",
     "text": [
      "Loading Coursera courses...\n",
      "Loading Coursera reviews...\n",
      "Segmenting out students with less than 3 or more than 50 reviews...\n",
      "30719 students, 468 courses, 174219 reviews\n",
      "Sparsity: 1.21%\n",
      "Duplicates: 4.54%\n"
     ]
    }
   ],
   "source": [
    "dataset = Dataset('../data/Coursera_courses.csv', '../data/Coursera.csv', '../data/Coursera_reviews.csv')\n",
    "dataset.set_interaction_counts(3, 50)\n",
    "dataset.show_dataset_details()"
   ]
  },
  {
   "cell_type": "code",
   "execution_count": 12,
   "id": "646937cb-ed42-4bd6-ab45-eb05486e1afe",
   "metadata": {},
   "outputs": [
    {
     "name": "stdout",
     "output_type": "stream",
     "text": [
      "Setting the train-test split by user...\n",
      "Computing the training and test rating matrix...\n"
     ]
    },
    {
     "name": "stderr",
     "output_type": "stream",
     "text": [
      "131100it [00:11, 11585.30it/s]\n"
     ]
    },
    {
     "name": "stdout",
     "output_type": "stream",
     "text": [
      "Computing the test rating matrix split...\n",
      "Computing the training and test rating matrix...\n"
     ]
    },
    {
     "name": "stderr",
     "output_type": "stream",
     "text": [
      "131100it [00:11, 11671.80it/s]\n",
      "43119it [00:03, 12069.90it/s]\n"
     ]
    },
    {
     "name": "stdout",
     "output_type": "stream",
     "text": [
      "Computing the training and test list of sequences...\n"
     ]
    },
    {
     "name": "stderr",
     "output_type": "stream",
     "text": [
      "131100it [00:09, 14147.42it/s]\n",
      "43119it [00:03, 13011.04it/s]\n"
     ]
    }
   ],
   "source": [
    "dataset.set_train_test_split_by_user()\n",
    "\n",
    "# For the content-based and CF recommender\n",
    "train_Xmatrix, train_ymatrix, df_train_X, df_train_y = dataset.get_train_matrix_split(ratio=0.8)\n",
    "test_Xmatrix, test_ymatrix, df_test_X, df_test_y = dataset.get_test_matrix_split(ratio=0.5)\n",
    "\n",
    "# For the sequential/KB recommender\n",
    "train_Xseq, test_Xseq, train_yseq, test_yseq = dataset.get_train_test_next_course_predictions()"
   ]
  },
  {
   "cell_type": "code",
   "execution_count": 13,
   "id": "06db714b-a742-43c8-8003-8c9915990a0f",
   "metadata": {},
   "outputs": [
    {
     "name": "stdout",
     "output_type": "stream",
     "text": [
      "Training: From 119949 ratings, predict the next 11151 for 6631 users\n",
      "Testing: From 157922 ratings, predict the next 16297 for 7680 users\n"
     ]
    }
   ],
   "source": [
    "print(f\"Training: From {len(df_train_X)} ratings, predict the next {len(df_train_y)} for {df_train_y['reviewers'].nunique()} users\")\n",
    "print(f\"Testing: From {len(df_test_X)} ratings, predict the next {len(df_test_y)} for {df_test_y['reviewers'].nunique()} users\")"
   ]
  },
  {
   "cell_type": "code",
   "execution_count": 14,
   "id": "afcf1fad-a341-43b4-827d-88516801bfc9",
   "metadata": {},
   "outputs": [
    {
     "name": "stdout",
     "output_type": "stream",
     "text": [
      "Training (Sequential): From 108061 sequences, predict the next course taken for 6631 users\n",
      "Testing (Sequential): From 7680 sequences, predict the next course taken for 7680 users\n"
     ]
    }
   ],
   "source": [
    "print(f\"Training (Sequential): From {len(train_Xseq)} sequences, predict the next course taken for {df_train_y['reviewers'].nunique()} users\")\n",
    "print(f\"Testing (Sequential): From {len(test_Xseq)} sequences, predict the next course taken for {df_test_y['reviewers'].nunique()} users\")"
   ]
  },
  {
   "cell_type": "markdown",
   "id": "7102e1f4-8166-414d-867f-9254566f2041",
   "metadata": {},
   "source": [
    "## 1. Content-Based Recommendation"
   ]
  },
  {
   "cell_type": "markdown",
   "metadata": {},
   "source": [
    "**Core Idea**\n",
    "\n",
    "The main idea behind Content-Based Recommendation is that people will prefer similar courses. For example, if you've taken a python course, then a you might prefer another course that also uses python. \n",
    "\n",
    "**Problems**\n",
    "\n",
    "This approach might cause a lack of serendipity and diversity as the recommended course might be too similar to the user profile and/or the other courses recommended.\n",
    "\n",
    "**Process**\n",
    "- Pre-processing\n",
    "    - lower\n",
    "    - Removal of special characters and stopwords\n",
    "    - Lemming\n",
    "- Checking for similarity\n",
    "- Sort courses based on similarity and select top-k\n"
   ]
  },
  {
   "cell_type": "markdown",
   "metadata": {},
   "source": [
    "### 1.1 Hyperparameter tuning\n",
    "\n",
    "Performing a gridsearch to check for the best parameters"
   ]
  },
  {
   "cell_type": "code",
   "execution_count": 56,
   "metadata": {},
   "outputs": [],
   "source": [
    "from coursemate.model import ContentBasedModel\n",
    "from sklearn.feature_extraction.text import TfidfVectorizer,  CountVectorizer\n",
    "model = ContentBasedModel(course_set=dataset.course_set)\n",
    "\n",
    "# Parameters\n",
    "features_list = [50,100,500,1000,5000,10000,50000,100000,500000]\n",
    "vectors = [TfidfVectorizer, CountVectorizer]\n",
    "categories = [['skills'], ['skills','description']]\n",
    "n_users = 500\n",
    "\n",
    "# Gridsearch\n",
    "results = model.ContentBasedModel_gridsearch(df_test_X,df_test_y,vectors,n_users,features_list,categories,[5])\n"
   ]
  },
  {
   "cell_type": "code",
   "execution_count": 111,
   "metadata": {},
   "outputs": [
    {
     "name": "stdout",
     "output_type": "stream",
     "text": [
      "Best Configuration:\n",
      "Vectorizer: TfidfVectorizer\n",
      "n_features: 5000\n",
      "Categories: ['skills', 'description']\n",
      "Hitrate: 0.208\n"
     ]
    },
    {
     "data": {
      "image/png": "[encoded data removed]",
      "text/plain": [
       "<Figure size 800x600 with 1 Axes>"
      ]
     },
     "metadata": {},
     "output_type": "display_data"
    }
   ],
   "source": [
    "unique_reviewers_y = df_test_y['reviewers'].unique()\n",
    "\n",
    "def find_best_config(results):\n",
    "    best_config = None\n",
    "    max_hitrate = 0.0\n",
    "\n",
    "    for result in results:\n",
    "        total_hits = sum(result['hits'].values())\n",
    "        total_tests = len(result['hits']) * len(unique_reviewers_y)\n",
    "        hitrate = total_hits / total_tests\n",
    "\n",
    "        if hitrate > max_hitrate:\n",
    "            max_hitrate = hitrate\n",
    "            best_config = result\n",
    "\n",
    "    return best_config\n",
    "\n",
    "best_config = find_best_config(results)\n",
    "\n",
    "\n",
    "# Print the best configuration\n",
    "if best_config is not None:\n",
    "    print(\"Best Configuration:\")\n",
    "    print(f\"Vectorizer: {best_config['Vectorizer']}\")\n",
    "    print(f\"n_features: {best_config['n_features']}\")\n",
    "    print(f\"Categories: {best_config['categories']}\")\n",
    "    print(f\"Hitrate: {best_config['hits'][k] / n_users}\")\n",
    "else:\n",
    "    print(\"No best configuration found.\")\n",
    "\n",
    "\n",
    "def plot_hitrate_vs_n_features(best_config, k_value):\n",
    "    plt.figure(figsize=(8, 6))\n",
    "\n",
    "    vectorizer_name = str(best_config['Vectorizer']).split('.')[-1].replace(\"'>\", \"\")\n",
    "    categories = best_config['categories']\n",
    "    features = []\n",
    "    hitrates = []\n",
    "    for i in results:\n",
    "        if i['Vectorizer'] == vectorizer_name and i['categories'] == categories:\n",
    "            hitrates.append(i['hits'][k_value]/ n_users)\n",
    "            features.append(i['n_features'] )\n",
    "\n",
    "    plt.plot(features,hitrates, label=f'k={k_value}', marker='o')\n",
    "\n",
    "    plt.xlabel('Number of Features')\n",
    "    plt.ylabel(f'Hitrate @ k={k_value}')\n",
    "    plt.title(f'Hitrate vs Number of Features for the Best-performing Model (k={k_value})')\n",
    "    plt.legend()\n",
    "    plt.tight_layout()\n",
    "    plt.show()\n",
    "\n",
    "\n",
    "plot_hitrate_vs_n_features(best_config, 5)"
   ]
  },
  {
   "cell_type": "markdown",
   "metadata": {},
   "source": [
    "### 1.2 Preprocessing and fitting the vectors"
   ]
  },
  {
   "cell_type": "code",
   "execution_count": 117,
   "metadata": {},
   "outputs": [],
   "source": [
    "from coursemate.model import ContentBasedModel\n",
    "from sklearn.feature_extraction.text import TfidfVectorizer,  CountVectorizer\n",
    "model = ContentBasedModel(course_set=dataset.course_set)\n",
    "\n",
    "model.preprocess()\n",
    "model.fit(Vectorizer=TfidfVectorizer, n_features=5000, categories=['skills','description'])"
   ]
  },
  {
   "cell_type": "markdown",
   "metadata": {},
   "source": [
    "### 1.3 Recommendation"
   ]
  },
  {
   "cell_type": "code",
   "execution_count": 118,
   "metadata": {},
   "outputs": [
    {
     "name": "stdout",
     "output_type": "stream",
     "text": [
      "For k=5:\n",
      "Precision: 0.042\n",
      "F1 Score: 0.0621301775147929\n",
      "Hitrate 0.17\n",
      "For k=10:\n",
      "Precision: 0.033\n",
      "F1 Score: 0.05612244897959184\n",
      "Hitrate 0.28\n"
     ]
    }
   ],
   "source": [
    "unique_reviewers_X = df_test_X['reviewers'].unique()\n",
    "unique_reviewers_y = df_test_y['reviewers'].unique()\n",
    "\n",
    "recommended_courses_df = pd.DataFrame(index=dataset.course_set.index)\n",
    "\n",
    "sim_matrix = pd.DataFrame()\n",
    "k_values = [5, 10]\n",
    "statistics = {k: {'true_positives': 0, 'false_positives': 0, 'false_negatives': 0} for k in k_values}\n",
    "hits = {k: 0 for k in k_values}\n",
    "count = 0\n",
    "\n",
    "for user in unique_reviewers_X:\n",
    "    if user in unique_reviewers_y:\n",
    "        count += 1\n",
    "        user_profile = tuple(df_test_X[df_test_X['reviewers'] == user]['course_id'])\n",
    "        target = df_test_y[df_test_y['reviewers'] == user]['course_id']\n",
    "\n",
    "        recommendations = model.recommend(user_profile,None)\n",
    "        recommendation_ids = [recommendation[0] for recommendation in recommendations]\n",
    "        \n",
    "        user_recommendations_df = pd.DataFrame(index=[user], columns=recommendation_ids)\n",
    "\n",
    "        for course_id, similarity_score in recommendations:\n",
    "            user_recommendations_df.loc[user, course_id] = similarity_score\n",
    "\n",
    "        for course_id in user_profile:\n",
    "            user_recommendations_df.loc[user, course_id] = 1\n",
    "        \n",
    "        user_df = pd.DataFrame(index=[user], columns=recommendation_ids)\n",
    "        for course_id, similarity_score in recommendations:\n",
    "            user_df.loc[user, course_id] = similarity_score\n",
    "\n",
    "        for course_id in user_profile:\n",
    "            user_df.loc[user, course_id] = 1\n",
    "\n",
    "        sim_matrix = pd.concat([sim_matrix, user_df])\n",
    "\n",
    "        # Statistics gathering \n",
    "        for k in k_values:\n",
    "            statistics[k]['true_positives'] += len(set(target) & set(recommendation_ids[:k]))\n",
    "            statistics[k]['false_positives'] += len(set(recommendation_ids[:k]) - set(target))\n",
    "            statistics[k]['false_negatives'] += len(set(target) - set(recommendation_ids[:k]))\n",
    "            if len(set(target) & set(recommendation_ids[:k])) > 0:\n",
    "                hits[k] += 1\n",
    "\n",
    "# Metric calculation\n",
    "for k in k_values:\n",
    "    precision = statistics[k]['true_positives'] / (statistics[k]['true_positives'] + statistics[k]['false_positives']) if (statistics[k]['true_positives'] + statistics[k]['false_positives']) > 0 else 0\n",
    "    recall = statistics[k]['true_positives'] / (statistics[k]['true_positives'] + statistics[k]['false_negatives']) if (statistics[k]['true_positives'] + statistics[k]['false_negatives']) > 0 else 0\n",
    "\n",
    "    f1_score = 2 * (precision * recall) / (precision + recall) if (precision + recall) > 0 else 0\n",
    "\n",
    "    print(f\"For k={k}:\")\n",
    "    print(\"Precision:\", precision)\n",
    "    print(\"F1 Score:\", f1_score)\n",
    "    print(\"Hitrate\", hits[k] / count)\n",
    "\n",
    "sim_matrix.to_csv('content-based-similarity_matrix3.csv')"
   ]
  },
  {
   "cell_type": "code",
   "execution_count": null,
   "metadata": {},
   "outputs": [],
   "source": [
    "hitrates = {'10':0.068, '100':0.168, '500':0.19, '1000':0.188, 50}\n",
    "plt.plot(list(hitrates.keys()), list(hitrates.values()))\n",
    "plt.show()\n"
   ]
  },
  {
   "cell_type": "markdown",
   "id": "fd979e5a-dfb3-4a2b-89b0-9af9ae3ef1f0",
   "metadata": {},
   "source": [
    "## 2. Collaborative Filtering Recommendation"
   ]
  },
  {
   "cell_type": "markdown",
   "id": "7276f04a-9633-45d7-b8a4-9918317f8e00",
   "metadata": {},
   "source": [
    "## 3. Sequential/Knowledge-Based Recommendation"
   ]
  },
  {
   "cell_type": "code",
   "execution_count": 10,
   "id": "b9a2443e-3034-4103-8e1d-909ec9961029",
   "metadata": {},
   "outputs": [
    {
     "name": "stderr",
     "output_type": "stream",
     "text": [
      "100%|██████████| 23039/23039 [00:00<00:00, 599334.94it/s]\n",
      "100%|██████████| 23039/23039 [00:00<00:00, 111314.51it/s]\n",
      "100%|██████████| 23039/23039 [00:01<00:00, 12093.84it/s]\n"
     ]
    },
    {
     "name": "stdout",
     "output_type": "stream",
     "text": [
      "1-subsequences: 468\n",
      "2-subsequences: 90472\n",
      "3-subsequences: 1835231\n",
      "(1926171, 2)\n"
     ]
    }
   ],
   "source": [
    "from coursemate.model import AssociationMiningModel\n",
    "from coursemate.metrics import (\n",
    "    calculate_hit_rate_from_next_course_sequences,\n",
    "    calculate_precision_from_next_course_sequences,\n",
    "    calculate_f1score_from_next_course_sequences\n",
    ")\n",
    "\n",
    "# support cutoff determined empirically, testing the 90th and 99th percentile\n",
    "model = AssociationMiningModel(cutoff=3, course_set=dataset.course_set)\n",
    "df_seq = model.get_sequences_data(train_Xseq, train_yseq)\n",
    "model.fit(df_seq)"
   ]
  },
  {
   "cell_type": "code",
   "execution_count": null,
   "id": "534b5762-6579-48a0-aa8f-bc2b196f6fc9",
   "metadata": {},
   "outputs": [],
   "source": [
    "hr5 = calculate_hit_rate_from_next_course_sequences(test_Xseq, test_yseq, model.recommend, 5)\n",
    "hr10 = calculate_hit_rate_from_next_course_sequences(test_Xseq, test_yseq, model.recommend, 10)\n",
    "prec5 = calculate_precision_from_next_course_sequences(test_Xseq, test_yseq, model.recommend, 5)\n",
    "prec10 = calculate_precision_from_next_course_sequences(test_Xseq, test_yseq, model.recommend, 10)\n",
    "f1score5 = calculate_f1score_from_next_course_sequences(test_Xseq, test_yseq, model.recommend, 5)\n",
    "f1score10 = calculate_f1score_from_next_course_sequences(test_Xseq, test_yseq, model.recommend, 10)"
   ]
  },
  {
   "cell_type": "code",
   "execution_count": null,
   "id": "95cf9d6f-e7df-4d94-bb31-bc7987e77877",
   "metadata": {},
   "outputs": [
    {
     "name": "stdout",
     "output_type": "stream",
     "text": [
      "    | Hit rate | Precision | F1 Score\n",
      "@5  | 0.374    | 0.086     | 0.118   \n",
      "@10 | 0.490    | 0.062     | 0.097   \n"
     ]
    }
   ],
   "source": [
    "print(f\"    | Hit rate | Precision | F1 Score\")\n",
    "print(f\"@5  | {hr5:.3f}    | {prec5:.3f}     | {f1score5:.3f}   \")\n",
    "print(f\"@10 | {hr10:.3f}    | {prec10:.3f}     | {f1score10:.3f}   \")"
   ]
  },
  {
   "cell_type": "code",
   "execution_count": null,
   "id": "55b2c246-f582-47af-8419-c671c61c3ecc",
   "metadata": {},
   "outputs": [],
   "source": []
  }
 ],
 "metadata": {
  "kernelspec": {
   "display_name": "Python 3 (ipykernel)",
   "language": "python",
   "name": "python3"
  },
  "language_info": {
   "codemirror_mode": {
    "name": "ipython",
    "version": 3
   },
   "file_extension": ".py",
   "mimetype": "text/x-python",
   "name": "python",
   "nbconvert_exporter": "python",
   "pygments_lexer": "ipython3",
   "version": "3.10.0"
  }
 },
 "nbformat": 4,
 "nbformat_minor": 5
}
