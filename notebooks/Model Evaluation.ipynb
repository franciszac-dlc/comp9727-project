{
 "cells": [
  {
   "cell_type": "markdown",
   "id": "a5dbdbdb-f5d2-47ba-a874-cba76c14a290",
   "metadata": {},
   "source": [
    "# Course Recommender System"
   ]
  },
  {
   "cell_type": "code",
   "execution_count": 1,
   "id": "c5e81c17-059a-47a6-9368-fd1ceb692e58",
   "metadata": {},
   "outputs": [],
   "source": [
    "from collections import defaultdict\n",
    "from itertools import combinations\n",
    "import math\n",
    "\n",
    "import pandas as pd\n",
    "import numpy as np\n",
    "import matplotlib.pyplot as plt\n",
    "import seaborn as sns\n",
    "from tqdm import tqdm\n",
    "from sklearn.model_selection import train_test_split\n",
    "\n",
    "from coursemate.dataset import Dataset"
   ]
  },
  {
   "cell_type": "code",
   "execution_count": 2,
   "id": "f0bdd707-ba85-4d83-90b6-baca79d793d1",
   "metadata": {},
   "outputs": [],
   "source": [
    "pd.set_option('display.width', 1000)\n",
    "pd.set_option('display.max_colwidth', 1000)"
   ]
  },
  {
   "cell_type": "code",
   "execution_count": 3,
   "id": "2bebdca6-6784-4c03-87ad-6290b06b5306",
   "metadata": {},
   "outputs": [],
   "source": [
    "%load_ext autoreload\n",
    "%autoreload 2"
   ]
  },
  {
   "cell_type": "markdown",
   "id": "932cb982-ca27-45cd-933a-691283542ca5",
   "metadata": {},
   "source": [
    "## 0. Dataset preparation"
   ]
  },
  {
   "cell_type": "code",
   "execution_count": 16,
   "id": "8a2c8a41-5f48-45c6-90b1-886366ffd252",
   "metadata": {},
   "outputs": [
    {
     "name": "stdout",
     "output_type": "stream",
     "text": [
      "Loading Coursera courses...\n",
      "Loading Coursera reviews...\n",
      "Segmenting out students with less than 3 or more than 50 reviews...\n",
      "30719 students, 468 courses, 174219 reviews\n",
      "Sparsity: 1.21%\n",
      "Duplicates: 4.54%\n"
     ]
    }
   ],
   "source": [
    "dataset = Dataset('../data/Coursera_courses.csv', '../data/Coursera.csv', '../data/Coursera_reviews.csv')\n",
    "dataset.set_interaction_counts(3, 50)\n",
    "dataset.show_dataset_details()"
   ]
  },
  {
   "cell_type": "code",
   "execution_count": 17,
   "id": "646937cb-ed42-4bd6-ab45-eb05486e1afe",
   "metadata": {},
   "outputs": [
    {
     "name": "stdout",
     "output_type": "stream",
     "text": [
      "Setting the train-test split by user...\n",
      "Computing the training and test rating matrix...\n"
     ]
    },
    {
     "name": "stderr",
     "output_type": "stream",
     "text": [
      "131100it [00:17, 7504.06it/s]\n"
     ]
    },
    {
     "name": "stdout",
     "output_type": "stream",
     "text": [
      "Computing the test rating matrix split...\n",
      "Computing the training and test rating matrix...\n"
     ]
    },
    {
     "name": "stderr",
     "output_type": "stream",
     "text": [
      "131100it [00:15, 8309.78it/s]\n",
      "43119it [00:04, 9195.18it/s] \n"
     ]
    },
    {
     "name": "stdout",
     "output_type": "stream",
     "text": [
      "Computing the training and test list of sequences...\n"
     ]
    },
    {
     "name": "stderr",
     "output_type": "stream",
     "text": [
      "131100it [00:07, 17888.19it/s]\n",
      "43119it [00:02, 18762.90it/s]\n"
     ]
    }
   ],
   "source": [
    "dataset.set_train_test_split_by_user()\n",
    "\n",
    "# For the content-based and CF recommender\n",
    "train_Xmatrix, train_ymatrix, df_train_X, df_train_y = dataset.get_train_matrix_split(ratio=0.8)\n",
    "test_Xmatrix, test_ymatrix, df_test_X, df_test_y = dataset.get_test_matrix_split(ratio=0.5)\n",
    "\n",
    "# For the sequential/KB recommender\n",
    "train_Xseq, test_Xseq, train_yseq, test_yseq = dataset.get_train_test_sequence_predictions()"
   ]
  },
  {
   "cell_type": "code",
   "execution_count": 18,
   "id": "06db714b-a742-43c8-8003-8c9915990a0f",
   "metadata": {},
   "outputs": [
    {
     "name": "stdout",
     "output_type": "stream",
     "text": [
      "Training (Content+CF): From 119949 ratings, predict the next 11151 for 6631 users\n",
      "Testing (Content+CF): From 157922 ratings, predict the next 16297 for 7680 users\n"
     ]
    }
   ],
   "source": [
    "print(f\"Training (Content+CF): From {len(df_train_X)} ratings, predict the next {len(df_train_y)} for {df_train_y['reviewers'].nunique()} users\")\n",
    "print(f\"Testing (Content+CF): From {len(df_test_X)} ratings, predict the next {len(df_test_y)} for {df_test_y['reviewers'].nunique()} users\")"
   ]
  },
  {
   "cell_type": "code",
   "execution_count": 20,
   "id": "afcf1fad-a341-43b4-827d-88516801bfc9",
   "metadata": {},
   "outputs": [
    {
     "name": "stdout",
     "output_type": "stream",
     "text": [
      "Training (Sequential): From 108061 sequences, predict the next course taken for 6631 users\n",
      "Testing (Sequential): From 35439 sequences, predict the next course taken for 7680 users\n"
     ]
    }
   ],
   "source": [
    "print(f\"Training (Sequential): From {len(train_Xseq)} sequences, predict the next course taken for {df_train_y['reviewers'].nunique()} users\")\n",
    "print(f\"Testing (Sequential): From {len(test_Xseq)} sequences, predict the next course taken for {df_test_y['reviewers'].nunique()} users\")"
   ]
  },
  {
   "cell_type": "markdown",
   "id": "7102e1f4-8166-414d-867f-9254566f2041",
   "metadata": {},
   "source": [
    "## 1. Content-Based Recommendation"
   ]
  },
  {
   "cell_type": "markdown",
   "id": "fd979e5a-dfb3-4a2b-89b0-9af9ae3ef1f0",
   "metadata": {},
   "source": [
    "## 2. Collaborative Filtering Recommendation"
   ]
  },
  {
   "cell_type": "markdown",
   "id": "7276f04a-9633-45d7-b8a4-9918317f8e00",
   "metadata": {},
   "source": [
    "## 3. Sequential/Knowledge-Based Recommendation"
   ]
  },
  {
   "cell_type": "code",
   "execution_count": 10,
   "id": "b9a2443e-3034-4103-8e1d-909ec9961029",
   "metadata": {},
   "outputs": [
    {
     "name": "stderr",
     "output_type": "stream",
     "text": [
      "100%|█████████████████████████████████████████████████████████████████████████| 23039/23039 [00:00<00:00, 623319.31it/s]\n",
      "100%|█████████████████████████████████████████████████████████████████████████| 23039/23039 [00:00<00:00, 122150.24it/s]\n",
      "100%|██████████████████████████████████████████████████████████████████████████| 23039/23039 [00:01<00:00, 17665.20it/s]\n"
     ]
    },
    {
     "name": "stdout",
     "output_type": "stream",
     "text": [
      "1-subsequences: 468\n",
      "2-subsequences: 90472\n",
      "3-subsequences: 1835231\n",
      "(1926171, 2)\n"
     ]
    }
   ],
   "source": [
    "from coursemate.model import AssociationMiningModel\n",
    "from coursemate.metrics import calculate_hit_rate_from_next_course_sequences\n",
    "\n",
    "# cutoff determined empirically, testing the 90th and 99th percentile\n",
    "model = AssociationMiningModel(cutoff=3, course_set=dataset.course_set)\n",
    "df_seq = model.get_sequences_data(train_Xseq, train_yseq)\n",
    "model.fit(df_seq)"
   ]
  },
  {
   "cell_type": "code",
   "execution_count": 11,
   "id": "534b5762-6579-48a0-aa8f-bc2b196f6fc9",
   "metadata": {},
   "outputs": [
    {
     "name": "stderr",
     "output_type": "stream",
     "text": [
      "100%|█████████████████████████████████████████████████████████████████████████████| 35439/35439 [06:47<00:00, 86.97it/s]\n"
     ]
    },
    {
     "data": {
      "text/plain": [
       "0.25906487203363526"
      ]
     },
     "execution_count": 11,
     "metadata": {},
     "output_type": "execute_result"
    }
   ],
   "source": [
    "calculate_hit_rate_from_next_course_sequences(test_Xseq, test_yseq, model.recommend, 5)"
   ]
  },
  {
   "cell_type": "code",
   "execution_count": null,
   "id": "95cf9d6f-e7df-4d94-bb31-bc7987e77877",
   "metadata": {},
   "outputs": [],
   "source": []
  },
  {
   "cell_type": "code",
   "execution_count": null,
   "id": "f4d056a3-e9fc-4952-a8d7-2d0730460ffd",
   "metadata": {},
   "outputs": [],
   "source": []
  }
 ],
 "metadata": {
  "kernelspec": {
   "display_name": "Python 3 (ipykernel)",
   "language": "python",
   "name": "python3"
  },
  "language_info": {
   "codemirror_mode": {
    "name": "ipython",
    "version": 3
   },
   "file_extension": ".py",
   "mimetype": "text/x-python",
   "name": "python",
   "nbconvert_exporter": "python",
   "pygments_lexer": "ipython3",
   "version": "3.10.12"
  }
 },
 "nbformat": 4,
 "nbformat_minor": 5
}
