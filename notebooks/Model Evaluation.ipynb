{
 "cells": [
  {
   "cell_type": "markdown",
   "id": "a5dbdbdb-f5d2-47ba-a874-cba76c14a290",
   "metadata": {},
   "source": [
    "# Course Recommender System"
   ]
  },
  {
   "cell_type": "code",
   "execution_count": 1,
   "id": "c5e81c17-059a-47a6-9368-fd1ceb692e58",
   "metadata": {},
   "outputs": [],
   "source": [
    "from collections import defaultdict\n",
    "from itertools import combinations\n",
    "import math\n",
    "\n",
    "import pandas as pd\n",
    "import numpy as np\n",
    "import matplotlib.pyplot as plt\n",
    "import seaborn as sns\n",
    "from tqdm import tqdm\n",
    "from sklearn.model_selection import train_test_split\n",
    "\n",
    "from coursemate.dataset import Dataset"
   ]
  },
  {
   "cell_type": "code",
   "execution_count": 2,
   "id": "f0bdd707-ba85-4d83-90b6-baca79d793d1",
   "metadata": {},
   "outputs": [],
   "source": [
    "pd.set_option('display.width', 1000)\n",
    "pd.set_option('display.max_colwidth', 1000)"
   ]
  },
  {
   "cell_type": "code",
   "execution_count": 3,
   "id": "2bebdca6-6784-4c03-87ad-6290b06b5306",
   "metadata": {},
   "outputs": [],
   "source": [
    "%load_ext autoreload\n",
    "%autoreload 2"
   ]
  },
  {
   "cell_type": "markdown",
   "id": "932cb982-ca27-45cd-933a-691283542ca5",
   "metadata": {},
   "source": [
    "## 0. Dataset preparation"
   ]
  },
  {
   "cell_type": "code",
   "execution_count": 4,
   "id": "8a2c8a41-5f48-45c6-90b1-886366ffd252",
   "metadata": {},
   "outputs": [
    {
     "name": "stdout",
     "output_type": "stream",
     "text": [
      "Loading Coursera courses...\n",
      "Loading Coursera reviews...\n",
      "Segmenting out students with less than 3 or more than 50 reviews...\n",
      "30719 students, 468 courses, 174219 reviews\n",
      "Sparsity: 1.21%\n",
      "Duplicates: 4.54%\n"
     ]
    }
   ],
   "source": [
    "dataset = Dataset('../data/Coursera_courses.csv', '../data/Coursera.csv', '../data/Coursera_reviews.csv')\n",
    "dataset.set_interaction_counts(3, 50)\n",
    "dataset.show_dataset_details()"
   ]
  },
  {
   "cell_type": "code",
   "execution_count": 13,
   "id": "646937cb-ed42-4bd6-ab45-eb05486e1afe",
   "metadata": {},
   "outputs": [
    {
     "name": "stdout",
     "output_type": "stream",
     "text": [
      "Setting the train-test split by user...\n",
      "Computing the training and test rating matrix...\n"
     ]
    },
    {
     "name": "stderr",
     "output_type": "stream",
     "text": [
      "131100it [00:07, 17764.63it/s]\n"
     ]
    },
    {
     "name": "stdout",
     "output_type": "stream",
     "text": [
      "Computing the test rating matrix split...\n",
      "Computing the training and test rating matrix...\n"
     ]
    },
    {
     "name": "stderr",
     "output_type": "stream",
     "text": [
      "131100it [00:07, 17505.19it/s]\n",
      "43119it [00:02, 17086.81it/s]\n"
     ]
    },
    {
     "name": "stdout",
     "output_type": "stream",
     "text": [
      "Computing the training and test list of sequences...\n"
     ]
    },
    {
     "name": "stderr",
     "output_type": "stream",
     "text": [
      "131100it [00:06, 20275.63it/s]\n",
      "43119it [00:02, 18337.97it/s]\n"
     ]
    }
   ],
   "source": [
    "dataset.set_train_test_split_by_user()\n",
    "\n",
    "# For the content-based and CF recommender\n",
    "train_Xmatrix, train_ymatrix, df_train_X, df_train_y = dataset.get_train_matrix_split(ratio=0.8)\n",
    "test_Xmatrix, test_ymatrix, df_test_X, df_test_y = dataset.get_test_matrix_split(ratio=0.5)\n",
    "\n",
    "# For the sequential/KB recommender\n",
    "train_Xseq, test_Xseq, train_yseq, test_yseq = dataset.get_train_test_next_course_predictions()"
   ]
  },
  {
   "cell_type": "code",
   "execution_count": 14,
   "id": "06db714b-a742-43c8-8003-8c9915990a0f",
   "metadata": {},
   "outputs": [
    {
     "name": "stdout",
     "output_type": "stream",
     "text": [
      "Training: From 119949 ratings, predict the next 11151 for 6631 users\n",
      "Testing: From 157922 ratings, predict the next 16297 for 7680 users\n"
     ]
    }
   ],
   "source": [
    "print(f\"Training: From {len(df_train_X)} ratings, predict the next {len(df_train_y)} for {df_train_y['reviewers'].nunique()} users\")\n",
    "print(f\"Testing: From {len(df_test_X)} ratings, predict the next {len(df_test_y)} for {df_test_y['reviewers'].nunique()} users\")"
   ]
  },
  {
   "cell_type": "code",
   "execution_count": 15,
   "id": "afcf1fad-a341-43b4-827d-88516801bfc9",
   "metadata": {},
   "outputs": [
    {
     "name": "stdout",
     "output_type": "stream",
     "text": [
      "Training (Sequential): From 108061 sequences, predict the next course taken for 6631 users\n",
      "Testing (Sequential): From 7680 sequences, predict the next course taken for 7680 users\n"
     ]
    }
   ],
   "source": [
    "print(f\"Training (Sequential): From {len(train_Xseq)} sequences, predict the next course taken for {df_train_y['reviewers'].nunique()} users\")\n",
    "print(f\"Testing (Sequential): From {len(test_Xseq)} sequences, predict the next course taken for {df_test_y['reviewers'].nunique()} users\")"
   ]
  },
  {
   "cell_type": "markdown",
   "id": "7102e1f4-8166-414d-867f-9254566f2041",
   "metadata": {},
   "source": [
    "## 1. Content-Based Recommendation"
   ]
  },
  {
   "cell_type": "code",
   "execution_count": 224,
   "metadata": {},
   "outputs": [
    {
     "name": "stderr",
     "output_type": "stream",
     "text": [
      "Recommending: 100%|██████████| 30719/30719 [1:28:48<00:00,  5.77it/s]   \n"
     ]
    },
    {
     "name": "stdout",
     "output_type": "stream",
     "text": [
      "Hitrate 0.17408854166666668\n"
     ]
    }
   ],
   "source": [
    "from coursemate.model import ContentBasedModel\n",
    "from sklearn.feature_extraction.text import TfidfVectorizer,  CountVectorizer\n",
    "from coursemate.metrics import calculate_hit_rate_from_next_course_sequences\n",
    "\n",
    "model = ContentBasedModel(course_set=dataset.course_set, Vectorizer=TfidfVectorizer, n_features=1000)\n",
    "\n",
    "unique_reviewers_X = df_test_X['reviewers'].unique()\n",
    "unique_reviewers_y = df_test_y['reviewers'].unique()\n",
    "\n",
    "\n",
    "hits = 0\n",
    "count = 0\n",
    "\n",
    "for user in tqdm(unique_reviewers_X, desc=\"Recommending\"):\n",
    "    if user in unique_reviewers_y:\n",
    "        \n",
    "        count += 1\n",
    "        user_profile = tuple(df_test_X[df_test_X['reviewers'] == user]['course_id'])\n",
    "        target = df_test_y[df_test_y['reviewers'] == user]['course_id']\n",
    "\n",
    "        recommendations = model.recommend(user_profile,5)\n",
    "        recommendation_ids = [recommendation[0] for recommendation in recommendations]\n",
    "\n",
    "        res = len(set(target) & set(recommendation_ids))\n",
    "        \n",
    "        if res > 0:\n",
    "            hits += 1\n",
    "\n",
    "print(\"Hitrate\", hits / count)"
   ]
  },
  {
   "cell_type": "markdown",
   "id": "fd979e5a-dfb3-4a2b-89b0-9af9ae3ef1f0",
   "metadata": {},
   "source": [
    "## 2. Collaborative Filtering Recommendation"
   ]
  },
  {
   "cell_type": "markdown",
   "id": "7276f04a-9633-45d7-b8a4-9918317f8e00",
   "metadata": {},
   "source": [
    "## 3. Sequential/Knowledge-Based Recommendation"
   ]
  },
  {
   "cell_type": "code",
   "execution_count": 22,
   "id": "b9a2443e-3034-4103-8e1d-909ec9961029",
   "metadata": {},
   "outputs": [
    {
     "name": "stderr",
     "output_type": "stream",
     "text": [
      "100%|█████████████████████████████████████████████████████████████████████████| 23039/23039 [00:00<00:00, 583272.89it/s]\n",
      "100%|█████████████████████████████████████████████████████████████████████████| 23039/23039 [00:00<00:00, 182101.58it/s]\n",
      "100%|██████████████████████████████████████████████████████████████████████████| 23039/23039 [00:01<00:00, 18914.89it/s]\n"
     ]
    },
    {
     "name": "stdout",
     "output_type": "stream",
     "text": [
      "1-subsequences: 468\n",
      "2-subsequences: 90472\n",
      "3-subsequences: 1835231\n",
      "(1926171, 2)\n"
     ]
    }
   ],
   "source": [
    "from coursemate.model import AssociationMiningModel\n",
    "from coursemate.metrics import (\n",
    "    calculate_hit_rate_from_next_course_sequences,\n",
    "    calculate_precision_from_next_course_sequences,\n",
    "    calculate_f1score_from_next_course_sequences\n",
    ")\n",
    "\n",
    "# support cutoff determined empirically, testing the 90th and 99th percentile\n",
    "model = AssociationMiningModel(cutoff=3, course_set=dataset.course_set)\n",
    "df_seq = model.get_sequences_data(train_Xseq, train_yseq)\n",
    "model.fit(df_seq)"
   ]
  },
  {
   "cell_type": "code",
   "execution_count": 41,
   "id": "534b5762-6579-48a0-aa8f-bc2b196f6fc9",
   "metadata": {},
   "outputs": [
    {
     "name": "stderr",
     "output_type": "stream",
     "text": [
      "100%|██████████████████████████████████████████████████████████████████████████████| 7680/7680 [01:06<00:00, 114.87it/s]\n",
      "100%|██████████████████████████████████████████████████████████████████████████████| 7680/7680 [01:06<00:00, 115.21it/s]\n"
     ]
    }
   ],
   "source": [
    "hr5 = calculate_hit_rate_from_next_course_sequences(test_Xseq, test_yseq, model.recommend, 5)\n",
    "hr10 = calculate_hit_rate_from_next_course_sequences(test_Xseq, test_yseq, model.recommend, 10)\n",
    "prec5 = calculate_precision_from_next_course_sequences(test_Xseq, test_yseq, model.recommend, 5)\n",
    "prec10 = calculate_precision_from_next_course_sequences(test_Xseq, test_yseq, model.recommend, 10)\n",
    "f1score5 = calculate_f1score_from_next_course_sequences(test_Xseq, test_yseq, model.recommend, 5)\n",
    "f1score10 = calculate_f1score_from_next_course_sequences(test_Xseq, test_yseq, model.recommend, 10)"
   ]
  },
  {
   "cell_type": "code",
   "execution_count": 42,
   "id": "95cf9d6f-e7df-4d94-bb31-bc7987e77877",
   "metadata": {},
   "outputs": [
    {
     "name": "stdout",
     "output_type": "stream",
     "text": [
      "    | Hit rate | Precision | F1 Score\n",
      "@5  | 0.374    | 0.086     | 0.118   \n",
      "@10 | 0.490    | 0.062     | 0.097   \n"
     ]
    }
   ],
   "source": [
    "print(f\"    | Hit rate | Precision | F1 Score\")\n",
    "print(f\"@5  | {hr5:.3f}    | {prec5:.3f}     | {f1score5:.3f}   \")\n",
    "print(f\"@10 | {hr10:.3f}    | {prec10:.3f}     | {f1score10:.3f}   \")"
   ]
  },
  {
   "cell_type": "code",
   "execution_count": null,
   "id": "55b2c246-f582-47af-8419-c671c61c3ecc",
   "metadata": {},
   "outputs": [],
   "source": []
  }
 ],
 "metadata": {
  "kernelspec": {
   "display_name": "Python 3 (ipykernel)",
   "language": "python",
   "name": "python3"
  },
  "language_info": {
   "codemirror_mode": {
    "name": "ipython",
    "version": 3
   },
   "file_extension": ".py",
   "mimetype": "text/x-python",
   "name": "python",
   "nbconvert_exporter": "python",
   "pygments_lexer": "ipython3",
   "version": "3.10.12"
  }
 },
 "nbformat": 4,
 "nbformat_minor": 5
}
