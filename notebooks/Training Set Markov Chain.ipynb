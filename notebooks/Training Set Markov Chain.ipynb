{
 "cells": [
  {
   "cell_type": "markdown",
   "id": "55f1742a-421c-4f90-aa5a-dd8324fc29c7",
   "metadata": {},
   "source": [
    "# Training Set Markov Chain\n",
    "\n",
    "* [Course Reviews on Coursera](https://www.kaggle.com/datasets/imuhammad/course-reviews-on-coursera)\n",
    "* [Coursera Courses 2021](https://www.kaggle.com/datasets/khusheekapoor/coursera-courses-dataset-2021)"
   ]
  },
  {
   "cell_type": "code",
   "execution_count": 1,
   "id": "10f51598-5be8-4cab-9b5a-defbb5b5918e",
   "metadata": {},
   "outputs": [],
   "source": [
    "import pandas as pd\n",
    "import numpy as np\n",
    "import matplotlib.pyplot as plt\n",
    "import seaborn as sns\n",
    "from tqdm import tqdm\n",
    "from coursemate.dataset import Dataset"
   ]
  },
  {
   "cell_type": "code",
   "execution_count": 2,
   "id": "0de92f75-c831-42a6-9b0f-b1c5d00101a6",
   "metadata": {},
   "outputs": [],
   "source": [
    "from sklearn.model_selection import train_test_split"
   ]
  },
  {
   "cell_type": "code",
   "execution_count": 3,
   "id": "6a4d4071-2572-4034-8fe6-2e5d208cba98",
   "metadata": {},
   "outputs": [],
   "source": [
    "pd.set_option('display.width', 1000)\n",
    "pd.set_option('display.max_colwidth', 1000)"
   ]
  },
  {
   "cell_type": "code",
   "execution_count": 4,
   "id": "0bf5ba36-182f-4c4a-a5b4-f6e45a5858a4",
   "metadata": {},
   "outputs": [],
   "source": [
    "%load_ext autoreload\n",
    "%autoreload 2"
   ]
  },
  {
   "cell_type": "markdown",
   "id": "c6f3bc0c-fe78-4ecc-b64a-6dfe5d1e4754",
   "metadata": {},
   "source": [
    "## Dataset class"
   ]
  },
  {
   "cell_type": "code",
   "execution_count": 5,
   "id": "87d13ffd-6e76-495c-ba57-436f334c0c5b",
   "metadata": {},
   "outputs": [
    {
     "name": "stdout",
     "output_type": "stream",
     "text": [
      "Loading Coursera courses...\n",
      "Loading Coursera reviews...\n",
      "Segmenting out students with less than 3 or more than 50 reviews...\n",
      "30719 students, 468 courses, 174219 reviews\n",
      "Sparsity: 1.21%\n",
      "Duplicates: 4.54%\n"
     ]
    }
   ],
   "source": [
    "dataset = Dataset('../data/Coursera_courses.csv', '../data/Coursera.csv', '../data/Coursera_reviews.csv')\n",
    "dataset.set_interaction_counts(3, 50)\n",
    "dataset.show_dataset_details()"
   ]
  },
  {
   "cell_type": "markdown",
   "id": "01f510f2-387f-4265-b4f6-9922ae80fcc2",
   "metadata": {},
   "source": [
    "## Getting the train-test split as a list of data points"
   ]
  },
  {
   "cell_type": "code",
   "execution_count": 6,
   "id": "f250ac20-64d3-41e3-b801-ec9b822d203c",
   "metadata": {},
   "outputs": [
    {
     "name": "stdout",
     "output_type": "stream",
     "text": [
      "Setting the train-test split by user...\n",
      "Computing the training and test list of sequences...\n"
     ]
    },
    {
     "name": "stderr",
     "output_type": "stream",
     "text": [
      "131100it [00:06, 21781.77it/s]\n",
      "43119it [00:02, 21477.97it/s]\n"
     ]
    }
   ],
   "source": [
    "dataset.set_train_test_split_by_user()\n",
    "train_X, test_X, train_y, test_y = dataset.get_train_test_sequence_predictions()"
   ]
  },
  {
   "cell_type": "code",
   "execution_count": 7,
   "id": "dfdef7b8-4a49-4650-af8a-c818632a05a8",
   "metadata": {},
   "outputs": [
    {
     "name": "stdout",
     "output_type": "stream",
     "text": [
      "By  B R s  : ('information-security-data',) => aws-fundamentals-going-cloud-native\n",
      "By  B R s  : ('information-security-data', 'aws-fundamentals-going-cloud-native') => python-basics\n",
      "By  B R s  : ('information-security-data', 'aws-fundamentals-going-cloud-native', 'python-basics') => introduction-cybersecurity-cyber-attacks\n",
      "By  B S K : ('python-data',) => neural-networks-deep-learning\n",
      "By  B S K : ('python-data', 'neural-networks-deep-learning') => deep-neural-network\n",
      "By  B S K : ('python-data', 'neural-networks-deep-learning', 'deep-neural-network') => machine-learning-projects\n",
      "By  B S K : ('python-data', 'neural-networks-deep-learning', 'deep-neural-network', 'machine-learning-projects') => introduction-tensorflow\n",
      "By  B S K : ('python-data', 'neural-networks-deep-learning', 'deep-neural-network', 'machine-learning-projects', 'introduction-tensorflow') => convolutional-neural-networks-tensorflow\n",
      "By  B S K : ('python-data', 'neural-networks-deep-learning', 'deep-neural-network', 'machine-learning-projects', 'introduction-tensorflow', 'convolutional-neural-networks-tensorflow') => tensorflow-sequences-time-series-and-prediction\n",
      "By  C S V  : ('neural-networks-deep-learning',) => machine-learning-projects\n"
     ]
    }
   ],
   "source": [
    "for x, y in zip(train_X[:10], train_y[:10]):\n",
    "    print(f\"{x[0]} : {x[1]} => {y}\")"
   ]
  },
  {
   "cell_type": "code",
   "execution_count": 8,
   "id": "eef6a1dc-0fa8-4bd0-b3cb-670b135fdc02",
   "metadata": {},
   "outputs": [
    {
     "name": "stdout",
     "output_type": "stream",
     "text": [
      "By  A O : ('python-network-data',) => python-databases\n",
      "By  A O : ('python-network-data', 'python-databases') => ai-for-everyone\n",
      "By  J  : ('learning-how-to-learn',) => physiology\n",
      "By  J  : ('learning-how-to-learn', 'physiology') => technical-support-fundamentals\n",
      "By  K B : ('horse-care',) => python\n",
      "By  K B : ('horse-care', 'python') => fundamentals-of-graphic-design\n",
      "By  K B  : ('excel-intermediate-1',) => python\n",
      "By  K B  : ('excel-intermediate-1', 'python') => os-power-user\n",
      "By  K R  : ('neural-networks-deep-learning',) => deep-neural-network\n",
      "By  K R  : ('neural-networks-deep-learning', 'deep-neural-network') => machine-learning-projects\n"
     ]
    }
   ],
   "source": [
    "for x, y in zip(test_X[:10], test_y[:10]):\n",
    "    print(f\"{x[0]} : {x[1]} => {y}\")"
   ]
  },
  {
   "cell_type": "markdown",
   "id": "5fe5a583-8176-4932-a3b0-6cb773345126",
   "metadata": {},
   "source": [
    "## Constructing an adjacency matrix"
   ]
  },
  {
   "cell_type": "code",
   "execution_count": 9,
   "id": "770ca420-7950-41ca-a587-0f61079ebd6d",
   "metadata": {},
   "outputs": [
    {
     "name": "stderr",
     "output_type": "stream",
     "text": [
      "108061it [00:00, 557925.33it/s]\n"
     ]
    }
   ],
   "source": [
    "adj_matrix = np.zeros((468, 468))\n",
    "curr_user = ''\n",
    "curr_course = ''\n",
    "\n",
    "for (user, prev_courses), next_course in tqdm(zip(train_X, train_y)):\n",
    "    if curr_user != user:\n",
    "        # new user\n",
    "        curr_user = user\n",
    "        if len(prev_courses) != 1:\n",
    "            raise ValueError('User not in fact new')\n",
    "        curr_course = next(iter(prev_courses))\n",
    "        # print(f\"New pair: {str(prev_courses)} -> {next_course}\")\n",
    "        \n",
    "    # if curr_course == next_course:\n",
    "    #     raise ValueError(f\"User {user} is taking {curr_course} twice?\")\n",
    "    curr_ndx = dataset.course_set.index.get_loc(curr_course)\n",
    "    next_ndx = dataset.course_set.index.get_loc(next_course)\n",
    "    adj_matrix[curr_ndx, next_ndx] += 1\n",
    "    curr_course = next_course"
   ]
  },
  {
   "cell_type": "code",
   "execution_count": 10,
   "id": "109d287f-13f6-41e5-ab13-1899b519d1af",
   "metadata": {},
   "outputs": [
    {
     "data": {
      "text/plain": [
       "array([[210.,  62.,  20., ...,   0.,   0.,   1.],\n",
       "       [ 59., 139.,  15., ...,   1.,   0.,   2.],\n",
       "       [ 12.,  20.,   3., ...,   0.,   0.,   0.],\n",
       "       ...,\n",
       "       [  2.,   0.,   0., ...,   0.,   0.,   0.],\n",
       "       [  0.,   0.,   0., ...,   0.,   0.,   0.],\n",
       "       [  3.,   2.,   0., ...,   0.,   0.,   0.]])"
      ]
     },
     "execution_count": 10,
     "metadata": {},
     "output_type": "execute_result"
    }
   ],
   "source": [
    "adj_matrix"
   ]
  },
  {
   "cell_type": "code",
   "execution_count": 11,
   "id": "bcf23e3f-d276-4d16-8c60-4712e2a290d1",
   "metadata": {},
   "outputs": [
    {
     "name": "stdout",
     "output_type": "stream",
     "text": [
      "Total self-transitions: 1363.0\n"
     ]
    }
   ],
   "source": [
    "diag_ctr = np.sum([adj_matrix[i, i] for i in range(adj_matrix.shape[0])])\n",
    "print(f\"Total self-transitions: {diag_ctr}\")\n",
    "\n",
    "for i in range(adj_matrix.shape[0]):\n",
    "    adj_matrix[i, i] = 0"
   ]
  },
  {
   "cell_type": "code",
   "execution_count": 12,
   "id": "30fe1d08-74b3-4733-adcd-f0b8870a7c26",
   "metadata": {},
   "outputs": [
    {
     "data": {
      "text/plain": [
       "array([[ 0., 62., 20., ...,  0.,  0.,  1.],\n",
       "       [59.,  0., 15., ...,  1.,  0.,  2.],\n",
       "       [12., 20.,  0., ...,  0.,  0.,  0.],\n",
       "       ...,\n",
       "       [ 2.,  0.,  0., ...,  0.,  0.,  0.],\n",
       "       [ 0.,  0.,  0., ...,  0.,  0.,  0.],\n",
       "       [ 3.,  2.,  0., ...,  0.,  0.,  0.]])"
      ]
     },
     "execution_count": 12,
     "metadata": {},
     "output_type": "execute_result"
    }
   ],
   "source": [
    "adj_matrix"
   ]
  },
  {
   "cell_type": "code",
   "execution_count": 13,
   "id": "20ec1dab-0808-498a-bc38-86e2d7ebeb7f",
   "metadata": {},
   "outputs": [
    {
     "data": {
      "text/plain": [
       "686.0"
      ]
     },
     "execution_count": 13,
     "metadata": {},
     "output_type": "execute_result"
    }
   ],
   "source": [
    "adj_matrix[:, 2].sum()"
   ]
  },
  {
   "cell_type": "code",
   "execution_count": 14,
   "id": "bd4d1cc3-2d40-44bf-a551-9b5bba9e477e",
   "metadata": {},
   "outputs": [],
   "source": [
    "normalizer = adj_matrix.sum(axis=0)\n",
    "\n",
    "trans_matrix = adj_matrix / normalizer[np.newaxis, :]"
   ]
  },
  {
   "cell_type": "code",
   "execution_count": 15,
   "id": "2e1c1533-0cc7-4ff6-8e47-b43c241105a0",
   "metadata": {},
   "outputs": [
    {
     "data": {
      "text/plain": [
       "<Axes: ylabel='Count'>"
      ]
     },
     "execution_count": 15,
     "metadata": {},
     "output_type": "execute_result"
    },
    {
     "data": {
      "image/png": "[encoded data removed]",
      "text/plain": [
       "<Figure size 640x480 with 1 Axes>"
      ]
     },
     "metadata": {},
     "output_type": "display_data"
    }
   ],
   "source": [
    "sns.histplot(trans_matrix.ravel(), log_scale=True)"
   ]
  },
  {
   "cell_type": "markdown",
   "id": "5b13dcd0-63a7-466f-b362-d4bcbc670963",
   "metadata": {},
   "source": [
    "Most of the probabilities lie around the 1% area, which is pretty rare and sparse"
   ]
  },
  {
   "cell_type": "code",
   "execution_count": 16,
   "id": "15873b62-0e5e-42c0-8bf6-0874124552f7",
   "metadata": {},
   "outputs": [
    {
     "data": {
      "text/html": [
       "<div>\n",
       "<style scoped>\n",
       "    .dataframe tbody tr th:only-of-type {\n",
       "        vertical-align: middle;\n",
       "    }\n",
       "\n",
       "    .dataframe tbody tr th {\n",
       "        vertical-align: top;\n",
       "    }\n",
       "\n",
       "    .dataframe thead th {\n",
       "        text-align: right;\n",
       "    }\n",
       "</style>\n",
       "<table border=\"1\" class=\"dataframe\">\n",
       "  <thead>\n",
       "    <tr style=\"text-align: right;\">\n",
       "      <th></th>\n",
       "      <th>prev_course</th>\n",
       "      <th>next_course</th>\n",
       "      <th>count</th>\n",
       "      <th>proba</th>\n",
       "    </tr>\n",
       "  </thead>\n",
       "  <tbody>\n",
       "    <tr>\n",
       "      <th>2399</th>\n",
       "      <td>neural-networks-deep-learning</td>\n",
       "      <td>deep-neural-network</td>\n",
       "      <td>1304.0</td>\n",
       "      <td>0.566218</td>\n",
       "    </tr>\n",
       "    <tr>\n",
       "      <th>5981</th>\n",
       "      <td>deep-neural-network</td>\n",
       "      <td>machine-learning-projects</td>\n",
       "      <td>1239.0</td>\n",
       "      <td>0.579243</td>\n",
       "    </tr>\n",
       "    <tr>\n",
       "      <th>1092</th>\n",
       "      <td>python</td>\n",
       "      <td>python-data</td>\n",
       "      <td>1097.0</td>\n",
       "      <td>0.352620</td>\n",
       "    </tr>\n",
       "    <tr>\n",
       "      <th>4827</th>\n",
       "      <td>python-data</td>\n",
       "      <td>python-network-data</td>\n",
       "      <td>1077.0</td>\n",
       "      <td>0.484698</td>\n",
       "    </tr>\n",
       "    <tr>\n",
       "      <th>316</th>\n",
       "      <td>technical-support-fundamentals</td>\n",
       "      <td>computer-networking</td>\n",
       "      <td>715.0</td>\n",
       "      <td>0.438920</td>\n",
       "    </tr>\n",
       "    <tr>\n",
       "      <th>10512</th>\n",
       "      <td>python-network-data</td>\n",
       "      <td>python-databases</td>\n",
       "      <td>694.0</td>\n",
       "      <td>0.564228</td>\n",
       "    </tr>\n",
       "    <tr>\n",
       "      <th>2724</th>\n",
       "      <td>what-is-datascience</td>\n",
       "      <td>open-source-tools-for-data-science</td>\n",
       "      <td>658.0</td>\n",
       "      <td>0.567731</td>\n",
       "    </tr>\n",
       "    <tr>\n",
       "      <th>1444</th>\n",
       "      <td>computer-networking</td>\n",
       "      <td>os-power-user</td>\n",
       "      <td>480.0</td>\n",
       "      <td>0.469667</td>\n",
       "    </tr>\n",
       "    <tr>\n",
       "      <th>9350</th>\n",
       "      <td>machine-learning-projects</td>\n",
       "      <td>nlp-sequence-models</td>\n",
       "      <td>465.0</td>\n",
       "      <td>0.356322</td>\n",
       "    </tr>\n",
       "    <tr>\n",
       "      <th>5801</th>\n",
       "      <td>open-source-tools-for-data-science</td>\n",
       "      <td>data-science-methodology</td>\n",
       "      <td>406.0</td>\n",
       "      <td>0.488568</td>\n",
       "    </tr>\n",
       "  </tbody>\n",
       "</table>\n",
       "</div>"
      ],
      "text/plain": [
       "                              prev_course                         next_course   count     proba\n",
       "2399        neural-networks-deep-learning                 deep-neural-network  1304.0  0.566218\n",
       "5981                  deep-neural-network           machine-learning-projects  1239.0  0.579243\n",
       "1092                               python                         python-data  1097.0  0.352620\n",
       "4827                          python-data                 python-network-data  1077.0  0.484698\n",
       "316        technical-support-fundamentals                 computer-networking   715.0  0.438920\n",
       "10512                 python-network-data                    python-databases   694.0  0.564228\n",
       "2724                  what-is-datascience  open-source-tools-for-data-science   658.0  0.567731\n",
       "1444                  computer-networking                       os-power-user   480.0  0.469667\n",
       "9350            machine-learning-projects                 nlp-sequence-models   465.0  0.356322\n",
       "5801   open-source-tools-for-data-science            data-science-methodology   406.0  0.488568"
      ]
     },
     "execution_count": 16,
     "metadata": {},
     "output_type": "execute_result"
    }
   ],
   "source": [
    "course_index = dataset.course_set.index\n",
    "\n",
    "course_transitions = [\n",
    "    (course_index[i], course_index[j], adj_matrix[i, j], trans_matrix[i, j])\n",
    "    for i in range(adj_matrix.shape[0])\n",
    "    for j in range(adj_matrix.shape[1])\n",
    "    if adj_matrix[i, j] > 0\n",
    "]\n",
    "\n",
    "df_transitions = pd.DataFrame(course_transitions, columns=['prev_course', 'next_course', 'count', 'proba']).sort_values(by='count', ascending=False)\n",
    "df_transitions.head(10)"
   ]
  },
  {
   "cell_type": "code",
   "execution_count": 17,
   "id": "b6915d29-8e30-4464-b071-69459a600ccb",
   "metadata": {},
   "outputs": [
    {
     "data": {
      "text/plain": [
       "(36994, 4)"
      ]
     },
     "execution_count": 17,
     "metadata": {},
     "output_type": "execute_result"
    }
   ],
   "source": [
    "df_transitions.shape"
   ]
  },
  {
   "cell_type": "code",
   "execution_count": 18,
   "id": "eff333d6-8e56-4b9a-bea1-32f5934b8d5c",
   "metadata": {},
   "outputs": [
    {
     "data": {
      "text/plain": [
       "<Axes: xlabel='count', ylabel='Count'>"
      ]
     },
     "execution_count": 18,
     "metadata": {},
     "output_type": "execute_result"
    },
    {
     "data": {
      "image/png": "[encoded data removed]",
      "text/plain": [
       "<Figure size 640x480 with 1 Axes>"
      ]
     },
     "metadata": {},
     "output_type": "display_data"
    }
   ],
   "source": [
    "sns.histplot(df_transitions['count'], log_scale=True)"
   ]
  },
  {
   "cell_type": "markdown",
   "id": "85995d34-5a37-44a1-a4d8-25bc290d303c",
   "metadata": {},
   "source": [
    "The long-tail is so large, even the log plot has a long tail"
   ]
  },
  {
   "cell_type": "code",
   "execution_count": 19,
   "id": "2e7f6501-42e9-421a-b9a7-631def5aeb46",
   "metadata": {
    "scrolled": true
   },
   "outputs": [
    {
     "data": {
      "text/html": [
       "<div>\n",
       "<style scoped>\n",
       "    .dataframe tbody tr th:only-of-type {\n",
       "        vertical-align: middle;\n",
       "    }\n",
       "\n",
       "    .dataframe tbody tr th {\n",
       "        vertical-align: top;\n",
       "    }\n",
       "\n",
       "    .dataframe thead th {\n",
       "        text-align: right;\n",
       "    }\n",
       "</style>\n",
       "<table border=\"1\" class=\"dataframe\">\n",
       "  <thead>\n",
       "    <tr style=\"text-align: right;\">\n",
       "      <th></th>\n",
       "      <th>prev_course</th>\n",
       "      <th>next_course</th>\n",
       "      <th>count</th>\n",
       "      <th>proba</th>\n",
       "    </tr>\n",
       "  </thead>\n",
       "  <tbody>\n",
       "    <tr>\n",
       "      <th>2399</th>\n",
       "      <td>neural-networks-deep-learning</td>\n",
       "      <td>deep-neural-network</td>\n",
       "      <td>1304.0</td>\n",
       "      <td>0.566218</td>\n",
       "    </tr>\n",
       "    <tr>\n",
       "      <th>5981</th>\n",
       "      <td>deep-neural-network</td>\n",
       "      <td>machine-learning-projects</td>\n",
       "      <td>1239.0</td>\n",
       "      <td>0.579243</td>\n",
       "    </tr>\n",
       "    <tr>\n",
       "      <th>1092</th>\n",
       "      <td>python</td>\n",
       "      <td>python-data</td>\n",
       "      <td>1097.0</td>\n",
       "      <td>0.352620</td>\n",
       "    </tr>\n",
       "    <tr>\n",
       "      <th>4827</th>\n",
       "      <td>python-data</td>\n",
       "      <td>python-network-data</td>\n",
       "      <td>1077.0</td>\n",
       "      <td>0.484698</td>\n",
       "    </tr>\n",
       "    <tr>\n",
       "      <th>316</th>\n",
       "      <td>technical-support-fundamentals</td>\n",
       "      <td>computer-networking</td>\n",
       "      <td>715.0</td>\n",
       "      <td>0.438920</td>\n",
       "    </tr>\n",
       "    <tr>\n",
       "      <th>10512</th>\n",
       "      <td>python-network-data</td>\n",
       "      <td>python-databases</td>\n",
       "      <td>694.0</td>\n",
       "      <td>0.564228</td>\n",
       "    </tr>\n",
       "    <tr>\n",
       "      <th>2724</th>\n",
       "      <td>what-is-datascience</td>\n",
       "      <td>open-source-tools-for-data-science</td>\n",
       "      <td>658.0</td>\n",
       "      <td>0.567731</td>\n",
       "    </tr>\n",
       "    <tr>\n",
       "      <th>1444</th>\n",
       "      <td>computer-networking</td>\n",
       "      <td>os-power-user</td>\n",
       "      <td>480.0</td>\n",
       "      <td>0.469667</td>\n",
       "    </tr>\n",
       "    <tr>\n",
       "      <th>9350</th>\n",
       "      <td>machine-learning-projects</td>\n",
       "      <td>nlp-sequence-models</td>\n",
       "      <td>465.0</td>\n",
       "      <td>0.356322</td>\n",
       "    </tr>\n",
       "    <tr>\n",
       "      <th>5801</th>\n",
       "      <td>open-source-tools-for-data-science</td>\n",
       "      <td>data-science-methodology</td>\n",
       "      <td>406.0</td>\n",
       "      <td>0.488568</td>\n",
       "    </tr>\n",
       "    <tr>\n",
       "      <th>5621</th>\n",
       "      <td>os-power-user</td>\n",
       "      <td>system-administration-it-infrastructure-services</td>\n",
       "      <td>368.0</td>\n",
       "      <td>0.439141</td>\n",
       "    </tr>\n",
       "    <tr>\n",
       "      <th>9818</th>\n",
       "      <td>data-scientists-tools</td>\n",
       "      <td>r-programming</td>\n",
       "      <td>367.0</td>\n",
       "      <td>0.348197</td>\n",
       "    </tr>\n",
       "    <tr>\n",
       "      <th>2423</th>\n",
       "      <td>neural-networks-deep-learning</td>\n",
       "      <td>machine-learning-projects</td>\n",
       "      <td>347.0</td>\n",
       "      <td>0.162225</td>\n",
       "    </tr>\n",
       "    <tr>\n",
       "      <th>3768</th>\n",
       "      <td>excel-essentials</td>\n",
       "      <td>excel-intermediate-1</td>\n",
       "      <td>331.0</td>\n",
       "      <td>0.458449</td>\n",
       "    </tr>\n",
       "    <tr>\n",
       "      <th>4587</th>\n",
       "      <td>gcp-fundamentals</td>\n",
       "      <td>gcp-infrastructure-foundation</td>\n",
       "      <td>300.0</td>\n",
       "      <td>0.545455</td>\n",
       "    </tr>\n",
       "    <tr>\n",
       "      <th>8540</th>\n",
       "      <td>system-administration-it-infrastructure-services</td>\n",
       "      <td>it-security</td>\n",
       "      <td>294.0</td>\n",
       "      <td>0.435556</td>\n",
       "    </tr>\n",
       "    <tr>\n",
       "      <th>20208</th>\n",
       "      <td>python-databases</td>\n",
       "      <td>python-data-visualization</td>\n",
       "      <td>246.0</td>\n",
       "      <td>0.381395</td>\n",
       "    </tr>\n",
       "    <tr>\n",
       "      <th>11332</th>\n",
       "      <td>data-science-methodology</td>\n",
       "      <td>python-for-applied-data-science-ai</td>\n",
       "      <td>227.0</td>\n",
       "      <td>0.204505</td>\n",
       "    </tr>\n",
       "    <tr>\n",
       "      <th>5460</th>\n",
       "      <td>introduction-tensorflow</td>\n",
       "      <td>convolutional-neural-networks-tensorflow</td>\n",
       "      <td>216.0</td>\n",
       "      <td>0.545455</td>\n",
       "    </tr>\n",
       "    <tr>\n",
       "      <th>9311</th>\n",
       "      <td>machine-learning-projects</td>\n",
       "      <td>convolutional-neural-networks</td>\n",
       "      <td>213.0</td>\n",
       "      <td>0.360406</td>\n",
       "    </tr>\n",
       "    <tr>\n",
       "      <th>14339</th>\n",
       "      <td>data-analysis-with-python</td>\n",
       "      <td>python-for-data-visualization</td>\n",
       "      <td>210.0</td>\n",
       "      <td>0.382514</td>\n",
       "    </tr>\n",
       "    <tr>\n",
       "      <th>13833</th>\n",
       "      <td>excel-intermediate-1</td>\n",
       "      <td>excel-intermediate-2</td>\n",
       "      <td>210.0</td>\n",
       "      <td>0.484988</td>\n",
       "    </tr>\n",
       "    <tr>\n",
       "      <th>7776</th>\n",
       "      <td>python-data-analysis</td>\n",
       "      <td>python-plotting</td>\n",
       "      <td>204.0</td>\n",
       "      <td>0.554348</td>\n",
       "    </tr>\n",
       "    <tr>\n",
       "      <th>1130</th>\n",
       "      <td>python</td>\n",
       "      <td>python-network-data</td>\n",
       "      <td>202.0</td>\n",
       "      <td>0.090909</td>\n",
       "    </tr>\n",
       "    <tr>\n",
       "      <th>15455</th>\n",
       "      <td>gcp-infrastructure-foundation</td>\n",
       "      <td>gcp-infrastructure-core-services</td>\n",
       "      <td>195.0</td>\n",
       "      <td>0.509138</td>\n",
       "    </tr>\n",
       "    <tr>\n",
       "      <th>6732</th>\n",
       "      <td>project-planning</td>\n",
       "      <td>schedule-projects</td>\n",
       "      <td>188.0</td>\n",
       "      <td>0.608414</td>\n",
       "    </tr>\n",
       "    <tr>\n",
       "      <th>335</th>\n",
       "      <td>technical-support-fundamentals</td>\n",
       "      <td>os-power-user</td>\n",
       "      <td>172.0</td>\n",
       "      <td>0.168297</td>\n",
       "    </tr>\n",
       "    <tr>\n",
       "      <th>21708</th>\n",
       "      <td>gcp-infrastructure-core-services</td>\n",
       "      <td>gcp-infrastructure-scaling-automation</td>\n",
       "      <td>171.0</td>\n",
       "      <td>0.473684</td>\n",
       "    </tr>\n",
       "    <tr>\n",
       "      <th>7240</th>\n",
       "      <td>python-for-applied-data-science-ai</td>\n",
       "      <td>sql-data-science</td>\n",
       "      <td>166.0</td>\n",
       "      <td>0.281356</td>\n",
       "    </tr>\n",
       "    <tr>\n",
       "      <th>6026</th>\n",
       "      <td>deep-neural-network</td>\n",
       "      <td>nlp-sequence-models</td>\n",
       "      <td>164.0</td>\n",
       "      <td>0.125670</td>\n",
       "    </tr>\n",
       "    <tr>\n",
       "      <th>5783</th>\n",
       "      <td>open-source-tools-for-data-science</td>\n",
       "      <td>python-for-applied-data-science-ai</td>\n",
       "      <td>162.0</td>\n",
       "      <td>0.145946</td>\n",
       "    </tr>\n",
       "    <tr>\n",
       "      <th>10302</th>\n",
       "      <td>convolutional-neural-networks</td>\n",
       "      <td>nlp-sequence-models</td>\n",
       "      <td>158.0</td>\n",
       "      <td>0.121073</td>\n",
       "    </tr>\n",
       "    <tr>\n",
       "      <th>24953</th>\n",
       "      <td>schedule-projects</td>\n",
       "      <td>project-risk-management</td>\n",
       "      <td>157.0</td>\n",
       "      <td>0.503205</td>\n",
       "    </tr>\n",
       "    <tr>\n",
       "      <th>7498</th>\n",
       "      <td>linear-algebra-machine-learning</td>\n",
       "      <td>multivariate-calculus-machine-learning</td>\n",
       "      <td>157.0</td>\n",
       "      <td>0.495268</td>\n",
       "    </tr>\n",
       "    <tr>\n",
       "      <th>13165</th>\n",
       "      <td>sql-data-science</td>\n",
       "      <td>data-analysis-with-python</td>\n",
       "      <td>154.0</td>\n",
       "      <td>0.210383</td>\n",
       "    </tr>\n",
       "    <tr>\n",
       "      <th>1462</th>\n",
       "      <td>computer-networking</td>\n",
       "      <td>system-administration-it-infrastructure-services</td>\n",
       "      <td>146.0</td>\n",
       "      <td>0.174224</td>\n",
       "    </tr>\n",
       "    <tr>\n",
       "      <th>4904</th>\n",
       "      <td>python-data</td>\n",
       "      <td>python-databases</td>\n",
       "      <td>140.0</td>\n",
       "      <td>0.113821</td>\n",
       "    </tr>\n",
       "    <tr>\n",
       "      <th>10588</th>\n",
       "      <td>python-network-data</td>\n",
       "      <td>python-data-visualization</td>\n",
       "      <td>138.0</td>\n",
       "      <td>0.213953</td>\n",
       "    </tr>\n",
       "    <tr>\n",
       "      <th>7246</th>\n",
       "      <td>python-for-applied-data-science-ai</td>\n",
       "      <td>data-analysis-with-python</td>\n",
       "      <td>136.0</td>\n",
       "      <td>0.185792</td>\n",
       "    </tr>\n",
       "    <tr>\n",
       "      <th>23617</th>\n",
       "      <td>python-for-data-visualization</td>\n",
       "      <td>machine-learning-with-python</td>\n",
       "      <td>131.0</td>\n",
       "      <td>0.215107</td>\n",
       "    </tr>\n",
       "    <tr>\n",
       "      <th>1424</th>\n",
       "      <td>computer-networking</td>\n",
       "      <td>technical-support-fundamentals</td>\n",
       "      <td>128.0</td>\n",
       "      <td>0.043185</td>\n",
       "    </tr>\n",
       "    <tr>\n",
       "      <th>10053</th>\n",
       "      <td>convolutional-neural-networks-tensorflow</td>\n",
       "      <td>natural-language-processing-tensorflow</td>\n",
       "      <td>121.0</td>\n",
       "      <td>0.374613</td>\n",
       "    </tr>\n",
       "    <tr>\n",
       "      <th>1081</th>\n",
       "      <td>python</td>\n",
       "      <td>neural-networks-deep-learning</td>\n",
       "      <td>119.0</td>\n",
       "      <td>0.038914</td>\n",
       "    </tr>\n",
       "    <tr>\n",
       "      <th>4773</th>\n",
       "      <td>python-data</td>\n",
       "      <td>python</td>\n",
       "      <td>119.0</td>\n",
       "      <td>0.040000</td>\n",
       "    </tr>\n",
       "    <tr>\n",
       "      <th>25770</th>\n",
       "      <td>gcp-infrastructure-scaling-automation</td>\n",
       "      <td>cloud-infrastructure-design-process</td>\n",
       "      <td>118.0</td>\n",
       "      <td>0.429091</td>\n",
       "    </tr>\n",
       "    <tr>\n",
       "      <th>32468</th>\n",
       "      <td>python-plotting</td>\n",
       "      <td>python-machine-learning</td>\n",
       "      <td>117.0</td>\n",
       "      <td>0.242236</td>\n",
       "    </tr>\n",
       "    <tr>\n",
       "      <th>4142</th>\n",
       "      <td>learning-how-to-learn</td>\n",
       "      <td>python</td>\n",
       "      <td>115.0</td>\n",
       "      <td>0.038655</td>\n",
       "    </tr>\n",
       "    <tr>\n",
       "      <th>1074</th>\n",
       "      <td>python</td>\n",
       "      <td>technical-support-fundamentals</td>\n",
       "      <td>115.0</td>\n",
       "      <td>0.038799</td>\n",
       "    </tr>\n",
       "    <tr>\n",
       "      <th>4147</th>\n",
       "      <td>learning-how-to-learn</td>\n",
       "      <td>neural-networks-deep-learning</td>\n",
       "      <td>115.0</td>\n",
       "      <td>0.037606</td>\n",
       "    </tr>\n",
       "    <tr>\n",
       "      <th>2760</th>\n",
       "      <td>what-is-datascience</td>\n",
       "      <td>data-science-methodology</td>\n",
       "      <td>113.0</td>\n",
       "      <td>0.135981</td>\n",
       "    </tr>\n",
       "  </tbody>\n",
       "</table>\n",
       "</div>"
      ],
      "text/plain": [
       "                                            prev_course                                       next_course   count     proba\n",
       "2399                      neural-networks-deep-learning                               deep-neural-network  1304.0  0.566218\n",
       "5981                                deep-neural-network                         machine-learning-projects  1239.0  0.579243\n",
       "1092                                             python                                       python-data  1097.0  0.352620\n",
       "4827                                        python-data                               python-network-data  1077.0  0.484698\n",
       "316                      technical-support-fundamentals                               computer-networking   715.0  0.438920\n",
       "10512                               python-network-data                                  python-databases   694.0  0.564228\n",
       "2724                                what-is-datascience                open-source-tools-for-data-science   658.0  0.567731\n",
       "1444                                computer-networking                                     os-power-user   480.0  0.469667\n",
       "9350                          machine-learning-projects                               nlp-sequence-models   465.0  0.356322\n",
       "5801                 open-source-tools-for-data-science                          data-science-methodology   406.0  0.488568\n",
       "5621                                      os-power-user  system-administration-it-infrastructure-services   368.0  0.439141\n",
       "9818                              data-scientists-tools                                     r-programming   367.0  0.348197\n",
       "2423                      neural-networks-deep-learning                         machine-learning-projects   347.0  0.162225\n",
       "3768                                   excel-essentials                              excel-intermediate-1   331.0  0.458449\n",
       "4587                                   gcp-fundamentals                     gcp-infrastructure-foundation   300.0  0.545455\n",
       "8540   system-administration-it-infrastructure-services                                       it-security   294.0  0.435556\n",
       "20208                                  python-databases                         python-data-visualization   246.0  0.381395\n",
       "11332                          data-science-methodology                python-for-applied-data-science-ai   227.0  0.204505\n",
       "5460                            introduction-tensorflow          convolutional-neural-networks-tensorflow   216.0  0.545455\n",
       "9311                          machine-learning-projects                     convolutional-neural-networks   213.0  0.360406\n",
       "14339                         data-analysis-with-python                     python-for-data-visualization   210.0  0.382514\n",
       "13833                              excel-intermediate-1                              excel-intermediate-2   210.0  0.484988\n",
       "7776                               python-data-analysis                                   python-plotting   204.0  0.554348\n",
       "1130                                             python                               python-network-data   202.0  0.090909\n",
       "15455                     gcp-infrastructure-foundation                  gcp-infrastructure-core-services   195.0  0.509138\n",
       "6732                                   project-planning                                 schedule-projects   188.0  0.608414\n",
       "335                      technical-support-fundamentals                                     os-power-user   172.0  0.168297\n",
       "21708                  gcp-infrastructure-core-services             gcp-infrastructure-scaling-automation   171.0  0.473684\n",
       "7240                 python-for-applied-data-science-ai                                  sql-data-science   166.0  0.281356\n",
       "6026                                deep-neural-network                               nlp-sequence-models   164.0  0.125670\n",
       "5783                 open-source-tools-for-data-science                python-for-applied-data-science-ai   162.0  0.145946\n",
       "10302                     convolutional-neural-networks                               nlp-sequence-models   158.0  0.121073\n",
       "24953                                 schedule-projects                           project-risk-management   157.0  0.503205\n",
       "7498                    linear-algebra-machine-learning            multivariate-calculus-machine-learning   157.0  0.495268\n",
       "13165                                  sql-data-science                         data-analysis-with-python   154.0  0.210383\n",
       "1462                                computer-networking  system-administration-it-infrastructure-services   146.0  0.174224\n",
       "4904                                        python-data                                  python-databases   140.0  0.113821\n",
       "10588                               python-network-data                         python-data-visualization   138.0  0.213953\n",
       "7246                 python-for-applied-data-science-ai                         data-analysis-with-python   136.0  0.185792\n",
       "23617                     python-for-data-visualization                      machine-learning-with-python   131.0  0.215107\n",
       "1424                                computer-networking                    technical-support-fundamentals   128.0  0.043185\n",
       "10053          convolutional-neural-networks-tensorflow            natural-language-processing-tensorflow   121.0  0.374613\n",
       "1081                                             python                     neural-networks-deep-learning   119.0  0.038914\n",
       "4773                                        python-data                                            python   119.0  0.040000\n",
       "25770             gcp-infrastructure-scaling-automation               cloud-infrastructure-design-process   118.0  0.429091\n",
       "32468                                   python-plotting                           python-machine-learning   117.0  0.242236\n",
       "4142                              learning-how-to-learn                                            python   115.0  0.038655\n",
       "1074                                             python                    technical-support-fundamentals   115.0  0.038799\n",
       "4147                              learning-how-to-learn                     neural-networks-deep-learning   115.0  0.037606\n",
       "2760                                what-is-datascience                          data-science-methodology   113.0  0.135981"
      ]
     },
     "execution_count": 19,
     "metadata": {},
     "output_type": "execute_result"
    }
   ],
   "source": [
    "df_transitions.head(50)"
   ]
  },
  {
   "cell_type": "code",
   "execution_count": 21,
   "id": "fba07fbe-4e96-4967-9cc9-fae99aa41fa7",
   "metadata": {
    "scrolled": true
   },
   "outputs": [
    {
     "data": {
      "text/html": [
       "<div>\n",
       "<style scoped>\n",
       "    .dataframe tbody tr th:only-of-type {\n",
       "        vertical-align: middle;\n",
       "    }\n",
       "\n",
       "    .dataframe tbody tr th {\n",
       "        vertical-align: top;\n",
       "    }\n",
       "\n",
       "    .dataframe thead th {\n",
       "        text-align: right;\n",
       "    }\n",
       "</style>\n",
       "<table border=\"1\" class=\"dataframe\">\n",
       "  <thead>\n",
       "    <tr style=\"text-align: right;\">\n",
       "      <th></th>\n",
       "      <th>prev_course</th>\n",
       "      <th>next_course</th>\n",
       "      <th>count</th>\n",
       "      <th>proba</th>\n",
       "    </tr>\n",
       "  </thead>\n",
       "  <tbody>\n",
       "    <tr>\n",
       "      <th>10230</th>\n",
       "      <td>cancer</td>\n",
       "      <td>epigenetics</td>\n",
       "      <td>1.0</td>\n",
       "      <td>1.000000</td>\n",
       "    </tr>\n",
       "    <tr>\n",
       "      <th>3871</th>\n",
       "      <td>excel-essentials</td>\n",
       "      <td>introduction-to-data-analytics</td>\n",
       "      <td>1.0</td>\n",
       "      <td>1.000000</td>\n",
       "    </tr>\n",
       "    <tr>\n",
       "      <th>8874</th>\n",
       "      <td>science-exercise</td>\n",
       "      <td>remote-team-management</td>\n",
       "      <td>1.0</td>\n",
       "      <td>1.000000</td>\n",
       "    </tr>\n",
       "    <tr>\n",
       "      <th>34453</th>\n",
       "      <td>nanotechnology</td>\n",
       "      <td>building-modern-python-applications-on-aws</td>\n",
       "      <td>1.0</td>\n",
       "      <td>1.000000</td>\n",
       "    </tr>\n",
       "    <tr>\n",
       "      <th>7379</th>\n",
       "      <td>classification-vector-spaces-in-nlp</td>\n",
       "      <td>probabilistic-models-in-nlp</td>\n",
       "      <td>30.0</td>\n",
       "      <td>0.697674</td>\n",
       "    </tr>\n",
       "    <tr>\n",
       "      <th>6732</th>\n",
       "      <td>project-planning</td>\n",
       "      <td>schedule-projects</td>\n",
       "      <td>188.0</td>\n",
       "      <td>0.608414</td>\n",
       "    </tr>\n",
       "    <tr>\n",
       "      <th>5981</th>\n",
       "      <td>deep-neural-network</td>\n",
       "      <td>machine-learning-projects</td>\n",
       "      <td>1239.0</td>\n",
       "      <td>0.579243</td>\n",
       "    </tr>\n",
       "    <tr>\n",
       "      <th>2724</th>\n",
       "      <td>what-is-datascience</td>\n",
       "      <td>open-source-tools-for-data-science</td>\n",
       "      <td>658.0</td>\n",
       "      <td>0.567731</td>\n",
       "    </tr>\n",
       "    <tr>\n",
       "      <th>2399</th>\n",
       "      <td>neural-networks-deep-learning</td>\n",
       "      <td>deep-neural-network</td>\n",
       "      <td>1304.0</td>\n",
       "      <td>0.566218</td>\n",
       "    </tr>\n",
       "    <tr>\n",
       "      <th>17602</th>\n",
       "      <td>fundamentals-of-reinforcement-learning</td>\n",
       "      <td>sample-based-learning-methods</td>\n",
       "      <td>39.0</td>\n",
       "      <td>0.565217</td>\n",
       "    </tr>\n",
       "    <tr>\n",
       "      <th>10512</th>\n",
       "      <td>python-network-data</td>\n",
       "      <td>python-databases</td>\n",
       "      <td>694.0</td>\n",
       "      <td>0.564228</td>\n",
       "    </tr>\n",
       "    <tr>\n",
       "      <th>12922</th>\n",
       "      <td>cs-fundamentals-1</td>\n",
       "      <td>cs-fundamentals-2</td>\n",
       "      <td>20.0</td>\n",
       "      <td>0.555556</td>\n",
       "    </tr>\n",
       "    <tr>\n",
       "      <th>7776</th>\n",
       "      <td>python-data-analysis</td>\n",
       "      <td>python-plotting</td>\n",
       "      <td>204.0</td>\n",
       "      <td>0.554348</td>\n",
       "    </tr>\n",
       "    <tr>\n",
       "      <th>4587</th>\n",
       "      <td>gcp-fundamentals</td>\n",
       "      <td>gcp-infrastructure-foundation</td>\n",
       "      <td>300.0</td>\n",
       "      <td>0.545455</td>\n",
       "    </tr>\n",
       "    <tr>\n",
       "      <th>5460</th>\n",
       "      <td>introduction-tensorflow</td>\n",
       "      <td>convolutional-neural-networks-tensorflow</td>\n",
       "      <td>216.0</td>\n",
       "      <td>0.545455</td>\n",
       "    </tr>\n",
       "    <tr>\n",
       "      <th>21244</th>\n",
       "      <td>ai-for-medical-diagnosis</td>\n",
       "      <td>ai-for-medical-prognosis</td>\n",
       "      <td>21.0</td>\n",
       "      <td>0.525000</td>\n",
       "    </tr>\n",
       "    <tr>\n",
       "      <th>12319</th>\n",
       "      <td>python-basics</td>\n",
       "      <td>python-functions-files-dictionaries</td>\n",
       "      <td>105.0</td>\n",
       "      <td>0.519802</td>\n",
       "    </tr>\n",
       "    <tr>\n",
       "      <th>15455</th>\n",
       "      <td>gcp-infrastructure-foundation</td>\n",
       "      <td>gcp-infrastructure-core-services</td>\n",
       "      <td>195.0</td>\n",
       "      <td>0.509138</td>\n",
       "    </tr>\n",
       "    <tr>\n",
       "      <th>24953</th>\n",
       "      <td>schedule-projects</td>\n",
       "      <td>project-risk-management</td>\n",
       "      <td>157.0</td>\n",
       "      <td>0.503205</td>\n",
       "    </tr>\n",
       "    <tr>\n",
       "      <th>34746</th>\n",
       "      <td>classical-sociological-theory</td>\n",
       "      <td>healthcarejobs</td>\n",
       "      <td>1.0</td>\n",
       "      <td>0.500000</td>\n",
       "    </tr>\n",
       "    <tr>\n",
       "      <th>11650</th>\n",
       "      <td>marketing-digital</td>\n",
       "      <td>the-business-of-product-management-one</td>\n",
       "      <td>1.0</td>\n",
       "      <td>0.500000</td>\n",
       "    </tr>\n",
       "    <tr>\n",
       "      <th>18936</th>\n",
       "      <td>clinical-research</td>\n",
       "      <td>healthcarejobs</td>\n",
       "      <td>1.0</td>\n",
       "      <td>0.500000</td>\n",
       "    </tr>\n",
       "    <tr>\n",
       "      <th>14139</th>\n",
       "      <td>build-a-computer</td>\n",
       "      <td>nand2tetris2</td>\n",
       "      <td>17.0</td>\n",
       "      <td>0.500000</td>\n",
       "    </tr>\n",
       "    <tr>\n",
       "      <th>36036</th>\n",
       "      <td>iiot-google-cloud-platform</td>\n",
       "      <td>the-business-of-product-management-one</td>\n",
       "      <td>1.0</td>\n",
       "      <td>0.500000</td>\n",
       "    </tr>\n",
       "    <tr>\n",
       "      <th>7498</th>\n",
       "      <td>linear-algebra-machine-learning</td>\n",
       "      <td>multivariate-calculus-machine-learning</td>\n",
       "      <td>157.0</td>\n",
       "      <td>0.495268</td>\n",
       "    </tr>\n",
       "    <tr>\n",
       "      <th>24496</th>\n",
       "      <td>introduction-git-github</td>\n",
       "      <td>troubleshooting-debugging-techniques</td>\n",
       "      <td>49.0</td>\n",
       "      <td>0.490000</td>\n",
       "    </tr>\n",
       "    <tr>\n",
       "      <th>5801</th>\n",
       "      <td>open-source-tools-for-data-science</td>\n",
       "      <td>data-science-methodology</td>\n",
       "      <td>406.0</td>\n",
       "      <td>0.488568</td>\n",
       "    </tr>\n",
       "    <tr>\n",
       "      <th>17501</th>\n",
       "      <td>grammar-punctuation</td>\n",
       "      <td>getting-started-with-essay-writing</td>\n",
       "      <td>91.0</td>\n",
       "      <td>0.486631</td>\n",
       "    </tr>\n",
       "    <tr>\n",
       "      <th>16535</th>\n",
       "      <td>search-engine-optimization</td>\n",
       "      <td>seo-fundamentals</td>\n",
       "      <td>67.0</td>\n",
       "      <td>0.485507</td>\n",
       "    </tr>\n",
       "    <tr>\n",
       "      <th>13833</th>\n",
       "      <td>excel-intermediate-1</td>\n",
       "      <td>excel-intermediate-2</td>\n",
       "      <td>210.0</td>\n",
       "      <td>0.484988</td>\n",
       "    </tr>\n",
       "    <tr>\n",
       "      <th>4827</th>\n",
       "      <td>python-data</td>\n",
       "      <td>python-network-data</td>\n",
       "      <td>1077.0</td>\n",
       "      <td>0.484698</td>\n",
       "    </tr>\n",
       "    <tr>\n",
       "      <th>7032</th>\n",
       "      <td>fundamentals-of-graphic-design</td>\n",
       "      <td>typography</td>\n",
       "      <td>101.0</td>\n",
       "      <td>0.478673</td>\n",
       "    </tr>\n",
       "    <tr>\n",
       "      <th>21708</th>\n",
       "      <td>gcp-infrastructure-core-services</td>\n",
       "      <td>gcp-infrastructure-scaling-automation</td>\n",
       "      <td>171.0</td>\n",
       "      <td>0.473684</td>\n",
       "    </tr>\n",
       "    <tr>\n",
       "      <th>1444</th>\n",
       "      <td>computer-networking</td>\n",
       "      <td>os-power-user</td>\n",
       "      <td>480.0</td>\n",
       "      <td>0.469667</td>\n",
       "    </tr>\n",
       "    <tr>\n",
       "      <th>3768</th>\n",
       "      <td>excel-essentials</td>\n",
       "      <td>excel-intermediate-1</td>\n",
       "      <td>331.0</td>\n",
       "      <td>0.458449</td>\n",
       "    </tr>\n",
       "    <tr>\n",
       "      <th>21580</th>\n",
       "      <td>modern-world</td>\n",
       "      <td>modern-world-2</td>\n",
       "      <td>38.0</td>\n",
       "      <td>0.447059</td>\n",
       "    </tr>\n",
       "    <tr>\n",
       "      <th>29341</th>\n",
       "      <td>cybersecurity-roles-processes-operating-system-security</td>\n",
       "      <td>cybersecurity-compliance-framework-system-administration</td>\n",
       "      <td>34.0</td>\n",
       "      <td>0.441558</td>\n",
       "    </tr>\n",
       "    <tr>\n",
       "      <th>5621</th>\n",
       "      <td>os-power-user</td>\n",
       "      <td>system-administration-it-infrastructure-services</td>\n",
       "      <td>368.0</td>\n",
       "      <td>0.439141</td>\n",
       "    </tr>\n",
       "    <tr>\n",
       "      <th>316</th>\n",
       "      <td>technical-support-fundamentals</td>\n",
       "      <td>computer-networking</td>\n",
       "      <td>715.0</td>\n",
       "      <td>0.438920</td>\n",
       "    </tr>\n",
       "    <tr>\n",
       "      <th>8540</th>\n",
       "      <td>system-administration-it-infrastructure-services</td>\n",
       "      <td>it-security</td>\n",
       "      <td>294.0</td>\n",
       "      <td>0.435556</td>\n",
       "    </tr>\n",
       "    <tr>\n",
       "      <th>9696</th>\n",
       "      <td>introduction-cybersecurity-cyber-attacks</td>\n",
       "      <td>cybersecurity-roles-processes-operating-system-security</td>\n",
       "      <td>61.0</td>\n",
       "      <td>0.432624</td>\n",
       "    </tr>\n",
       "    <tr>\n",
       "      <th>25770</th>\n",
       "      <td>gcp-infrastructure-scaling-automation</td>\n",
       "      <td>cloud-infrastructure-design-process</td>\n",
       "      <td>118.0</td>\n",
       "      <td>0.429091</td>\n",
       "    </tr>\n",
       "    <tr>\n",
       "      <th>24419</th>\n",
       "      <td>multivariate-calculus-machine-learning</td>\n",
       "      <td>pca-machine-learning</td>\n",
       "      <td>110.0</td>\n",
       "      <td>0.426357</td>\n",
       "    </tr>\n",
       "    <tr>\n",
       "      <th>2002</th>\n",
       "      <td>python-crash-course</td>\n",
       "      <td>python-operating-system</td>\n",
       "      <td>92.0</td>\n",
       "      <td>0.425926</td>\n",
       "    </tr>\n",
       "    <tr>\n",
       "      <th>26582</th>\n",
       "      <td>introduction-to-software-product-management</td>\n",
       "      <td>software-processes-and-agile-practices</td>\n",
       "      <td>80.0</td>\n",
       "      <td>0.425532</td>\n",
       "    </tr>\n",
       "    <tr>\n",
       "      <th>13271</th>\n",
       "      <td>natural-language-processing-tensorflow</td>\n",
       "      <td>tensorflow-sequences-time-series-and-prediction</td>\n",
       "      <td>105.0</td>\n",
       "      <td>0.421687</td>\n",
       "    </tr>\n",
       "    <tr>\n",
       "      <th>6325</th>\n",
       "      <td>visual-elements-user-interface-design</td>\n",
       "      <td>ux-design-fundamentals</td>\n",
       "      <td>32.0</td>\n",
       "      <td>0.415584</td>\n",
       "    </tr>\n",
       "    <tr>\n",
       "      <th>203</th>\n",
       "      <td>the-science-of-well-being</td>\n",
       "      <td>health-behavior-change</td>\n",
       "      <td>2.0</td>\n",
       "      <td>0.400000</td>\n",
       "    </tr>\n",
       "    <tr>\n",
       "      <th>20864</th>\n",
       "      <td>managing-human-resources</td>\n",
       "      <td>recruiting-hiring-onboarding-employees</td>\n",
       "      <td>21.0</td>\n",
       "      <td>0.396226</td>\n",
       "    </tr>\n",
       "    <tr>\n",
       "      <th>36590</th>\n",
       "      <td>uva-darden-agile-team-management</td>\n",
       "      <td>uva-darden-agile-testing</td>\n",
       "      <td>17.0</td>\n",
       "      <td>0.395349</td>\n",
       "    </tr>\n",
       "  </tbody>\n",
       "</table>\n",
       "</div>"
      ],
      "text/plain": [
       "                                                   prev_course                                               next_course   count     proba\n",
       "10230                                                   cancer                                               epigenetics     1.0  1.000000\n",
       "3871                                          excel-essentials                            introduction-to-data-analytics     1.0  1.000000\n",
       "8874                                          science-exercise                                    remote-team-management     1.0  1.000000\n",
       "34453                                           nanotechnology                building-modern-python-applications-on-aws     1.0  1.000000\n",
       "7379                       classification-vector-spaces-in-nlp                               probabilistic-models-in-nlp    30.0  0.697674\n",
       "6732                                          project-planning                                         schedule-projects   188.0  0.608414\n",
       "5981                                       deep-neural-network                                 machine-learning-projects  1239.0  0.579243\n",
       "2724                                       what-is-datascience                        open-source-tools-for-data-science   658.0  0.567731\n",
       "2399                             neural-networks-deep-learning                                       deep-neural-network  1304.0  0.566218\n",
       "17602                   fundamentals-of-reinforcement-learning                             sample-based-learning-methods    39.0  0.565217\n",
       "10512                                      python-network-data                                          python-databases   694.0  0.564228\n",
       "12922                                        cs-fundamentals-1                                         cs-fundamentals-2    20.0  0.555556\n",
       "7776                                      python-data-analysis                                           python-plotting   204.0  0.554348\n",
       "4587                                          gcp-fundamentals                             gcp-infrastructure-foundation   300.0  0.545455\n",
       "5460                                   introduction-tensorflow                  convolutional-neural-networks-tensorflow   216.0  0.545455\n",
       "21244                                 ai-for-medical-diagnosis                                  ai-for-medical-prognosis    21.0  0.525000\n",
       "12319                                            python-basics                       python-functions-files-dictionaries   105.0  0.519802\n",
       "15455                            gcp-infrastructure-foundation                          gcp-infrastructure-core-services   195.0  0.509138\n",
       "24953                                        schedule-projects                                   project-risk-management   157.0  0.503205\n",
       "34746                            classical-sociological-theory                                            healthcarejobs     1.0  0.500000\n",
       "11650                                        marketing-digital                    the-business-of-product-management-one     1.0  0.500000\n",
       "18936                                        clinical-research                                            healthcarejobs     1.0  0.500000\n",
       "14139                                         build-a-computer                                              nand2tetris2    17.0  0.500000\n",
       "36036                               iiot-google-cloud-platform                    the-business-of-product-management-one     1.0  0.500000\n",
       "7498                           linear-algebra-machine-learning                    multivariate-calculus-machine-learning   157.0  0.495268\n",
       "24496                                  introduction-git-github                      troubleshooting-debugging-techniques    49.0  0.490000\n",
       "5801                        open-source-tools-for-data-science                                  data-science-methodology   406.0  0.488568\n",
       "17501                                      grammar-punctuation                        getting-started-with-essay-writing    91.0  0.486631\n",
       "16535                               search-engine-optimization                                          seo-fundamentals    67.0  0.485507\n",
       "13833                                     excel-intermediate-1                                      excel-intermediate-2   210.0  0.484988\n",
       "4827                                               python-data                                       python-network-data  1077.0  0.484698\n",
       "7032                            fundamentals-of-graphic-design                                                typography   101.0  0.478673\n",
       "21708                         gcp-infrastructure-core-services                     gcp-infrastructure-scaling-automation   171.0  0.473684\n",
       "1444                                       computer-networking                                             os-power-user   480.0  0.469667\n",
       "3768                                          excel-essentials                                      excel-intermediate-1   331.0  0.458449\n",
       "21580                                             modern-world                                            modern-world-2    38.0  0.447059\n",
       "29341  cybersecurity-roles-processes-operating-system-security  cybersecurity-compliance-framework-system-administration    34.0  0.441558\n",
       "5621                                             os-power-user          system-administration-it-infrastructure-services   368.0  0.439141\n",
       "316                             technical-support-fundamentals                                       computer-networking   715.0  0.438920\n",
       "8540          system-administration-it-infrastructure-services                                               it-security   294.0  0.435556\n",
       "9696                  introduction-cybersecurity-cyber-attacks   cybersecurity-roles-processes-operating-system-security    61.0  0.432624\n",
       "25770                    gcp-infrastructure-scaling-automation                       cloud-infrastructure-design-process   118.0  0.429091\n",
       "24419                   multivariate-calculus-machine-learning                                      pca-machine-learning   110.0  0.426357\n",
       "2002                                       python-crash-course                                   python-operating-system    92.0  0.425926\n",
       "26582              introduction-to-software-product-management                    software-processes-and-agile-practices    80.0  0.425532\n",
       "13271                   natural-language-processing-tensorflow           tensorflow-sequences-time-series-and-prediction   105.0  0.421687\n",
       "6325                     visual-elements-user-interface-design                                    ux-design-fundamentals    32.0  0.415584\n",
       "203                                  the-science-of-well-being                                    health-behavior-change     2.0  0.400000\n",
       "20864                                 managing-human-resources                    recruiting-hiring-onboarding-employees    21.0  0.396226\n",
       "36590                         uva-darden-agile-team-management                                  uva-darden-agile-testing    17.0  0.395349"
      ]
     },
     "execution_count": 21,
     "metadata": {},
     "output_type": "execute_result"
    }
   ],
   "source": [
    "df_probabilities = df_transitions.sort_values(by='proba', ascending=False)\n",
    "df_probabilities.head(50)"
   ]
  },
  {
   "cell_type": "code",
   "execution_count": 34,
   "id": "4385766e-4f26-4668-9f6a-a74e3c54330d",
   "metadata": {},
   "outputs": [],
   "source": [
    "def sequential_recommendation_by_probability(user: str, prev_courses: set):\n",
    "    _candidate_set = df_probabilities[df_probabilities['prev_course'].isin(prev_courses) & ~df_probabilities['next_course'].isin(prev_courses)]\n",
    "    return _candidate_set.head(5)['next_course'].values\n",
    "\n",
    "def sequential_recommendation_by_count(user: str, prev_courses: set):\n",
    "    _candidate_set = df_transitions[df_transitions['prev_course'].isin(prev_courses) & ~df_transitions['next_course'].isin(prev_courses)]\n",
    "    return _candidate_set.head(5)['next_course'].values"
   ]
  },
  {
   "cell_type": "code",
   "execution_count": 35,
   "id": "fe43f4ea-c0eb-445c-af26-2f747c02a0cf",
   "metadata": {},
   "outputs": [],
   "source": [
    "def calculate_hit_rate(X, y, recommender_func):\n",
    "    hits = 0\n",
    "    reqs = 0\n",
    "    for (user, prev_courses), next_course in tqdm(zip(X, y), total=len(X)):\n",
    "        reqs += 1\n",
    "        if next_course in recommender_func(user, prev_courses):\n",
    "            hits += 1\n",
    "    return hits / reqs"
   ]
  },
  {
   "cell_type": "markdown",
   "id": "53989a94-7711-4ace-87c3-dcfe96aaa93f",
   "metadata": {},
   "source": [
    "**By count**"
   ]
  },
  {
   "cell_type": "code",
   "execution_count": 36,
   "id": "308693da-7c9a-4a66-a966-32f3f7f3d6ee",
   "metadata": {},
   "outputs": [
    {
     "name": "stderr",
     "output_type": "stream",
     "text": [
      "100%|██████████████████████████████████████████████████████████████████████████| 108061/108061 [03:55<00:00, 459.76it/s]\n"
     ]
    },
    {
     "data": {
      "text/plain": [
       "0.2636196222503956"
      ]
     },
     "execution_count": 36,
     "metadata": {},
     "output_type": "execute_result"
    }
   ],
   "source": [
    "calculate_hit_rate(train_X, train_y, sequential_recommendation_by_count)"
   ]
  },
  {
   "cell_type": "code",
   "execution_count": 37,
   "id": "4c4d3ec8-484a-40be-b4f8-cbb5b9ab4ad2",
   "metadata": {},
   "outputs": [
    {
     "name": "stderr",
     "output_type": "stream",
     "text": [
      "100%|████████████████████████████████████████████████████████████████████████████| 35439/35439 [01:15<00:00, 470.25it/s]\n"
     ]
    },
    {
     "data": {
      "text/plain": [
       "0.25900843703264764"
      ]
     },
     "execution_count": 37,
     "metadata": {},
     "output_type": "execute_result"
    }
   ],
   "source": [
    "calculate_hit_rate(test_X, test_y, sequential_recommendation_by_count)"
   ]
  },
  {
   "cell_type": "markdown",
   "id": "28ff1f2a-cea2-41bc-abfb-32c74b253fb8",
   "metadata": {},
   "source": [
    "**By probability**"
   ]
  },
  {
   "cell_type": "code",
   "execution_count": 38,
   "id": "f930c270-60bc-4387-bd16-68261db340b0",
   "metadata": {},
   "outputs": [
    {
     "name": "stderr",
     "output_type": "stream",
     "text": [
      "100%|██████████████████████████████████████████████████████████████████████████| 108061/108061 [03:49<00:00, 471.41it/s]\n"
     ]
    },
    {
     "data": {
      "text/plain": [
       "0.18987423769907738"
      ]
     },
     "execution_count": 38,
     "metadata": {},
     "output_type": "execute_result"
    }
   ],
   "source": [
    "calculate_hit_rate(train_X, train_y, sequential_recommendation_by_probability)"
   ]
  },
  {
   "cell_type": "code",
   "execution_count": 39,
   "id": "454bb4d1-a474-451f-ba13-821f758353e0",
   "metadata": {},
   "outputs": [
    {
     "name": "stderr",
     "output_type": "stream",
     "text": [
      "100%|████████████████████████████████████████████████████████████████████████████| 35439/35439 [01:14<00:00, 474.04it/s]\n"
     ]
    },
    {
     "data": {
      "text/plain": [
       "0.1870820282739355"
      ]
     },
     "execution_count": 39,
     "metadata": {},
     "output_type": "execute_result"
    }
   ],
   "source": [
    "calculate_hit_rate(test_X, test_y, sequential_recommendation_by_probability)"
   ]
  },
  {
   "cell_type": "markdown",
   "id": "8c602bac-8e94-442f-abf5-29e646bd8fb9",
   "metadata": {},
   "source": [
    "**Prefiltering by count, then sort by probability**"
   ]
  },
  {
   "cell_type": "code",
   "execution_count": 49,
   "id": "b69f6509-34b2-44ee-ad3b-00d9f7ec9f22",
   "metadata": {},
   "outputs": [],
   "source": [
    "def sequential_recommendation_by_probability_prefilter(user: str, prev_courses: set):\n",
    "    _candidate_set = df_probabilities[df_probabilities['prev_course'].isin(prev_courses) & ~df_probabilities['next_course'].isin(prev_courses)].head(20)\n",
    "    return _candidate_set.sort_values(by='count', ascending=False).head(5)['next_course'].values\n",
    "\n",
    "def sequential_recommendation_by_count_prefilter(user: str, prev_courses: set):\n",
    "    _candidate_set = df_transitions[df_transitions['prev_course'].isin(prev_courses) & ~df_transitions['next_course'].isin(prev_courses)].head(20)\n",
    "    return _candidate_set.sort_values(by='proba', ascending=False).head(5)['next_course'].values"
   ]
  },
  {
   "cell_type": "code",
   "execution_count": 58,
   "id": "5be7f449-1626-405f-b764-05303822ff73",
   "metadata": {},
   "outputs": [
    {
     "name": "stdout",
     "output_type": "stream",
     "text": [
      "Predicted: ['convolutional-neural-networks-tensorflow' 'python-network-data'\n",
      " 'convolutional-neural-networks' 'nlp-sequence-models'\n",
      " 'natural-language-processing-tensorflow']\n",
      "Actual: convolutional-neural-networks-tensorflow\n"
     ]
    }
   ],
   "source": [
    "print(f\"Predicted: {sequential_recommendation_by_count_prefilter(*train_X[7])}\")\n",
    "print(f\"Actual: {train_y[7]}\")"
   ]
  },
  {
   "cell_type": "code",
   "execution_count": 59,
   "id": "828ffc69-c094-4d9f-b312-c2f58b12f61b",
   "metadata": {},
   "outputs": [
    {
     "name": "stderr",
     "output_type": "stream",
     "text": [
      "100%|██████████████████████████████████████████████████████████████████████████| 108061/108061 [04:39<00:00, 386.64it/s]\n"
     ]
    },
    {
     "data": {
      "text/plain": [
       "0.23668113380405512"
      ]
     },
     "execution_count": 59,
     "metadata": {},
     "output_type": "execute_result"
    }
   ],
   "source": [
    "calculate_hit_rate(train_X, train_y, sequential_recommendation_by_count_prefilter)"
   ]
  },
  {
   "cell_type": "code",
   "execution_count": 60,
   "id": "d0b47c78-1fc1-47e5-907d-4e738f3dbf69",
   "metadata": {},
   "outputs": [
    {
     "name": "stderr",
     "output_type": "stream",
     "text": [
      "100%|████████████████████████████████████████████████████████████████████████████| 35439/35439 [01:32<00:00, 382.42it/s]\n"
     ]
    },
    {
     "data": {
      "text/plain": [
       "0.23152459155168034"
      ]
     },
     "execution_count": 60,
     "metadata": {},
     "output_type": "execute_result"
    }
   ],
   "source": [
    "calculate_hit_rate(test_X, test_y, sequential_recommendation_by_count_prefilter)"
   ]
  },
  {
   "cell_type": "markdown",
   "id": "6d1c97a6-cae3-4795-aca2-2455eb480e84",
   "metadata": {},
   "source": [
    "## Using a different dataset, predict any of the next courses"
   ]
  },
  {
   "cell_type": "code",
   "execution_count": 66,
   "id": "3261d3c7-73b5-48c6-bcde-7da20af86ad9",
   "metadata": {},
   "outputs": [
    {
     "name": "stdout",
     "output_type": "stream",
     "text": [
      "Computing the training and test list of sequences...\n"
     ]
    },
    {
     "name": "stderr",
     "output_type": "stream",
     "text": [
      "131100it [00:07, 16574.16it/s]\n",
      "43119it [00:02, 18118.21it/s]\n"
     ]
    }
   ],
   "source": [
    "train_X, test_X, train_y, test_y = dataset.get_train_test_next_course_predictions()"
   ]
  },
  {
   "cell_type": "code",
   "execution_count": 67,
   "id": "d64da3f4-67d4-4810-8ac9-84f5a7538fcc",
   "metadata": {},
   "outputs": [
    {
     "data": {
      "text/plain": [
       "[('By  B R s ', {'information-security-data': 5}),\n",
       " ('By  B R s ',\n",
       "  {'information-security-data': 5, 'aws-fundamentals-going-cloud-native': 5}),\n",
       " ('By  B R s ',\n",
       "  {'information-security-data': 5,\n",
       "   'aws-fundamentals-going-cloud-native': 5,\n",
       "   'python-basics': 5}),\n",
       " ('By  B S K', {'python-data': 5}),\n",
       " ('By  B S K', {'python-data': 5, 'neural-networks-deep-learning': 5})]"
      ]
     },
     "execution_count": 67,
     "metadata": {},
     "output_type": "execute_result"
    }
   ],
   "source": [
    "train_X[:5]"
   ]
  },
  {
   "cell_type": "code",
   "execution_count": 68,
   "id": "ef558f67-797f-4175-8377-c2e807c57ad7",
   "metadata": {},
   "outputs": [
    {
     "data": {
      "text/plain": [
       "[{'aws-fundamentals-going-cloud-native': 5,\n",
       "  'python-basics': 5,\n",
       "  'introduction-cybersecurity-cyber-attacks': 5},\n",
       " {'python-basics': 5, 'introduction-cybersecurity-cyber-attacks': 5},\n",
       " {'introduction-cybersecurity-cyber-attacks': 5},\n",
       " {'neural-networks-deep-learning': 5,\n",
       "  'deep-neural-network': 5,\n",
       "  'machine-learning-projects': 4,\n",
       "  'introduction-tensorflow': 5,\n",
       "  'convolutional-neural-networks-tensorflow': 5,\n",
       "  'tensorflow-sequences-time-series-and-prediction': 5},\n",
       " {'deep-neural-network': 5,\n",
       "  'machine-learning-projects': 4,\n",
       "  'introduction-tensorflow': 5,\n",
       "  'convolutional-neural-networks-tensorflow': 5,\n",
       "  'tensorflow-sequences-time-series-and-prediction': 5}]"
      ]
     },
     "execution_count": 68,
     "metadata": {},
     "output_type": "execute_result"
    }
   ],
   "source": [
    "train_y[:5]"
   ]
  },
  {
   "cell_type": "code",
   "execution_count": 69,
   "id": "b6a4a764-1cd6-4394-8b15-e574dc511d7a",
   "metadata": {},
   "outputs": [],
   "source": [
    "def calculate_precision(X, y, recommender_func):\n",
    "    precs = 0\n",
    "    reqs = 0\n",
    "    for (user, prev_courses_dict), next_courses_dict in tqdm(zip(X, y), total=len(X)):\n",
    "        reqs += 1\n",
    "        prev_courses = set(prev_courses_dict.keys())\n",
    "        next_courses = set(next_courses_dict.keys())\n",
    "        pred_courses = set(recommender_func(user, prev_courses))\n",
    "        precs += (len(pred_courses & next_courses) / len(pred_courses))\n",
    "    return precs / reqs"
   ]
  },
  {
   "cell_type": "code",
   "execution_count": 70,
   "id": "07af9c76-a3b4-42c8-90ff-f33f641ac840",
   "metadata": {},
   "outputs": [
    {
     "name": "stderr",
     "output_type": "stream",
     "text": [
      "100%|██████████████████████████████████████████████████████████████████████████| 108061/108061 [04:21<00:00, 413.97it/s]\n"
     ]
    },
    {
     "data": {
      "text/plain": [
       "0.14535231643860141"
      ]
     },
     "execution_count": 70,
     "metadata": {},
     "output_type": "execute_result"
    }
   ],
   "source": [
    "calculate_precision(train_X, train_y, sequential_recommendation_by_count)"
   ]
  },
  {
   "cell_type": "code",
   "execution_count": 71,
   "id": "ee65b857-f0a3-47be-b03b-e9b7c5b04972",
   "metadata": {},
   "outputs": [
    {
     "name": "stderr",
     "output_type": "stream",
     "text": [
      "100%|████████████████████████████████████████████████████████████████████████████| 35439/35439 [01:21<00:00, 436.83it/s]\n"
     ]
    },
    {
     "data": {
      "text/plain": [
       "0.1439360591438593"
      ]
     },
     "execution_count": 71,
     "metadata": {},
     "output_type": "execute_result"
    }
   ],
   "source": [
    "calculate_precision(test_X, test_y, sequential_recommendation_by_count)"
   ]
  },
  {
   "cell_type": "code",
   "execution_count": 72,
   "id": "67826d8d-42d3-4cf0-84e2-00f48b2d23b6",
   "metadata": {},
   "outputs": [
    {
     "name": "stderr",
     "output_type": "stream",
     "text": [
      "100%|██████████████████████████████████████████████████████████████████████████| 108061/108061 [05:29<00:00, 328.40it/s]\n"
     ]
    },
    {
     "data": {
      "text/plain": [
       "0.11675581384590335"
      ]
     },
     "execution_count": 72,
     "metadata": {},
     "output_type": "execute_result"
    }
   ],
   "source": [
    "calculate_precision(train_X, train_y, sequential_recommendation_by_count_prefilter)"
   ]
  },
  {
   "cell_type": "code",
   "execution_count": 73,
   "id": "d91111d4-7c15-4c68-ac1c-6228709fcd06",
   "metadata": {},
   "outputs": [
    {
     "name": "stderr",
     "output_type": "stream",
     "text": [
      "100%|████████████████████████████████████████████████████████████████████████████| 35439/35439 [01:39<00:00, 355.41it/s]\n"
     ]
    },
    {
     "data": {
      "text/plain": [
       "0.11380164978318709"
      ]
     },
     "execution_count": 73,
     "metadata": {},
     "output_type": "execute_result"
    }
   ],
   "source": [
    "calculate_precision(test_X, test_y, sequential_recommendation_by_count_prefilter)"
   ]
  },
  {
   "cell_type": "code",
   "execution_count": null,
   "id": "5b677a2f-0e00-4af8-9816-e498773193ed",
   "metadata": {},
   "outputs": [],
   "source": []
  }
 ],
 "metadata": {
  "kernelspec": {
   "display_name": "Python 3 (ipykernel)",
   "language": "python",
   "name": "python3"
  },
  "language_info": {
   "codemirror_mode": {
    "name": "ipython",
    "version": 3
   },
   "file_extension": ".py",
   "mimetype": "text/x-python",
   "name": "python",
   "nbconvert_exporter": "python",
   "pygments_lexer": "ipython3",
   "version": "3.10.12"
  }
 },
 "nbformat": 4,
 "nbformat_minor": 5
}
