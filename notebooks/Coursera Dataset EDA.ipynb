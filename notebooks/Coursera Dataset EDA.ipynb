{
 "cells": [
  {
   "cell_type": "markdown",
   "id": "fa0bdaf2",
   "metadata": {},
   "source": [
    "# Coursera Dataset EDA\n",
    "\n",
    "* [Course Reviews on Coursera](https://www.kaggle.com/datasets/imuhammad/course-reviews-on-coursera)\n",
    "* [Coursera Courses 2021](https://www.kaggle.com/datasets/khusheekapoor/coursera-courses-dataset-2021)"
   ]
  },
  {
   "cell_type": "code",
   "execution_count": 1,
   "id": "01cea6de",
   "metadata": {},
   "outputs": [],
   "source": [
    "import pandas as pd\n",
    "import numpy as np\n",
    "import matplotlib.pyplot as plt\n",
    "import seaborn as sns"
   ]
  },
  {
   "cell_type": "code",
   "execution_count": 2,
   "id": "9ce733eb",
   "metadata": {},
   "outputs": [],
   "source": [
    "pd.set_option('display.width', 1000)\n",
    "pd.set_option('display.max_colwidth', 1000)"
   ]
  },
  {
   "cell_type": "code",
   "execution_count": 102,
   "id": "22fd77e5",
   "metadata": {},
   "outputs": [],
   "source": [
    "df_courses = pd.read_csv('../data/Coursera_courses.csv').drop_duplicates()\n",
    "df_coursedata = pd.read_csv('../data/Coursera.csv').drop_duplicates()"
   ]
  },
  {
   "cell_type": "markdown",
   "id": "5d2a9aab-ab3f-4f45-b1d1-e975c851470f",
   "metadata": {},
   "source": [
    "---"
   ]
  },
  {
   "cell_type": "markdown",
   "id": "efc27cb4",
   "metadata": {
    "jp-MarkdownHeadingCollapsed": true
   },
   "source": [
    "## Checking if the 2 are joinable\n",
    "\n",
    "(This section is skippable)"
   ]
  },
  {
   "cell_type": "code",
   "execution_count": 2,
   "id": "3a1fd0c7",
   "metadata": {},
   "outputs": [
    {
     "name": "stdout",
     "output_type": "stream",
     "text": [
      "(623, 4)\n"
     ]
    },
    {
     "data": {
      "text/html": [
       "<div>\n",
       "<style scoped>\n",
       "    .dataframe tbody tr th:only-of-type {\n",
       "        vertical-align: middle;\n",
       "    }\n",
       "\n",
       "    .dataframe tbody tr th {\n",
       "        vertical-align: top;\n",
       "    }\n",
       "\n",
       "    .dataframe thead th {\n",
       "        text-align: right;\n",
       "    }\n",
       "</style>\n",
       "<table border=\"1\" class=\"dataframe\">\n",
       "  <thead>\n",
       "    <tr style=\"text-align: right;\">\n",
       "      <th></th>\n",
       "      <th>name</th>\n",
       "      <th>institution</th>\n",
       "      <th>course_url</th>\n",
       "      <th>course_id</th>\n",
       "    </tr>\n",
       "  </thead>\n",
       "  <tbody>\n",
       "    <tr>\n",
       "      <th>0</th>\n",
       "      <td>Machine Learning</td>\n",
       "      <td>Stanford University</td>\n",
       "      <td>https://www.coursera.org/learn/machine-learning</td>\n",
       "      <td>machine-learning</td>\n",
       "    </tr>\n",
       "    <tr>\n",
       "      <th>1</th>\n",
       "      <td>Indigenous Canada</td>\n",
       "      <td>University of Alberta</td>\n",
       "      <td>https://www.coursera.org/learn/indigenous-canada</td>\n",
       "      <td>indigenous-canada</td>\n",
       "    </tr>\n",
       "    <tr>\n",
       "      <th>2</th>\n",
       "      <td>The Science of Well-Being</td>\n",
       "      <td>Yale University</td>\n",
       "      <td>https://www.coursera.org/learn/the-science-of-...</td>\n",
       "      <td>the-science-of-well-being</td>\n",
       "    </tr>\n",
       "    <tr>\n",
       "      <th>3</th>\n",
       "      <td>Technical Support Fundamentals</td>\n",
       "      <td>Google</td>\n",
       "      <td>https://www.coursera.org/learn/technical-suppo...</td>\n",
       "      <td>technical-support-fundamentals</td>\n",
       "    </tr>\n",
       "    <tr>\n",
       "      <th>4</th>\n",
       "      <td>Become a CBRS Certified Professional Installer...</td>\n",
       "      <td>Google - Spectrum Sharing</td>\n",
       "      <td>https://www.coursera.org/learn/google-cbrs-cpi...</td>\n",
       "      <td>google-cbrs-cpi-training</td>\n",
       "    </tr>\n",
       "  </tbody>\n",
       "</table>\n",
       "</div>"
      ],
      "text/plain": [
       "                                                name  \\\n",
       "0                                   Machine Learning   \n",
       "1                                  Indigenous Canada   \n",
       "2                          The Science of Well-Being   \n",
       "3                     Technical Support Fundamentals   \n",
       "4  Become a CBRS Certified Professional Installer...   \n",
       "\n",
       "                 institution  \\\n",
       "0        Stanford University   \n",
       "1      University of Alberta   \n",
       "2            Yale University   \n",
       "3                     Google   \n",
       "4  Google - Spectrum Sharing   \n",
       "\n",
       "                                          course_url  \\\n",
       "0    https://www.coursera.org/learn/machine-learning   \n",
       "1   https://www.coursera.org/learn/indigenous-canada   \n",
       "2  https://www.coursera.org/learn/the-science-of-...   \n",
       "3  https://www.coursera.org/learn/technical-suppo...   \n",
       "4  https://www.coursera.org/learn/google-cbrs-cpi...   \n",
       "\n",
       "                        course_id  \n",
       "0                machine-learning  \n",
       "1               indigenous-canada  \n",
       "2       the-science-of-well-being  \n",
       "3  technical-support-fundamentals  \n",
       "4        google-cbrs-cpi-training  "
      ]
     },
     "execution_count": 2,
     "metadata": {},
     "output_type": "execute_result"
    }
   ],
   "source": [
    "print(df_courses.shape)\n",
    "df_courses.head()"
   ]
  },
  {
   "cell_type": "code",
   "execution_count": 4,
   "id": "3cc2326f",
   "metadata": {},
   "outputs": [
    {
     "name": "stdout",
     "output_type": "stream",
     "text": [
      "(3522, 7)\n"
     ]
    },
    {
     "data": {
      "text/html": [
       "<div>\n",
       "<style scoped>\n",
       "    .dataframe tbody tr th:only-of-type {\n",
       "        vertical-align: middle;\n",
       "    }\n",
       "\n",
       "    .dataframe tbody tr th {\n",
       "        vertical-align: top;\n",
       "    }\n",
       "\n",
       "    .dataframe thead th {\n",
       "        text-align: right;\n",
       "    }\n",
       "</style>\n",
       "<table border=\"1\" class=\"dataframe\">\n",
       "  <thead>\n",
       "    <tr style=\"text-align: right;\">\n",
       "      <th></th>\n",
       "      <th>Course Name</th>\n",
       "      <th>University</th>\n",
       "      <th>Difficulty Level</th>\n",
       "      <th>Course Rating</th>\n",
       "      <th>Course URL</th>\n",
       "      <th>Course Description</th>\n",
       "      <th>Skills</th>\n",
       "    </tr>\n",
       "  </thead>\n",
       "  <tbody>\n",
       "    <tr>\n",
       "      <th>0</th>\n",
       "      <td>Write A Feature Length Screenplay For Film Or ...</td>\n",
       "      <td>Michigan State University</td>\n",
       "      <td>Beginner</td>\n",
       "      <td>4.8</td>\n",
       "      <td>https://www.coursera.org/learn/write-a-feature...</td>\n",
       "      <td>Write a Full Length Feature Film Script  In th...</td>\n",
       "      <td>Drama  Comedy  peering  screenwriting  film  D...</td>\n",
       "    </tr>\n",
       "    <tr>\n",
       "      <th>1</th>\n",
       "      <td>Business Strategy: Business Model Canvas Analy...</td>\n",
       "      <td>Coursera Project Network</td>\n",
       "      <td>Beginner</td>\n",
       "      <td>4.8</td>\n",
       "      <td>https://www.coursera.org/learn/canvas-analysis...</td>\n",
       "      <td>By the end of this guided project, you will be...</td>\n",
       "      <td>Finance  business plan  persona (user experien...</td>\n",
       "    </tr>\n",
       "    <tr>\n",
       "      <th>2</th>\n",
       "      <td>Silicon Thin Film Solar Cells</td>\n",
       "      <td>�cole Polytechnique</td>\n",
       "      <td>Advanced</td>\n",
       "      <td>4.1</td>\n",
       "      <td>https://www.coursera.org/learn/silicon-thin-fi...</td>\n",
       "      <td>This course consists of a general presentation...</td>\n",
       "      <td>chemistry  physics  Solar Energy  film  lambda...</td>\n",
       "    </tr>\n",
       "    <tr>\n",
       "      <th>3</th>\n",
       "      <td>Finance for Managers</td>\n",
       "      <td>IESE Business School</td>\n",
       "      <td>Intermediate</td>\n",
       "      <td>4.8</td>\n",
       "      <td>https://www.coursera.org/learn/operational-fin...</td>\n",
       "      <td>When it comes to numbers, there is always more...</td>\n",
       "      <td>accounts receivable  dupont analysis  analysis...</td>\n",
       "    </tr>\n",
       "    <tr>\n",
       "      <th>4</th>\n",
       "      <td>Retrieve Data using Single-Table SQL Queries</td>\n",
       "      <td>Coursera Project Network</td>\n",
       "      <td>Beginner</td>\n",
       "      <td>4.6</td>\n",
       "      <td>https://www.coursera.org/learn/single-table-sq...</td>\n",
       "      <td>In this course you�ll learn how to effectively...</td>\n",
       "      <td>Data Analysis  select (sql)  database manageme...</td>\n",
       "    </tr>\n",
       "  </tbody>\n",
       "</table>\n",
       "</div>"
      ],
      "text/plain": [
       "                                         Course Name  \\\n",
       "0  Write A Feature Length Screenplay For Film Or ...   \n",
       "1  Business Strategy: Business Model Canvas Analy...   \n",
       "2                      Silicon Thin Film Solar Cells   \n",
       "3                               Finance for Managers   \n",
       "4       Retrieve Data using Single-Table SQL Queries   \n",
       "\n",
       "                  University Difficulty Level Course Rating  \\\n",
       "0  Michigan State University         Beginner           4.8   \n",
       "1   Coursera Project Network         Beginner           4.8   \n",
       "2        �cole Polytechnique         Advanced           4.1   \n",
       "3       IESE Business School     Intermediate           4.8   \n",
       "4   Coursera Project Network         Beginner           4.6   \n",
       "\n",
       "                                          Course URL  \\\n",
       "0  https://www.coursera.org/learn/write-a-feature...   \n",
       "1  https://www.coursera.org/learn/canvas-analysis...   \n",
       "2  https://www.coursera.org/learn/silicon-thin-fi...   \n",
       "3  https://www.coursera.org/learn/operational-fin...   \n",
       "4  https://www.coursera.org/learn/single-table-sq...   \n",
       "\n",
       "                                  Course Description  \\\n",
       "0  Write a Full Length Feature Film Script  In th...   \n",
       "1  By the end of this guided project, you will be...   \n",
       "2  This course consists of a general presentation...   \n",
       "3  When it comes to numbers, there is always more...   \n",
       "4  In this course you�ll learn how to effectively...   \n",
       "\n",
       "                                              Skills  \n",
       "0  Drama  Comedy  peering  screenwriting  film  D...  \n",
       "1  Finance  business plan  persona (user experien...  \n",
       "2  chemistry  physics  Solar Energy  film  lambda...  \n",
       "3  accounts receivable  dupont analysis  analysis...  \n",
       "4  Data Analysis  select (sql)  database manageme...  "
      ]
     },
     "execution_count": 4,
     "metadata": {},
     "output_type": "execute_result"
    }
   ],
   "source": [
    "print(df_coursedata.shape)\n",
    "df_coursedata.head()"
   ]
  },
  {
   "cell_type": "code",
   "execution_count": 6,
   "id": "b8748d45",
   "metadata": {},
   "outputs": [
    {
     "data": {
      "text/plain": [
       "(540, 11)"
      ]
     },
     "execution_count": 6,
     "metadata": {},
     "output_type": "execute_result"
    }
   ],
   "source": [
    "df_courses.merge(\n",
    "    df_coursedata,\n",
    "    left_on='course_url',\n",
    "    right_on='Course URL',\n",
    "    how='inner'\n",
    ").shape"
   ]
  },
  {
   "cell_type": "markdown",
   "id": "d9981b11",
   "metadata": {},
   "source": [
    "See if the other 83 courses are salvageable"
   ]
  },
  {
   "cell_type": "code",
   "execution_count": 20,
   "id": "1d8ac5ee",
   "metadata": {},
   "outputs": [
    {
     "name": "stdout",
     "output_type": "stream",
     "text": [
      "(141, 4)\n"
     ]
    },
    {
     "data": {
      "text/html": [
       "<div>\n",
       "<style scoped>\n",
       "    .dataframe tbody tr th:only-of-type {\n",
       "        vertical-align: middle;\n",
       "    }\n",
       "\n",
       "    .dataframe tbody tr th {\n",
       "        vertical-align: top;\n",
       "    }\n",
       "\n",
       "    .dataframe thead th {\n",
       "        text-align: right;\n",
       "    }\n",
       "</style>\n",
       "<table border=\"1\" class=\"dataframe\">\n",
       "  <thead>\n",
       "    <tr style=\"text-align: right;\">\n",
       "      <th></th>\n",
       "      <th>name</th>\n",
       "      <th>institution</th>\n",
       "      <th>course_url</th>\n",
       "    </tr>\n",
       "  </thead>\n",
       "  <tbody>\n",
       "    <tr>\n",
       "      <th>0</th>\n",
       "      <td>Machine Learning</td>\n",
       "      <td>Stanford University</td>\n",
       "      <td>https://www.coursera.org/learn/machine-learning</td>\n",
       "    </tr>\n",
       "    <tr>\n",
       "      <th>1</th>\n",
       "      <td>Indigenous Canada</td>\n",
       "      <td>University of Alberta</td>\n",
       "      <td>https://www.coursera.org/learn/indigenous-canada</td>\n",
       "    </tr>\n",
       "    <tr>\n",
       "      <th>4</th>\n",
       "      <td>Become a CBRS Certified Professional Installer by Google</td>\n",
       "      <td>Google - Spectrum Sharing</td>\n",
       "      <td>https://www.coursera.org/learn/google-cbrs-cpi-training</td>\n",
       "    </tr>\n",
       "    <tr>\n",
       "      <th>16</th>\n",
       "      <td>Project Launch</td>\n",
       "      <td>University of California, Irvine</td>\n",
       "      <td>https://www.coursera.org/learn/project-management</td>\n",
       "    </tr>\n",
       "    <tr>\n",
       "      <th>18</th>\n",
       "      <td>Writing in the Sciences</td>\n",
       "      <td>Stanford University</td>\n",
       "      <td>https://www.coursera.org/learn/sciwrite</td>\n",
       "    </tr>\n",
       "    <tr>\n",
       "      <th>19</th>\n",
       "      <td>Stanford Introduction to Food and Health</td>\n",
       "      <td>Stanford University</td>\n",
       "      <td>https://www.coursera.org/learn/food-and-health</td>\n",
       "    </tr>\n",
       "    <tr>\n",
       "      <th>26</th>\n",
       "      <td>Viral Marketing and How to Craft Contagious Content</td>\n",
       "      <td>University of Pennsylvania</td>\n",
       "      <td>https://www.coursera.org/learn/wharton-contagious-viral-marketing</td>\n",
       "    </tr>\n",
       "    <tr>\n",
       "      <th>38</th>\n",
       "      <td>Primeros Auxilios Psicológicos (PAP)</td>\n",
       "      <td>Universitat Autònoma de Barcelona</td>\n",
       "      <td>https://www.coursera.org/learn/pap</td>\n",
       "    </tr>\n",
       "    <tr>\n",
       "      <th>41</th>\n",
       "      <td>Computational Thinking for Problem Solving</td>\n",
       "      <td>University of Pennsylvania</td>\n",
       "      <td>https://www.coursera.org/learn/computational-thinking-problem-solving</td>\n",
       "    </tr>\n",
       "    <tr>\n",
       "      <th>45</th>\n",
       "      <td>Introduction to Marketing</td>\n",
       "      <td>University of Pennsylvania</td>\n",
       "      <td>https://www.coursera.org/learn/wharton-marketing</td>\n",
       "    </tr>\n",
       "  </tbody>\n",
       "</table>\n",
       "</div>"
      ],
      "text/plain": [
       "                                                        name                        institution                                                             course_url\n",
       "0                                           Machine Learning                Stanford University                        https://www.coursera.org/learn/machine-learning\n",
       "1                                          Indigenous Canada              University of Alberta                       https://www.coursera.org/learn/indigenous-canada\n",
       "4   Become a CBRS Certified Professional Installer by Google          Google - Spectrum Sharing                https://www.coursera.org/learn/google-cbrs-cpi-training\n",
       "16                                            Project Launch   University of California, Irvine                      https://www.coursera.org/learn/project-management\n",
       "18                                   Writing in the Sciences                Stanford University                                https://www.coursera.org/learn/sciwrite\n",
       "19                  Stanford Introduction to Food and Health                Stanford University                         https://www.coursera.org/learn/food-and-health\n",
       "26       Viral Marketing and How to Craft Contagious Content         University of Pennsylvania      https://www.coursera.org/learn/wharton-contagious-viral-marketing\n",
       "38                      Primeros Auxilios Psicológicos (PAP)  Universitat Autònoma de Barcelona                                     https://www.coursera.org/learn/pap\n",
       "41                Computational Thinking for Problem Solving         University of Pennsylvania  https://www.coursera.org/learn/computational-thinking-problem-solving\n",
       "45                                 Introduction to Marketing         University of Pennsylvania                       https://www.coursera.org/learn/wharton-marketing"
      ]
     },
     "execution_count": 20,
     "metadata": {},
     "output_type": "execute_result"
    }
   ],
   "source": [
    "df_extra = df_courses[~df_courses['course_url'].isin(df_coursedata['Course URL'])]\n",
    "print(df_extra.shape)\n",
    "\n",
    "df_extra[['name', 'institution', 'course_url']].head(10)"
   ]
  },
  {
   "cell_type": "code",
   "execution_count": 27,
   "id": "fbd9f231",
   "metadata": {},
   "outputs": [],
   "source": [
    "# df_coursedata[df_coursedata['Course URL'].str.contains('machine')]\n",
    "# df_coursedata[df_coursedata['University'].str.contains('Pennsylvania')]\n",
    "\n",
    "df_coursedata['Course ID'] = df_coursedata['Course URL'].str.split('/').str[-1]"
   ]
  },
  {
   "cell_type": "code",
   "execution_count": 31,
   "id": "8e80b806",
   "metadata": {
    "scrolled": true
   },
   "outputs": [
    {
     "data": {
      "text/plain": [
       "(540, 12)"
      ]
     },
     "execution_count": 31,
     "metadata": {},
     "output_type": "execute_result"
    }
   ],
   "source": [
    "df_courses.merge(\n",
    "    df_coursedata,\n",
    "    left_on='course_id',\n",
    "    right_on='Course ID',\n",
    "    how='inner'\n",
    ").shape"
   ]
  },
  {
   "cell_type": "markdown",
   "id": "76cfbbf5",
   "metadata": {},
   "source": [
    "Not only are they not salvageable, there are even some duplicates.."
   ]
  },
  {
   "cell_type": "code",
   "execution_count": 42,
   "id": "f3c98cf9",
   "metadata": {
    "scrolled": true
   },
   "outputs": [
    {
     "data": {
      "text/html": [
       "<div>\n",
       "<style scoped>\n",
       "    .dataframe tbody tr th:only-of-type {\n",
       "        vertical-align: middle;\n",
       "    }\n",
       "\n",
       "    .dataframe tbody tr th {\n",
       "        vertical-align: top;\n",
       "    }\n",
       "\n",
       "    .dataframe thead th {\n",
       "        text-align: right;\n",
       "    }\n",
       "</style>\n",
       "<table border=\"1\" class=\"dataframe\">\n",
       "  <thead>\n",
       "    <tr style=\"text-align: right;\">\n",
       "      <th></th>\n",
       "      <th>Course Name</th>\n",
       "      <th>University</th>\n",
       "      <th>Difficulty Level</th>\n",
       "      <th>Course Rating</th>\n",
       "      <th>Course URL</th>\n",
       "      <th>Course Description</th>\n",
       "      <th>Skills</th>\n",
       "      <th>Course ID</th>\n",
       "    </tr>\n",
       "  </thead>\n",
       "  <tbody>\n",
       "    <tr>\n",
       "      <th>3491</th>\n",
       "      <td>Applied Data Science Capstone</td>\n",
       "      <td>IBM</td>\n",
       "      <td>Beginner</td>\n",
       "      <td>4.6</td>\n",
       "      <td>https://www.coursera.org/learn/applied-data-science-capstone</td>\n",
       "      <td>This capstone project course will give you a taste of what data scientists go through in real life when working with data.   You will learn about location data and different location data providers, such as Foursquare. You will learn how to make RESTful API calls to the Foursquare API to retrieve data about venues in different neighborhoods around the world. You will also learn how to be creative in situations where data are not readily available by scraping web data and parsing HTML code. You will utilize Python and its pandas library to manipulate data, which will help you refine your skills for exploring and analyzing data.   Finally, you will be required to use the Folium library to great maps of geospatial data and to communicate your results and findings.  If you choose to take this course and earn the Coursera course certificate, you will also earn an IBM digital badge upon successful completion of the course.    LIMITED TIME OFFER: Subscription is only $39 USD per month for...</td>\n",
       "      <td>Algorithms  data clustering algorithms  web  analysis  Python Programming  cluster analysis  Computer Programming  Data Analysis  Data Visualization  Machine Learning data-science data-analysis</td>\n",
       "      <td>applied-data-science-capstone</td>\n",
       "    </tr>\n",
       "    <tr>\n",
       "      <th>3490</th>\n",
       "      <td>Applied Data Science Capstone</td>\n",
       "      <td>IBM</td>\n",
       "      <td>Beginner</td>\n",
       "      <td>4.6</td>\n",
       "      <td>https://www.coursera.org/learn/applied-data-science-capstone</td>\n",
       "      <td>This capstone project course will give you a taste of what data scientists go through in real life when working with data.   You will learn about location data and different location data providers, such as Foursquare. You will learn how to make RESTful API calls to the Foursquare API to retrieve data about venues in different neighborhoods around the world. You will also learn how to be creative in situations where data are not readily available by scraping web data and parsing HTML code. You will utilize Python and its pandas library to manipulate data, which will help you refine your skills for exploring and analyzing data.   Finally, you will be required to use the Folium library to great maps of geospatial data and to communicate your results and findings.  If you choose to take this course and earn the Coursera course certificate, you will also earn an IBM digital badge upon successful completion of the course.    LIMITED TIME OFFER: Subscription is only $39 USD per month for...</td>\n",
       "      <td>Algorithms  data clustering algorithms  web  analysis  Python Programming  cluster analysis  Computer Programming  Data Analysis  Data Visualization  Machine Learning data-science data-analysis</td>\n",
       "      <td>applied-data-science-capstone</td>\n",
       "    </tr>\n",
       "    <tr>\n",
       "      <th>1385</th>\n",
       "      <td>Front-End Web UI Frameworks and Tools: Bootstrap 4</td>\n",
       "      <td>The Hong Kong University of Science and Technology</td>\n",
       "      <td>Intermediate</td>\n",
       "      <td>4.7</td>\n",
       "      <td>https://www.coursera.org/learn/bootstrap-4</td>\n",
       "      <td>This course will give you an overview of client-side web UI frameworks, in particular Bootstrap 4. You will learn about grids and responsive design, Bootstrap CSS and JavaScript components. You will learn about CSS preprocessors, Less and Sass. You will also learn the basics of Node.js and NPM and task runners like Grunt and Gulp. At the end of this course, you will be able to a)Set up, design and style a web page using Bootstrap 4 and its components, b) Create a responsive web page design, and c) Make use of web tools to setup and manage web sites. This course also includes an honors track that enables you to work on your own project developing a website using Bootstrap 4. Students enrolling in this course should have prior good working knowledge of HTML, CSS and JavaScript.</td>\n",
       "      <td>less (stylesheet language)  jquery  language  bootstrap (front-end framework)  Javascript  sass (stylesheet language)  web  github  Software As A Service  CSS computer-science mobile-and-web-development</td>\n",
       "      <td>bootstrap-4</td>\n",
       "    </tr>\n",
       "    <tr>\n",
       "      <th>1384</th>\n",
       "      <td>Front-End Web UI Frameworks and Tools: Bootstrap 4</td>\n",
       "      <td>The Hong Kong University of Science and Technology</td>\n",
       "      <td>Intermediate</td>\n",
       "      <td>4.7</td>\n",
       "      <td>https://www.coursera.org/learn/bootstrap-4</td>\n",
       "      <td>This course will give you an overview of client-side web UI frameworks, in particular Bootstrap 4. You will learn about grids and responsive design, Bootstrap CSS and JavaScript components. You will learn about CSS preprocessors, Less and Sass. You will also learn the basics of Node.js and NPM and task runners like Grunt and Gulp. At the end of this course, you will be able to a)Set up, design and style a web page using Bootstrap 4 and its components, b) Create a responsive web page design, and c) Make use of web tools to setup and manage web sites. This course also includes an honors track that enables you to work on your own project developing a website using Bootstrap 4. Students enrolling in this course should have prior good working knowledge of HTML, CSS and JavaScript.</td>\n",
       "      <td>less (stylesheet language)  jquery  language  bootstrap (front-end framework)  Javascript  sass (stylesheet language)  web  github  Software As A Service  CSS computer-science mobile-and-web-development</td>\n",
       "      <td>bootstrap-4</td>\n",
       "    </tr>\n",
       "    <tr>\n",
       "      <th>1377</th>\n",
       "      <td>Reliable Google Cloud Infrastructure: Design and Process</td>\n",
       "      <td>Google Cloud</td>\n",
       "      <td>Beginner</td>\n",
       "      <td>4.7</td>\n",
       "      <td>https://www.coursera.org/learn/cloud-infrastructure-design-process</td>\n",
       "      <td>This course equips students to build highly reliable and efficient solutions on Google Cloud using proven design patterns. It is a continuation of the Architecting with Google Compute Engine or Architecting with Google Kubernetes Engine courses and assumes hands-on experience with the technologies covered in either of those courses. Through a combination of presentations, design activities, and hands-on labs, participants learn to define and balance business and technical requirements to design Google Cloud deployments that are highly reliable, highly available, secure, and cost-effective.  This course teaches participants the following skills: ? Apply a tool set of questions, techniques, and design considerations ? Define application requirements and express them objectively as KPIs, SLOs and SLIs ? Decompose application requirements to find the right microservice boundaries ? Leverage Google Cloud developer tools to set up modern, automated deployment pipelines ? Choose the appro...</td>\n",
       "      <td>Google Cloud Platform  Cloud Platforms  Cloud Computing  process  security  Cloud Infrastructure  deployment environment  site reliability engineering  architecture  reliability engineering information-technology cloud-computing</td>\n",
       "      <td>cloud-infrastructure-design-process</td>\n",
       "    </tr>\n",
       "    <tr>\n",
       "      <th>521</th>\n",
       "      <td>Reliable Google Cloud Infrastructure: Design and Process</td>\n",
       "      <td>Google Cloud</td>\n",
       "      <td>Beginner</td>\n",
       "      <td>4.7</td>\n",
       "      <td>https://www.coursera.org/learn/cloud-infrastructure-design-process</td>\n",
       "      <td>This course equips students to build highly reliable and efficient solutions on Google Cloud using proven design patterns. It is a continuation of the Architecting with Google Compute Engine or Architecting with Google Kubernetes Engine courses and assumes hands-on experience with the technologies covered in either of those courses. Through a combination of presentations, design activities, and hands-on labs, participants learn to define and balance business and technical requirements to design Google Cloud deployments that are highly reliable, highly available, secure, and cost-effective.  This course teaches participants the following skills: ? Apply a tool set of questions, techniques, and design considerations ? Define application requirements and express them objectively as KPIs, SLOs and SLIs ? Decompose application requirements to find the right microservice boundaries ? Leverage Google Cloud developer tools to set up modern, automated deployment pipelines ? Choose the appro...</td>\n",
       "      <td>Google Cloud Platform  Cloud Platforms  Cloud Computing  process  security  Cloud Infrastructure  deployment environment  site reliability engineering  architecture  reliability engineering information-technology cloud-computing</td>\n",
       "      <td>cloud-infrastructure-design-process</td>\n",
       "    </tr>\n",
       "    <tr>\n",
       "      <th>979</th>\n",
       "      <td>Reliable Google Cloud Infrastructure: Design and Process</td>\n",
       "      <td>Google Cloud</td>\n",
       "      <td>Beginner</td>\n",
       "      <td>4.7</td>\n",
       "      <td>https://www.coursera.org/learn/cloud-infrastructure-design-process</td>\n",
       "      <td>This course equips students to build highly reliable and efficient solutions on Google Cloud using proven design patterns. It is a continuation of the Architecting with Google Compute Engine or Architecting with Google Kubernetes Engine courses and assumes hands-on experience with the technologies covered in either of those courses. Through a combination of presentations, design activities, and hands-on labs, participants learn to define and balance business and technical requirements to design Google Cloud deployments that are highly reliable, highly available, secure, and cost-effective.  This course teaches participants the following skills: ? Apply a tool set of questions, techniques, and design considerations ? Define application requirements and express them objectively as KPIs, SLOs and SLIs ? Decompose application requirements to find the right microservice boundaries ? Leverage Google Cloud developer tools to set up modern, automated deployment pipelines ? Choose the appro...</td>\n",
       "      <td>Google Cloud Platform  Cloud Platforms  Cloud Computing  process  security  Cloud Infrastructure  deployment environment  site reliability engineering  architecture  reliability engineering information-technology cloud-computing</td>\n",
       "      <td>cloud-infrastructure-design-process</td>\n",
       "    </tr>\n",
       "    <tr>\n",
       "      <th>2896</th>\n",
       "      <td>Cybersecurity Compliance Framework &amp; System Administration</td>\n",
       "      <td>IBM</td>\n",
       "      <td>Beginner</td>\n",
       "      <td>4.6</td>\n",
       "      <td>https://www.coursera.org/learn/cybersecurity-compliance-framework-system-administration</td>\n",
       "      <td>This course gives you the background needed to understand the key cybersecurity compliance and industry standards.  This knowledge will be important for you to learn no matter what cybersecurity role you would like to acquire or have within an organization.   You will learn the basic commands for user and server administration as it relates to security. You will need this skill to be able to understand vulnerabilities within your organizations operating systems.  You will learn the concepts of endpoint security and patch management.  Both of these topics are important to keep systems current to avoid cybersecurity incidents against an organization.  Finally you will learn in depth skills around cryptography and encryption to understand how these concepts affect software within a company.    This course is intended for anyone who wants to gain a basic understanding of Security Frameworks, Compliance, endpoint management, encryption or cryptography or as the third course in a series ...</td>\n",
       "      <td>encryption  digital signature  security  security compliance  security management  hashing  iso/iec 27001:2013  Cryptography  cyber security standards  signature information-technology security</td>\n",
       "      <td>cybersecurity-compliance-framework-system-administration</td>\n",
       "    </tr>\n",
       "    <tr>\n",
       "      <th>2897</th>\n",
       "      <td>Cybersecurity Compliance Framework &amp; System Administration</td>\n",
       "      <td>IBM</td>\n",
       "      <td>Beginner</td>\n",
       "      <td>4.6</td>\n",
       "      <td>https://www.coursera.org/learn/cybersecurity-compliance-framework-system-administration</td>\n",
       "      <td>This course gives you the background needed to understand the key cybersecurity compliance and industry standards.  This knowledge will be important for you to learn no matter what cybersecurity role you would like to acquire or have within an organization.   You will learn the basic commands for user and server administration as it relates to security. You will need this skill to be able to understand vulnerabilities within your organizations operating systems.  You will learn the concepts of endpoint security and patch management.  Both of these topics are important to keep systems current to avoid cybersecurity incidents against an organization.  Finally you will learn in depth skills around cryptography and encryption to understand how these concepts affect software within a company.    This course is intended for anyone who wants to gain a basic understanding of Security Frameworks, Compliance, endpoint management, encryption or cryptography or as the third course in a series ...</td>\n",
       "      <td>encryption  digital signature  security  security compliance  security management  hashing  iso/iec 27001:2013  Cryptography  cyber security standards  signature information-technology security</td>\n",
       "      <td>cybersecurity-compliance-framework-system-administration</td>\n",
       "    </tr>\n",
       "    <tr>\n",
       "      <th>1049</th>\n",
       "      <td>Cybersecurity Roles, Processes &amp; Operating System Security</td>\n",
       "      <td>IBM</td>\n",
       "      <td>Beginner</td>\n",
       "      <td>4.5</td>\n",
       "      <td>https://www.coursera.org/learn/cybersecurity-roles-processes-operating-system-security</td>\n",
       "      <td>This course gives you the background needed to understand basic Cybersecurity  around people. process and technology.  You will learn:  ?\\t Understand the key cybersecurity roles within an Organization.  ?\\t List key cybersecurity processes and an example of each process. ?\\t Describe the architecture, file systems, and basic commands for multiple operating systems including Windows, Mac/OS, Linux and Mobile. ?\\t Understand the concept of Virtualization as it relates to cybersecurity   Finally, you will begin to learn about organizations and resources to further research cybersecurity issues in the Modern era.  This course is intended for anyone who wants to gain a basic understanding of Cybersecurity or as the second course in a series of courses to acquire the skills to work in the Cybersecurity field as a Jr Cybersecurity Analyst.  The completion of this course also makes you eligible to earn the Cybersecurity Roles, Processes &amp; Operating System Security IBM digital badge.  More...</td>\n",
       "      <td>Cloud Computing  operating system security  security  cyber-security regulation  virtual machine  file system  System Security  process  Operating Systems  cloud computing security information-technology security</td>\n",
       "      <td>cybersecurity-roles-processes-operating-system-security</td>\n",
       "    </tr>\n",
       "  </tbody>\n",
       "</table>\n",
       "</div>"
      ],
      "text/plain": [
       "                                                     Course Name                                          University Difficulty Level Course Rating                                                                               Course URL  \\\n",
       "3491                               Applied Data Science Capstone                                                 IBM         Beginner           4.6                             https://www.coursera.org/learn/applied-data-science-capstone   \n",
       "3490                               Applied Data Science Capstone                                                 IBM         Beginner           4.6                             https://www.coursera.org/learn/applied-data-science-capstone   \n",
       "1385          Front-End Web UI Frameworks and Tools: Bootstrap 4  The Hong Kong University of Science and Technology     Intermediate           4.7                                               https://www.coursera.org/learn/bootstrap-4   \n",
       "1384          Front-End Web UI Frameworks and Tools: Bootstrap 4  The Hong Kong University of Science and Technology     Intermediate           4.7                                               https://www.coursera.org/learn/bootstrap-4   \n",
       "1377    Reliable Google Cloud Infrastructure: Design and Process                                        Google Cloud         Beginner           4.7                       https://www.coursera.org/learn/cloud-infrastructure-design-process   \n",
       "521     Reliable Google Cloud Infrastructure: Design and Process                                        Google Cloud         Beginner           4.7                       https://www.coursera.org/learn/cloud-infrastructure-design-process   \n",
       "979     Reliable Google Cloud Infrastructure: Design and Process                                        Google Cloud         Beginner           4.7                       https://www.coursera.org/learn/cloud-infrastructure-design-process   \n",
       "2896  Cybersecurity Compliance Framework & System Administration                                                 IBM         Beginner           4.6  https://www.coursera.org/learn/cybersecurity-compliance-framework-system-administration   \n",
       "2897  Cybersecurity Compliance Framework & System Administration                                                 IBM         Beginner           4.6  https://www.coursera.org/learn/cybersecurity-compliance-framework-system-administration   \n",
       "1049  Cybersecurity Roles, Processes & Operating System Security                                                 IBM         Beginner           4.5   https://www.coursera.org/learn/cybersecurity-roles-processes-operating-system-security   \n",
       "\n",
       "                                                                                                                                                                                                                                                                                                                                                                                                                                                                                                                                                                                                                                                                                                                                                                                                                                                                                                                                                                                                                           Course Description  \\\n",
       "3491  This capstone project course will give you a taste of what data scientists go through in real life when working with data.   You will learn about location data and different location data providers, such as Foursquare. You will learn how to make RESTful API calls to the Foursquare API to retrieve data about venues in different neighborhoods around the world. You will also learn how to be creative in situations where data are not readily available by scraping web data and parsing HTML code. You will utilize Python and its pandas library to manipulate data, which will help you refine your skills for exploring and analyzing data.   Finally, you will be required to use the Folium library to great maps of geospatial data and to communicate your results and findings.  If you choose to take this course and earn the Coursera course certificate, you will also earn an IBM digital badge upon successful completion of the course.    LIMITED TIME OFFER: Subscription is only $39 USD per month for...   \n",
       "3490  This capstone project course will give you a taste of what data scientists go through in real life when working with data.   You will learn about location data and different location data providers, such as Foursquare. You will learn how to make RESTful API calls to the Foursquare API to retrieve data about venues in different neighborhoods around the world. You will also learn how to be creative in situations where data are not readily available by scraping web data and parsing HTML code. You will utilize Python and its pandas library to manipulate data, which will help you refine your skills for exploring and analyzing data.   Finally, you will be required to use the Folium library to great maps of geospatial data and to communicate your results and findings.  If you choose to take this course and earn the Coursera course certificate, you will also earn an IBM digital badge upon successful completion of the course.    LIMITED TIME OFFER: Subscription is only $39 USD per month for...   \n",
       "1385                                                                                                                                                                                                                       This course will give you an overview of client-side web UI frameworks, in particular Bootstrap 4. You will learn about grids and responsive design, Bootstrap CSS and JavaScript components. You will learn about CSS preprocessors, Less and Sass. You will also learn the basics of Node.js and NPM and task runners like Grunt and Gulp. At the end of this course, you will be able to a)Set up, design and style a web page using Bootstrap 4 and its components, b) Create a responsive web page design, and c) Make use of web tools to setup and manage web sites. This course also includes an honors track that enables you to work on your own project developing a website using Bootstrap 4. Students enrolling in this course should have prior good working knowledge of HTML, CSS and JavaScript.   \n",
       "1384                                                                                                                                                                                                                       This course will give you an overview of client-side web UI frameworks, in particular Bootstrap 4. You will learn about grids and responsive design, Bootstrap CSS and JavaScript components. You will learn about CSS preprocessors, Less and Sass. You will also learn the basics of Node.js and NPM and task runners like Grunt and Gulp. At the end of this course, you will be able to a)Set up, design and style a web page using Bootstrap 4 and its components, b) Create a responsive web page design, and c) Make use of web tools to setup and manage web sites. This course also includes an honors track that enables you to work on your own project developing a website using Bootstrap 4. Students enrolling in this course should have prior good working knowledge of HTML, CSS and JavaScript.   \n",
       "1377  This course equips students to build highly reliable and efficient solutions on Google Cloud using proven design patterns. It is a continuation of the Architecting with Google Compute Engine or Architecting with Google Kubernetes Engine courses and assumes hands-on experience with the technologies covered in either of those courses. Through a combination of presentations, design activities, and hands-on labs, participants learn to define and balance business and technical requirements to design Google Cloud deployments that are highly reliable, highly available, secure, and cost-effective.  This course teaches participants the following skills: ? Apply a tool set of questions, techniques, and design considerations ? Define application requirements and express them objectively as KPIs, SLOs and SLIs ? Decompose application requirements to find the right microservice boundaries ? Leverage Google Cloud developer tools to set up modern, automated deployment pipelines ? Choose the appro...   \n",
       "521   This course equips students to build highly reliable and efficient solutions on Google Cloud using proven design patterns. It is a continuation of the Architecting with Google Compute Engine or Architecting with Google Kubernetes Engine courses and assumes hands-on experience with the technologies covered in either of those courses. Through a combination of presentations, design activities, and hands-on labs, participants learn to define and balance business and technical requirements to design Google Cloud deployments that are highly reliable, highly available, secure, and cost-effective.  This course teaches participants the following skills: ? Apply a tool set of questions, techniques, and design considerations ? Define application requirements and express them objectively as KPIs, SLOs and SLIs ? Decompose application requirements to find the right microservice boundaries ? Leverage Google Cloud developer tools to set up modern, automated deployment pipelines ? Choose the appro...   \n",
       "979   This course equips students to build highly reliable and efficient solutions on Google Cloud using proven design patterns. It is a continuation of the Architecting with Google Compute Engine or Architecting with Google Kubernetes Engine courses and assumes hands-on experience with the technologies covered in either of those courses. Through a combination of presentations, design activities, and hands-on labs, participants learn to define and balance business and technical requirements to design Google Cloud deployments that are highly reliable, highly available, secure, and cost-effective.  This course teaches participants the following skills: ? Apply a tool set of questions, techniques, and design considerations ? Define application requirements and express them objectively as KPIs, SLOs and SLIs ? Decompose application requirements to find the right microservice boundaries ? Leverage Google Cloud developer tools to set up modern, automated deployment pipelines ? Choose the appro...   \n",
       "2896  This course gives you the background needed to understand the key cybersecurity compliance and industry standards.  This knowledge will be important for you to learn no matter what cybersecurity role you would like to acquire or have within an organization.   You will learn the basic commands for user and server administration as it relates to security. You will need this skill to be able to understand vulnerabilities within your organizations operating systems.  You will learn the concepts of endpoint security and patch management.  Both of these topics are important to keep systems current to avoid cybersecurity incidents against an organization.  Finally you will learn in depth skills around cryptography and encryption to understand how these concepts affect software within a company.    This course is intended for anyone who wants to gain a basic understanding of Security Frameworks, Compliance, endpoint management, encryption or cryptography or as the third course in a series ...   \n",
       "2897  This course gives you the background needed to understand the key cybersecurity compliance and industry standards.  This knowledge will be important for you to learn no matter what cybersecurity role you would like to acquire or have within an organization.   You will learn the basic commands for user and server administration as it relates to security. You will need this skill to be able to understand vulnerabilities within your organizations operating systems.  You will learn the concepts of endpoint security and patch management.  Both of these topics are important to keep systems current to avoid cybersecurity incidents against an organization.  Finally you will learn in depth skills around cryptography and encryption to understand how these concepts affect software within a company.    This course is intended for anyone who wants to gain a basic understanding of Security Frameworks, Compliance, endpoint management, encryption or cryptography or as the third course in a series ...   \n",
       "1049  This course gives you the background needed to understand basic Cybersecurity  around people. process and technology.  You will learn:  ?\\t Understand the key cybersecurity roles within an Organization.  ?\\t List key cybersecurity processes and an example of each process. ?\\t Describe the architecture, file systems, and basic commands for multiple operating systems including Windows, Mac/OS, Linux and Mobile. ?\\t Understand the concept of Virtualization as it relates to cybersecurity   Finally, you will begin to learn about organizations and resources to further research cybersecurity issues in the Modern era.  This course is intended for anyone who wants to gain a basic understanding of Cybersecurity or as the second course in a series of courses to acquire the skills to work in the Cybersecurity field as a Jr Cybersecurity Analyst.  The completion of this course also makes you eligible to earn the Cybersecurity Roles, Processes & Operating System Security IBM digital badge.  More...   \n",
       "\n",
       "                                                                                                                                                                                                                                    Skills                                                 Course ID  \n",
       "3491                                     Algorithms  data clustering algorithms  web  analysis  Python Programming  cluster analysis  Computer Programming  Data Analysis  Data Visualization  Machine Learning data-science data-analysis                             applied-data-science-capstone  \n",
       "3490                                     Algorithms  data clustering algorithms  web  analysis  Python Programming  cluster analysis  Computer Programming  Data Analysis  Data Visualization  Machine Learning data-science data-analysis                             applied-data-science-capstone  \n",
       "1385                            less (stylesheet language)  jquery  language  bootstrap (front-end framework)  Javascript  sass (stylesheet language)  web  github  Software As A Service  CSS computer-science mobile-and-web-development                                               bootstrap-4  \n",
       "1384                            less (stylesheet language)  jquery  language  bootstrap (front-end framework)  Javascript  sass (stylesheet language)  web  github  Software As A Service  CSS computer-science mobile-and-web-development                                               bootstrap-4  \n",
       "1377  Google Cloud Platform  Cloud Platforms  Cloud Computing  process  security  Cloud Infrastructure  deployment environment  site reliability engineering  architecture  reliability engineering information-technology cloud-computing                       cloud-infrastructure-design-process  \n",
       "521   Google Cloud Platform  Cloud Platforms  Cloud Computing  process  security  Cloud Infrastructure  deployment environment  site reliability engineering  architecture  reliability engineering information-technology cloud-computing                       cloud-infrastructure-design-process  \n",
       "979   Google Cloud Platform  Cloud Platforms  Cloud Computing  process  security  Cloud Infrastructure  deployment environment  site reliability engineering  architecture  reliability engineering information-technology cloud-computing                       cloud-infrastructure-design-process  \n",
       "2896                                     encryption  digital signature  security  security compliance  security management  hashing  iso/iec 27001:2013  Cryptography  cyber security standards  signature information-technology security  cybersecurity-compliance-framework-system-administration  \n",
       "2897                                     encryption  digital signature  security  security compliance  security management  hashing  iso/iec 27001:2013  Cryptography  cyber security standards  signature information-technology security  cybersecurity-compliance-framework-system-administration  \n",
       "1049                  Cloud Computing  operating system security  security  cyber-security regulation  virtual machine  file system  System Security  process  Operating Systems  cloud computing security information-technology security   cybersecurity-roles-processes-operating-system-security  "
      ]
     },
     "execution_count": 42,
     "metadata": {},
     "output_type": "execute_result"
    }
   ],
   "source": [
    "dupe_ids = df_coursedata.groupby('Course ID')[['Course URL']].count()\n",
    "dupe_ids = dupe_ids[dupe_ids['Course URL'] > 1].index\n",
    "\n",
    "shared_dupes = [x for x in dupe_ids if x in df_courses['course_id'].values][:10]\n",
    "\n",
    "df_coursedata[df_coursedata['Course ID'].isin(shared_dupes)].sort_values(by='Course ID').head(10)"
   ]
  },
  {
   "cell_type": "markdown",
   "id": "53370825",
   "metadata": {},
   "source": [
    "It's probably safe to drop them."
   ]
  },
  {
   "cell_type": "markdown",
   "id": "e816c5dc-dc0a-4fec-85f3-ccb83be77a9d",
   "metadata": {},
   "source": [
    "---"
   ]
  },
  {
   "cell_type": "markdown",
   "id": "f457b475",
   "metadata": {},
   "source": [
    "## Setting up the data"
   ]
  },
  {
   "cell_type": "code",
   "execution_count": 103,
   "id": "9e207baf",
   "metadata": {},
   "outputs": [],
   "source": [
    "df_coursedata['Course ID'] = df_coursedata['Course URL'].str.split('/').str[-1]\n",
    "\n",
    "df_courses_full = df_courses.merge(\n",
    "    df_coursedata.drop_duplicates('Course ID', keep='first'),\n",
    "    left_on='course_id',\n",
    "    right_on='Course ID',\n",
    "    how='inner'\n",
    ")"
   ]
  },
  {
   "cell_type": "code",
   "execution_count": 104,
   "id": "b5e1d8e6",
   "metadata": {},
   "outputs": [],
   "source": [
    "df_courses_full = df_courses_full.rename(columns={\n",
    "    'Difficulty Level': 'difficulty_level',\n",
    "    'Course Rating': 'rating',\n",
    "    'Course Description': 'description',\n",
    "    'Skills': 'skills',\n",
    "})\n",
    "\n",
    "df_courses_full = df_courses_full[[\n",
    "    'course_id', 'name', 'institution', 'difficulty_level', 'rating', 'description', 'skills'\n",
    "]]\n",
    "\n",
    "df_courses_full.set_index('course_id', inplace=True)"
   ]
  },
  {
   "cell_type": "code",
   "execution_count": 105,
   "id": "11504034",
   "metadata": {},
   "outputs": [
    {
     "name": "stdout",
     "output_type": "stream",
     "text": [
      "(482, 6)\n"
     ]
    },
    {
     "data": {
      "text/html": [
       "<div>\n",
       "<style scoped>\n",
       "    .dataframe tbody tr th:only-of-type {\n",
       "        vertical-align: middle;\n",
       "    }\n",
       "\n",
       "    .dataframe tbody tr th {\n",
       "        vertical-align: top;\n",
       "    }\n",
       "\n",
       "    .dataframe thead th {\n",
       "        text-align: right;\n",
       "    }\n",
       "</style>\n",
       "<table border=\"1\" class=\"dataframe\">\n",
       "  <thead>\n",
       "    <tr style=\"text-align: right;\">\n",
       "      <th></th>\n",
       "      <th>name</th>\n",
       "      <th>institution</th>\n",
       "      <th>difficulty_level</th>\n",
       "      <th>rating</th>\n",
       "      <th>description</th>\n",
       "      <th>skills</th>\n",
       "    </tr>\n",
       "    <tr>\n",
       "      <th>course_id</th>\n",
       "      <th></th>\n",
       "      <th></th>\n",
       "      <th></th>\n",
       "      <th></th>\n",
       "      <th></th>\n",
       "      <th></th>\n",
       "    </tr>\n",
       "  </thead>\n",
       "  <tbody>\n",
       "    <tr>\n",
       "      <th>the-science-of-well-being</th>\n",
       "      <td>The Science of Well-Being</td>\n",
       "      <td>Yale University</td>\n",
       "      <td>Intermediate</td>\n",
       "      <td>4.8</td>\n",
       "      <td>In this course you will engage in a series of challenges designed to increase your own happiness and build more productive habits. As preparation for these tasks, Professor Laurie Santos reveals misconceptions about happiness, annoying features of the mind that lead us to think the way we do, and the research that can help us change. You will ultimately be prepared to successfully incorporate a specific wellness activity into your life.  THE SCIENCE OF WELL BEING WAS PRODUCED IN PART DUE TO THE GENEROUS FUNDING OF THE DAVID F. SWENSEN FUND FOR INNOVATION IN TEACHING.</td>\n",
       "      <td>positive psychology  mindfulness  gratitude  habit  exercise  savoring  happiness  meditation  psychologies  kindness personal-development personal-development</td>\n",
       "    </tr>\n",
       "    <tr>\n",
       "      <th>technical-support-fundamentals</th>\n",
       "      <td>Technical Support Fundamentals</td>\n",
       "      <td>Google</td>\n",
       "      <td>Conversant</td>\n",
       "      <td>4.8</td>\n",
       "      <td>This course is the first of a series that aims to prepare you for a role as an entry-level IT Support Specialist. In this course, you�ll be introduced to the world of Information Technology, or IT. You�ll learn about the different facets of Information Technology, like computer hardware, the Internet, computer software, troubleshooting, and customer service. This course covers a wide variety of topics in IT that are designed to give you an overview of what�s to come in this certificate program.  By the end of this course, you�ll be able to: ? understand how the binary system works ? assemble a computer from scratch ? choose and install an operating system on a computer ? understand what the Internet is, how it works, and the impact it has in the modern world ? learn how applications are created and how they work under the hood of a computer ? utilize common problem-solving methodologies and soft skills in an Information Technology setting</td>\n",
       "      <td>binary code  internet  Troubleshooting  PC Hardware  software  technical support  Networking Hardware  Operating Systems  Customer Support  Software Installation information-technology support-and-operations</td>\n",
       "    </tr>\n",
       "    <tr>\n",
       "      <th>financial-markets-global</th>\n",
       "      <td>Financial Markets</td>\n",
       "      <td>Yale University</td>\n",
       "      <td>Intermediate</td>\n",
       "      <td>4.6</td>\n",
       "      <td>An overview of the ideas, methods, and institutions that permit human society to manage risks and foster enterprise.  Emphasis on financially-savvy leadership skills. Description of practices today and analysis of prospects for the future. Introduction to risk management and behavioral finance principles to understand the real-world functioning of securities, insurance, and banking industries.  The ultimate goal of this course is using such industries effectively and towards a better society.</td>\n",
       "      <td>Finance  Planning  Leadership and Management  market (economics)  behavioral finance  financial risk  stock  Risk  financial markets  investment business finance</td>\n",
       "    </tr>\n",
       "  </tbody>\n",
       "</table>\n",
       "</div>"
      ],
      "text/plain": [
       "                                                          name      institution difficulty_level rating  \\\n",
       "course_id                                                                                                 \n",
       "the-science-of-well-being            The Science of Well-Being  Yale University     Intermediate    4.8   \n",
       "technical-support-fundamentals  Technical Support Fundamentals           Google       Conversant    4.8   \n",
       "financial-markets-global                     Financial Markets  Yale University     Intermediate    4.6   \n",
       "\n",
       "                                                                                                                                                                                                                                                                                                                                                                                                                                                                                                                                                                                                                                                                                                                                                                                                                                                                                                                                                                                                             description  \\\n",
       "course_id                                                                                                                                                                                                                                                                                                                                                                                                                                                                                                                                                                                                                                                                                                                                                                                                                                                                                                                                                                                                                  \n",
       "the-science-of-well-being                                                                                                                                                                                                                                                                                                                                                                                                  In this course you will engage in a series of challenges designed to increase your own happiness and build more productive habits. As preparation for these tasks, Professor Laurie Santos reveals misconceptions about happiness, annoying features of the mind that lead us to think the way we do, and the research that can help us change. You will ultimately be prepared to successfully incorporate a specific wellness activity into your life.  THE SCIENCE OF WELL BEING WAS PRODUCED IN PART DUE TO THE GENEROUS FUNDING OF THE DAVID F. SWENSEN FUND FOR INNOVATION IN TEACHING.   \n",
       "technical-support-fundamentals  This course is the first of a series that aims to prepare you for a role as an entry-level IT Support Specialist. In this course, you�ll be introduced to the world of Information Technology, or IT. You�ll learn about the different facets of Information Technology, like computer hardware, the Internet, computer software, troubleshooting, and customer service. This course covers a wide variety of topics in IT that are designed to give you an overview of what�s to come in this certificate program.  By the end of this course, you�ll be able to: ? understand how the binary system works ? assemble a computer from scratch ? choose and install an operating system on a computer ? understand what the Internet is, how it works, and the impact it has in the modern world ? learn how applications are created and how they work under the hood of a computer ? utilize common problem-solving methodologies and soft skills in an Information Technology setting   \n",
       "financial-markets-global                                                                                                                                                                                                                                                                                                                                                                                                                                                                               An overview of the ideas, methods, and institutions that permit human society to manage risks and foster enterprise.  Emphasis on financially-savvy leadership skills. Description of practices today and analysis of prospects for the future. Introduction to risk management and behavioral finance principles to understand the real-world functioning of securities, insurance, and banking industries.  The ultimate goal of this course is using such industries effectively and towards a better society.   \n",
       "\n",
       "                                                                                                                                                                                                                                         skills  \n",
       "course_id                                                                                                                                                                                                                                        \n",
       "the-science-of-well-being                                                       positive psychology  mindfulness  gratitude  habit  exercise  savoring  happiness  meditation  psychologies  kindness personal-development personal-development  \n",
       "technical-support-fundamentals  binary code  internet  Troubleshooting  PC Hardware  software  technical support  Networking Hardware  Operating Systems  Customer Support  Software Installation information-technology support-and-operations  \n",
       "financial-markets-global                                                      Finance  Planning  Leadership and Management  market (economics)  behavioral finance  financial risk  stock  Risk  financial markets  investment business finance  "
      ]
     },
     "execution_count": 105,
     "metadata": {},
     "output_type": "execute_result"
    }
   ],
   "source": [
    "print(df_courses_full.shape)\n",
    "\n",
    "df_courses_full.head(3)"
   ]
  },
  {
   "cell_type": "code",
   "execution_count": 106,
   "id": "11f64d89",
   "metadata": {},
   "outputs": [
    {
     "name": "stdout",
     "output_type": "stream",
     "text": [
      "(420493, 5)\n"
     ]
    },
    {
     "data": {
      "text/html": [
       "<div>\n",
       "<style scoped>\n",
       "    .dataframe tbody tr th:only-of-type {\n",
       "        vertical-align: middle;\n",
       "    }\n",
       "\n",
       "    .dataframe tbody tr th {\n",
       "        vertical-align: top;\n",
       "    }\n",
       "\n",
       "    .dataframe thead th {\n",
       "        text-align: right;\n",
       "    }\n",
       "</style>\n",
       "<table border=\"1\" class=\"dataframe\">\n",
       "  <thead>\n",
       "    <tr style=\"text-align: right;\">\n",
       "      <th></th>\n",
       "      <th>reviews</th>\n",
       "      <th>reviewers</th>\n",
       "      <th>date_reviews</th>\n",
       "      <th>rating</th>\n",
       "      <th>course_id</th>\n",
       "    </tr>\n",
       "  </thead>\n",
       "  <tbody>\n",
       "    <tr>\n",
       "      <th>87</th>\n",
       "      <td>This course is virtually worthless. I couldn't follow the lectures, and I have a PhD and have been a tenured professor for almost two decades. The online course is based on snippets taken from face-to-face lectures and breakout sessions, and the result is utter incoherence. The instructor frequently refers to concepts that have not yet been encountered in the online version of the course; makes extensive use of mathematical notations and formulas whose variables are never properly explained; and generally does a poor job of explaining the material. This online version of the Yale course was obviously slapped together with very little thought and production value; it's one of those unsuccessful attempts to bring in revenue on the cheap, creating an online version out of existing face-to-face material, rather than building a real online course from scratch. This was wasted money and time. This attempt to capitalize on the Yale brand is pathetic.</td>\n",
       "      <td>By James R</td>\n",
       "      <td>Apr 23, 2019</td>\n",
       "      <td>1</td>\n",
       "      <td>financial-markets-global</td>\n",
       "    </tr>\n",
       "    <tr>\n",
       "      <th>88</th>\n",
       "      <td>This course was horrible! The Content was very disoriented and unclear. Videos were distorted, and jumping from one topic to another. There was no sense of continuity. One can not say this was a course from Yale...</td>\n",
       "      <td>By Sanam P</td>\n",
       "      <td>Oct 22, 2017</td>\n",
       "      <td>1</td>\n",
       "      <td>financial-markets-global</td>\n",
       "    </tr>\n",
       "    <tr>\n",
       "      <th>89</th>\n",
       "      <td>Terrible lecturer. Maybe he should retire. He can't stay on point. Lectures are unwatchable - except for the beautiful auditorium stage.</td>\n",
       "      <td>By Brendan F</td>\n",
       "      <td>Jan 29, 2019</td>\n",
       "      <td>1</td>\n",
       "      <td>financial-markets-global</td>\n",
       "    </tr>\n",
       "    <tr>\n",
       "      <th>90</th>\n",
       "      <td>This course was aweful! I feel like I didnt learn anything useful. The information is very superficial. The math that is applied at some points is not well explained. The overall course lacks structure and substance. The quizes were just terrible. Please dont waste your time with this.</td>\n",
       "      <td>By Eli</td>\n",
       "      <td>Sep 18, 2017</td>\n",
       "      <td>1</td>\n",
       "      <td>financial-markets-global</td>\n",
       "    </tr>\n",
       "    <tr>\n",
       "      <th>91</th>\n",
       "      <td>I was expecting more from the course. It is very unstrucuted and even misses a complete table of contents. Having paid for this course I would also have expected some manuscripts or at least a copy of the (rather unusable) slides.However the course gives a broad overview of financial topics and probably also mentions most of the concepts of key words. Unfortunately, Prof. Shiller fails to give adequate and precise definitions most of the time. They could have been included in the slides to help the students to learn in a more strucured manner. Probably the best thing about the course (for me) was that he recommended to read Nassim Taleb's works, which I did, and his books (in combination with reading up on definitions on wikipedia) really offer a lot more understanding than this course.I would recommended to consult anyone to consult a standard text-book on finance and the works of Nassim Taleb to spice things up, rather than to take this course.</td>\n",
       "      <td>By Sebastian S</td>\n",
       "      <td>Jan 05, 2020</td>\n",
       "      <td>1</td>\n",
       "      <td>financial-markets-global</td>\n",
       "    </tr>\n",
       "  </tbody>\n",
       "</table>\n",
       "</div>"
      ],
      "text/plain": [
       "                                                                                                                                                                                                                                                                                                                                                                                                                                                                                                                                                                                                                                                                                                                                                                                                                                                                                                                                                                                              reviews       reviewers  date_reviews  \\\n",
       "87  This course is virtually worthless. I couldn't follow the lectures, and I have a PhD and have been a tenured professor for almost two decades. The online course is based on snippets taken from face-to-face lectures and breakout sessions, and the result is utter incoherence. The instructor frequently refers to concepts that have not yet been encountered in the online version of the course; makes extensive use of mathematical notations and formulas whose variables are never properly explained; and generally does a poor job of explaining the material. This online version of the Yale course was obviously slapped together with very little thought and production value; it's one of those unsuccessful attempts to bring in revenue on the cheap, creating an online version out of existing face-to-face material, rather than building a real online course from scratch. This was wasted money and time. This attempt to capitalize on the Yale brand is pathetic.          By James R  Apr 23, 2019   \n",
       "88                                                                                                                                                                                                                                                                                                                                                                                                                                                                                                                                                                                                                                                                                                                                                                             This course was horrible! The Content was very disoriented and unclear. Videos were distorted, and jumping from one topic to another. There was no sense of continuity. One can not say this was a course from Yale...      By Sanam P  Oct 22, 2017   \n",
       "89                                                                                                                                                                                                                                                                                                                                                                                                                                                                                                                                                                                                                                                                                                                                                                                                                                                           Terrible lecturer. Maybe he should retire. He can't stay on point. Lectures are unwatchable - except for the beautiful auditorium stage.    By Brendan F  Jan 29, 2019   \n",
       "90                                                                                                                                                                                                                                                                                                                                                                                                                                                                                                                                                                                                                                                                                                     This course was aweful! I feel like I didnt learn anything useful. The information is very superficial. The math that is applied at some points is not well explained. The overall course lacks structure and substance. The quizes were just terrible. Please dont waste your time with this.          By Eli  Sep 18, 2017   \n",
       "91   I was expecting more from the course. It is very unstrucuted and even misses a complete table of contents. Having paid for this course I would also have expected some manuscripts or at least a copy of the (rather unusable) slides.However the course gives a broad overview of financial topics and probably also mentions most of the concepts of key words. Unfortunately, Prof. Shiller fails to give adequate and precise definitions most of the time. They could have been included in the slides to help the students to learn in a more strucured manner. Probably the best thing about the course (for me) was that he recommended to read Nassim Taleb's works, which I did, and his books (in combination with reading up on definitions on wikipedia) really offer a lot more understanding than this course.I would recommended to consult anyone to consult a standard text-book on finance and the works of Nassim Taleb to spice things up, rather than to take this course.  By Sebastian S  Jan 05, 2020   \n",
       "\n",
       "    rating                 course_id  \n",
       "87       1  financial-markets-global  \n",
       "88       1  financial-markets-global  \n",
       "89       1  financial-markets-global  \n",
       "90       1  financial-markets-global  \n",
       "91       1  financial-markets-global  "
      ]
     },
     "execution_count": 106,
     "metadata": {},
     "output_type": "execute_result"
    }
   ],
   "source": [
    "df_reviews = pd.read_csv('../data/Coursera_reviews.csv')\n",
    "df_reviews = df_reviews[df_reviews['course_id'].isin(df_courses_full.index)].drop_duplicates()\n",
    "print(df_reviews.shape)\n",
    "df_reviews.head()"
   ]
  },
  {
   "cell_type": "code",
   "execution_count": 107,
   "id": "430d003f",
   "metadata": {},
   "outputs": [
    {
     "name": "stdout",
     "output_type": "stream",
     "text": [
      "(234884, 2)\n"
     ]
    },
    {
     "data": {
      "text/html": [
       "<div>\n",
       "<style scoped>\n",
       "    .dataframe tbody tr th:only-of-type {\n",
       "        vertical-align: middle;\n",
       "    }\n",
       "\n",
       "    .dataframe tbody tr th {\n",
       "        vertical-align: top;\n",
       "    }\n",
       "\n",
       "    .dataframe thead th {\n",
       "        text-align: right;\n",
       "    }\n",
       "</style>\n",
       "<table border=\"1\" class=\"dataframe\">\n",
       "  <thead>\n",
       "    <tr style=\"text-align: right;\">\n",
       "      <th></th>\n",
       "      <th>avg_rating</th>\n",
       "      <th>courses</th>\n",
       "    </tr>\n",
       "    <tr>\n",
       "      <th>reviewers</th>\n",
       "      <th></th>\n",
       "      <th></th>\n",
       "    </tr>\n",
       "  </thead>\n",
       "  <tbody>\n",
       "    <tr>\n",
       "      <th>By Deleted A</th>\n",
       "      <td>4.509816</td>\n",
       "      <td>1579</td>\n",
       "    </tr>\n",
       "    <tr>\n",
       "      <th>By Muhammad A</th>\n",
       "      <td>4.793427</td>\n",
       "      <td>213</td>\n",
       "    </tr>\n",
       "    <tr>\n",
       "      <th>By Abhishek S</th>\n",
       "      <td>4.654412</td>\n",
       "      <td>136</td>\n",
       "    </tr>\n",
       "    <tr>\n",
       "      <th>By David M</th>\n",
       "      <td>4.568000</td>\n",
       "      <td>125</td>\n",
       "    </tr>\n",
       "    <tr>\n",
       "      <th>By Michael S</th>\n",
       "      <td>4.400000</td>\n",
       "      <td>125</td>\n",
       "    </tr>\n",
       "  </tbody>\n",
       "</table>\n",
       "</div>"
      ],
      "text/plain": [
       "               avg_rating  courses\n",
       "reviewers                         \n",
       "By Deleted A     4.509816     1579\n",
       "By Muhammad A    4.793427      213\n",
       "By Abhishek S    4.654412      136\n",
       "By David M       4.568000      125\n",
       "By Michael S     4.400000      125"
      ]
     },
     "execution_count": 107,
     "metadata": {},
     "output_type": "execute_result"
    }
   ],
   "source": [
    "df_students = (df_reviews.groupby('reviewers').agg({\n",
    "    'rating': 'mean',\n",
    "    'course_id': 'count'\n",
    "}).rename(columns={'course_id': 'courses', 'rating': 'avg_rating'})\n",
    "  .sort_values(by='courses', ascending=False))\n",
    "\n",
    "print(df_students.shape)\n",
    "df_students.head()"
   ]
  },
  {
   "cell_type": "code",
   "execution_count": 109,
   "id": "699c9f7b",
   "metadata": {},
   "outputs": [
    {
     "data": {
      "text/plain": [
       "0.500     1.0\n",
       "0.750     2.0\n",
       "0.900     3.0\n",
       "0.990    12.0\n",
       "0.999    36.0\n",
       "Name: courses, dtype: float64"
      ]
     },
     "execution_count": 109,
     "metadata": {},
     "output_type": "execute_result"
    }
   ],
   "source": [
    "df_students['courses'].quantile([0.5, 0.75, 0.9, 0.99, 0.999])"
   ]
  },
  {
   "cell_type": "markdown",
   "id": "bc2266e0",
   "metadata": {},
   "source": [
    "Some problems:\n",
    "\n",
    "* VERY skewed (90% of people only take at most 3 courses)\n",
    "* Possible duplication of common names like \"Muhammad A\" and \"Deleted A\""
   ]
  },
  {
   "cell_type": "markdown",
   "id": "ead6bbd5-ef68-4f4e-a417-76ada6165f5f",
   "metadata": {},
   "source": [
    "## Exploring options for train-test split"
   ]
  },
  {
   "cell_type": "code",
   "execution_count": 73,
   "id": "f7197fb1-3316-4d2c-b3cb-1206103fdc3f",
   "metadata": {},
   "outputs": [],
   "source": [
    "def sparsity(lb, ub):\n",
    "    student_set = df_students[df_students['courses'].between(lb, ub)]\n",
    "    total_students = len(df_students)\n",
    "    student_count = len(student_set)\n",
    "\n",
    "    review_set = df_reviews[df_reviews['reviewers'].isin(student_set.index)]\n",
    "    total_reviews = len(df_reviews)\n",
    "    review_count = len(review_set)\n",
    "\n",
    "    total_courses = len(df_courses_full)\n",
    "    courses_count = df_courses_full.index.isin(review_set['course_id']).sum()\n",
    "\n",
    "    sparsity = review_count / (student_count * courses_count)\n",
    "    return (\n",
    "        review_count / total_reviews,\n",
    "        courses_count / total_courses,\n",
    "        student_count / total_students,\n",
    "        sparsity\n",
    "    )"
   ]
  },
  {
   "cell_type": "code",
   "execution_count": 76,
   "id": "4112e074-d097-4b09-a241-506b6054b8be",
   "metadata": {},
   "outputs": [],
   "source": [
    "x = np.array([3, 4, 5, 6, 7, 8, 9])\n",
    "results = np.array([sparsity(i, 36) for i in x])"
   ]
  },
  {
   "cell_type": "code",
   "execution_count": 77,
   "id": "aba193e9-fc5d-4166-812a-296d96a387af",
   "metadata": {},
   "outputs": [
    {
     "data": {
      "text/plain": [
       "Text(0.5, 1.0, 'Sparsity of interaction matrix')"
      ]
     },
     "execution_count": 77,
     "metadata": {},
     "output_type": "execute_result"
    },
    {
     "data": {
      "image/png": "[encoded data removed]",
      "text/plain": [
       "<Figure size 1600x600 with 2 Axes>"
      ]
     },
     "metadata": {},
     "output_type": "display_data"
    }
   ],
   "source": [
    "fig, axs = plt.subplots(1, 2, figsize=(16, 6))\n",
    "\n",
    "axs[0].plot(x, results[:, 0], label='Ratio of total reviews', marker='.')\n",
    "axs[0].plot(x, results[:, 1], label='Ratio of total courses', marker='.')\n",
    "axs[0].plot(x, results[:, 2], label='Ratio of total students', marker='.')\n",
    "axs[0].legend()\n",
    "axs[0].set_xlabel('Lower bound of # of courses a student took')\n",
    "axs[0].set_title('Ratio of original dataset')\n",
    "\n",
    "axs[1].plot(x, results[:, 3], label='Sparsity', marker='.')\n",
    "axs[1].set_xlabel('Lower bound of # of courses a student took')\n",
    "axs[1].set_title('Sparsity of interaction matrix')"
   ]
  },
  {
   "cell_type": "code",
   "execution_count": 98,
   "id": "beec374a-ed2d-4a64-b952-bb143a8ac020",
   "metadata": {},
   "outputs": [
    {
     "data": {
      "text/plain": [
       "Text(0.5, 1.0, 'Sparsity of interaction matrix')"
      ]
     },
     "execution_count": 98,
     "metadata": {},
     "output_type": "execute_result"
    },
    {
     "data": {
      "image/png": "[encoded data removed]",
      "text/plain": [
       "<Figure size 1600x600 with 2 Axes>"
      ]
     },
     "metadata": {},
     "output_type": "display_data"
    }
   ],
   "source": [
    "x = np.array([int(12 * i) for i in range(1, 11)])\n",
    "results = np.array([sparsity(3, i) for i in x])\n",
    "\n",
    "fig, axs = plt.subplots(1, 2, figsize=(16, 6))\n",
    "\n",
    "axs[0].plot(x, results[:, 0], label='Ratio of total reviews', marker='.')\n",
    "axs[0].plot(x, results[:, 1], label='Ratio of total courses', marker='.')\n",
    "axs[0].plot(x, results[:, 2], label='Ratio of total students', marker='.')\n",
    "axs[0].legend()\n",
    "axs[0].set_xlabel('Upper bound of # of courses a student took')\n",
    "axs[0].set_title('Ratio of original dataset')\n",
    "\n",
    "axs[1].plot(x, results[:, 3], label='Sparsity', marker='.')\n",
    "axs[1].set_xlabel('Upper bound of # of courses a student took')\n",
    "axs[1].set_title('Sparsity of interaction matrix')"
   ]
  },
  {
   "cell_type": "markdown",
   "id": "58de2ae7-3682-4d27-96ec-0804fb468306",
   "metadata": {},
   "source": [
    "Takeaways:\n",
    "* The upper bound doesn't matter as much for sparsity, but it could have an effect on dataset cleanliness (depending on how legit some of them look)\n",
    "* The lower bound has a larger effect on sparsity. Depending on how we want to design the train-test split, we may settle for some value from 3 to 6."
   ]
  },
  {
   "cell_type": "markdown",
   "id": "417755f4-2d30-4fb4-8a82-b7f5b5355ed9",
   "metadata": {},
   "source": [
    "## Finding an upper bound based on duplicate user-course pairs"
   ]
  },
  {
   "cell_type": "code",
   "execution_count": 85,
   "id": "9b34e552-9004-42d2-9085-05238581a4aa",
   "metadata": {},
   "outputs": [
    {
     "name": "stdout",
     "output_type": "stream",
     "text": [
      "Dupes ratio: 0.84%\n"
     ]
    }
   ],
   "source": [
    "student_set = df_students[df_students['courses'] <= 12]\n",
    "review_set = df_reviews[df_reviews['reviewers'].isin(student_set.index)]\n",
    "print(f\"Dupes ratio: {100 - (100.0 * (len(review_set.drop_duplicates(['reviewers', 'course_id'])) / len(review_set))):.2f}%\")"
   ]
  },
  {
   "cell_type": "code",
   "execution_count": 86,
   "id": "9ebfc40b-2840-447d-b9bb-c3dee055f93e",
   "metadata": {},
   "outputs": [],
   "source": [
    "dupes = review_set.groupby(['reviewers', 'course_id'])[['reviews']].count()\n",
    "dupes = dupes[dupes['reviews'] > 1].sort_values(by='reviews', ascending=False).reset_index()"
   ]
  },
  {
   "cell_type": "code",
   "execution_count": 87,
   "id": "0ce4bb6d-5373-45be-a942-d565da05ec8f",
   "metadata": {},
   "outputs": [
    {
     "data": {
      "text/html": [
       "<div>\n",
       "<style scoped>\n",
       "    .dataframe tbody tr th:only-of-type {\n",
       "        vertical-align: middle;\n",
       "    }\n",
       "\n",
       "    .dataframe tbody tr th {\n",
       "        vertical-align: top;\n",
       "    }\n",
       "\n",
       "    .dataframe thead th {\n",
       "        text-align: right;\n",
       "    }\n",
       "</style>\n",
       "<table border=\"1\" class=\"dataframe\">\n",
       "  <thead>\n",
       "    <tr style=\"text-align: right;\">\n",
       "      <th></th>\n",
       "      <th>reviewers</th>\n",
       "      <th>course_id</th>\n",
       "      <th>reviews_x</th>\n",
       "      <th>reviews_y</th>\n",
       "      <th>date_reviews</th>\n",
       "      <th>rating</th>\n",
       "    </tr>\n",
       "  </thead>\n",
       "  <tbody>\n",
       "    <tr>\n",
       "      <th>0</th>\n",
       "      <td>By Rebecca H</td>\n",
       "      <td>the-science-of-well-being</td>\n",
       "      <td>6</td>\n",
       "      <td>I enjoyed the course. I have learned to look at my daily activities in a variety of ways!</td>\n",
       "      <td>Apr 21, 2020</td>\n",
       "      <td>4</td>\n",
       "    </tr>\n",
       "    <tr>\n",
       "      <th>1</th>\n",
       "      <td>By Rebecca H</td>\n",
       "      <td>the-science-of-well-being</td>\n",
       "      <td>6</td>\n",
       "      <td>How often do we take time to study ourselves? This course provides the framework for just that - backed up by real science and an engaging lecturer.  This is a course I would highly recommend to anyone looking  to carve out space for themselves. It encourages you to take a meaningful look at yourself and your habits and finding opportunities to promote your own happiness.</td>\n",
       "      <td>Aug 16, 2020</td>\n",
       "      <td>5</td>\n",
       "    </tr>\n",
       "    <tr>\n",
       "      <th>2</th>\n",
       "      <td>By Rebecca H</td>\n",
       "      <td>the-science-of-well-being</td>\n",
       "      <td>6</td>\n",
       "      <td>This course has helped me find happiness in the little things again. I'd been feeling a bit down and self conscious, and now I'm able to stop, think, appreciate, admire life again. When I'd go on a hike, instead of thinking about what comes next, I'd focus on living in the now, and all the things around me to be grateful more. I highly recommend this course.</td>\n",
       "      <td>Jun 08, 2020</td>\n",
       "      <td>5</td>\n",
       "    </tr>\n",
       "    <tr>\n",
       "      <th>3</th>\n",
       "      <td>By Rebecca H</td>\n",
       "      <td>the-science-of-well-being</td>\n",
       "      <td>6</td>\n",
       "      <td>Wonderful course! So insightful and really made me look at happiness differently and start putting into place practices to improve my wellbeing and happiness for the long term. I have already recommended the course to all my friends and family, can't speak highly enough of Laurie Santos, she's amazing! Thank you!</td>\n",
       "      <td>May 16, 2020</td>\n",
       "      <td>5</td>\n",
       "    </tr>\n",
       "    <tr>\n",
       "      <th>4</th>\n",
       "      <td>By Rebecca H</td>\n",
       "      <td>the-science-of-well-being</td>\n",
       "      <td>6</td>\n",
       "      <td>Easy to follow, engaging and interesting. Great to put the science into practice and see the benefits.</td>\n",
       "      <td>May 22, 2020</td>\n",
       "      <td>5</td>\n",
       "    </tr>\n",
       "  </tbody>\n",
       "</table>\n",
       "</div>"
      ],
      "text/plain": [
       "      reviewers                  course_id  reviews_x                                                                                                                                                                                                                                                                                                                                                                                 reviews_y  date_reviews  rating\n",
       "0  By Rebecca H  the-science-of-well-being          6                                                                                                                                                                                                                                                                                                 I enjoyed the course. I have learned to look at my daily activities in a variety of ways!  Apr 21, 2020       4\n",
       "1  By Rebecca H  the-science-of-well-being          6  How often do we take time to study ourselves? This course provides the framework for just that - backed up by real science and an engaging lecturer.  This is a course I would highly recommend to anyone looking  to carve out space for themselves. It encourages you to take a meaningful look at yourself and your habits and finding opportunities to promote your own happiness.    Aug 16, 2020       5\n",
       "2  By Rebecca H  the-science-of-well-being          6                  This course has helped me find happiness in the little things again. I'd been feeling a bit down and self conscious, and now I'm able to stop, think, appreciate, admire life again. When I'd go on a hike, instead of thinking about what comes next, I'd focus on living in the now, and all the things around me to be grateful more. I highly recommend this course.  Jun 08, 2020       5\n",
       "3  By Rebecca H  the-science-of-well-being          6                                                                Wonderful course! So insightful and really made me look at happiness differently and start putting into place practices to improve my wellbeing and happiness for the long term. I have already recommended the course to all my friends and family, can't speak highly enough of Laurie Santos, she's amazing! Thank you!  May 16, 2020       5\n",
       "4  By Rebecca H  the-science-of-well-being          6                                                                                                                                                                                                                                                                                    Easy to follow, engaging and interesting. Great to put the science into practice and see the benefits.  May 22, 2020       5"
      ]
     },
     "execution_count": 87,
     "metadata": {},
     "output_type": "execute_result"
    }
   ],
   "source": [
    "dupe_reviews = dupes.merge(review_set, on=['reviewers', 'course_id'], how='inner')\n",
    "dupe_reviews.head()"
   ]
  },
  {
   "cell_type": "code",
   "execution_count": 93,
   "id": "c7ef6198-c74a-4a11-b94c-fe3a399341e9",
   "metadata": {},
   "outputs": [],
   "source": [
    "def dupe_ratio(ub):\n",
    "    student_set = df_students[df_students['courses'].between(3, ub)]\n",
    "    review_set = df_reviews[df_reviews['reviewers'].isin(student_set.index)]\n",
    "    return (1 - (len(review_set.drop_duplicates(['reviewers', 'course_id'])) / len(review_set)))"
   ]
  },
  {
   "cell_type": "code",
   "execution_count": 96,
   "id": "6d67b8d2-6f0c-4fdf-b008-43f2c45442ee",
   "metadata": {},
   "outputs": [
    {
     "data": {
      "text/plain": [
       "Text(0.5, 1.0, 'Duplicate review ratio')"
      ]
     },
     "execution_count": 96,
     "metadata": {},
     "output_type": "execute_result"
    },
    {
     "data": {
      "image/png": "[encoded data removed]",
      "text/plain": [
       "<Figure size 800x600 with 1 Axes>"
      ]
     },
     "metadata": {},
     "output_type": "display_data"
    }
   ],
   "source": [
    "x = np.array([int(12 * i) for i in range(1, 11)])\n",
    "results = np.array([dupe_ratio(i) for i in x])\n",
    "\n",
    "fig, ax = plt.subplots(figsize=(8, 6))\n",
    "\n",
    "ax.plot(x, results, label='Duplicate review ratio', marker='.')\n",
    "ax.set_xlabel('Upper bound of # of courses a student took')\n",
    "ax.set_title('Duplicate review ratio')"
   ]
  },
  {
   "cell_type": "markdown",
   "id": "c27eb6e2-9af3-4ba4-a623-ca4af061d10c",
   "metadata": {},
   "source": [
    "If we set the bounds to, say, 3 to 50 courses:\n",
    "* Can still test people based off of 1 or 2 courses\n",
    "* Only 4.5% dupes\n",
    "* 1.2% sparsity"
   ]
  },
  {
   "cell_type": "code",
   "execution_count": 101,
   "id": "177197c9-0b07-4be7-a3a7-c1fb14ac02e5",
   "metadata": {},
   "outputs": [
    {
     "name": "stdout",
     "output_type": "stream",
     "text": [
      "30719 students, 468 courses, 174219 reviews\n",
      "Sparsity: 1.21%\n"
     ]
    }
   ],
   "source": [
    "student_set = df_students[df_students['courses'].between(3, 50)]\n",
    "total_students = len(df_students)\n",
    "student_count = len(student_set)\n",
    "\n",
    "review_set = df_reviews[df_reviews['reviewers'].isin(student_set.index)]\n",
    "total_reviews = len(df_reviews)\n",
    "review_count = len(review_set)\n",
    "\n",
    "total_courses = len(df_courses_full)\n",
    "courses_count = df_courses_full.index.isin(review_set['course_id']).sum()\n",
    "\n",
    "sparsity = review_count / (student_count * courses_count)\n",
    "\n",
    "print(f\"{student_count} students, {courses_count} courses, {review_count} reviews\")\n",
    "print(f\"Sparsity: {100*sparsity:.2f}%\")"
   ]
  },
  {
   "cell_type": "markdown",
   "id": "40c3e347",
   "metadata": {},
   "source": [
    "## Plans for testing\n",
    "\n",
    "* Train-test split by user (sequence split might be too short)\n",
    "* Sequence prediction (i.e. predict the next course to take)\n",
    "    * Since most sequence lengths are really short (< 5), we can assess for short methods\n",
    "* Rating prediction\n",
    "    * Regression problem"
   ]
  },
  {
   "cell_type": "code",
   "execution_count": null,
   "id": "b9720e32",
   "metadata": {},
   "outputs": [],
   "source": []
  }
 ],
 "metadata": {
  "kernelspec": {
   "display_name": "Python 3 (ipykernel)",
   "language": "python",
   "name": "python3"
  },
  "language_info": {
   "codemirror_mode": {
    "name": "ipython",
    "version": 3
   },
   "file_extension": ".py",
   "mimetype": "text/x-python",
   "name": "python",
   "nbconvert_exporter": "python",
   "pygments_lexer": "ipython3",
   "version": "3.10.12"
  }
 },
 "nbformat": 4,
 "nbformat_minor": 5
}
