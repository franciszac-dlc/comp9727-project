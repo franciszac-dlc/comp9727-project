{
 "cells": [
  {
   "cell_type": "markdown",
   "id": "55f1742a-421c-4f90-aa5a-dd8324fc29c7",
   "metadata": {},
   "source": [
    "# Coursera Dataset Train-Test split and Munging\n",
    "\n",
    "* [Course Reviews on Coursera](https://www.kaggle.com/datasets/imuhammad/course-reviews-on-coursera)\n",
    "* [Coursera Courses 2021](https://www.kaggle.com/datasets/khusheekapoor/coursera-courses-dataset-2021)"
   ]
  },
  {
   "cell_type": "code",
   "execution_count": 1,
   "id": "10f51598-5be8-4cab-9b5a-defbb5b5918e",
   "metadata": {},
   "outputs": [],
   "source": [
    "import pandas as pd\n",
    "import numpy as np\n",
    "import matplotlib.pyplot as plt\n",
    "import seaborn as sns\n",
    "\n",
    "from coursemate.dataset import Dataset"
   ]
  },
  {
   "cell_type": "code",
   "execution_count": 7,
   "id": "0de92f75-c831-42a6-9b0f-b1c5d00101a6",
   "metadata": {},
   "outputs": [],
   "source": [
    "from sklearn.model_selection import train_test_split"
   ]
  },
  {
   "cell_type": "code",
   "execution_count": 2,
   "id": "6a4d4071-2572-4034-8fe6-2e5d208cba98",
   "metadata": {},
   "outputs": [],
   "source": [
    "pd.set_option('display.width', 1000)\n",
    "pd.set_option('display.max_colwidth', 1000)"
   ]
  },
  {
   "cell_type": "code",
   "execution_count": 3,
   "id": "0bf5ba36-182f-4c4a-a5b4-f6e45a5858a4",
   "metadata": {},
   "outputs": [],
   "source": [
    "%load_ext autoreload\n",
    "%autoreload 2"
   ]
  },
  {
   "cell_type": "markdown",
   "id": "c6f3bc0c-fe78-4ecc-b64a-6dfe5d1e4754",
   "metadata": {},
   "source": [
    "## Dataset class"
   ]
  },
  {
   "cell_type": "code",
   "execution_count": 71,
   "id": "87d13ffd-6e76-495c-ba57-436f334c0c5b",
   "metadata": {},
   "outputs": [
    {
     "name": "stdout",
     "output_type": "stream",
     "text": [
      "Loading Coursera courses...\n",
      "Loading Coursera reviews...\n",
      "Segmenting out students with less than 3 or more than 50 reviews...\n",
      "30719 students, 468 courses, 174219 reviews\n",
      "Sparsity: 1.21%\n",
      "Duplicates: 4.54%\n"
     ]
    }
   ],
   "source": [
    "dataset = Dataset('../data/Coursera_courses.csv', '../data/Coursera.csv', '../data/Coursera_reviews.csv')\n",
    "dataset.set_interaction_counts(3, 50)\n",
    "dataset.show_dataset_details()"
   ]
  },
  {
   "cell_type": "markdown",
   "id": "0944346d-f38b-4ccc-b3a9-571d4081f789",
   "metadata": {},
   "source": [
    "## Getting the train-test split as a matrix"
   ]
  },
  {
   "cell_type": "code",
   "execution_count": 72,
   "id": "f49334e0-8e80-4c30-ac71-af1a11e9e3f2",
   "metadata": {},
   "outputs": [
    {
     "name": "stdout",
     "output_type": "stream",
     "text": [
      "Setting the train-test split by rating...\n"
     ]
    },
    {
     "name": "stderr",
     "output_type": "stream",
     "text": [
      "174219it [00:08, 21238.44it/s]\n"
     ]
    },
    {
     "name": "stdout",
     "output_type": "stream",
     "text": [
      "Computing the training and test rating matrix...\n"
     ]
    },
    {
     "name": "stderr",
     "output_type": "stream",
     "text": [
      "128771it [00:06, 19415.51it/s]\n",
      "45448it [00:02, 19032.75it/s]\n"
     ]
    }
   ],
   "source": [
    "dataset.set_train_test_split_by_ratings(ratio=0.8)\n",
    "training_matrix, test_matrix = dataset.get_train_test_matrices()"
   ]
  },
  {
   "cell_type": "code",
   "execution_count": 73,
   "id": "fb02c2da-6ab3-4583-acef-cc477a3f35a5",
   "metadata": {},
   "outputs": [
    {
     "data": {
      "text/plain": [
       "array([[5, 0, 5, ..., 0, 0, 0],\n",
       "       [5, 5, 0, ..., 0, 0, 0],\n",
       "       [4, 5, 5, ..., 0, 0, 0],\n",
       "       ...,\n",
       "       [5, 0, 0, ..., 0, 0, 0],\n",
       "       [0, 0, 0, ..., 0, 0, 0],\n",
       "       [0, 0, 0, ..., 0, 0, 0]], dtype=int8)"
      ]
     },
     "execution_count": 73,
     "metadata": {},
     "output_type": "execute_result"
    }
   ],
   "source": [
    "training_matrix"
   ]
  },
  {
   "cell_type": "code",
   "execution_count": 74,
   "id": "fbf71070-34d3-4ff2-8ff6-4474189a0e68",
   "metadata": {},
   "outputs": [
    {
     "data": {
      "text/plain": [
       "array([[5, 0, 5, ..., 0, 0, 0],\n",
       "       [5, 5, 0, ..., 0, 0, 0],\n",
       "       [4, 5, 5, ..., 0, 0, 0],\n",
       "       ...,\n",
       "       [5, 0, 0, ..., 0, 0, 0],\n",
       "       [0, 0, 0, ..., 0, 0, 0],\n",
       "       [0, 0, 0, ..., 0, 0, 0]], dtype=int8)"
      ]
     },
     "execution_count": 74,
     "metadata": {},
     "output_type": "execute_result"
    }
   ],
   "source": [
    "test_matrix"
   ]
  },
  {
   "cell_type": "code",
   "execution_count": 75,
   "id": "cae5bfb6-ae0f-4597-8558-5a7c88c33209",
   "metadata": {},
   "outputs": [
    {
     "data": {
      "text/plain": [
       "123859"
      ]
     },
     "execution_count": 75,
     "metadata": {},
     "output_type": "execute_result"
    }
   ],
   "source": [
    "(training_matrix != 0).sum()"
   ]
  },
  {
   "cell_type": "code",
   "execution_count": 76,
   "id": "7c52213a-843d-4b80-b771-cc79f80d2031",
   "metadata": {},
   "outputs": [
    {
     "data": {
      "text/plain": [
       "166310"
      ]
     },
     "execution_count": 76,
     "metadata": {},
     "output_type": "execute_result"
    }
   ],
   "source": [
    "(test_matrix != 0).sum()"
   ]
  },
  {
   "cell_type": "markdown",
   "id": "01f510f2-387f-4265-b4f6-9922ae80fcc2",
   "metadata": {},
   "source": [
    "## Getting the train-test split as a list of data points"
   ]
  },
  {
   "cell_type": "code",
   "execution_count": 77,
   "id": "f250ac20-64d3-41e3-b801-ec9b822d203c",
   "metadata": {},
   "outputs": [
    {
     "name": "stdout",
     "output_type": "stream",
     "text": [
      "Setting the train-test split by user...\n",
      "Computing the training and test list of sequences...\n"
     ]
    },
    {
     "name": "stderr",
     "output_type": "stream",
     "text": [
      "131100it [00:07, 18564.81it/s]\n",
      "43119it [00:02, 17723.09it/s]\n"
     ]
    }
   ],
   "source": [
    "dataset.set_train_test_split_by_user()\n",
    "train_X, test_X, train_y, test_y = dataset.get_train_test_sequence_predictions()"
   ]
  },
  {
   "cell_type": "code",
   "execution_count": 80,
   "id": "dfdef7b8-4a49-4650-af8a-c818632a05a8",
   "metadata": {},
   "outputs": [
    {
     "name": "stdout",
     "output_type": "stream",
     "text": [
      "By  B R s  : {'information-security-data'} => aws-fundamentals-going-cloud-native\n",
      "By  B R s  : {'information-security-data', 'aws-fundamentals-going-cloud-native'} => python-basics\n",
      "By  B R s  : {'python-basics', 'information-security-data', 'aws-fundamentals-going-cloud-native'} => introduction-cybersecurity-cyber-attacks\n",
      "By  B S K : {'python-data'} => neural-networks-deep-learning\n",
      "By  B S K : {'python-data', 'neural-networks-deep-learning'} => deep-neural-network\n",
      "By  B S K : {'python-data', 'neural-networks-deep-learning', 'deep-neural-network'} => machine-learning-projects\n",
      "By  B S K : {'python-data', 'machine-learning-projects', 'neural-networks-deep-learning', 'deep-neural-network'} => introduction-tensorflow\n",
      "By  B S K : {'python-data', 'machine-learning-projects', 'neural-networks-deep-learning', 'deep-neural-network', 'introduction-tensorflow'} => convolutional-neural-networks-tensorflow\n",
      "By  B S K : {'python-data', 'machine-learning-projects', 'neural-networks-deep-learning', 'deep-neural-network', 'convolutional-neural-networks-tensorflow', 'introduction-tensorflow'} => tensorflow-sequences-time-series-and-prediction\n",
      "By  C S V  : {'neural-networks-deep-learning'} => machine-learning-projects\n"
     ]
    }
   ],
   "source": [
    "for x, y in zip(train_X[:10], train_y[:10]):\n",
    "    print(f\"{x[0]} : {x[1]} => {y}\")"
   ]
  }
 ],
 "metadata": {
  "kernelspec": {
   "display_name": "Python 3 (ipykernel)",
   "language": "python",
   "name": "python3"
  },
  "language_info": {
   "codemirror_mode": {
    "name": "ipython",
    "version": 3
   },
   "file_extension": ".py",
   "mimetype": "text/x-python",
   "name": "python",
   "nbconvert_exporter": "python",
   "pygments_lexer": "ipython3",
   "version": "3.10.12"
  }
 },
 "nbformat": 4,
 "nbformat_minor": 5
}
