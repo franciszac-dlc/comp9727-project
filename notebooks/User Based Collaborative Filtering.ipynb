{
 "cells": [
  {
   "cell_type": "code",
   "execution_count": 1,
   "metadata": {},
   "outputs": [],
   "source": [
    "import pandas as pd\n",
    "import numpy as np\n",
    "import matplotlib.pyplot as plt\n",
    "import seaborn as sns\n",
    "from tqdm import tqdm\n",
    "from coursemate.dataset import Dataset\n",
    "from coursemate.model import UserBasedCF\n",
    "\n",
    "pd.set_option('display.width', 1000)\n",
    "pd.set_option('display.max_colwidth', 1000)\n"
   ]
  },
  {
   "cell_type": "code",
   "execution_count": 2,
   "metadata": {},
   "outputs": [
    {
     "name": "stdout",
     "output_type": "stream",
     "text": [
      "Loading Coursera courses...\n"
     ]
    },
    {
     "name": "stdout",
     "output_type": "stream",
     "text": [
      "Loading Coursera reviews...\n",
      "Segmenting out students with less than 3 or more than 50 reviews...\n",
      "30719 students, 468 courses, 174219 reviews\n",
      "Sparsity: 1.21%\n",
      "Duplicates: 4.54%\n"
     ]
    }
   ],
   "source": [
    "dataset = Dataset('data/Coursera_courses.csv', 'data/Coursera.csv', 'data/Coursera_reviews.csv')\n",
    "dataset.set_interaction_counts(3, 50)\n",
    "dataset.show_dataset_details()"
   ]
  },
  {
   "cell_type": "code",
   "execution_count": 3,
   "metadata": {},
   "outputs": [
    {
     "name": "stdout",
     "output_type": "stream",
     "text": [
      "Setting the train-test split by user...\n"
     ]
    }
   ],
   "source": [
    "dataset.set_train_test_split_by_user()\n",
    "\n",
    "# Instantiate the UserBasedCF model\n",
    "user_cf_model = UserBasedCF()\n",
    "\n",
    "# Fit the model with the training data\n",
    "# Ensure that dataset.train_ratings is available and properly set up before this step\n",
    "user_cf_model.fit(dataset.train_ratings)"
   ]
  },
  {
   "cell_type": "code",
   "execution_count": 4,
   "metadata": {},
   "outputs": [],
   "source": [
    "# Get recommendations for a particular user\n",
    "user_id = 'By Kelvin k'\n",
    "recommendations = user_cf_model.recommend(user_id, k=5)"
   ]
  },
  {
   "cell_type": "code",
   "execution_count": 5,
   "metadata": {},
   "outputs": [
    {
     "data": {
      "text/plain": [
       "['aws-fundamentals-going-cloud-native',\n",
       " 'information-security-data',\n",
       " 'sql-for-data-science',\n",
       " 'python-basics',\n",
       " 'intro-sql']"
      ]
     },
     "execution_count": 5,
     "metadata": {},
     "output_type": "execute_result"
    }
   ],
   "source": [
    "recommendations"
   ]
  },
  {
   "cell_type": "code",
   "execution_count": 3,
   "metadata": {},
   "outputs": [
    {
     "name": "stdout",
     "output_type": "stream",
     "text": [
      "Setting the train-test split randomly...\n"
     ]
    }
   ],
   "source": [
    "dataset.set_train_test_split_random()\n",
    "# Instantiate the UserBasedCF model\n",
    "user_cf_model = UserBasedCF()\n",
    "\n",
    "# Fit the model with the training data\n",
    "# Ensure that dataset.train_ratings is available and properly set up before this step\n",
    "user_cf_model.fit(dataset.train_ratings)"
   ]
  },
  {
   "cell_type": "markdown",
   "metadata": {},
   "source": [
    "### Evaluation"
   ]
  },
  {
   "cell_type": "code",
   "execution_count": 4,
   "metadata": {},
   "outputs": [],
   "source": [
    "def hit_rate(model, test_set, k=5):\n",
    "    hits = 0\n",
    "    total = 0\n",
    "\n",
    "    for user_id in test_set['reviewers'].unique():\n",
    "        # Check if the user_id exists in the user similarity matrix\n",
    "        if user_id not in model.user_similarity_matrix.index:\n",
    "            continue  # Skip this user if not in the training set\n",
    "\n",
    "        user_actual = test_set[test_set['reviewers'] == user_id]\n",
    "        user_actual_top_k = user_actual.nlargest(k, 'rating')['course_id']\n",
    "        user_predicted_top_k = model.recommend(user_id, k)\n",
    "\n",
    "        hits += 1 if len(set(user_predicted_top_k) & set(user_actual_top_k)) > 0 else 0\n",
    "        total += 1\n",
    "        \n",
    "        print(f\"Hit Rate: {hits / total if total > 0 else 0}\")\n",
    "        \n",
    "        if total == 200: # Stop after 200 users\n",
    "            break\n",
    "\n",
    "    return hits / total if total > 0 else 0"
   ]
  },
  {
   "cell_type": "code",
   "execution_count": 5,
   "metadata": {},
   "outputs": [
    {
     "name": "stdout",
     "output_type": "stream",
     "text": [
      "Hit Rate: 0.0\n",
      "Hit Rate: 0.0\n",
      "Hit Rate: 0.0\n",
      "Hit Rate: 0.25\n",
      "Hit Rate: 0.4\n",
      "Hit Rate: 0.3333333333333333\n",
      "Hit Rate: 0.2857142857142857\n",
      "Hit Rate: 0.25\n",
      "Hit Rate: 0.2222222222222222\n",
      "Hit Rate: 0.3\n",
      "Hit Rate: 0.36363636363636365\n",
      "Hit Rate: 0.3333333333333333\n",
      "Hit Rate: 0.3076923076923077\n",
      "Hit Rate: 0.35714285714285715\n",
      "Hit Rate: 0.3333333333333333\n",
      "Hit Rate: 0.375\n",
      "Hit Rate: 0.35294117647058826\n",
      "Hit Rate: 0.3333333333333333\n",
      "Hit Rate: 0.3684210526315789\n",
      "Hit Rate: 0.35\n",
      "Hit Rate: 0.3333333333333333\n",
      "Hit Rate: 0.36363636363636365\n",
      "Hit Rate: 0.34782608695652173\n",
      "Hit Rate: 0.375\n",
      "Hit Rate: 0.4\n",
      "Hit Rate: 0.38461538461538464\n",
      "Hit Rate: 0.37037037037037035\n",
      "Hit Rate: 0.35714285714285715\n",
      "Hit Rate: 0.3448275862068966\n",
      "Hit Rate: 0.3333333333333333\n",
      "Hit Rate: 0.3225806451612903\n",
      "Hit Rate: 0.3125\n",
      "Hit Rate: 0.3333333333333333\n",
      "Hit Rate: 0.3235294117647059\n",
      "Hit Rate: 0.3142857142857143\n",
      "Hit Rate: 0.3055555555555556\n",
      "Hit Rate: 0.32432432432432434\n",
      "Hit Rate: 0.3157894736842105\n",
      "Hit Rate: 0.3333333333333333\n",
      "Hit Rate: 0.35\n",
      "Hit Rate: 0.34146341463414637\n",
      "Hit Rate: 0.3333333333333333\n",
      "Hit Rate: 0.32558139534883723\n",
      "Hit Rate: 0.3409090909090909\n",
      "Hit Rate: 0.3333333333333333\n",
      "Hit Rate: 0.32608695652173914\n",
      "Hit Rate: 0.3191489361702128\n",
      "Hit Rate: 0.3333333333333333\n",
      "Hit Rate: 0.3469387755102041\n",
      "Hit Rate: 0.34\n",
      "Hit Rate: 0.3333333333333333\n",
      "Hit Rate: 0.3269230769230769\n",
      "Hit Rate: 0.32075471698113206\n",
      "Hit Rate: 0.3148148148148148\n",
      "Hit Rate: 0.32727272727272727\n",
      "Hit Rate: 0.32142857142857145\n",
      "Hit Rate: 0.3157894736842105\n",
      "Hit Rate: 0.3103448275862069\n",
      "Hit Rate: 0.3050847457627119\n",
      "Hit Rate: 0.3\n",
      "Hit Rate: 0.29508196721311475\n",
      "Hit Rate: 0.2903225806451613\n",
      "Hit Rate: 0.2857142857142857\n",
      "Hit Rate: 0.296875\n",
      "Hit Rate: 0.3076923076923077\n",
      "Hit Rate: 0.30303030303030304\n",
      "Hit Rate: 0.31343283582089554\n",
      "Hit Rate: 0.3235294117647059\n",
      "Hit Rate: 0.3188405797101449\n",
      "Hit Rate: 0.3142857142857143\n",
      "Hit Rate: 0.30985915492957744\n",
      "Hit Rate: 0.3055555555555556\n",
      "Hit Rate: 0.3013698630136986\n",
      "Hit Rate: 0.2972972972972973\n",
      "Hit Rate: 0.30666666666666664\n",
      "Hit Rate: 0.3026315789473684\n",
      "Hit Rate: 0.2987012987012987\n",
      "Hit Rate: 0.3076923076923077\n",
      "Hit Rate: 0.31645569620253167\n",
      "Hit Rate: 0.3125\n",
      "Hit Rate: 0.30864197530864196\n",
      "Hit Rate: 0.3048780487804878\n",
      "Hit Rate: 0.30120481927710846\n",
      "Hit Rate: 0.30952380952380953\n",
      "Hit Rate: 0.3176470588235294\n",
      "Hit Rate: 0.313953488372093\n",
      "Hit Rate: 0.3218390804597701\n",
      "Hit Rate: 0.32954545454545453\n",
      "Hit Rate: 0.3258426966292135\n",
      "Hit Rate: 0.32222222222222224\n",
      "Hit Rate: 0.32967032967032966\n",
      "Hit Rate: 0.32608695652173914\n",
      "Hit Rate: 0.3225806451612903\n",
      "Hit Rate: 0.3191489361702128\n",
      "Hit Rate: 0.3157894736842105\n",
      "Hit Rate: 0.3125\n",
      "Hit Rate: 0.30927835051546393\n",
      "Hit Rate: 0.30612244897959184\n",
      "Hit Rate: 0.30303030303030304\n",
      "Hit Rate: 0.31\n",
      "Hit Rate: 0.31683168316831684\n",
      "Hit Rate: 0.3137254901960784\n",
      "Hit Rate: 0.3106796116504854\n",
      "Hit Rate: 0.3076923076923077\n",
      "Hit Rate: 0.3047619047619048\n",
      "Hit Rate: 0.3018867924528302\n",
      "Hit Rate: 0.29906542056074764\n",
      "Hit Rate: 0.2962962962962963\n",
      "Hit Rate: 0.30275229357798167\n",
      "Hit Rate: 0.3\n",
      "Hit Rate: 0.2972972972972973\n",
      "Hit Rate: 0.29464285714285715\n",
      "Hit Rate: 0.3008849557522124\n",
      "Hit Rate: 0.2982456140350877\n",
      "Hit Rate: 0.2956521739130435\n",
      "Hit Rate: 0.29310344827586204\n",
      "Hit Rate: 0.2905982905982906\n",
      "Hit Rate: 0.288135593220339\n",
      "Hit Rate: 0.29411764705882354\n",
      "Hit Rate: 0.2916666666666667\n",
      "Hit Rate: 0.2975206611570248\n",
      "Hit Rate: 0.29508196721311475\n",
      "Hit Rate: 0.2926829268292683\n",
      "Hit Rate: 0.29838709677419356\n",
      "Hit Rate: 0.296\n",
      "Hit Rate: 0.29365079365079366\n",
      "Hit Rate: 0.2992125984251969\n",
      "Hit Rate: 0.296875\n",
      "Hit Rate: 0.29457364341085274\n",
      "Hit Rate: 0.2923076923076923\n",
      "Hit Rate: 0.2900763358778626\n",
      "Hit Rate: 0.29545454545454547\n",
      "Hit Rate: 0.2932330827067669\n",
      "Hit Rate: 0.29850746268656714\n",
      "Hit Rate: 0.2962962962962963\n",
      "Hit Rate: 0.29411764705882354\n",
      "Hit Rate: 0.29927007299270075\n",
      "Hit Rate: 0.2971014492753623\n",
      "Hit Rate: 0.2949640287769784\n",
      "Hit Rate: 0.29285714285714287\n",
      "Hit Rate: 0.2907801418439716\n",
      "Hit Rate: 0.2887323943661972\n",
      "Hit Rate: 0.2867132867132867\n",
      "Hit Rate: 0.2916666666666667\n",
      "Hit Rate: 0.2896551724137931\n",
      "Hit Rate: 0.2876712328767123\n",
      "Hit Rate: 0.2857142857142857\n",
      "Hit Rate: 0.28378378378378377\n",
      "Hit Rate: 0.28187919463087246\n",
      "Hit Rate: 0.28\n",
      "Hit Rate: 0.2781456953642384\n",
      "Hit Rate: 0.27631578947368424\n",
      "Hit Rate: 0.27450980392156865\n",
      "Hit Rate: 0.2727272727272727\n",
      "Hit Rate: 0.27741935483870966\n",
      "Hit Rate: 0.28205128205128205\n",
      "Hit Rate: 0.2802547770700637\n",
      "Hit Rate: 0.27848101265822783\n",
      "Hit Rate: 0.27672955974842767\n",
      "Hit Rate: 0.28125\n",
      "Hit Rate: 0.2795031055900621\n",
      "Hit Rate: 0.2839506172839506\n",
      "Hit Rate: 0.2822085889570552\n",
      "Hit Rate: 0.2804878048780488\n",
      "Hit Rate: 0.2787878787878788\n",
      "Hit Rate: 0.27710843373493976\n",
      "Hit Rate: 0.281437125748503\n",
      "Hit Rate: 0.27976190476190477\n",
      "Hit Rate: 0.2781065088757396\n",
      "Hit Rate: 0.2823529411764706\n",
      "Hit Rate: 0.2807017543859649\n",
      "Hit Rate: 0.27906976744186046\n",
      "Hit Rate: 0.2774566473988439\n",
      "Hit Rate: 0.27586206896551724\n",
      "Hit Rate: 0.2742857142857143\n",
      "Hit Rate: 0.2784090909090909\n",
      "Hit Rate: 0.2824858757062147\n",
      "Hit Rate: 0.2808988764044944\n",
      "Hit Rate: 0.2849162011173184\n",
      "Hit Rate: 0.2833333333333333\n",
      "Hit Rate: 0.281767955801105\n",
      "Hit Rate: 0.2802197802197802\n",
      "Hit Rate: 0.28415300546448086\n",
      "Hit Rate: 0.2826086956521739\n",
      "Hit Rate: 0.2864864864864865\n",
      "Hit Rate: 0.2849462365591398\n",
      "Hit Rate: 0.28342245989304815\n",
      "Hit Rate: 0.2872340425531915\n",
      "Hit Rate: 0.291005291005291\n",
      "Hit Rate: 0.2894736842105263\n",
      "Hit Rate: 0.2879581151832461\n",
      "Hit Rate: 0.2916666666666667\n",
      "Hit Rate: 0.29015544041450775\n",
      "Hit Rate: 0.28865979381443296\n",
      "Hit Rate: 0.28717948717948716\n",
      "Hit Rate: 0.2857142857142857\n",
      "Hit Rate: 0.28426395939086296\n",
      "Hit Rate: 0.2828282828282828\n",
      "Hit Rate: 0.2814070351758794\n",
      "Hit Rate: 0.28\n"
     ]
    },
    {
     "data": {
      "text/plain": [
       "0.28"
      ]
     },
     "execution_count": 5,
     "metadata": {},
     "output_type": "execute_result"
    }
   ],
   "source": [
    "cf_model = UserBasedCF()\n",
    "cf_model.fit(dataset.train_ratings)\n",
    "\n",
    "hit_rate(cf_model, dataset.test_ratings, k=10)"
   ]
  },
  {
   "cell_type": "code",
   "execution_count": 6,
   "metadata": {},
   "outputs": [
    {
     "name": "stdout",
     "output_type": "stream",
     "text": [
      "Skipping usr not found in training set: By Maggie P\n",
      "Skipping usr not found in training set: By Ricardo I\n",
      "Skipping usr not found in training set: By Rithvika L\n",
      "Skipping usr not found in training set: By VIJAY N\n"
     ]
    },
    {
     "ename": "KeyboardInterrupt",
     "evalue": "",
     "output_type": "error",
     "traceback": [
      "\u001b[0;31m---------------------------------------------------------------------------\u001b[0m",
      "\u001b[0;31mKeyboardInterrupt\u001b[0m                         Traceback (most recent call last)",
      "\u001b[1;32m/home/jerem/comp9727-project/User Based Collaborative Filtering.ipynb Cell 10\u001b[0m line \u001b[0;36m2\n\u001b[1;32m     <a href='vscode-notebook-cell://wsl%2Bubuntu/home/jerem/comp9727-project/User%20Based%20Collaborative%20Filtering.ipynb#X12sdnNjb2RlLXJlbW90ZQ%3D%3D?line=21'>22</a>\u001b[0m     \u001b[39mreturn\u001b[39;00m hits \u001b[39m/\u001b[39m total \u001b[39mif\u001b[39;00m total \u001b[39m>\u001b[39m \u001b[39m0\u001b[39m \u001b[39melse\u001b[39;00m \u001b[39m0\u001b[39m\n\u001b[1;32m     <a href='vscode-notebook-cell://wsl%2Bubuntu/home/jerem/comp9727-project/User%20Based%20Collaborative%20Filtering.ipynb#X12sdnNjb2RlLXJlbW90ZQ%3D%3D?line=23'>24</a>\u001b[0m \u001b[39m# Test the model\u001b[39;00m\n\u001b[0;32m---> <a href='vscode-notebook-cell://wsl%2Bubuntu/home/jerem/comp9727-project/User%20Based%20Collaborative%20Filtering.ipynb#X12sdnNjb2RlLXJlbW90ZQ%3D%3D?line=24'>25</a>\u001b[0m precision \u001b[39m=\u001b[39m precision_at_k(user_cf_model, dataset\u001b[39m.\u001b[39;49mtest_ratings, k\u001b[39m=\u001b[39;49m\u001b[39m5\u001b[39;49m)\n\u001b[1;32m     <a href='vscode-notebook-cell://wsl%2Bubuntu/home/jerem/comp9727-project/User%20Based%20Collaborative%20Filtering.ipynb#X12sdnNjb2RlLXJlbW90ZQ%3D%3D?line=25'>26</a>\u001b[0m \u001b[39mprint\u001b[39m(\u001b[39mf\u001b[39m\u001b[39m\"\u001b[39m\u001b[39mPrecision@5: \u001b[39m\u001b[39m{\u001b[39;00mprecision\u001b[39m}\u001b[39;00m\u001b[39m\"\u001b[39m)\n",
      "\u001b[1;32m/home/jerem/comp9727-project/User Based Collaborative Filtering.ipynb Cell 10\u001b[0m line \u001b[0;36m1\n\u001b[1;32m     <a href='vscode-notebook-cell://wsl%2Bubuntu/home/jerem/comp9727-project/User%20Based%20Collaborative%20Filtering.ipynb#X12sdnNjb2RlLXJlbW90ZQ%3D%3D?line=13'>14</a>\u001b[0m user_actual \u001b[39m=\u001b[39m test_set[test_set[\u001b[39m'\u001b[39m\u001b[39mreviewers\u001b[39m\u001b[39m'\u001b[39m] \u001b[39m==\u001b[39m user_id]\n\u001b[1;32m     <a href='vscode-notebook-cell://wsl%2Bubuntu/home/jerem/comp9727-project/User%20Based%20Collaborative%20Filtering.ipynb#X12sdnNjb2RlLXJlbW90ZQ%3D%3D?line=14'>15</a>\u001b[0m user_actual_top_k \u001b[39m=\u001b[39m user_actual\u001b[39m.\u001b[39mnlargest(k, \u001b[39m'\u001b[39m\u001b[39mrating\u001b[39m\u001b[39m'\u001b[39m)[\u001b[39m'\u001b[39m\u001b[39mcourse_id\u001b[39m\u001b[39m'\u001b[39m]\n\u001b[0;32m---> <a href='vscode-notebook-cell://wsl%2Bubuntu/home/jerem/comp9727-project/User%20Based%20Collaborative%20Filtering.ipynb#X12sdnNjb2RlLXJlbW90ZQ%3D%3D?line=15'>16</a>\u001b[0m user_predicted_top_k \u001b[39m=\u001b[39m model\u001b[39m.\u001b[39;49mrecommend(user_id, k)\n\u001b[1;32m     <a href='vscode-notebook-cell://wsl%2Bubuntu/home/jerem/comp9727-project/User%20Based%20Collaborative%20Filtering.ipynb#X12sdnNjb2RlLXJlbW90ZQ%3D%3D?line=17'>18</a>\u001b[0m hits \u001b[39m+\u001b[39m\u001b[39m=\u001b[39m \u001b[39mlen\u001b[39m(\u001b[39mset\u001b[39m(user_predicted_top_k) \u001b[39m&\u001b[39m \u001b[39mset\u001b[39m(user_actual_top_k))\n\u001b[1;32m     <a href='vscode-notebook-cell://wsl%2Bubuntu/home/jerem/comp9727-project/User%20Based%20Collaborative%20Filtering.ipynb#X12sdnNjb2RlLXJlbW90ZQ%3D%3D?line=18'>19</a>\u001b[0m total \u001b[39m+\u001b[39m\u001b[39m=\u001b[39m k\n",
      "File \u001b[0;32m~/comp9727-project/coursemate/model.py:168\u001b[0m, in \u001b[0;36mUserBasedCF.recommend\u001b[0;34m(self, user_id, k)\u001b[0m\n\u001b[1;32m    167\u001b[0m \u001b[39mdef\u001b[39;00m \u001b[39mrecommend\u001b[39m(\u001b[39mself\u001b[39m, user_id, k: \u001b[39mint\u001b[39m \u001b[39m=\u001b[39m \u001b[39m5\u001b[39m):\n\u001b[0;32m--> 168\u001b[0m     recommendations \u001b[39m=\u001b[39m \u001b[39mself\u001b[39;49m\u001b[39m.\u001b[39;49mgenerate_recommendations(user_id, k)\n\u001b[1;32m    169\u001b[0m     \u001b[39mreturn\u001b[39;00m recommendations\n",
      "File \u001b[0;32m~/comp9727-project/coursemate/model.py:176\u001b[0m, in \u001b[0;36mUserBasedCF.generate_recommendations\u001b[0;34m(self, user_id, k)\u001b[0m\n\u001b[1;32m    173\u001b[0m similar_users \u001b[39m=\u001b[39m \u001b[39mself\u001b[39m\u001b[39m.\u001b[39muser_similarity_matrix\u001b[39m.\u001b[39mloc[user_id]\u001b[39m.\u001b[39msort_values(ascending\u001b[39m=\u001b[39m\u001b[39mFalse\u001b[39;00m)\u001b[39m.\u001b[39mhead(k)\u001b[39m.\u001b[39mindex\n\u001b[1;32m    175\u001b[0m \u001b[39m# Filter the training data to only include ratings from similar users\u001b[39;00m\n\u001b[0;32m--> 176\u001b[0m similar_users_ratings \u001b[39m=\u001b[39m \u001b[39mself\u001b[39m\u001b[39m.\u001b[39mtrain_ratings[\u001b[39mself\u001b[39;49m\u001b[39m.\u001b[39;49mtrain_ratings[\u001b[39m'\u001b[39;49m\u001b[39mreviewers\u001b[39;49m\u001b[39m'\u001b[39;49m]\u001b[39m.\u001b[39;49misin(similar_users)]\n\u001b[1;32m    178\u001b[0m \u001b[39m# Aggregate these ratings to get an average rating for each course\u001b[39;00m\n\u001b[1;32m    179\u001b[0m aggregated_ratings \u001b[39m=\u001b[39m similar_users_ratings\u001b[39m.\u001b[39mgroupby(\u001b[39m'\u001b[39m\u001b[39mcourse_id\u001b[39m\u001b[39m'\u001b[39m)[\u001b[39m'\u001b[39m\u001b[39mrating\u001b[39m\u001b[39m'\u001b[39m]\u001b[39m.\u001b[39mmean()\u001b[39m.\u001b[39msort_values(ascending\u001b[39m=\u001b[39m\u001b[39mFalse\u001b[39;00m)\n",
      "File \u001b[0;32m~/.local/lib/python3.8/site-packages/pandas/core/series.py:5563\u001b[0m, in \u001b[0;36mSeries.isin\u001b[0;34m(self, values)\u001b[0m\n\u001b[1;32m   5490\u001b[0m \u001b[39mdef\u001b[39;00m \u001b[39misin\u001b[39m(\u001b[39mself\u001b[39m, values) \u001b[39m-\u001b[39m\u001b[39m>\u001b[39m Series:\n\u001b[1;32m   5491\u001b[0m \u001b[39m    \u001b[39m\u001b[39m\"\"\"\u001b[39;00m\n\u001b[1;32m   5492\u001b[0m \u001b[39m    Whether elements in Series are contained in `values`.\u001b[39;00m\n\u001b[1;32m   5493\u001b[0m \n\u001b[0;32m   (...)\u001b[0m\n\u001b[1;32m   5561\u001b[0m \u001b[39m    dtype: bool\u001b[39;00m\n\u001b[1;32m   5562\u001b[0m \u001b[39m    \"\"\"\u001b[39;00m\n\u001b[0;32m-> 5563\u001b[0m     result \u001b[39m=\u001b[39m algorithms\u001b[39m.\u001b[39;49misin(\u001b[39mself\u001b[39;49m\u001b[39m.\u001b[39;49m_values, values)\n\u001b[1;32m   5564\u001b[0m     \u001b[39mreturn\u001b[39;00m \u001b[39mself\u001b[39m\u001b[39m.\u001b[39m_constructor(result, index\u001b[39m=\u001b[39m\u001b[39mself\u001b[39m\u001b[39m.\u001b[39mindex)\u001b[39m.\u001b[39m__finalize__(\n\u001b[1;32m   5565\u001b[0m         \u001b[39mself\u001b[39m, method\u001b[39m=\u001b[39m\u001b[39m\"\u001b[39m\u001b[39misin\u001b[39m\u001b[39m\"\u001b[39m\n\u001b[1;32m   5566\u001b[0m     )\n",
      "File \u001b[0;32m~/.local/lib/python3.8/site-packages/pandas/core/algorithms.py:527\u001b[0m, in \u001b[0;36misin\u001b[0;34m(comps, values)\u001b[0m\n\u001b[1;32m    524\u001b[0m     comps_array \u001b[39m=\u001b[39m comps_array\u001b[39m.\u001b[39mastype(common, copy\u001b[39m=\u001b[39m\u001b[39mFalse\u001b[39;00m)\n\u001b[1;32m    525\u001b[0m     f \u001b[39m=\u001b[39m htable\u001b[39m.\u001b[39mismember\n\u001b[0;32m--> 527\u001b[0m \u001b[39mreturn\u001b[39;00m f(comps_array, values)\n",
      "\u001b[0;31mKeyboardInterrupt\u001b[0m: "
     ]
    }
   ],
   "source": [
    "# Work in progress\n",
    "\n",
    "def precision_at_k(model, test_set, k=5):\n",
    "    hits = 0\n",
    "    total = 0\n",
    "    skipped_users = 0\n",
    "\n",
    "    for user_id in test_set['reviewers'].unique():\n",
    "        if user_id not in model.user_similarity_matrix.index:\n",
    "            print(f\"Skipping usr not found in training set: {user_id}\")\n",
    "            skipped_users += 1\n",
    "            continue\n",
    "\n",
    "        user_actual = test_set[test_set['reviewers'] == user_id]\n",
    "        user_actual_top_k = user_actual.nlargest(k, 'rating')['course_id']\n",
    "        user_predicted_top_k = model.recommend(user_id, k)\n",
    "\n",
    "        hits += len(set(user_predicted_top_k) & set(user_actual_top_k))\n",
    "        total += k\n",
    "\n",
    "    print(f\"Processed {len(test_set['reviewers'].unique()) - skipped_users} users, Skipped {skipped_users} users\")\n",
    "    return hits / total if total > 0 else 0\n",
    "\n",
    "# Test the model\n",
    "precision = precision_at_k(user_cf_model, dataset.test_ratings, k=5)\n",
    "print(f\"Precision@5: {precision}\")\n"
   ]
  },
  {
   "cell_type": "code",
   "execution_count": null,
   "metadata": {},
   "outputs": [],
   "source": []
  },
  {
   "cell_type": "code",
   "execution_count": null,
   "metadata": {},
   "outputs": [],
   "source": []
  },
  {
   "cell_type": "code",
   "execution_count": null,
   "metadata": {},
   "outputs": [],
   "source": []
  }
 ],
 "metadata": {
  "kernelspec": {
   "display_name": "Python 3 (ipykernel)",
   "language": "python",
   "name": "python3"
  },
  "language_info": {
   "codemirror_mode": {
    "name": "ipython",
    "version": 3
   },
   "file_extension": ".py",
   "mimetype": "text/x-python",
   "name": "python",
   "nbconvert_exporter": "python",
   "pygments_lexer": "ipython3",
   "version": "3.8.10"
  }
 },
 "nbformat": 4,
 "nbformat_minor": 2
}
