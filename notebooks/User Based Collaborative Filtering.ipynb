{
 "cells": [
  {
   "cell_type": "markdown",
   "metadata": {},
   "source": [
    "# User Based Collaborative Filtering\n",
    "\n",
    "The User-Based Collaborative Filtering Recommender is a system that suggests items based on the preferences of similar users to the target.\n",
    "\n",
    "i.e. users who agreed in the past tend to agree again in the future.\n",
    "\n",
    "We analyse user ratings of courses to identify users with similar 'tastes' and leverage their past opinions to predict what the current user might like."
   ]
  },
  {
   "cell_type": "code",
   "execution_count": 1,
   "metadata": {},
   "outputs": [],
   "source": [
    "import pandas as pd\n",
    "import numpy as np\n",
    "import matplotlib.pyplot as plt\n",
    "import seaborn as sns\n",
    "from tqdm import tqdm\n",
    "from coursemate.dataset import Dataset\n",
    "from coursemate.model import UserBasedCF\n",
    "\n",
    "pd.set_option('display.width', 1000)\n",
    "pd.set_option('display.max_colwidth', 1000)\n"
   ]
  },
  {
   "cell_type": "code",
   "execution_count": 2,
   "metadata": {},
   "outputs": [
    {
     "name": "stdout",
     "output_type": "stream",
     "text": [
      "Loading Coursera courses...\n",
      "Loading Coursera reviews...\n",
      "Segmenting out students with less than 3 or more than 50 reviews...\n",
      "30719 students, 468 courses, 174219 reviews\n",
      "Sparsity: 1.21%\n",
      "Duplicates: 4.54%\n"
     ]
    }
   ],
   "source": [
    "dataset = Dataset('data/Coursera_courses.csv', 'data/Coursera.csv', 'data/Coursera_reviews.csv')\n",
    "dataset.set_interaction_counts(3, 50)\n",
    "dataset.show_dataset_details()"
   ]
  },
  {
   "cell_type": "code",
   "execution_count": 3,
   "metadata": {},
   "outputs": [
    {
     "name": "stdout",
     "output_type": "stream",
     "text": [
      "Setting the train-test split by user...\n"
     ]
    }
   ],
   "source": [
    "dataset.set_train_test_split_by_user()\n",
    "\n",
    "# Instantiate the UserBasedCF model\n",
    "user_cf_model = UserBasedCF()\n",
    "\n",
    "# Fit the model with the training data\n",
    "# Ensure that dataset.train_ratings is available and properly set up before this step\n",
    "user_cf_model.fit(dataset.train_ratings)"
   ]
  },
  {
   "cell_type": "code",
   "execution_count": 4,
   "metadata": {},
   "outputs": [],
   "source": [
    "# Get recommendations for a particular user\n",
    "user_id = 'By Kelvin k'\n",
    "recommendations = user_cf_model.recommend(user_id, k=5)"
   ]
  },
  {
   "cell_type": "code",
   "execution_count": 5,
   "metadata": {},
   "outputs": [
    {
     "data": {
      "text/plain": [
       "['aws-fundamentals-going-cloud-native',\n",
       " 'information-security-data',\n",
       " 'sql-for-data-science',\n",
       " 'python-basics',\n",
       " 'intro-sql']"
      ]
     },
     "execution_count": 5,
     "metadata": {},
     "output_type": "execute_result"
    }
   ],
   "source": [
    "recommendations"
   ]
  },
  {
   "cell_type": "code",
   "execution_count": 3,
   "metadata": {},
   "outputs": [
    {
     "name": "stdout",
     "output_type": "stream",
     "text": [
      "Setting the train-test split randomly...\n"
     ]
    }
   ],
   "source": [
    "dataset.set_train_test_split_random(0.999)\n",
    "# Instantiate the UserBasedCF model\n",
    "user_cf_model = UserBasedCF()"
   ]
  },
  {
   "cell_type": "code",
   "execution_count": 4,
   "metadata": {},
   "outputs": [],
   "source": [
    "# Fit the model with the training data\n",
    "# Ensure that dataset.train_ratings is available and properly set up before this step\n",
    "user_cf_model.fit(dataset.train_ratings)"
   ]
  },
  {
   "cell_type": "markdown",
   "metadata": {},
   "source": [
    "### Evaluation"
   ]
  },
  {
   "cell_type": "code",
   "execution_count": 5,
   "metadata": {},
   "outputs": [],
   "source": [
    "def hit_rate(model, test_set, k=5):\n",
    "    hits = 0\n",
    "    total = 0\n",
    "\n",
    "    for user_id in tqdm(test_set['reviewers'].unique()):\n",
    "        # Check if the user_id exists in the user similarity matrix\n",
    "        if user_id not in model.user_similarity_matrix.index:\n",
    "            continue  # Skip this user if not in the training set\n",
    "\n",
    "        user_actual = test_set[test_set['reviewers'] == user_id]\n",
    "        user_actual_top_k = user_actual.nlargest(k, 'rating')['course_id']\n",
    "        user_predicted_top_k = model.recommend(user_id, k)\n",
    "\n",
    "        hits += 1 if len(set(user_predicted_top_k) & set(user_actual_top_k)) > 0 else 0\n",
    "        total += 1\n",
    "        \n",
    "        # print(f\"Hit Rate: {hits / total if total > 0 else 0}\")\n",
    "        \n",
    "        # if total == 500: # Stop after 500 users\n",
    "        #     break\n",
    "\n",
    "    return hits / total if total > 0 else 0"
   ]
  },
  {
   "cell_type": "code",
   "execution_count": 6,
   "metadata": {},
   "outputs": [
    {
     "name": "stderr",
     "output_type": "stream",
     "text": [
      "100%|██████████| 175/175 [00:06<00:00, 25.26it/s]\n"
     ]
    },
    {
     "data": {
      "text/plain": [
       "0.22857142857142856"
      ]
     },
     "execution_count": 6,
     "metadata": {},
     "output_type": "execute_result"
    }
   ],
   "source": [
    "hit_rate(user_cf_model, dataset.test_ratings, k=10)"
   ]
  },
  {
   "cell_type": "code",
   "execution_count": null,
   "metadata": {},
   "outputs": [
    {
     "name": "stdout",
     "output_type": "stream",
     "text": [
      "Skipping usr not found in training set: By Maggie P\n",
      "Skipping usr not found in training set: By Ricardo I\n",
      "Skipping usr not found in training set: By Rithvika L\n",
      "Skipping usr not found in training set: By VIJAY N\n"
     ]
    },
    {
     "ename": "KeyboardInterrupt",
     "evalue": "",
     "output_type": "error",
     "traceback": [
      "\u001b[0;31m---------------------------------------------------------------------------\u001b[0m",
      "\u001b[0;31mKeyboardInterrupt\u001b[0m                         Traceback (most recent call last)",
      "\u001b[1;32m/home/jerem/comp9727-project/User Based Collaborative Filtering.ipynb Cell 10\u001b[0m line \u001b[0;36m2\n\u001b[1;32m     <a href='vscode-notebook-cell://wsl%2Bubuntu/home/jerem/comp9727-project/User%20Based%20Collaborative%20Filtering.ipynb#X12sdnNjb2RlLXJlbW90ZQ%3D%3D?line=21'>22</a>\u001b[0m     \u001b[39mreturn\u001b[39;00m hits \u001b[39m/\u001b[39m total \u001b[39mif\u001b[39;00m total \u001b[39m>\u001b[39m \u001b[39m0\u001b[39m \u001b[39melse\u001b[39;00m \u001b[39m0\u001b[39m\n\u001b[1;32m     <a href='vscode-notebook-cell://wsl%2Bubuntu/home/jerem/comp9727-project/User%20Based%20Collaborative%20Filtering.ipynb#X12sdnNjb2RlLXJlbW90ZQ%3D%3D?line=23'>24</a>\u001b[0m \u001b[39m# Test the model\u001b[39;00m\n\u001b[0;32m---> <a href='vscode-notebook-cell://wsl%2Bubuntu/home/jerem/comp9727-project/User%20Based%20Collaborative%20Filtering.ipynb#X12sdnNjb2RlLXJlbW90ZQ%3D%3D?line=24'>25</a>\u001b[0m precision \u001b[39m=\u001b[39m precision_at_k(user_cf_model, dataset\u001b[39m.\u001b[39;49mtest_ratings, k\u001b[39m=\u001b[39;49m\u001b[39m5\u001b[39;49m)\n\u001b[1;32m     <a href='vscode-notebook-cell://wsl%2Bubuntu/home/jerem/comp9727-project/User%20Based%20Collaborative%20Filtering.ipynb#X12sdnNjb2RlLXJlbW90ZQ%3D%3D?line=25'>26</a>\u001b[0m \u001b[39mprint\u001b[39m(\u001b[39mf\u001b[39m\u001b[39m\"\u001b[39m\u001b[39mPrecision@5: \u001b[39m\u001b[39m{\u001b[39;00mprecision\u001b[39m}\u001b[39;00m\u001b[39m\"\u001b[39m)\n",
      "\u001b[1;32m/home/jerem/comp9727-project/User Based Collaborative Filtering.ipynb Cell 10\u001b[0m line \u001b[0;36m1\n\u001b[1;32m     <a href='vscode-notebook-cell://wsl%2Bubuntu/home/jerem/comp9727-project/User%20Based%20Collaborative%20Filtering.ipynb#X12sdnNjb2RlLXJlbW90ZQ%3D%3D?line=13'>14</a>\u001b[0m user_actual \u001b[39m=\u001b[39m test_set[test_set[\u001b[39m'\u001b[39m\u001b[39mreviewers\u001b[39m\u001b[39m'\u001b[39m] \u001b[39m==\u001b[39m user_id]\n\u001b[1;32m     <a href='vscode-notebook-cell://wsl%2Bubuntu/home/jerem/comp9727-project/User%20Based%20Collaborative%20Filtering.ipynb#X12sdnNjb2RlLXJlbW90ZQ%3D%3D?line=14'>15</a>\u001b[0m user_actual_top_k \u001b[39m=\u001b[39m user_actual\u001b[39m.\u001b[39mnlargest(k, \u001b[39m'\u001b[39m\u001b[39mrating\u001b[39m\u001b[39m'\u001b[39m)[\u001b[39m'\u001b[39m\u001b[39mcourse_id\u001b[39m\u001b[39m'\u001b[39m]\n\u001b[0;32m---> <a href='vscode-notebook-cell://wsl%2Bubuntu/home/jerem/comp9727-project/User%20Based%20Collaborative%20Filtering.ipynb#X12sdnNjb2RlLXJlbW90ZQ%3D%3D?line=15'>16</a>\u001b[0m user_predicted_top_k \u001b[39m=\u001b[39m model\u001b[39m.\u001b[39;49mrecommend(user_id, k)\n\u001b[1;32m     <a href='vscode-notebook-cell://wsl%2Bubuntu/home/jerem/comp9727-project/User%20Based%20Collaborative%20Filtering.ipynb#X12sdnNjb2RlLXJlbW90ZQ%3D%3D?line=17'>18</a>\u001b[0m hits \u001b[39m+\u001b[39m\u001b[39m=\u001b[39m \u001b[39mlen\u001b[39m(\u001b[39mset\u001b[39m(user_predicted_top_k) \u001b[39m&\u001b[39m \u001b[39mset\u001b[39m(user_actual_top_k))\n\u001b[1;32m     <a href='vscode-notebook-cell://wsl%2Bubuntu/home/jerem/comp9727-project/User%20Based%20Collaborative%20Filtering.ipynb#X12sdnNjb2RlLXJlbW90ZQ%3D%3D?line=18'>19</a>\u001b[0m total \u001b[39m+\u001b[39m\u001b[39m=\u001b[39m k\n",
      "File \u001b[0;32m~/comp9727-project/coursemate/model.py:168\u001b[0m, in \u001b[0;36mUserBasedCF.recommend\u001b[0;34m(self, user_id, k)\u001b[0m\n\u001b[1;32m    167\u001b[0m \u001b[39mdef\u001b[39;00m \u001b[39mrecommend\u001b[39m(\u001b[39mself\u001b[39m, user_id, k: \u001b[39mint\u001b[39m \u001b[39m=\u001b[39m \u001b[39m5\u001b[39m):\n\u001b[0;32m--> 168\u001b[0m     recommendations \u001b[39m=\u001b[39m \u001b[39mself\u001b[39;49m\u001b[39m.\u001b[39;49mgenerate_recommendations(user_id, k)\n\u001b[1;32m    169\u001b[0m     \u001b[39mreturn\u001b[39;00m recommendations\n",
      "File \u001b[0;32m~/comp9727-project/coursemate/model.py:176\u001b[0m, in \u001b[0;36mUserBasedCF.generate_recommendations\u001b[0;34m(self, user_id, k)\u001b[0m\n\u001b[1;32m    173\u001b[0m similar_users \u001b[39m=\u001b[39m \u001b[39mself\u001b[39m\u001b[39m.\u001b[39muser_similarity_matrix\u001b[39m.\u001b[39mloc[user_id]\u001b[39m.\u001b[39msort_values(ascending\u001b[39m=\u001b[39m\u001b[39mFalse\u001b[39;00m)\u001b[39m.\u001b[39mhead(k)\u001b[39m.\u001b[39mindex\n\u001b[1;32m    175\u001b[0m \u001b[39m# Filter the training data to only include ratings from similar users\u001b[39;00m\n\u001b[0;32m--> 176\u001b[0m similar_users_ratings \u001b[39m=\u001b[39m \u001b[39mself\u001b[39m\u001b[39m.\u001b[39mtrain_ratings[\u001b[39mself\u001b[39;49m\u001b[39m.\u001b[39;49mtrain_ratings[\u001b[39m'\u001b[39;49m\u001b[39mreviewers\u001b[39;49m\u001b[39m'\u001b[39;49m]\u001b[39m.\u001b[39;49misin(similar_users)]\n\u001b[1;32m    178\u001b[0m \u001b[39m# Aggregate these ratings to get an average rating for each course\u001b[39;00m\n\u001b[1;32m    179\u001b[0m aggregated_ratings \u001b[39m=\u001b[39m similar_users_ratings\u001b[39m.\u001b[39mgroupby(\u001b[39m'\u001b[39m\u001b[39mcourse_id\u001b[39m\u001b[39m'\u001b[39m)[\u001b[39m'\u001b[39m\u001b[39mrating\u001b[39m\u001b[39m'\u001b[39m]\u001b[39m.\u001b[39mmean()\u001b[39m.\u001b[39msort_values(ascending\u001b[39m=\u001b[39m\u001b[39mFalse\u001b[39;00m)\n",
      "File \u001b[0;32m~/.local/lib/python3.8/site-packages/pandas/core/series.py:5563\u001b[0m, in \u001b[0;36mSeries.isin\u001b[0;34m(self, values)\u001b[0m\n\u001b[1;32m   5490\u001b[0m \u001b[39mdef\u001b[39;00m \u001b[39misin\u001b[39m(\u001b[39mself\u001b[39m, values) \u001b[39m-\u001b[39m\u001b[39m>\u001b[39m Series:\n\u001b[1;32m   5491\u001b[0m \u001b[39m    \u001b[39m\u001b[39m\"\"\"\u001b[39;00m\n\u001b[1;32m   5492\u001b[0m \u001b[39m    Whether elements in Series are contained in `values`.\u001b[39;00m\n\u001b[1;32m   5493\u001b[0m \n\u001b[0;32m   (...)\u001b[0m\n\u001b[1;32m   5561\u001b[0m \u001b[39m    dtype: bool\u001b[39;00m\n\u001b[1;32m   5562\u001b[0m \u001b[39m    \"\"\"\u001b[39;00m\n\u001b[0;32m-> 5563\u001b[0m     result \u001b[39m=\u001b[39m algorithms\u001b[39m.\u001b[39;49misin(\u001b[39mself\u001b[39;49m\u001b[39m.\u001b[39;49m_values, values)\n\u001b[1;32m   5564\u001b[0m     \u001b[39mreturn\u001b[39;00m \u001b[39mself\u001b[39m\u001b[39m.\u001b[39m_constructor(result, index\u001b[39m=\u001b[39m\u001b[39mself\u001b[39m\u001b[39m.\u001b[39mindex)\u001b[39m.\u001b[39m__finalize__(\n\u001b[1;32m   5565\u001b[0m         \u001b[39mself\u001b[39m, method\u001b[39m=\u001b[39m\u001b[39m\"\u001b[39m\u001b[39misin\u001b[39m\u001b[39m\"\u001b[39m\n\u001b[1;32m   5566\u001b[0m     )\n",
      "File \u001b[0;32m~/.local/lib/python3.8/site-packages/pandas/core/algorithms.py:527\u001b[0m, in \u001b[0;36misin\u001b[0;34m(comps, values)\u001b[0m\n\u001b[1;32m    524\u001b[0m     comps_array \u001b[39m=\u001b[39m comps_array\u001b[39m.\u001b[39mastype(common, copy\u001b[39m=\u001b[39m\u001b[39mFalse\u001b[39;00m)\n\u001b[1;32m    525\u001b[0m     f \u001b[39m=\u001b[39m htable\u001b[39m.\u001b[39mismember\n\u001b[0;32m--> 527\u001b[0m \u001b[39mreturn\u001b[39;00m f(comps_array, values)\n",
      "\u001b[0;31mKeyboardInterrupt\u001b[0m: "
     ]
    }
   ],
   "source": [
    "# Work in progress\n",
    "\n",
    "def precision_at_k(model, test_set, k=5):\n",
    "    hits = 0\n",
    "    total = 0\n",
    "    skipped_users = 0\n",
    "\n",
    "    for user_id in test_set['reviewers'].unique():\n",
    "        if user_id not in model.user_similarity_matrix.index:\n",
    "            print(f\"Skipping usr not found in training set: {user_id}\")\n",
    "            skipped_users += 1\n",
    "            continue\n",
    "\n",
    "        user_actual = test_set[test_set['reviewers'] == user_id]\n",
    "        user_actual_top_k = user_actual.nlargest(k, 'rating')['course_id']\n",
    "        user_predicted_top_k = model.recommend(user_id, k)\n",
    "\n",
    "        hits += len(set(user_predicted_top_k) & set(user_actual_top_k))\n",
    "        total += k\n",
    "\n",
    "    print(f\"Processed {len(test_set['reviewers'].unique()) - skipped_users} users, Skipped {skipped_users} users\")\n",
    "    return hits / total if total > 0 else 0\n",
    "\n",
    "# Test the model\n",
    "# precision = precision_at_k(user_cf_model, dataset.test_ratings, k=5)\n",
    "# print(f\"Precision@5: {precision}\")\n"
   ]
  },
  {
   "cell_type": "code",
   "execution_count": null,
   "metadata": {},
   "outputs": [],
   "source": []
  },
  {
   "cell_type": "code",
   "execution_count": null,
   "metadata": {},
   "outputs": [],
   "source": []
  },
  {
   "cell_type": "code",
   "execution_count": null,
   "metadata": {},
   "outputs": [],
   "source": []
  }
 ],
 "metadata": {
  "kernelspec": {
   "display_name": "Python 3 (ipykernel)",
   "language": "python",
   "name": "python3"
  },
  "language_info": {
   "codemirror_mode": {
    "name": "ipython",
    "version": 3
   },
   "file_extension": ".py",
   "mimetype": "text/x-python",
   "name": "python",
   "nbconvert_exporter": "python",
   "pygments_lexer": "ipython3",
   "version": "3.8.10"
  }
 },
 "nbformat": 4,
 "nbformat_minor": 2
}
