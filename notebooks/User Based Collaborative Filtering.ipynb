{
 "cells": [
  {
   "cell_type": "markdown",
   "metadata": {},
   "source": [
    "# User Based Collaborative Filtering\n",
    "\n",
    "The User-Based Collaborative Filtering Recommender is a system that suggests items based on the preferences of similar users to the target.\n",
    "\n",
    "i.e. users who agreed in the past tend to agree again in the future.\n",
    "\n",
    "We analyse user ratings of courses to identify users with similar 'tastes' and leverage their past opinions to predict what the current user might like."
   ]
  },
  {
   "cell_type": "code",
   "execution_count": 1,
   "metadata": {},
   "outputs": [],
   "source": [
    "import pandas as pd\n",
    "import numpy as np\n",
    "import matplotlib.pyplot as plt\n",
    "import seaborn as sns\n",
    "from tqdm import tqdm\n",
    "from coursemate.dataset import Dataset\n",
    "from coursemate.model import UserBasedCF\n",
    "\n",
    "pd.set_option('display.width', 1000)\n",
    "pd.set_option('display.max_colwidth', 1000)\n"
   ]
  },
  {
   "cell_type": "code",
   "execution_count": 2,
   "metadata": {},
   "outputs": [
    {
     "name": "stdout",
     "output_type": "stream",
     "text": [
      "Loading Coursera courses...\n",
      "Loading Coursera reviews...\n",
      "Segmenting out students with less than 3 or more than 50 reviews...\n",
      "30719 students, 468 courses, 174219 reviews\n",
      "Sparsity: 1.21%\n",
      "Duplicates: 4.54%\n"
     ]
    }
   ],
   "source": [
    "dataset = Dataset('data/Coursera_courses.csv', 'data/Coursera.csv', 'data/Coursera_reviews.csv')\n",
    "dataset.set_interaction_counts(3, 50)\n",
    "dataset.show_dataset_details()"
   ]
  },
  {
   "cell_type": "code",
   "execution_count": 3,
   "metadata": {},
   "outputs": [
    {
     "name": "stdout",
     "output_type": "stream",
     "text": [
      "Setting the train-test split by user...\n"
     ]
    }
   ],
   "source": [
    "dataset.set_train_test_split_by_user()"
   ]
  },
  {
   "cell_type": "code",
   "execution_count": 4,
   "metadata": {},
   "outputs": [
    {
     "name": "stdout",
     "output_type": "stream",
     "text": [
      "Computing the training and test rating matrix...\n"
     ]
    },
    {
     "name": "stderr",
     "output_type": "stream",
     "text": [
      "131100it [00:08, 15194.05it/s]\n"
     ]
    },
    {
     "name": "stdout",
     "output_type": "stream",
     "text": [
      "Computing the test rating matrix split...\n",
      "Computing the training and test rating matrix...\n"
     ]
    },
    {
     "name": "stderr",
     "output_type": "stream",
     "text": [
      "131100it [00:08, 14745.26it/s]\n",
      "43119it [00:02, 16292.72it/s]\n"
     ]
    }
   ],
   "source": [
    "train_Xmatrix, train_ymatrix, df_train_X, df_train_y = dataset.get_train_matrix_split(ratio=0.8)\n",
    "test_Xmatrix, test_ymatrix, df_test_X, df_test_y = dataset.get_test_matrix_split(ratio=0.5)"
   ]
  },
  {
   "cell_type": "code",
   "execution_count": 5,
   "metadata": {},
   "outputs": [],
   "source": [
    "user_based_cf_model = UserBasedCF()"
   ]
  },
  {
   "cell_type": "code",
   "execution_count": 6,
   "metadata": {},
   "outputs": [],
   "source": [
    "all_train = pd.concat([df_train_X, df_train_y])\n",
    "user_based_cf_model.fit(all_train)"
   ]
  },
  {
   "cell_type": "code",
   "execution_count": 7,
   "metadata": {},
   "outputs": [],
   "source": [
    "# Get recommendations for a particular user\n",
    "user_id = 'By Kelvin k'\n",
    "recommendations = user_based_cf_model.recommend(user_id, k=5)"
   ]
  },
  {
   "cell_type": "code",
   "execution_count": 8,
   "metadata": {},
   "outputs": [
    {
     "data": {
      "text/plain": [
       "['aws-fundamentals-going-cloud-native',\n",
       " 'information-security-data',\n",
       " 'sql-for-data-science',\n",
       " 'python-basics',\n",
       " 'intro-sql']"
      ]
     },
     "execution_count": 8,
     "metadata": {},
     "output_type": "execute_result"
    }
   ],
   "source": [
    "recommendations"
   ]
  },
  {
   "cell_type": "markdown",
   "metadata": {},
   "source": [
    "### Evaluation"
   ]
  },
  {
   "cell_type": "code",
   "execution_count": 9,
   "metadata": {},
   "outputs": [],
   "source": [
    "def calculate_hit_rate(model, test_X, test_y, k=5):\n",
    "    hit_count = 0\n",
    "    total = 0\n",
    "\n",
    "    for user_id in tqdm(dataset.test_students):\n",
    "        user_history = test_X[test_X['reviewers'] == user_id]['course_id'].values\n",
    "        actual_next_courses = test_y[test_y['reviewers'] == user_id]['course_id'].values\n",
    "        \n",
    "        if len(actual_next_courses) == 0:\n",
    "            continue\n",
    "\n",
    "        recommended_courses = model.recommend(user_id, k=k)\n",
    "\n",
    "        hits = any(course in recommended_courses for course in actual_next_courses)\n",
    "        hit_count += 1 if hits else 0\n",
    "        total += 1\n",
    "\n",
    "    # Calculate overall hit rate\n",
    "    return hit_count / total"
   ]
  },
  {
   "cell_type": "code",
   "execution_count": 10,
   "metadata": {},
   "outputs": [],
   "source": [
    "user_based_cf_model = UserBasedCF()\n",
    "\n",
    "all_train = pd.concat([df_train_X, df_train_y])\n",
    "\n",
    "user_based_cf_model.fit(all_train)"
   ]
  },
  {
   "cell_type": "code",
   "execution_count": 11,
   "metadata": {},
   "outputs": [
    {
     "name": "stderr",
     "output_type": "stream",
     "text": [
      "100%|██████████| 7680/7680 [02:59<00:00, 42.78it/s]\n"
     ]
    },
    {
     "data": {
      "text/plain": [
       "0.0"
      ]
     },
     "execution_count": 11,
     "metadata": {},
     "output_type": "execute_result"
    }
   ],
   "source": [
    "calculate_hit_rate(user_based_cf_model, df_test_X, df_test_y, k=10)"
   ]
  },
  {
   "cell_type": "code",
   "execution_count": 12,
   "metadata": {},
   "outputs": [
    {
     "name": "stderr",
     "output_type": "stream",
     "text": [
      "  0%|          | 0/7680 [00:00<?, ?it/s]"
     ]
    },
    {
     "name": "stderr",
     "output_type": "stream",
     "text": [
      "100%|██████████| 7680/7680 [03:29<00:00, 36.57it/s]\n"
     ]
    },
    {
     "data": {
      "text/plain": [
       "0.0"
      ]
     },
     "execution_count": 12,
     "metadata": {},
     "output_type": "execute_result"
    }
   ],
   "source": [
    "calculate_hit_rate(user_based_cf_model, df_test_X, df_test_y, k=5)"
   ]
  }
 ],
 "metadata": {
  "kernelspec": {
   "display_name": "Python 3 (ipykernel)",
   "language": "python",
   "name": "python3"
  },
  "language_info": {
   "codemirror_mode": {
    "name": "ipython",
    "version": 3
   },
   "file_extension": ".py",
   "mimetype": "text/x-python",
   "name": "python",
   "nbconvert_exporter": "python",
   "pygments_lexer": "ipython3",
   "version": "3.8.10"
  }
 },
 "nbformat": 4,
 "nbformat_minor": 2
}
