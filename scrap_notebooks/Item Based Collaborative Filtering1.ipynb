{
 "cells": [
  {
   "cell_type": "markdown",
   "metadata": {},
   "source": [
    "E.g. \"Users who liked this course also liked these other courses.\""
   ]
  },
  {
   "cell_type": "code",
   "execution_count": 1,
   "metadata": {},
   "outputs": [],
   "source": [
    "import pandas as pd\n",
    "import numpy as np\n",
    "import matplotlib.pyplot as plt\n",
    "import seaborn as sns\n",
    "\n",
    "from sklearn.metrics.pairwise import cosine_similarity\n",
    "from sklearn.metrics import pairwise_distances\n",
    "from scipy.stats import pearsonr\n",
    "from scipy.spatial.distance import squareform, pdist"
   ]
  },
  {
   "cell_type": "code",
   "execution_count": 2,
   "metadata": {},
   "outputs": [],
   "source": [
    "pd.set_option('display.width', 1000)\n",
    "pd.set_option('display.max_colwidth', 1000)"
   ]
  },
  {
   "cell_type": "code",
   "execution_count": 3,
   "metadata": {},
   "outputs": [],
   "source": [
    "df_courses = pd.read_csv('../data/Coursera_courses.csv').drop_duplicates()\n",
    "df_reviews = pd.read_csv('../data/Coursera_reviews.csv').drop_duplicates()"
   ]
  },
  {
   "cell_type": "code",
   "execution_count": 4,
   "metadata": {},
   "outputs": [
    {
     "data": {
      "text/plain": [
       "Index(['reviews', 'reviewers', 'date_reviews', 'rating', 'course_id'], dtype='object')"
      ]
     },
     "execution_count": 4,
     "metadata": {},
     "output_type": "execute_result"
    }
   ],
   "source": [
    "df_reviews.columns"
   ]
  },
  {
   "cell_type": "code",
   "execution_count": 5,
   "metadata": {},
   "outputs": [
    {
     "data": {
      "text/plain": [
       "Index(['name', 'institution', 'course_url', 'course_id'], dtype='object')"
      ]
     },
     "execution_count": 5,
     "metadata": {},
     "output_type": "execute_result"
    }
   ],
   "source": [
    "df_courses.columns"
   ]
  },
  {
   "cell_type": "code",
   "execution_count": 6,
   "metadata": {},
   "outputs": [
    {
     "data": {
      "text/html": [
       "<div>\n",
       "<style scoped>\n",
       "    .dataframe tbody tr th:only-of-type {\n",
       "        vertical-align: middle;\n",
       "    }\n",
       "\n",
       "    .dataframe tbody tr th {\n",
       "        vertical-align: top;\n",
       "    }\n",
       "\n",
       "    .dataframe thead th {\n",
       "        text-align: right;\n",
       "    }\n",
       "</style>\n",
       "<table border=\"1\" class=\"dataframe\">\n",
       "  <thead>\n",
       "    <tr style=\"text-align: right;\">\n",
       "      <th></th>\n",
       "      <th>name</th>\n",
       "      <th>institution</th>\n",
       "      <th>course_url</th>\n",
       "      <th>course_id</th>\n",
       "    </tr>\n",
       "  </thead>\n",
       "  <tbody>\n",
       "    <tr>\n",
       "      <th>0</th>\n",
       "      <td>Machine Learning</td>\n",
       "      <td>Stanford University</td>\n",
       "      <td>https://www.coursera.org/learn/machine-learning</td>\n",
       "      <td>machine-learning</td>\n",
       "    </tr>\n",
       "    <tr>\n",
       "      <th>1</th>\n",
       "      <td>Indigenous Canada</td>\n",
       "      <td>University of Alberta</td>\n",
       "      <td>https://www.coursera.org/learn/indigenous-canada</td>\n",
       "      <td>indigenous-canada</td>\n",
       "    </tr>\n",
       "    <tr>\n",
       "      <th>2</th>\n",
       "      <td>The Science of Well-Being</td>\n",
       "      <td>Yale University</td>\n",
       "      <td>https://www.coursera.org/learn/the-science-of-well-being</td>\n",
       "      <td>the-science-of-well-being</td>\n",
       "    </tr>\n",
       "    <tr>\n",
       "      <th>3</th>\n",
       "      <td>Technical Support Fundamentals</td>\n",
       "      <td>Google</td>\n",
       "      <td>https://www.coursera.org/learn/technical-support-fundamentals</td>\n",
       "      <td>technical-support-fundamentals</td>\n",
       "    </tr>\n",
       "    <tr>\n",
       "      <th>4</th>\n",
       "      <td>Become a CBRS Certified Professional Installer by Google</td>\n",
       "      <td>Google - Spectrum Sharing</td>\n",
       "      <td>https://www.coursera.org/learn/google-cbrs-cpi-training</td>\n",
       "      <td>google-cbrs-cpi-training</td>\n",
       "    </tr>\n",
       "  </tbody>\n",
       "</table>\n",
       "</div>"
      ],
      "text/plain": [
       "                                                       name                institution                                                     course_url                       course_id\n",
       "0                                          Machine Learning        Stanford University                https://www.coursera.org/learn/machine-learning                machine-learning\n",
       "1                                         Indigenous Canada      University of Alberta               https://www.coursera.org/learn/indigenous-canada               indigenous-canada\n",
       "2                                 The Science of Well-Being            Yale University       https://www.coursera.org/learn/the-science-of-well-being       the-science-of-well-being\n",
       "3                            Technical Support Fundamentals                     Google  https://www.coursera.org/learn/technical-support-fundamentals  technical-support-fundamentals\n",
       "4  Become a CBRS Certified Professional Installer by Google  Google - Spectrum Sharing        https://www.coursera.org/learn/google-cbrs-cpi-training        google-cbrs-cpi-training"
      ]
     },
     "execution_count": 6,
     "metadata": {},
     "output_type": "execute_result"
    }
   ],
   "source": [
    "df_courses.head()"
   ]
  },
  {
   "cell_type": "code",
   "execution_count": 7,
   "metadata": {},
   "outputs": [],
   "source": [
    "# Pivot the reviews dataframe to create a user-item interaction matrix\n",
    "interaction_matrix = pd.pivot_table(df_reviews, index='reviewers', columns='course_id', values='rating')\n",
    "interaction_matrix_filled = interaction_matrix.fillna(0)"
   ]
  },
  {
   "cell_type": "code",
   "execution_count": 8,
   "metadata": {},
   "outputs": [
    {
     "data": {
      "text/html": [
       "<div>\n",
       "<style scoped>\n",
       "    .dataframe tbody tr th:only-of-type {\n",
       "        vertical-align: middle;\n",
       "    }\n",
       "\n",
       "    .dataframe tbody tr th {\n",
       "        vertical-align: top;\n",
       "    }\n",
       "\n",
       "    .dataframe thead th {\n",
       "        text-align: right;\n",
       "    }\n",
       "</style>\n",
       "<table border=\"1\" class=\"dataframe\">\n",
       "  <thead>\n",
       "    <tr style=\"text-align: right;\">\n",
       "      <th>course_id</th>\n",
       "      <th>aboriginal-education</th>\n",
       "      <th>access-control-sscp</th>\n",
       "      <th>accounting-analytics</th>\n",
       "      <th>accounting-data-analytics-python</th>\n",
       "      <th>actualizacion-manejo-diabetes-tipo-2</th>\n",
       "      <th>addiction-and-the-brain</th>\n",
       "      <th>addiction-treatment</th>\n",
       "      <th>advanced-valuation-and-strategy</th>\n",
       "      <th>agile-atlassian-jira</th>\n",
       "      <th>ai-for-everyone</th>\n",
       "      <th>...</th>\n",
       "      <th>what-is-compliance</th>\n",
       "      <th>what-is-datascience</th>\n",
       "      <th>what-is-social</th>\n",
       "      <th>wind-energy</th>\n",
       "      <th>wine</th>\n",
       "      <th>womens-health-human-rights</th>\n",
       "      <th>write-a-feature-length-screenplay-for-film-or-television</th>\n",
       "      <th>write-your-first-novel</th>\n",
       "      <th>writing-editing-words</th>\n",
       "      <th>writing-for-business</th>\n",
       "    </tr>\n",
       "    <tr>\n",
       "      <th>reviewers</th>\n",
       "      <th></th>\n",
       "      <th></th>\n",
       "      <th></th>\n",
       "      <th></th>\n",
       "      <th></th>\n",
       "      <th></th>\n",
       "      <th></th>\n",
       "      <th></th>\n",
       "      <th></th>\n",
       "      <th></th>\n",
       "      <th></th>\n",
       "      <th></th>\n",
       "      <th></th>\n",
       "      <th></th>\n",
       "      <th></th>\n",
       "      <th></th>\n",
       "      <th></th>\n",
       "      <th></th>\n",
       "      <th></th>\n",
       "      <th></th>\n",
       "      <th></th>\n",
       "    </tr>\n",
       "  </thead>\n",
       "  <tbody>\n",
       "    <tr>\n",
       "      <th>By \\t M N H</th>\n",
       "      <td>0.0</td>\n",
       "      <td>0.0</td>\n",
       "      <td>0.0</td>\n",
       "      <td>0.0</td>\n",
       "      <td>0.0</td>\n",
       "      <td>0.0</td>\n",
       "      <td>0.0</td>\n",
       "      <td>0.0</td>\n",
       "      <td>0.0</td>\n",
       "      <td>0.0</td>\n",
       "      <td>...</td>\n",
       "      <td>0.0</td>\n",
       "      <td>0.0</td>\n",
       "      <td>0.0</td>\n",
       "      <td>0.0</td>\n",
       "      <td>0.0</td>\n",
       "      <td>0.0</td>\n",
       "      <td>0.0</td>\n",
       "      <td>0.0</td>\n",
       "      <td>0.0</td>\n",
       "      <td>0.0</td>\n",
       "    </tr>\n",
       "    <tr>\n",
       "      <th>By \\t M R I</th>\n",
       "      <td>0.0</td>\n",
       "      <td>0.0</td>\n",
       "      <td>0.0</td>\n",
       "      <td>0.0</td>\n",
       "      <td>0.0</td>\n",
       "      <td>0.0</td>\n",
       "      <td>0.0</td>\n",
       "      <td>0.0</td>\n",
       "      <td>0.0</td>\n",
       "      <td>0.0</td>\n",
       "      <td>...</td>\n",
       "      <td>0.0</td>\n",
       "      <td>0.0</td>\n",
       "      <td>0.0</td>\n",
       "      <td>0.0</td>\n",
       "      <td>0.0</td>\n",
       "      <td>0.0</td>\n",
       "      <td>0.0</td>\n",
       "      <td>0.0</td>\n",
       "      <td>0.0</td>\n",
       "      <td>0.0</td>\n",
       "    </tr>\n",
       "    <tr>\n",
       "      <th>By \\t M S R</th>\n",
       "      <td>0.0</td>\n",
       "      <td>0.0</td>\n",
       "      <td>0.0</td>\n",
       "      <td>0.0</td>\n",
       "      <td>0.0</td>\n",
       "      <td>0.0</td>\n",
       "      <td>0.0</td>\n",
       "      <td>0.0</td>\n",
       "      <td>0.0</td>\n",
       "      <td>0.0</td>\n",
       "      <td>...</td>\n",
       "      <td>0.0</td>\n",
       "      <td>0.0</td>\n",
       "      <td>0.0</td>\n",
       "      <td>0.0</td>\n",
       "      <td>0.0</td>\n",
       "      <td>0.0</td>\n",
       "      <td>0.0</td>\n",
       "      <td>0.0</td>\n",
       "      <td>0.0</td>\n",
       "      <td>0.0</td>\n",
       "    </tr>\n",
       "    <tr>\n",
       "      <th>By \\t N A F B</th>\n",
       "      <td>0.0</td>\n",
       "      <td>0.0</td>\n",
       "      <td>0.0</td>\n",
       "      <td>0.0</td>\n",
       "      <td>0.0</td>\n",
       "      <td>0.0</td>\n",
       "      <td>0.0</td>\n",
       "      <td>0.0</td>\n",
       "      <td>0.0</td>\n",
       "      <td>0.0</td>\n",
       "      <td>...</td>\n",
       "      <td>0.0</td>\n",
       "      <td>0.0</td>\n",
       "      <td>0.0</td>\n",
       "      <td>0.0</td>\n",
       "      <td>0.0</td>\n",
       "      <td>0.0</td>\n",
       "      <td>0.0</td>\n",
       "      <td>0.0</td>\n",
       "      <td>0.0</td>\n",
       "      <td>0.0</td>\n",
       "    </tr>\n",
       "    <tr>\n",
       "      <th>By \\t N H P</th>\n",
       "      <td>0.0</td>\n",
       "      <td>0.0</td>\n",
       "      <td>0.0</td>\n",
       "      <td>0.0</td>\n",
       "      <td>0.0</td>\n",
       "      <td>0.0</td>\n",
       "      <td>0.0</td>\n",
       "      <td>0.0</td>\n",
       "      <td>0.0</td>\n",
       "      <td>0.0</td>\n",
       "      <td>...</td>\n",
       "      <td>0.0</td>\n",
       "      <td>0.0</td>\n",
       "      <td>0.0</td>\n",
       "      <td>0.0</td>\n",
       "      <td>0.0</td>\n",
       "      <td>0.0</td>\n",
       "      <td>0.0</td>\n",
       "      <td>0.0</td>\n",
       "      <td>0.0</td>\n",
       "      <td>0.0</td>\n",
       "    </tr>\n",
       "  </tbody>\n",
       "</table>\n",
       "<p>5 rows × 604 columns</p>\n",
       "</div>"
      ],
      "text/plain": [
       "course_id      aboriginal-education  access-control-sscp  accounting-analytics  accounting-data-analytics-python  actualizacion-manejo-diabetes-tipo-2  addiction-and-the-brain  addiction-treatment  advanced-valuation-and-strategy  agile-atlassian-jira  ai-for-everyone  ...  what-is-compliance  what-is-datascience  what-is-social  wind-energy  wine  womens-health-human-rights  write-a-feature-length-screenplay-for-film-or-television  write-your-first-novel  writing-editing-words  writing-for-business\n",
       "reviewers                                                                                                                                                                                                                                                                     ...                                                                                                                                                                                                                                       \n",
       "By \\t M N H                     0.0                  0.0                   0.0                               0.0                                   0.0                      0.0                  0.0                              0.0                   0.0              0.0  ...                 0.0                  0.0             0.0          0.0   0.0                         0.0                                                       0.0                     0.0                    0.0                   0.0\n",
       "By \\t M R I                     0.0                  0.0                   0.0                               0.0                                   0.0                      0.0                  0.0                              0.0                   0.0              0.0  ...                 0.0                  0.0             0.0          0.0   0.0                         0.0                                                       0.0                     0.0                    0.0                   0.0\n",
       "By \\t M S R                     0.0                  0.0                   0.0                               0.0                                   0.0                      0.0                  0.0                              0.0                   0.0              0.0  ...                 0.0                  0.0             0.0          0.0   0.0                         0.0                                                       0.0                     0.0                    0.0                   0.0\n",
       "By \\t N A F B                   0.0                  0.0                   0.0                               0.0                                   0.0                      0.0                  0.0                              0.0                   0.0              0.0  ...                 0.0                  0.0             0.0          0.0   0.0                         0.0                                                       0.0                     0.0                    0.0                   0.0\n",
       "By \\t N H P                     0.0                  0.0                   0.0                               0.0                                   0.0                      0.0                  0.0                              0.0                   0.0              0.0  ...                 0.0                  0.0             0.0          0.0   0.0                         0.0                                                       0.0                     0.0                    0.0                   0.0\n",
       "\n",
       "[5 rows x 604 columns]"
      ]
     },
     "execution_count": 8,
     "metadata": {},
     "output_type": "execute_result"
    }
   ],
   "source": [
    "interaction_matrix_filled.head()"
   ]
  },
  {
   "cell_type": "code",
   "execution_count": 9,
   "metadata": {},
   "outputs": [],
   "source": [
    "# Calculate similarities using different metrics\n",
    "def calculate_similarities(metric):\n",
    "    if metric == 'cosine':\n",
    "        similarity = 1 - pairwise_distances(interaction_matrix_filled.T, metric='cosine')\n",
    "    elif metric == 'euclidean':\n",
    "        similarity = 1 / (1 + pairwise_distances(interaction_matrix_filled.T, metric='euclidean'))\n",
    "    elif metric == 'pearson':\n",
    "        similarity = np.array([[pearsonr(a, b)[0] for a in interaction_matrix_filled.T.values] for b in interaction_matrix_filled.T.values])\n",
    "    return pd.DataFrame(similarity, index=interaction_matrix.columns, columns=interaction_matrix.columns)"
   ]
  },
  {
   "cell_type": "code",
   "execution_count": 10,
   "metadata": {},
   "outputs": [
    {
     "name": "stdout",
     "output_type": "stream",
     "text": [
      "Cosine Similarity Recommendations:\n",
      "                                                       name                institution                                                     course_url                       course_id  similarity_score\n",
      "1                                         Indigenous Canada      University of Alberta               https://www.coursera.org/learn/indigenous-canada               indigenous-canada               NaN\n",
      "2                                 The Science of Well-Being            Yale University       https://www.coursera.org/learn/the-science-of-well-being       the-science-of-well-being               NaN\n",
      "3                            Technical Support Fundamentals                     Google  https://www.coursera.org/learn/technical-support-fundamentals  technical-support-fundamentals               NaN\n",
      "4  Become a CBRS Certified Professional Installer by Google  Google - Spectrum Sharing        https://www.coursera.org/learn/google-cbrs-cpi-training        google-cbrs-cpi-training               NaN\n",
      "5                                         Financial Markets            Yale University        https://www.coursera.org/learn/financial-markets-global        financial-markets-global               NaN\n",
      "\n",
      "Euclidean Distance Recommendations:\n",
      "                                                       name                institution                                                     course_url                       course_id  similarity_score\n",
      "1                                         Indigenous Canada      University of Alberta               https://www.coursera.org/learn/indigenous-canada               indigenous-canada               NaN\n",
      "2                                 The Science of Well-Being            Yale University       https://www.coursera.org/learn/the-science-of-well-being       the-science-of-well-being               NaN\n",
      "3                            Technical Support Fundamentals                     Google  https://www.coursera.org/learn/technical-support-fundamentals  technical-support-fundamentals               NaN\n",
      "4  Become a CBRS Certified Professional Installer by Google  Google - Spectrum Sharing        https://www.coursera.org/learn/google-cbrs-cpi-training        google-cbrs-cpi-training               NaN\n",
      "5                                         Financial Markets            Yale University        https://www.coursera.org/learn/financial-markets-global        financial-markets-global               NaN\n"
     ]
    },
    {
     "ename": "",
     "evalue": "",
     "output_type": "error",
     "traceback": [
      "\u001b[1;31mThe Kernel crashed while executing code in the the current cell or a previous cell. Please review the code in the cell(s) to identify a possible cause of the failure. Click <a href='https://aka.ms/vscodeJupyterKernelCrash'>here</a> for more info. View Jupyter <a href='command:jupyter.viewOutput'>log</a> for further details."
     ]
    }
   ],
   "source": [
    "\n",
    "# Recommender function\n",
    "def recommend_courses(course_id, num_courses=5, metric='cosine'):\n",
    "    item_similarity_df = calculate_similarities(metric)\n",
    "    \n",
    "    similar_score = item_similarity_df[course_id]\n",
    "    \n",
    "    # Sort in descending order\n",
    "    recommended_courses = similar_score.sort_values(ascending=False)\n",
    "    \n",
    "    # Remove the course itself from the recommendation\n",
    "    recommended_courses = recommended_courses.drop(course_id)\n",
    "    recommended_courses_details = df_courses[df_courses['course_id'].isin(recommended_courses.index)].copy()\n",
    "    recommended_courses_details['similarity_score'] = recommended_courses\n",
    "    recommended_courses_details = recommended_courses_details.sort_values('similarity_score', ascending=False)\n",
    "    \n",
    "    return recommended_courses_details.head(num_courses)\n",
    "\n",
    "\n",
    "course_id = \"machine-learning\"\n",
    "\n",
    "# Example using different metrics\n",
    "print(\"Cosine Similarity Recommendations:\")\n",
    "print(recommend_courses(course_id, 5, metric='cosine'))\n",
    "print(\"\\nEuclidean Distance Recommendations:\")\n",
    "print(recommend_courses(course_id, 5, metric='euclidean'))\n",
    "# print(\"\\nPearson Correlation Recommendations:\")\n",
    "# print(recommend_courses(course_id, 5, metric='pearson'))"
   ]
  },
  {
   "cell_type": "code",
   "execution_count": null,
   "metadata": {},
   "outputs": [],
   "source": []
  },
  {
   "cell_type": "code",
   "execution_count": null,
   "metadata": {},
   "outputs": [],
   "source": []
  }
 ],
 "metadata": {
  "kernelspec": {
   "display_name": "Python 3 (ipykernel)",
   "language": "python",
   "name": "python3"
  },
  "language_info": {
   "codemirror_mode": {
    "name": "ipython",
    "version": 3
   },
   "file_extension": ".py",
   "mimetype": "text/x-python",
   "name": "python",
   "nbconvert_exporter": "python",
   "pygments_lexer": "ipython3",
   "version": "3.8.10"
  }
 },
 "nbformat": 4,
 "nbformat_minor": 2
}
