{
 "cells": [
  {
   "cell_type": "markdown",
   "metadata": {},
   "source": [
    "E.g. \"Users who are similar to you also liked these courses.\""
   ]
  },
  {
   "cell_type": "code",
   "execution_count": 2,
   "metadata": {},
   "outputs": [],
   "source": [
    "import pandas as pd\n",
    "from scipy.sparse import csr_matrix\n",
    "from sklearn.neighbors import NearestNeighbors"
   ]
  },
  {
   "cell_type": "code",
   "execution_count": 3,
   "metadata": {},
   "outputs": [],
   "source": [
    "# Load datasets\n",
    "courses_df = pd.read_csv('../data/Coursera_courses.csv').drop_duplicates()\n",
    "reviews_df = pd.read_csv('../data/Coursera_reviews.csv').drop_duplicates()"
   ]
  },
  {
   "cell_type": "code",
   "execution_count": 4,
   "metadata": {},
   "outputs": [
    {
     "name": "stdout",
     "output_type": "stream",
     "text": [
      "name           0\n",
      "institution    0\n",
      "course_url     0\n",
      "course_id      0\n",
      "dtype: int64\n",
      "reviews         56\n",
      "reviewers        0\n",
      "date_reviews     0\n",
      "rating           0\n",
      "course_id        0\n",
      "dtype: int64\n"
     ]
    }
   ],
   "source": [
    "reviews_df['date_reviews'] = pd.to_datetime(reviews_df['date_reviews'])\n",
    "\n",
    "# Sort reviews by date\n",
    "reviews_df = reviews_df.sort_values(by='date_reviews')\n",
    "\n",
    "print(courses_df.isnull().sum())\n",
    "print(reviews_df.isnull().sum())\n",
    "courses_df = courses_df.drop_duplicates(subset='course_id')\n",
    "reviews_df = reviews_df.drop_duplicates(subset=['reviewers', 'course_id'])\n",
    "\n",
    "# Define a cutoff date for splitting the data (e.g., the last 20% of dates)\n",
    "cutoff_date = reviews_df['date_reviews'].quantile(0.8)\n",
    "\n",
    "# Split the data into training and testing sets\n",
    "train_data = reviews_df[reviews_df['date_reviews'] < cutoff_date]\n",
    "test_data = reviews_df[reviews_df['date_reviews'] >= cutoff_date]\n"
   ]
  },
  {
   "cell_type": "code",
   "execution_count": 5,
   "metadata": {},
   "outputs": [
    {
     "ename": "ValueError",
     "evalue": "X has 587 features, but NearestNeighbors is expecting 233496 features as input.",
     "output_type": "error",
     "traceback": [
      "\u001b[0;31m---------------------------------------------------------------------------\u001b[0m",
      "\u001b[0;31mValueError\u001b[0m                                Traceback (most recent call last)",
      "\u001b[1;32m/home/jerem/comp9727-project/notebooks/User Based Collaborative FilteringNEW.ipynb Cell 5\u001b[0m line \u001b[0;36m4\n\u001b[1;32m     <a href='vscode-notebook-cell://wsl%2Bubuntu/home/jerem/comp9727-project/notebooks/User%20Based%20Collaborative%20FilteringNEW.ipynb#W6sdnNjb2RlLXJlbW90ZQ%3D%3D?line=39'>40</a>\u001b[0m \u001b[39m# Example usage:\u001b[39;00m\n\u001b[1;32m     <a href='vscode-notebook-cell://wsl%2Bubuntu/home/jerem/comp9727-project/notebooks/User%20Based%20Collaborative%20FilteringNEW.ipynb#W6sdnNjb2RlLXJlbW90ZQ%3D%3D?line=40'>41</a>\u001b[0m user_id \u001b[39m=\u001b[39m \u001b[39m'\u001b[39m\u001b[39mBy Daniel F\u001b[39m\u001b[39m'\u001b[39m\n\u001b[0;32m---> <a href='vscode-notebook-cell://wsl%2Bubuntu/home/jerem/comp9727-project/notebooks/User%20Based%20Collaborative%20FilteringNEW.ipynb#W6sdnNjb2RlLXJlbW90ZQ%3D%3D?line=41'>42</a>\u001b[0m recommended_courses \u001b[39m=\u001b[39m recommend_courses_for_user(user_id, user_course_matrix, user_knn_model, courses_df)\n\u001b[1;32m     <a href='vscode-notebook-cell://wsl%2Bubuntu/home/jerem/comp9727-project/notebooks/User%20Based%20Collaborative%20FilteringNEW.ipynb#W6sdnNjb2RlLXJlbW90ZQ%3D%3D?line=42'>43</a>\u001b[0m \u001b[39mprint\u001b[39m(recommended_courses)\n",
      "\u001b[1;32m/home/jerem/comp9727-project/notebooks/User Based Collaborative FilteringNEW.ipynb Cell 5\u001b[0m line \u001b[0;36m2\n\u001b[1;32m     <a href='vscode-notebook-cell://wsl%2Bubuntu/home/jerem/comp9727-project/notebooks/User%20Based%20Collaborative%20FilteringNEW.ipynb#W6sdnNjb2RlLXJlbW90ZQ%3D%3D?line=19'>20</a>\u001b[0m user_index \u001b[39m=\u001b[39m user_course_matrix\u001b[39m.\u001b[39mindex\u001b[39m.\u001b[39mtolist()\u001b[39m.\u001b[39mindex(user_id)\n\u001b[1;32m     <a href='vscode-notebook-cell://wsl%2Bubuntu/home/jerem/comp9727-project/notebooks/User%20Based%20Collaborative%20FilteringNEW.ipynb#W6sdnNjb2RlLXJlbW90ZQ%3D%3D?line=21'>22</a>\u001b[0m \u001b[39m# Find the k nearest neighbors of the user\u001b[39;00m\n\u001b[0;32m---> <a href='vscode-notebook-cell://wsl%2Bubuntu/home/jerem/comp9727-project/notebooks/User%20Based%20Collaborative%20FilteringNEW.ipynb#W6sdnNjb2RlLXJlbW90ZQ%3D%3D?line=22'>23</a>\u001b[0m distances, indices \u001b[39m=\u001b[39m user_knn_model\u001b[39m.\u001b[39;49mkneighbors(\n\u001b[1;32m     <a href='vscode-notebook-cell://wsl%2Bubuntu/home/jerem/comp9727-project/notebooks/User%20Based%20Collaborative%20FilteringNEW.ipynb#W6sdnNjb2RlLXJlbW90ZQ%3D%3D?line=23'>24</a>\u001b[0m     user_course_matrix_transpose\u001b[39m.\u001b[39;49miloc[:, user_index]\u001b[39m.\u001b[39;49mvalues\u001b[39m.\u001b[39;49mreshape(\u001b[39m1\u001b[39;49m, \u001b[39m-\u001b[39;49m\u001b[39m1\u001b[39;49m), n_neighbors\u001b[39m=\u001b[39;49mk\u001b[39m+\u001b[39;49m\u001b[39m1\u001b[39;49m)\n\u001b[1;32m     <a href='vscode-notebook-cell://wsl%2Bubuntu/home/jerem/comp9727-project/notebooks/User%20Based%20Collaborative%20FilteringNEW.ipynb#W6sdnNjb2RlLXJlbW90ZQ%3D%3D?line=25'>26</a>\u001b[0m \u001b[39m# Get the indices of the neighbors\u001b[39;00m\n\u001b[1;32m     <a href='vscode-notebook-cell://wsl%2Bubuntu/home/jerem/comp9727-project/notebooks/User%20Based%20Collaborative%20FilteringNEW.ipynb#W6sdnNjb2RlLXJlbW90ZQ%3D%3D?line=26'>27</a>\u001b[0m user_indices \u001b[39m=\u001b[39m [user_course_matrix\u001b[39m.\u001b[39mindex[i] \u001b[39mfor\u001b[39;00m i \u001b[39min\u001b[39;00m indices\u001b[39m.\u001b[39mflatten()][\u001b[39m1\u001b[39m:]  \u001b[39m# exclude the user itself\u001b[39;00m\n",
      "File \u001b[0;32m~/.local/lib/python3.8/site-packages/sklearn/neighbors/_base.py:806\u001b[0m, in \u001b[0;36mKNeighborsMixin.kneighbors\u001b[0;34m(self, X, n_neighbors, return_distance)\u001b[0m\n\u001b[1;32m    804\u001b[0m         X \u001b[39m=\u001b[39m _check_precomputed(X)\n\u001b[1;32m    805\u001b[0m     \u001b[39melse\u001b[39;00m:\n\u001b[0;32m--> 806\u001b[0m         X \u001b[39m=\u001b[39m \u001b[39mself\u001b[39;49m\u001b[39m.\u001b[39;49m_validate_data(X, accept_sparse\u001b[39m=\u001b[39;49m\u001b[39m\"\u001b[39;49m\u001b[39mcsr\u001b[39;49m\u001b[39m\"\u001b[39;49m, reset\u001b[39m=\u001b[39;49m\u001b[39mFalse\u001b[39;49;00m, order\u001b[39m=\u001b[39;49m\u001b[39m\"\u001b[39;49m\u001b[39mC\u001b[39;49m\u001b[39m\"\u001b[39;49m)\n\u001b[1;32m    808\u001b[0m n_samples_fit \u001b[39m=\u001b[39m \u001b[39mself\u001b[39m\u001b[39m.\u001b[39mn_samples_fit_\n\u001b[1;32m    809\u001b[0m \u001b[39mif\u001b[39;00m n_neighbors \u001b[39m>\u001b[39m n_samples_fit:\n",
      "File \u001b[0;32m~/.local/lib/python3.8/site-packages/sklearn/base.py:588\u001b[0m, in \u001b[0;36mBaseEstimator._validate_data\u001b[0;34m(self, X, y, reset, validate_separately, **check_params)\u001b[0m\n\u001b[1;32m    585\u001b[0m     out \u001b[39m=\u001b[39m X, y\n\u001b[1;32m    587\u001b[0m \u001b[39mif\u001b[39;00m \u001b[39mnot\u001b[39;00m no_val_X \u001b[39mand\u001b[39;00m check_params\u001b[39m.\u001b[39mget(\u001b[39m\"\u001b[39m\u001b[39mensure_2d\u001b[39m\u001b[39m\"\u001b[39m, \u001b[39mTrue\u001b[39;00m):\n\u001b[0;32m--> 588\u001b[0m     \u001b[39mself\u001b[39;49m\u001b[39m.\u001b[39;49m_check_n_features(X, reset\u001b[39m=\u001b[39;49mreset)\n\u001b[1;32m    590\u001b[0m \u001b[39mreturn\u001b[39;00m out\n",
      "File \u001b[0;32m~/.local/lib/python3.8/site-packages/sklearn/base.py:389\u001b[0m, in \u001b[0;36mBaseEstimator._check_n_features\u001b[0;34m(self, X, reset)\u001b[0m\n\u001b[1;32m    386\u001b[0m     \u001b[39mreturn\u001b[39;00m\n\u001b[1;32m    388\u001b[0m \u001b[39mif\u001b[39;00m n_features \u001b[39m!=\u001b[39m \u001b[39mself\u001b[39m\u001b[39m.\u001b[39mn_features_in_:\n\u001b[0;32m--> 389\u001b[0m     \u001b[39mraise\u001b[39;00m \u001b[39mValueError\u001b[39;00m(\n\u001b[1;32m    390\u001b[0m         \u001b[39mf\u001b[39m\u001b[39m\"\u001b[39m\u001b[39mX has \u001b[39m\u001b[39m{\u001b[39;00mn_features\u001b[39m}\u001b[39;00m\u001b[39m features, but \u001b[39m\u001b[39m{\u001b[39;00m\u001b[39mself\u001b[39m\u001b[39m.\u001b[39m\u001b[39m__class__\u001b[39m\u001b[39m.\u001b[39m\u001b[39m__name__\u001b[39m\u001b[39m}\u001b[39;00m\u001b[39m \u001b[39m\u001b[39m\"\u001b[39m\n\u001b[1;32m    391\u001b[0m         \u001b[39mf\u001b[39m\u001b[39m\"\u001b[39m\u001b[39mis expecting \u001b[39m\u001b[39m{\u001b[39;00m\u001b[39mself\u001b[39m\u001b[39m.\u001b[39mn_features_in_\u001b[39m}\u001b[39;00m\u001b[39m features as input.\u001b[39m\u001b[39m\"\u001b[39m\n\u001b[1;32m    392\u001b[0m     )\n",
      "\u001b[0;31mValueError\u001b[0m: X has 587 features, but NearestNeighbors is expecting 233496 features as input."
     ]
    }
   ],
   "source": [
    "# create a course-user matrix instead of user-course\n",
    "user_course_matrix = train_data.pivot(index='reviewers', columns='course_id', values='rating').fillna(0)\n",
    "\n",
    "# get a user-course matrix where rows are users and columns are courses\n",
    "user_course_matrix_transpose = user_course_matrix.T\n",
    "\n",
    "user_course_matrix_sparse = csr_matrix(user_course_matrix_transpose.values)\n",
    "\n",
    "user_knn_model = NearestNeighbors(metric='cosine', algorithm='brute', n_neighbors=20, n_jobs=-1)\n",
    "user_knn_model.fit(user_course_matrix_sparse)\n",
    "\n",
    "def recommend_courses_for_user(user_id, user_course_matrix, user_knn_model, courses_df, k=5):\n",
    "    if user_id not in user_course_matrix.index:\n",
    "        raise ValueError(\"User ID not found\")\n",
    "    \n",
    "    user_index = user_course_matrix.index.tolist().index(user_id)\n",
    "    \n",
    "    distances, indices = user_knn_model.kneighbors(\n",
    "        user_course_matrix_transpose.iloc[:, user_index].values.reshape(1, -1), n_neighbors=k+1)\n",
    "    \n",
    "    user_indices = [user_course_matrix.index[i] for i in indices.flatten()][1:]  # exclude the user itself\n",
    "    \n",
    "    # identify courses that similar users liked\n",
    "    similar_users_courses = user_course_matrix.iloc[user_indices]\n",
    "    course_ratings = similar_users_courses.mean(axis=0)\n",
    "    recommended_courses_ids = course_ratings.sort_values(ascending=False).head(k).index.tolist()\n",
    "    \n",
    "    # map indices to course names\n",
    "    recommended_courses = courses_df[courses_df['course_id'].isin(recommended_courses_ids)]\n",
    "    return recommended_courses\n",
    "\n",
    "\n",
    "user_id = 'By Daniel F'\n",
    "recommended_courses = recommend_courses_for_user(user_id, user_course_matrix, user_knn_model, courses_df)\n",
    "print(recommended_courses)"
   ]
  },
  {
   "cell_type": "code",
   "execution_count": null,
   "metadata": {},
   "outputs": [],
   "source": []
  },
  {
   "cell_type": "code",
   "execution_count": null,
   "metadata": {},
   "outputs": [],
   "source": []
  },
  {
   "cell_type": "code",
   "execution_count": null,
   "metadata": {},
   "outputs": [],
   "source": []
  },
  {
   "cell_type": "code",
   "execution_count": null,
   "metadata": {},
   "outputs": [],
   "source": []
  },
  {
   "cell_type": "code",
   "execution_count": null,
   "metadata": {},
   "outputs": [],
   "source": []
  },
  {
   "cell_type": "code",
   "execution_count": null,
   "metadata": {},
   "outputs": [],
   "source": []
  },
  {
   "cell_type": "code",
   "execution_count": null,
   "metadata": {},
   "outputs": [],
   "source": []
  },
  {
   "cell_type": "code",
   "execution_count": null,
   "metadata": {},
   "outputs": [],
   "source": []
  },
  {
   "cell_type": "code",
   "execution_count": null,
   "metadata": {},
   "outputs": [],
   "source": []
  }
 ],
 "metadata": {
  "kernelspec": {
   "display_name": "Python 3 (ipykernel)",
   "language": "python",
   "name": "python3"
  },
  "language_info": {
   "codemirror_mode": {
    "name": "ipython",
    "version": 3
   },
   "file_extension": ".py",
   "mimetype": "text/x-python",
   "name": "python",
   "nbconvert_exporter": "python",
   "pygments_lexer": "ipython3",
   "version": "3.8.10"
  }
 },
 "nbformat": 4,
 "nbformat_minor": 2
}
